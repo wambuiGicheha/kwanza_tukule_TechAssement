{
 "cells": [
  {
   "cell_type": "markdown",
   "metadata": {},
   "source": [
    "# Kwanza Tukule Data Analyst Assessment\n",
    "Author : Keziah Gicheha \n",
    "\n",
    "Date : 31/01/2025\n",
    "\n",
    "Tools used: Python(Pandas, Numpy, Matplotlib, Seaborn)\n",
    "\n",
    "## Introduction \n",
    "\n",
    "This notebook presents an analysis of anonymized sales data provided by Kwanza Tukule. The goal of this assessment is to evaluate data cleaning, preparation, and analytical skills by addressing key tasks, including:\n",
    "\n",
    "* Identifying and resolving data quality issues (e.g., missing values, duplicates, inconsistent data types).\n",
    "* Performing feature engineering to create new useful columns.\n",
    "* Conducting exploratory data analysis (EDA) to uncover trends and insights.\n",
    "* Providing actionable recommendations based on data findings.\n",
    "\n",
    "\n"
   ]
  },
  {
   "cell_type": "markdown",
   "metadata": {},
   "source": [
    "### Section 1: Data Cleaning and Preparation\n",
    "\n",
    "This section outlines the steps taken to clean and prepare the dataset for analysis. The dataset represents anonymized sales data from Kwanza Tukule.\n"
   ]
  },
  {
   "cell_type": "code",
   "execution_count": 2,
   "metadata": {},
   "outputs": [
    {
     "data": {
      "text/html": [
       "<div>\n",
       "<style scoped>\n",
       "    .dataframe tbody tr th:only-of-type {\n",
       "        vertical-align: middle;\n",
       "    }\n",
       "\n",
       "    .dataframe tbody tr th {\n",
       "        vertical-align: top;\n",
       "    }\n",
       "\n",
       "    .dataframe thead th {\n",
       "        text-align: right;\n",
       "    }\n",
       "</style>\n",
       "<table border=\"1\" class=\"dataframe\">\n",
       "  <thead>\n",
       "    <tr style=\"text-align: right;\">\n",
       "      <th></th>\n",
       "      <th>DATE</th>\n",
       "      <th>ANONYMIZED CATEGORY</th>\n",
       "      <th>ANONYMIZED PRODUCT</th>\n",
       "      <th>ANONYMIZED BUSINESS</th>\n",
       "      <th>ANONYMIZED LOCATION</th>\n",
       "      <th>QUANTITY</th>\n",
       "      <th>UNIT PRICE</th>\n",
       "    </tr>\n",
       "  </thead>\n",
       "  <tbody>\n",
       "    <tr>\n",
       "      <th>0</th>\n",
       "      <td>August 18, 2024, 9:32 PM</td>\n",
       "      <td>Category-106</td>\n",
       "      <td>Product-21f4</td>\n",
       "      <td>Business-de42</td>\n",
       "      <td>Location-1ba8</td>\n",
       "      <td>1</td>\n",
       "      <td>850</td>\n",
       "    </tr>\n",
       "    <tr>\n",
       "      <th>1</th>\n",
       "      <td>August 18, 2024, 9:32 PM</td>\n",
       "      <td>Category-120</td>\n",
       "      <td>Product-4156</td>\n",
       "      <td>Business-de42</td>\n",
       "      <td>Location-1ba8</td>\n",
       "      <td>2</td>\n",
       "      <td>1,910</td>\n",
       "    </tr>\n",
       "    <tr>\n",
       "      <th>2</th>\n",
       "      <td>August 18, 2024, 9:32 PM</td>\n",
       "      <td>Category-121</td>\n",
       "      <td>Product-49bd</td>\n",
       "      <td>Business-de42</td>\n",
       "      <td>Location-1ba8</td>\n",
       "      <td>1</td>\n",
       "      <td>3,670</td>\n",
       "    </tr>\n",
       "    <tr>\n",
       "      <th>3</th>\n",
       "      <td>August 18, 2024, 9:32 PM</td>\n",
       "      <td>Category-76</td>\n",
       "      <td>Product-61dd</td>\n",
       "      <td>Business-de42</td>\n",
       "      <td>Location-1ba8</td>\n",
       "      <td>1</td>\n",
       "      <td>2,605</td>\n",
       "    </tr>\n",
       "    <tr>\n",
       "      <th>4</th>\n",
       "      <td>August 18, 2024, 9:32 PM</td>\n",
       "      <td>Category-119</td>\n",
       "      <td>Product-66e0</td>\n",
       "      <td>Business-de42</td>\n",
       "      <td>Location-1ba8</td>\n",
       "      <td>5</td>\n",
       "      <td>1,480</td>\n",
       "    </tr>\n",
       "  </tbody>\n",
       "</table>\n",
       "</div>"
      ],
      "text/plain": [
       "                       DATE ANONYMIZED CATEGORY ANONYMIZED PRODUCT  \\\n",
       "0  August 18, 2024, 9:32 PM        Category-106       Product-21f4   \n",
       "1  August 18, 2024, 9:32 PM        Category-120       Product-4156   \n",
       "2  August 18, 2024, 9:32 PM        Category-121       Product-49bd   \n",
       "3  August 18, 2024, 9:32 PM         Category-76       Product-61dd   \n",
       "4  August 18, 2024, 9:32 PM        Category-119       Product-66e0   \n",
       "\n",
       "  ANONYMIZED BUSINESS ANONYMIZED LOCATION  QUANTITY UNIT PRICE  \n",
       "0       Business-de42       Location-1ba8         1        850  \n",
       "1       Business-de42       Location-1ba8         2      1,910  \n",
       "2       Business-de42       Location-1ba8         1      3,670  \n",
       "3       Business-de42       Location-1ba8         1      2,605  \n",
       "4       Business-de42       Location-1ba8         5      1,480  "
      ]
     },
     "execution_count": 2,
     "metadata": {},
     "output_type": "execute_result"
    }
   ],
   "source": [
    "#import necessary libraries fot the data cleaning, visualization and analysis\n",
    "import numpy as np\n",
    "import pandas as pd\n",
    "import matplotlib.pyplot as plt\n",
    "import seaborn as sns\n",
    "\n",
    "#load the dataset\n",
    "data = pd.read_csv('Data/kwanza_tukule.csv')\n",
    "\n",
    "#check the first 5 rows of the data\n",
    "data.head(5)"
   ]
  },
  {
   "cell_type": "markdown",
   "metadata": {},
   "source": [
    "### 1.1 Data Quality Assessment"
   ]
  },
  {
   "cell_type": "code",
   "execution_count": 3,
   "metadata": {},
   "outputs": [
    {
     "name": "stdout",
     "output_type": "stream",
     "text": [
      "<class 'pandas.core.frame.DataFrame'>\n",
      "RangeIndex: 333405 entries, 0 to 333404\n",
      "Data columns (total 7 columns):\n",
      " #   Column               Non-Null Count   Dtype \n",
      "---  ------               --------------   ----- \n",
      " 0   DATE                 333405 non-null  object\n",
      " 1   ANONYMIZED CATEGORY  333405 non-null  object\n",
      " 2   ANONYMIZED PRODUCT   333405 non-null  object\n",
      " 3   ANONYMIZED BUSINESS  333405 non-null  object\n",
      " 4   ANONYMIZED LOCATION  333405 non-null  object\n",
      " 5   QUANTITY             333405 non-null  int64 \n",
      " 6   UNIT PRICE           333397 non-null  object\n",
      "dtypes: int64(1), object(6)\n",
      "memory usage: 17.8+ MB\n",
      "None\n",
      "            QUANTITY\n",
      "count  333405.000000\n",
      "mean        2.321186\n",
      "std         3.790614\n",
      "min         0.000000\n",
      "25%         1.000000\n",
      "50%         1.000000\n",
      "75%         2.000000\n",
      "max       359.000000\n"
     ]
    }
   ],
   "source": [
    "#Inspect the dataset\n",
    "print(data.info())\n",
    "\n",
    "print(data.describe())\n",
    "\n"
   ]
  },
  {
   "cell_type": "markdown",
   "metadata": {},
   "source": [
    "#### Check for Missing Values"
   ]
  },
  {
   "cell_type": "code",
   "execution_count": 4,
   "metadata": {},
   "outputs": [
    {
     "name": "stdout",
     "output_type": "stream",
     "text": [
      "Missing values per column:\n",
      " DATE                   0\n",
      "ANONYMIZED CATEGORY    0\n",
      "ANONYMIZED PRODUCT     0\n",
      "ANONYMIZED BUSINESS    0\n",
      "ANONYMIZED LOCATION    0\n",
      "QUANTITY               0\n",
      "UNIT PRICE             8\n",
      "dtype: int64\n",
      "Missing values per column:\n",
      " DATE                   0.000000\n",
      "ANONYMIZED CATEGORY    0.000000\n",
      "ANONYMIZED PRODUCT     0.000000\n",
      "ANONYMIZED BUSINESS    0.000000\n",
      "ANONYMIZED LOCATION    0.000000\n",
      "QUANTITY               0.000000\n",
      "UNIT PRICE             0.002399\n",
      "dtype: float64\n"
     ]
    }
   ],
   "source": [
    "#Check for missing values\n",
    "print(\"Missing values per column:\\n\", data.isnull().sum())\n",
    "print(\"Missing values per column:\\n\", data.isnull().sum()* 100 / len(data))"
   ]
  },
  {
   "cell_type": "markdown",
   "metadata": {},
   "source": [
    "From the output above, the column named \"UNIT PRICE\" has missing values. \n",
    "Because it is a small percentage of 0.002% the best approach to handle this would be to drop those 8 rows as it will have no sifnificant impact to the analysis.\n",
    "\n",
    "This also ensures that I  will not introduce any artificial bias - important in ensuring ethics in Data Science."
   ]
  },
  {
   "cell_type": "markdown",
   "metadata": {},
   "source": [
    "##### Drop Missing Values"
   ]
  },
  {
   "cell_type": "code",
   "execution_count": 5,
   "metadata": {},
   "outputs": [],
   "source": [
    "# Drop the missing values\n",
    "data = data.dropna(subset=\"UNIT PRICE\")\n",
    "\n"
   ]
  },
  {
   "cell_type": "code",
   "execution_count": 6,
   "metadata": {},
   "outputs": [
    {
     "name": "stdout",
     "output_type": "stream",
     "text": [
      "Missing values per column:\n",
      " DATE                   0\n",
      "ANONYMIZED CATEGORY    0\n",
      "ANONYMIZED PRODUCT     0\n",
      "ANONYMIZED BUSINESS    0\n",
      "ANONYMIZED LOCATION    0\n",
      "QUANTITY               0\n",
      "UNIT PRICE             0\n",
      "dtype: int64\n"
     ]
    }
   ],
   "source": [
    "#Check for missing values\n",
    "print(\"Missing values per column:\\n\", data.isnull().sum())\n"
   ]
  },
  {
   "cell_type": "markdown",
   "metadata": {},
   "source": [
    "There are no missing values in the dataset. "
   ]
  },
  {
   "cell_type": "markdown",
   "metadata": {},
   "source": [
    "#### Check for Duplicates"
   ]
  },
  {
   "cell_type": "code",
   "execution_count": 7,
   "metadata": {},
   "outputs": [
    {
     "name": "stdout",
     "output_type": "stream",
     "text": [
      "Number of duplicates:  3524\n"
     ]
    }
   ],
   "source": [
    "#check for duplicates\n",
    "print(\"Number of duplicates: \", data.duplicated().sum())"
   ]
  },
  {
   "cell_type": "markdown",
   "metadata": {},
   "source": [
    "There are 3524 rows that are duplicated rows, to ensure accurate analysis they need to be removed"
   ]
  },
  {
   "cell_type": "markdown",
   "metadata": {},
   "source": [
    "##### Drop Duplicates"
   ]
  },
  {
   "cell_type": "code",
   "execution_count": 8,
   "metadata": {},
   "outputs": [
    {
     "name": "stdout",
     "output_type": "stream",
     "text": [
      "Number of duplicates:  0\n"
     ]
    }
   ],
   "source": [
    "#drop duplicates\n",
    "data = data.drop_duplicates()\n",
    "print(\"Number of duplicates: \", data.duplicated().sum())"
   ]
  },
  {
   "cell_type": "markdown",
   "metadata": {},
   "source": [
    "The duplicated values have been dropped/deleted from the dataset."
   ]
  },
  {
   "cell_type": "code",
   "execution_count": 9,
   "metadata": {},
   "outputs": [
    {
     "name": "stdout",
     "output_type": "stream",
     "text": [
      "Data types:\n",
      " DATE                   object\n",
      "ANONYMIZED CATEGORY    object\n",
      "ANONYMIZED PRODUCT     object\n",
      "ANONYMIZED BUSINESS    object\n",
      "ANONYMIZED LOCATION    object\n",
      "QUANTITY                int64\n",
      "UNIT PRICE             object\n",
      "dtype: object\n"
     ]
    }
   ],
   "source": [
    "#check data types\n",
    "print(\"Data types:\\n\", data.dtypes)"
   ]
  },
  {
   "cell_type": "markdown",
   "metadata": {},
   "source": [
    "#### Check for Unique Values"
   ]
  },
  {
   "cell_type": "code",
   "execution_count": 10,
   "metadata": {},
   "outputs": [
    {
     "name": "stdout",
     "output_type": "stream",
     "text": [
      "Unique values:\n",
      " DATE                   96702\n",
      "ANONYMIZED CATEGORY       46\n",
      "ANONYMIZED PRODUCT       817\n",
      "ANONYMIZED BUSINESS     4800\n",
      "ANONYMIZED LOCATION       53\n",
      "QUANTITY                  79\n",
      "UNIT PRICE              1050\n",
      "dtype: int64\n"
     ]
    }
   ],
   "source": [
    "#check for unique values\n",
    "print(\"Unique values:\\n\", data.nunique())\n"
   ]
  },
  {
   "cell_type": "markdown",
   "metadata": {},
   "source": [
    "From the output above, the dataset has unique values from each column. This will be explored more in the analysis section.\n"
   ]
  },
  {
   "cell_type": "markdown",
   "metadata": {},
   "source": [
    "#### Check the Datatypes"
   ]
  },
  {
   "cell_type": "code",
   "execution_count": 11,
   "metadata": {},
   "outputs": [
    {
     "name": "stdout",
     "output_type": "stream",
     "text": [
      "Data types:\n",
      " DATE                   object\n",
      "ANONYMIZED CATEGORY    object\n",
      "ANONYMIZED PRODUCT     object\n",
      "ANONYMIZED BUSINESS    object\n",
      "ANONYMIZED LOCATION    object\n",
      "QUANTITY                int64\n",
      "UNIT PRICE             object\n",
      "dtype: object\n"
     ]
    }
   ],
   "source": [
    "#check the datatypes\n",
    "print(\"Data types:\\n\", data.dtypes)"
   ]
  },
  {
   "cell_type": "markdown",
   "metadata": {},
   "source": [
    "from the datatype above, the column date needs to be changed from object to a datetype datatype while unit price needs to be converted to integer or float depending on how the prices are looking"
   ]
  },
  {
   "cell_type": "code",
   "execution_count": 12,
   "metadata": {},
   "outputs": [
    {
     "name": "stdout",
     "output_type": "stream",
     "text": [
      "                       DATE ANONYMIZED CATEGORY ANONYMIZED PRODUCT  \\\n",
      "0  August 18, 2024, 9:32 PM        Category-106       Product-21f4   \n",
      "1  August 18, 2024, 9:32 PM        Category-120       Product-4156   \n",
      "\n",
      "  ANONYMIZED BUSINESS ANONYMIZED LOCATION  QUANTITY  UNIT PRICE  \n",
      "0       Business-de42       Location-1ba8         1         850  \n",
      "1       Business-de42       Location-1ba8         2        1910  \n"
     ]
    }
   ],
   "source": [
    "#convert UNIT PRICE to integer\n",
    "#first remove commas \n",
    "data['UNIT PRICE'] = data['UNIT PRICE'].str.replace(',', '', )\n",
    "#convert to integer\n",
    "data['UNIT PRICE'] = data['UNIT PRICE'].astype('int64')\n",
    "# Display the updated dataframe\n",
    "print(data.head(2))\n"
   ]
  },
  {
   "cell_type": "markdown",
   "metadata": {},
   "source": [
    "#### 1.2 Feature Engineering"
   ]
  },
  {
   "cell_type": "markdown",
   "metadata": {},
   "source": [
    "#### Convert DATE Column to Datetime"
   ]
  },
  {
   "cell_type": "code",
   "execution_count": 13,
   "metadata": {},
   "outputs": [
    {
     "name": "stderr",
     "output_type": "stream",
     "text": [
      "<ipython-input-13-02c5d6767e47>:2: UserWarning: Could not infer format, so each element will be parsed individually, falling back to `dateutil`. To ensure parsing is consistent and as-expected, please specify a format.\n",
      "  data['DATE'] = pd.to_datetime(data['DATE'])\n"
     ]
    },
    {
     "name": "stdout",
     "output_type": "stream",
     "text": [
      "                 DATE ANONYMIZED CATEGORY ANONYMIZED PRODUCT  \\\n",
      "0 2024-08-18 21:32:00        Category-106       Product-21f4   \n",
      "1 2024-08-18 21:32:00        Category-120       Product-4156   \n",
      "\n",
      "  ANONYMIZED BUSINESS ANONYMIZED LOCATION  QUANTITY  UNIT PRICE  \n",
      "0       Business-de42       Location-1ba8         1         850  \n",
      "1       Business-de42       Location-1ba8         2        1910  \n"
     ]
    }
   ],
   "source": [
    "#convert the date value to a datetime formart\n",
    "data['DATE'] = pd.to_datetime(data['DATE'])\n",
    "# Display the updated dataframe\n",
    "print(data.head(2))\n"
   ]
  },
  {
   "cell_type": "markdown",
   "metadata": {},
   "source": [
    "#### Create Month-Year Column"
   ]
  },
  {
   "cell_type": "code",
   "execution_count": 14,
   "metadata": {},
   "outputs": [
    {
     "name": "stdout",
     "output_type": "stream",
     "text": [
      "                 DATE ANONYMIZED CATEGORY ANONYMIZED PRODUCT  \\\n",
      "0 2024-08-18 21:32:00        Category-106       Product-21f4   \n",
      "1 2024-08-18 21:32:00        Category-120       Product-4156   \n",
      "2 2024-08-18 21:32:00        Category-121       Product-49bd   \n",
      "\n",
      "  ANONYMIZED BUSINESS ANONYMIZED LOCATION  QUANTITY  UNIT PRICE   Month-Year  \n",
      "0       Business-de42       Location-1ba8         1         850  August 2024  \n",
      "1       Business-de42       Location-1ba8         2        1910  August 2024  \n",
      "2       Business-de42       Location-1ba8         1        3670  August 2024  \n"
     ]
    }
   ],
   "source": [
    "\n",
    "# Create \"Month-Year\" column\n",
    "data['Month-Year'] = data['DATE'].dt.strftime('%B %Y')\n",
    "\n",
    "# Display the updated dataframe\n",
    "print(data.head(3))"
   ]
  },
  {
   "cell_type": "markdown",
   "metadata": {},
   "source": [
    "#### Lowecase the Column Names and use underscore instead of spacing names"
   ]
  },
  {
   "cell_type": "code",
   "execution_count": 15,
   "metadata": {},
   "outputs": [
    {
     "name": "stdout",
     "output_type": "stream",
     "text": [
      "Index(['date', 'anonymized_category', 'anonymized_product',\n",
      "       'anonymized_business', 'anonymized_location', 'quantity', 'unit_price',\n",
      "       'month-year'],\n",
      "      dtype='object')\n"
     ]
    }
   ],
   "source": [
    "#lowecase the column names\n",
    "data.columns = data.columns.str.lower().str.replace(' ', '_')\n",
    "print(data.columns)"
   ]
  },
  {
   "cell_type": "markdown",
   "metadata": {},
   "source": [
    "For readablity and ease of use I have lowercased the column names and used underscores instead of spacing."
   ]
  },
  {
   "cell_type": "code",
   "execution_count": 16,
   "metadata": {},
   "outputs": [
    {
     "data": {
      "text/plain": [
       "date                   datetime64[ns]\n",
       "anonymized_category            object\n",
       "anonymized_product             object\n",
       "anonymized_business            object\n",
       "anonymized_location            object\n",
       "quantity                        int64\n",
       "unit_price                      int64\n",
       "month-year                     object\n",
       "dtype: object"
      ]
     },
     "execution_count": 16,
     "metadata": {},
     "output_type": "execute_result"
    }
   ],
   "source": [
    "data.dtypes"
   ]
  },
  {
   "cell_type": "code",
   "execution_count": 17,
   "metadata": {},
   "outputs": [
    {
     "data": {
      "text/html": [
       "<div>\n",
       "<style scoped>\n",
       "    .dataframe tbody tr th:only-of-type {\n",
       "        vertical-align: middle;\n",
       "    }\n",
       "\n",
       "    .dataframe tbody tr th {\n",
       "        vertical-align: top;\n",
       "    }\n",
       "\n",
       "    .dataframe thead th {\n",
       "        text-align: right;\n",
       "    }\n",
       "</style>\n",
       "<table border=\"1\" class=\"dataframe\">\n",
       "  <thead>\n",
       "    <tr style=\"text-align: right;\">\n",
       "      <th></th>\n",
       "      <th>date</th>\n",
       "      <th>quantity</th>\n",
       "      <th>unit_price</th>\n",
       "    </tr>\n",
       "  </thead>\n",
       "  <tbody>\n",
       "    <tr>\n",
       "      <th>count</th>\n",
       "      <td>329873</td>\n",
       "      <td>329873.000000</td>\n",
       "      <td>329873.000000</td>\n",
       "    </tr>\n",
       "    <tr>\n",
       "      <th>mean</th>\n",
       "      <td>2024-07-18 11:47:54.002236672</td>\n",
       "      <td>2.321469</td>\n",
       "      <td>2319.016579</td>\n",
       "    </tr>\n",
       "    <tr>\n",
       "      <th>min</th>\n",
       "      <td>2024-01-01 05:54:00</td>\n",
       "      <td>0.000000</td>\n",
       "      <td>0.000000</td>\n",
       "    </tr>\n",
       "    <tr>\n",
       "      <th>25%</th>\n",
       "      <td>2024-04-30 16:34:00</td>\n",
       "      <td>1.000000</td>\n",
       "      <td>1420.000000</td>\n",
       "    </tr>\n",
       "    <tr>\n",
       "      <th>50%</th>\n",
       "      <td>2024-07-29 18:40:00</td>\n",
       "      <td>1.000000</td>\n",
       "      <td>1840.000000</td>\n",
       "    </tr>\n",
       "    <tr>\n",
       "      <th>75%</th>\n",
       "      <td>2024-10-14 21:32:00</td>\n",
       "      <td>2.000000</td>\n",
       "      <td>2750.000000</td>\n",
       "    </tr>\n",
       "    <tr>\n",
       "      <th>max</th>\n",
       "      <td>2024-12-31 18:24:00</td>\n",
       "      <td>359.000000</td>\n",
       "      <td>16136.000000</td>\n",
       "    </tr>\n",
       "    <tr>\n",
       "      <th>std</th>\n",
       "      <td>NaN</td>\n",
       "      <td>3.767697</td>\n",
       "      <td>1582.578700</td>\n",
       "    </tr>\n",
       "  </tbody>\n",
       "</table>\n",
       "</div>"
      ],
      "text/plain": [
       "                                date       quantity     unit_price\n",
       "count                         329873  329873.000000  329873.000000\n",
       "mean   2024-07-18 11:47:54.002236672       2.321469    2319.016579\n",
       "min              2024-01-01 05:54:00       0.000000       0.000000\n",
       "25%              2024-04-30 16:34:00       1.000000    1420.000000\n",
       "50%              2024-07-29 18:40:00       1.000000    1840.000000\n",
       "75%              2024-10-14 21:32:00       2.000000    2750.000000\n",
       "max              2024-12-31 18:24:00     359.000000   16136.000000\n",
       "std                              NaN       3.767697    1582.578700"
      ]
     },
     "execution_count": 17,
     "metadata": {},
     "output_type": "execute_result"
    }
   ],
   "source": [
    "data.describe()"
   ]
  },
  {
   "cell_type": "markdown",
   "metadata": {},
   "source": [
    "#### Creating a Copy of the Cleaned DataFrame\n"
   ]
  },
  {
   "cell_type": "code",
   "execution_count": 18,
   "metadata": {},
   "outputs": [
    {
     "data": {
      "text/html": [
       "<div>\n",
       "<style scoped>\n",
       "    .dataframe tbody tr th:only-of-type {\n",
       "        vertical-align: middle;\n",
       "    }\n",
       "\n",
       "    .dataframe tbody tr th {\n",
       "        vertical-align: top;\n",
       "    }\n",
       "\n",
       "    .dataframe thead th {\n",
       "        text-align: right;\n",
       "    }\n",
       "</style>\n",
       "<table border=\"1\" class=\"dataframe\">\n",
       "  <thead>\n",
       "    <tr style=\"text-align: right;\">\n",
       "      <th></th>\n",
       "      <th>date</th>\n",
       "      <th>anonymized_category</th>\n",
       "      <th>anonymized_product</th>\n",
       "      <th>anonymized_business</th>\n",
       "      <th>anonymized_location</th>\n",
       "      <th>quantity</th>\n",
       "      <th>unit_price</th>\n",
       "      <th>month-year</th>\n",
       "    </tr>\n",
       "  </thead>\n",
       "  <tbody>\n",
       "    <tr>\n",
       "      <th>0</th>\n",
       "      <td>2024-08-18 21:32:00</td>\n",
       "      <td>Category-106</td>\n",
       "      <td>Product-21f4</td>\n",
       "      <td>Business-de42</td>\n",
       "      <td>Location-1ba8</td>\n",
       "      <td>1</td>\n",
       "      <td>850</td>\n",
       "      <td>August 2024</td>\n",
       "    </tr>\n",
       "    <tr>\n",
       "      <th>1</th>\n",
       "      <td>2024-08-18 21:32:00</td>\n",
       "      <td>Category-120</td>\n",
       "      <td>Product-4156</td>\n",
       "      <td>Business-de42</td>\n",
       "      <td>Location-1ba8</td>\n",
       "      <td>2</td>\n",
       "      <td>1910</td>\n",
       "      <td>August 2024</td>\n",
       "    </tr>\n",
       "  </tbody>\n",
       "</table>\n",
       "</div>"
      ],
      "text/plain": [
       "                 date anonymized_category anonymized_product  \\\n",
       "0 2024-08-18 21:32:00        Category-106       Product-21f4   \n",
       "1 2024-08-18 21:32:00        Category-120       Product-4156   \n",
       "\n",
       "  anonymized_business anonymized_location  quantity  unit_price   month-year  \n",
       "0       Business-de42       Location-1ba8         1         850  August 2024  \n",
       "1       Business-de42       Location-1ba8         2        1910  August 2024  "
      ]
     },
     "execution_count": 18,
     "metadata": {},
     "output_type": "execute_result"
    }
   ],
   "source": [
    "#create a copy of the cleaned dataframe for further analysis\n",
    "kt_clean_df = data.copy()\n",
    "kt_clean_df.head(2)"
   ]
  },
  {
   "cell_type": "markdown",
   "metadata": {},
   "source": [
    "## SECTION 2 : EXPLORATORY DATA ANALYSIS (EDA)"
   ]
  },
  {
   "cell_type": "markdown",
   "metadata": {},
   "source": [
    "2.1 Calculate Total Quantity and Value\n"
   ]
  },
  {
   "cell_type": "code",
   "execution_count": 19,
   "metadata": {},
   "outputs": [
    {
     "name": "stdout",
     "output_type": "stream",
     "text": [
      "   anonymized_category  quantity  total_value\n",
      "25         Category-75    151330    544658700\n",
      "26         Category-76     71719    344939553\n",
      "18        Category-120    169715    319178743\n",
      "0         Category-100     76824    134902751\n",
      "17        Category-119     68332    103454819\n",
      "27         Category-77     28455     76741382\n",
      "38         Category-91     20853     44152103\n",
      "1         Category-101     19564     35577822\n",
      "34         Category-85     22997     33762533\n",
      "19        Category-121     14669     22327643\n",
      "40         Category-94     23668     16750815\n",
      "39         Category-92      6953     10468723\n",
      "28         Category-78      9766      9792609\n",
      "41         Category-95      4116      7466932\n",
      "33         Category-84     11933      6798158\n",
      "5         Category-106      6521      5932763\n",
      "9         Category-110     10529      5483386\n",
      "7         Category-108      9756      5101375\n",
      "10        Category-111      6715      4387343\n",
      "6         Category-107      2729      4170797\n",
      "32         Category-83      2436      4039483\n",
      "31         Category-82      4759      3930818\n",
      "20        Category-122      1223      3493480\n",
      "4         Category-105      1579      2690719\n",
      "43         Category-97      2711      2628309\n",
      "44         Category-98      2152      2519695\n",
      "42         Category-96      1427      2249424\n",
      "24         Category-74       941      1927871\n",
      "45         Category-99      1964      1589480\n",
      "3         Category-104      1217      1557598\n",
      "8         Category-109      1446      1263226\n",
      "11        Category-113       741      1254083\n",
      "29         Category-79      2215      1184953\n",
      "21        Category-123       286       730730\n",
      "2         Category-102      1786       464463\n",
      "13        Category-115       348       425360\n",
      "14        Category-116       856       422745\n",
      "23        Category-125       123       297060\n",
      "36         Category-89       238       136850\n",
      "30         Category-81       142        72061\n",
      "37         Category-90        15        15750\n",
      "22        Category-124         4        10060\n",
      "12        Category-114         3         8600\n",
      "16        Category-118        21         7560\n",
      "35         Category-86         8         3320\n",
      "15        Category-117         5         1550\n"
     ]
    }
   ],
   "source": [
    "# Calculate total Quantity and Value grouped by Anonymized Category\n",
    "\n",
    "#calculate the value for each row\n",
    "kt_clean_df['total_value'] = kt_clean_df['quantity'] * kt_clean_df['unit_price']\n",
    "\n",
    "#Group by anonymized category and aggregate total quantity and value\n",
    "grouped_category = kt_clean_df.groupby('anonymized_category').agg({'quantity': 'sum', 'total_value': 'sum'}).reset_index()\n",
    "\n",
    "# Sort the grouped dataframe by total value in descending order\n",
    "grouped_category = grouped_category.sort_values(by='total_value', ascending=False)\n",
    "print(grouped_category)\n"
   ]
  },
  {
   "cell_type": "markdown",
   "metadata": {},
   "source": [
    " Visualizations of the Data"
   ]
  },
  {
   "cell_type": "code",
   "execution_count": 20,
   "metadata": {},
   "outputs": [
    {
     "data": {
      "image/png": "[encoded data removed]",
      "text/plain": [
       "<Figure size 1008x504 with 1 Axes>"
      ]
     },
     "metadata": {
      "needs_background": "light"
     },
     "output_type": "display_data"
    },
    {
     "data": {
      "image/png": "[encoded data removed]",
      "text/plain": [
       "<Figure size 1008x504 with 1 Axes>"
      ]
     },
     "metadata": {
      "needs_background": "light"
     },
     "output_type": "display_data"
    }
   ],
   "source": [
    "# Plot total Quantity and Value grouped by Anonymized Category\n",
    "plt.figure(figsize=(14, 7))\n",
    "\n",
    "# Total Quantity by Anonymized Category\n",
    "plt.subplot(1, 2, 1)\n",
    "plt.bar(grouped_category['anonymized_category'], grouped_category['quantity'], color='skyblue')\n",
    "plt.xlabel('Anonymized Category')\n",
    "plt.ylabel('Total Quantity')\n",
    "plt.title('Total Quantity by Anonymized Category')\n",
    "plt.xticks(rotation=90)\n",
    "plt.tight_layout()\n",
    "plt.show()\n",
    "\n",
    "\n",
    "\n",
    "# Total Value by Anonymized Category\n",
    "\n",
    "plt.figure(figsize=(14, 7))\n",
    "\n",
    "plt.subplot(1, 2, 2)\n",
    "plt.bar(grouped_category['anonymized_category'], grouped_category['total_value'], color='lightgreen')\n",
    "plt.xlabel('Anonymized Category')\n",
    "plt.ylabel('Total Value')\n",
    "plt.title('Total Value by Anonymized Category')\n",
    "plt.xticks(rotation=90)\n",
    "\n",
    "plt.tight_layout()\n",
    "plt.show()"
   ]
  },
  {
   "cell_type": "markdown",
   "metadata": {},
   "source": [
    "#### Total Quantity and Value Grouped by Anonymized Business"
   ]
  },
  {
   "cell_type": "code",
   "execution_count": 21,
   "metadata": {},
   "outputs": [
    {
     "data": {
      "text/html": [
       "<div>\n",
       "<style scoped>\n",
       "    .dataframe tbody tr th:only-of-type {\n",
       "        vertical-align: middle;\n",
       "    }\n",
       "\n",
       "    .dataframe tbody tr th {\n",
       "        vertical-align: top;\n",
       "    }\n",
       "\n",
       "    .dataframe thead th {\n",
       "        text-align: right;\n",
       "    }\n",
       "</style>\n",
       "<table border=\"1\" class=\"dataframe\">\n",
       "  <thead>\n",
       "    <tr style=\"text-align: right;\">\n",
       "      <th></th>\n",
       "      <th>anonymized_business</th>\n",
       "      <th>quantity</th>\n",
       "      <th>total_value</th>\n",
       "    </tr>\n",
       "  </thead>\n",
       "  <tbody>\n",
       "    <tr>\n",
       "      <th>2906</th>\n",
       "      <td>Business-978e</td>\n",
       "      <td>13991</td>\n",
       "      <td>28037358</td>\n",
       "    </tr>\n",
       "    <tr>\n",
       "      <th>4781</th>\n",
       "      <td>Business-fe7d</td>\n",
       "      <td>6743</td>\n",
       "      <td>26997121</td>\n",
       "    </tr>\n",
       "    <tr>\n",
       "      <th>1873</th>\n",
       "      <td>Business-6068</td>\n",
       "      <td>8214</td>\n",
       "      <td>16464195</td>\n",
       "    </tr>\n",
       "    <tr>\n",
       "      <th>144</th>\n",
       "      <td>Business-07de</td>\n",
       "      <td>6065</td>\n",
       "      <td>16258068</td>\n",
       "    </tr>\n",
       "    <tr>\n",
       "      <th>2353</th>\n",
       "      <td>Business-7a03</td>\n",
       "      <td>6318</td>\n",
       "      <td>13968451</td>\n",
       "    </tr>\n",
       "    <tr>\n",
       "      <th>3533</th>\n",
       "      <td>Business-ba13</td>\n",
       "      <td>5533</td>\n",
       "      <td>13650016</td>\n",
       "    </tr>\n",
       "    <tr>\n",
       "      <th>584</th>\n",
       "      <td>Business-1e3e</td>\n",
       "      <td>4981</td>\n",
       "      <td>13192967</td>\n",
       "    </tr>\n",
       "    <tr>\n",
       "      <th>1385</th>\n",
       "      <td>Business-468e</td>\n",
       "      <td>5450</td>\n",
       "      <td>12546597</td>\n",
       "    </tr>\n",
       "    <tr>\n",
       "      <th>4585</th>\n",
       "      <td>Business-f4f4</td>\n",
       "      <td>3852</td>\n",
       "      <td>11952941</td>\n",
       "    </tr>\n",
       "    <tr>\n",
       "      <th>1674</th>\n",
       "      <td>Business-5613</td>\n",
       "      <td>4089</td>\n",
       "      <td>11895552</td>\n",
       "    </tr>\n",
       "  </tbody>\n",
       "</table>\n",
       "</div>"
      ],
      "text/plain": [
       "     anonymized_business  quantity  total_value\n",
       "2906       Business-978e     13991     28037358\n",
       "4781       Business-fe7d      6743     26997121\n",
       "1873       Business-6068      8214     16464195\n",
       "144        Business-07de      6065     16258068\n",
       "2353       Business-7a03      6318     13968451\n",
       "3533       Business-ba13      5533     13650016\n",
       "584        Business-1e3e      4981     13192967\n",
       "1385       Business-468e      5450     12546597\n",
       "4585       Business-f4f4      3852     11952941\n",
       "1674       Business-5613      4089     11895552"
      ]
     },
     "execution_count": 21,
     "metadata": {},
     "output_type": "execute_result"
    }
   ],
   "source": [
    "# Calculate total Quantity and Value grouped by Anonymized Business\n",
    "business_grouped = kt_clean_df.groupby('anonymized_business').agg({'quantity': 'sum', 'total_value': 'sum'}).reset_index()\n",
    "\n",
    "\n",
    "# Sort the grouped dataframe by total value in descending order\n",
    "business_grouped = business_grouped.sort_values(by='total_value', ascending=False)\n",
    "\n",
    "\n",
    "# Display the grouped data\n",
    "business_grouped.head(10)"
   ]
  },
  {
   "cell_type": "code",
   "execution_count": 22,
   "metadata": {},
   "outputs": [
    {
     "data": {
      "text/html": [
       "<div>\n",
       "<style scoped>\n",
       "    .dataframe tbody tr th:only-of-type {\n",
       "        vertical-align: middle;\n",
       "    }\n",
       "\n",
       "    .dataframe tbody tr th {\n",
       "        vertical-align: top;\n",
       "    }\n",
       "\n",
       "    .dataframe thead th {\n",
       "        text-align: right;\n",
       "    }\n",
       "</style>\n",
       "<table border=\"1\" class=\"dataframe\">\n",
       "  <thead>\n",
       "    <tr style=\"text-align: right;\">\n",
       "      <th></th>\n",
       "      <th>anonymized_business</th>\n",
       "      <th>quantity</th>\n",
       "      <th>total_value</th>\n",
       "    </tr>\n",
       "  </thead>\n",
       "  <tbody>\n",
       "    <tr>\n",
       "      <th>2906</th>\n",
       "      <td>Business-978e</td>\n",
       "      <td>13991</td>\n",
       "      <td>28037358</td>\n",
       "    </tr>\n",
       "    <tr>\n",
       "      <th>1873</th>\n",
       "      <td>Business-6068</td>\n",
       "      <td>8214</td>\n",
       "      <td>16464195</td>\n",
       "    </tr>\n",
       "    <tr>\n",
       "      <th>4781</th>\n",
       "      <td>Business-fe7d</td>\n",
       "      <td>6743</td>\n",
       "      <td>26997121</td>\n",
       "    </tr>\n",
       "    <tr>\n",
       "      <th>2353</th>\n",
       "      <td>Business-7a03</td>\n",
       "      <td>6318</td>\n",
       "      <td>13968451</td>\n",
       "    </tr>\n",
       "    <tr>\n",
       "      <th>144</th>\n",
       "      <td>Business-07de</td>\n",
       "      <td>6065</td>\n",
       "      <td>16258068</td>\n",
       "    </tr>\n",
       "    <tr>\n",
       "      <th>3533</th>\n",
       "      <td>Business-ba13</td>\n",
       "      <td>5533</td>\n",
       "      <td>13650016</td>\n",
       "    </tr>\n",
       "    <tr>\n",
       "      <th>1385</th>\n",
       "      <td>Business-468e</td>\n",
       "      <td>5450</td>\n",
       "      <td>12546597</td>\n",
       "    </tr>\n",
       "    <tr>\n",
       "      <th>584</th>\n",
       "      <td>Business-1e3e</td>\n",
       "      <td>4981</td>\n",
       "      <td>13192967</td>\n",
       "    </tr>\n",
       "    <tr>\n",
       "      <th>3851</th>\n",
       "      <td>Business-cb1f</td>\n",
       "      <td>4636</td>\n",
       "      <td>9602700</td>\n",
       "    </tr>\n",
       "    <tr>\n",
       "      <th>2503</th>\n",
       "      <td>Business-80b3</td>\n",
       "      <td>4303</td>\n",
       "      <td>9275497</td>\n",
       "    </tr>\n",
       "  </tbody>\n",
       "</table>\n",
       "</div>"
      ],
      "text/plain": [
       "     anonymized_business  quantity  total_value\n",
       "2906       Business-978e     13991     28037358\n",
       "1873       Business-6068      8214     16464195\n",
       "4781       Business-fe7d      6743     26997121\n",
       "2353       Business-7a03      6318     13968451\n",
       "144        Business-07de      6065     16258068\n",
       "3533       Business-ba13      5533     13650016\n",
       "1385       Business-468e      5450     12546597\n",
       "584        Business-1e3e      4981     13192967\n",
       "3851       Business-cb1f      4636      9602700\n",
       "2503       Business-80b3      4303      9275497"
      ]
     },
     "execution_count": 22,
     "metadata": {},
     "output_type": "execute_result"
    }
   ],
   "source": [
    "# Calculate total Quantity and Value grouped by Anonymized Business\n",
    "business_grouped_qt = kt_clean_df.groupby('anonymized_business').agg({'quantity': 'sum', 'total_value': 'sum'}).reset_index()\n",
    "\n",
    "\n",
    "# Sort the grouped dataframe by total value in descending order\n",
    "business_grouped_qt= business_grouped.sort_values(by='quantity', ascending=False)\n",
    "\n",
    "\n",
    "# Display the grouped data\n",
    "business_grouped_qt.head(10)"
   ]
  },
  {
   "cell_type": "markdown",
   "metadata": {},
   "source": [
    "#### Top 10 Anonymized Businesses by Total Value"
   ]
  },
  {
   "cell_type": "code",
   "execution_count": 23,
   "metadata": {},
   "outputs": [
    {
     "data": {
      "image/png": "[encoded data removed]",
      "text/plain": [
       "<Figure size 1008x504 with 1 Axes>"
      ]
     },
     "metadata": {
      "needs_background": "light"
     },
     "output_type": "display_data"
    }
   ],
   "source": [
    "#visualize the first 10 businesses\n",
    "\n",
    "plt.figure(figsize=(14, 7)) \n",
    "\n",
    "# Total Value by Anonymized Business\n",
    "plt.subplot(1, 2, 2)\n",
    "plt.bar(business_grouped['anonymized_business'][:10], business_grouped['total_value'][:10], color='lightgreen')\n",
    "plt.xlabel('Anonymized Business')\n",
    "plt.ylabel('Total Value')\n",
    "plt.title('Total Value by Anonymized Business')\n",
    "plt.xticks(rotation=90)\n",
    "\n",
    "plt.tight_layout()\n",
    "plt.show()"
   ]
  },
  {
   "cell_type": "markdown",
   "metadata": {},
   "source": [
    "#### Top 10 Anonymized Businesses by Total Quantity "
   ]
  },
  {
   "cell_type": "code",
   "execution_count": 24,
   "metadata": {},
   "outputs": [
    {
     "data": {
      "image/png": "[encoded data removed]",
      "text/plain": [
       "<Figure size 1008x504 with 1 Axes>"
      ]
     },
     "metadata": {
      "needs_background": "light"
     },
     "output_type": "display_data"
    }
   ],
   "source": [
    "# Plot total Quantity and Value grouped by Anonymized Business\n",
    "plt.figure(figsize=(14, 7))\n",
    "\n",
    "# Total Quantity by Anonymized Business\n",
    "plt.subplot(1, 2, 1)\n",
    "plt.bar(business_grouped_qt['anonymized_business'][:10], business_grouped_qt['quantity'][:10], color='skyblue')\n",
    "plt.xlabel('Anonymized Business')\n",
    "plt.ylabel('Total Quantity')\n",
    "plt.title('Total Quantity by Anonymized Business')\n",
    "plt.xticks(rotation=90)\n",
    "plt.tight_layout()\n",
    "plt.show()"
   ]
  },
  {
   "cell_type": "markdown",
   "metadata": {},
   "source": [
    "### 2.2 Trends Over Time: Analyze sales trends (Value and Quantity) by Month-Year."
   ]
  },
  {
   "cell_type": "markdown",
   "metadata": {},
   "source": [
    "Create a time series plot to show seasonal patterns or changes in sales performance."
   ]
  },
  {
   "cell_type": "code",
   "execution_count": 25,
   "metadata": {},
   "outputs": [
    {
     "name": "stdout",
     "output_type": "stream",
     "text": [
      "   month-year  quantity  total_value\n",
      "4  2024-01-01     67526    185626186\n",
      "3  2024-02-01     44063    126579702\n",
      "7  2024-03-01     45381    116000676\n",
      "0  2024-04-01     50554    122110750\n",
      "8  2024-05-01     69551    168781502\n",
      "6  2024-06-01     60716    135138614\n",
      "5  2024-07-01     74689    171040881\n",
      "1  2024-08-01     68837    146581003\n",
      "11 2024-09-01     66747    137791455\n",
      "10 2024-10-01     84739    183840551\n",
      "9  2024-11-01     75361    165933104\n",
      "2  2024-12-01     57626    109549774\n"
     ]
    }
   ],
   "source": [
    "# Calculate total Quantity and Value by Month-Year\n",
    "monthly_sales = kt_clean_df.groupby('month-year').agg({'quantity': 'sum', 'total_value': 'sum'}).reset_index()\n",
    "\n",
    "\n",
    "# Convert Month-Year to datetime for proper sorting\n",
    "monthly_sales['month-year'] = pd.to_datetime(monthly_sales['month-year'], format='%B %Y')\n",
    "\n",
    "# Sort by Month-Year\n",
    "monthly_sales = monthly_sales.sort_values('month-year')\n",
    "\n",
    "# Display the grouped data\n",
    "print(monthly_sales)"
   ]
  },
  {
   "cell_type": "markdown",
   "metadata": {},
   "source": [
    "Time Series Plot of Total Quantity over time"
   ]
  },
  {
   "cell_type": "code",
   "execution_count": 26,
   "metadata": {},
   "outputs": [
    {
     "data": {
      "image/png": "[encoded data removed]",
      "text/plain": [
       "<Figure size 1008x720 with 1 Axes>"
      ]
     },
     "metadata": {
      "needs_background": "light"
     },
     "output_type": "display_data"
    }
   ],
   "source": [
    "# Plot sales trends over time\n",
    "plt.figure(figsize=(14, 10))\n",
    "\n",
    "# Total Quantity over time\n",
    "plt.plot(monthly_sales['month-year'], monthly_sales['quantity'], marker='o', linestyle='-')\n",
    "plt.xlabel('Month-Year')\n",
    "plt.ylabel('Total Quantity')\n",
    "plt.title('Total Quantity by Month-Year')\n",
    "plt.xticks(rotation=45)\n",
    "plt.tight_layout()\n",
    "plt.show()\n"
   ]
  },
  {
   "cell_type": "markdown",
   "metadata": {},
   "source": [
    "Time Series Plot of Total Value over time"
   ]
  },
  {
   "cell_type": "code",
   "execution_count": 27,
   "metadata": {},
   "outputs": [
    {
     "data": {
      "image/png": "[encoded data removed]",
      "text/plain": [
       "<Figure size 1008x504 with 1 Axes>"
      ]
     },
     "metadata": {
      "needs_background": "light"
     },
     "output_type": "display_data"
    }
   ],
   "source": [
    "\n",
    "# Total Value over time\n",
    "plt.figure(figsize=(14, 7))\n",
    "plt.plot(monthly_sales['month-year'], monthly_sales['total_value'], marker='o', linestyle='-')\n",
    "plt.xlabel('Month-Year')\n",
    "plt.ylabel('Total Value')\n",
    "plt.title('Total Value by Month-Year')\n",
    "plt.xticks(rotation=45)\n",
    "\n",
    "plt.tight_layout()\n",
    "plt.show()"
   ]
  },
  {
   "cell_type": "markdown",
   "metadata": {},
   "source": [
    "### 2.3 Performance Analysis:\n",
    "\n",
    "Identify the top 5 most frequently purchased products (based on Quantity).\n",
    "\n"
   ]
  },
  {
   "cell_type": "code",
   "execution_count": 28,
   "metadata": {},
   "outputs": [
    {
     "name": "stdout",
     "output_type": "stream",
     "text": [
      "    anonymized_product  quantity\n",
      "338       Product-66e0     46957\n",
      "750       Product-e805     42602\n",
      "476       Product-8f75     37566\n",
      "127       Product-29ee     35940\n",
      "213       Product-4156     28487\n"
     ]
    }
   ],
   "source": [
    "# Identify the top 5 most frequently purchased products based on Quantity\n",
    "top_products = kt_clean_df.groupby('anonymized_product').agg({'quantity': 'sum'}).reset_index()\n",
    "top_products = top_products.sort_values(by='quantity', ascending=False).head(5)\n",
    "\n",
    "# Display the top 5 products\n",
    "print(top_products)"
   ]
  },
  {
   "cell_type": "code",
   "execution_count": 29,
   "metadata": {},
   "outputs": [
    {
     "data": {
      "text/plain": [
       "(array([    0., 10000., 20000., 30000., 40000., 50000.]),\n",
       " [Text(0, 0.0, '0'),\n",
       "  Text(0, 10000.0, '10000'),\n",
       "  Text(0, 20000.0, '20000'),\n",
       "  Text(0, 30000.0, '30000'),\n",
       "  Text(0, 40000.0, '40000'),\n",
       "  Text(0, 50000.0, '50000')])"
      ]
     },
     "execution_count": 29,
     "metadata": {},
     "output_type": "execute_result"
    },
    {
     "data": {
      "image/png": "[encoded data removed]",
      "text/plain": [
       "<Figure size 720x432 with 1 Axes>"
      ]
     },
     "metadata": {
      "needs_background": "light"
     },
     "output_type": "display_data"
    }
   ],
   "source": [
    "# Visualize the top 5 most frequently purchased products based on Quantity\n",
    "plt.figure(figsize=(10, 6))\n",
    "plt.bar(top_products['anonymized_product'], top_products['quantity'], color='skyblue')\n",
    "plt.xlabel('Anonymized Product', fontsize=12)\n",
    "plt.ylabel('Total Quantity Purchased', fontsize=12)\n",
    "plt.title('Top 5 Most Frequently Purchased Products', fontsize=14)\n",
    "plt.xticks(rotation=45, fontsize=12)\n",
    "plt.yticks(fontsize=12)"
   ]
  },
  {
   "cell_type": "markdown",
   "metadata": {},
   "source": [
    "#### Identify the top 5 most valuable products by based on Value\n"
   ]
  },
  {
   "cell_type": "code",
   "execution_count": 30,
   "metadata": {},
   "outputs": [
    {
     "name": "stdout",
     "output_type": "stream",
     "text": [
      "    anonymized_product  total_value\n",
      "750       Product-e805    262787281\n",
      "476       Product-8f75    158797460\n",
      "338       Product-66e0     70704225\n",
      "127       Product-29ee     68248274\n",
      "213       Product-4156     56956007\n"
     ]
    }
   ],
   "source": [
    "# Calculate total value for each product\n",
    "kt_clean_df['total_value'] = kt_clean_df['quantity'] * kt_clean_df['unit_price']\n",
    "\n",
    "# Identify the top 5 most valuable products based on Value\n",
    "top_valuable_products = kt_clean_df.groupby('anonymized_product').agg({'total_value': 'sum'}).reset_index()\n",
    "top_valuable_products = top_valuable_products.sort_values(by='total_value', ascending=False).head(5)\n",
    "\n",
    "# Display the top 5 most valuable products\n",
    "print(top_valuable_products)\n"
   ]
  },
  {
   "cell_type": "code",
   "execution_count": 31,
   "metadata": {},
   "outputs": [
    {
     "data": {
      "text/plain": [
       "(array([0.0e+00, 5.0e+07, 1.0e+08, 1.5e+08, 2.0e+08, 2.5e+08, 3.0e+08]),\n",
       " [Text(0, 0.0, '0.0'),\n",
       "  Text(0, 50000000.0, '0.5'),\n",
       "  Text(0, 100000000.0, '1.0'),\n",
       "  Text(0, 150000000.0, '1.5'),\n",
       "  Text(0, 200000000.0, '2.0'),\n",
       "  Text(0, 250000000.0, '2.5'),\n",
       "  Text(0, 300000000.0, '3.0')])"
      ]
     },
     "execution_count": 31,
     "metadata": {},
     "output_type": "execute_result"
    },
    {
     "data": {
      "image/png": "[encoded data removed]",
      "text/plain": [
       "<Figure size 720x432 with 1 Axes>"
      ]
     },
     "metadata": {
      "needs_background": "light"
     },
     "output_type": "display_data"
    }
   ],
   "source": [
    "# Visualize the top 5 most products based on value\n",
    "plt.figure(figsize=(10, 6))\n",
    "plt.bar(top_valuable_products['anonymized_product'], top_valuable_products['total_value'], color='purple')\n",
    "plt.xlabel('Anonymized Product', fontsize=12)\n",
    "plt.ylabel('Total Value', fontsize=12)\n",
    "plt.title('Top 5 Products by value', fontsize=14)\n",
    "plt.xticks(rotation=45, fontsize=12)\n",
    "plt.yticks(fontsize=12)"
   ]
  },
  {
   "cell_type": "markdown",
   "metadata": {},
   "source": [
    "### 3. Advanced Analysis\n",
    "\n",
    "3.1 Customer Segmentation\n",
    "\n",
    "Perform a segmentation analysis of businesses (Anonymized Business) based on their purchasing behavior:\n",
    "\n",
    "Total Quantity purchased\n",
    "Total Value contributed\n",
    "Frequency of transactions\n",
    "\n",
    "Classify businesses into 3 groups (e.g., High Value, Medium Value, Low Value) and provide recommendations for engagement with each group."
   ]
  },
  {
   "cell_type": "markdown",
   "metadata": {},
   "source": [
    "#### Aggretate Business Level Metrics"
   ]
  },
  {
   "cell_type": "code",
   "execution_count": 32,
   "metadata": {},
   "outputs": [
    {
     "name": "stdout",
     "output_type": "stream",
     "text": [
      "       total_quantity   total_value  transaction_count\n",
      "count     4800.000000  4.800000e+03        4800.000000\n",
      "mean       159.539583  1.593710e+05          68.723542\n",
      "std        479.870741  3.629125e+05         149.042885\n",
      "min          1.000000  0.000000e+00           1.000000\n",
      "25%          5.000000  6.522500e+03           3.000000\n",
      "50%         20.000000  2.525750e+04          11.000000\n",
      "75%        114.000000  1.302732e+05          61.000000\n",
      "max      13991.000000  4.976687e+06        2614.000000\n"
     ]
    }
   ],
   "source": [
    "# Aggregate metrics per business\n",
    "kt_business_df = kt_clean_df.groupby(\"anonymized_business\").agg(\n",
    "    total_quantity=(\"quantity\", \"sum\"),\n",
    "    total_value=(\"unit_price\", \"sum\"),\n",
    "    transaction_count=(\"date\", \"count\")  # Frequency of purchases\n",
    ").reset_index()\n",
    "\n",
    "# Check summary statistics\n",
    "print(kt_business_df.describe())\n"
   ]
  },
  {
   "cell_type": "markdown",
   "metadata": {},
   "source": [
    "#### Segment the businesses"
   ]
  },
  {
   "cell_type": "code",
   "execution_count": 33,
   "metadata": {},
   "outputs": [
    {
     "name": "stdout",
     "output_type": "stream",
     "text": [
      "  anonymized_business  total_quantity  total_value  transaction_count  \\\n",
      "0       Business-0000               8        10445                  8   \n",
      "1       Business-0005               1         2645                  1   \n",
      "2       Business-0029              26        18385                  6   \n",
      "3       Business-003d              98        73251                 31   \n",
      "4       Business-0072             127       194501                101   \n",
      "\n",
      "     segment  \n",
      "0  Low Value  \n",
      "1  Low Value  \n",
      "2  Low Value  \n",
      "3  Low Value  \n",
      "4  Low Value  \n"
     ]
    }
   ],
   "source": [
    "from sklearn.cluster import KMeans\n",
    "import numpy as np\n",
    "\n",
    "# Select features for clustering\n",
    "X = kt_business_df[[\"total_quantity\", \"total_value\", \"transaction_count\"]]\n",
    "\n",
    "# Apply K-Means with 3 clusters\n",
    "kmeans = KMeans(n_clusters=3, random_state=42, n_init=10)\n",
    "kt_business_df[\"segment\"] = kmeans.fit_predict(X)\n",
    "\n",
    "# Rename segments based on business value\n",
    "kt_business_df[\"segment\"] = kt_business_df[\"segment\"].map({0: \"Low Value\", 1: \"Medium Value\", 2: \"High Value\"})\n",
    "\n",
    "# Display segmented data\n",
    "print(kt_business_df.head())\n"
   ]
  },
  {
   "cell_type": "markdown",
   "metadata": {},
   "source": [
    "#### View the segments\n"
   ]
  },
  {
   "cell_type": "code",
   "execution_count": 34,
   "metadata": {},
   "outputs": [
    {
     "data": {
      "image/png": "[encoded data removed]",
      "text/plain": [
       "<Figure size 576x432 with 1 Axes>"
      ]
     },
     "metadata": {
      "needs_background": "light"
     },
     "output_type": "display_data"
    }
   ],
   "source": [
    "#using a scatterplot to visualize the clusters\n",
    "plt.figure(figsize=(8, 6))\n",
    "sns.scatterplot(data=kt_business_df, x=\"total_quantity\", y=\"total_value\", hue=\"segment\", palette=\"viridis\")\n",
    "plt.title(\"Customer Segmentation Based on Purchases\")\n",
    "plt.show()\n"
   ]
  },
  {
   "cell_type": "markdown",
   "metadata": {},
   "source": [
    "### Recommendations for Engagement"
   ]
  },
  {
   "cell_type": "markdown",
   "metadata": {},
   "source": [
    "High Value Business - Have a high spending and frequent transactions \n",
    "\n",
    "    Engagement strategies- Offer loyalty programs, priority support and bulk discounts. \n",
    "\n",
    "Medium Value Business  - Moderate spending and average frequency.\n",
    "\n",
    "    Engagement strategies : Personalized promotions, targeted marketing campaigns\n",
    "\n",
    "Low value Business - Have a low spending and infrequent transactions\n",
    "\n",
    "    Engagement strategies : Retargeting ads, special offers abd first-timE buyer discounts."
   ]
  },
  {
   "cell_type": "markdown",
   "metadata": {},
   "source": [
    "3.2 Forecasting: Using the provided data, forecast the total sales (Value) for the next 3 months. Use an appropriate time-series forecasting method (e.g., ARIMA, moving average, or exponential smoothing)."
   ]
  },
  {
   "cell_type": "code",
   "execution_count": 35,
   "metadata": {},
   "outputs": [
    {
     "data": {
      "image/png": "[encoded data removed]",
      "text/plain": [
       "<Figure size 720x360 with 1 Axes>"
      ]
     },
     "metadata": {
      "needs_background": "light"
     },
     "output_type": "display_data"
    }
   ],
   "source": [
    "#prepare data and ensure the data is chronologically ordered for time series analysis\n",
    "\n",
    "# Aggregate total sales per month-year\n",
    "monthly_sales = kt_clean_df.groupby('month-year').agg({'unit_price': 'sum'}).reset_index()\n",
    "\n",
    "# Rename column\n",
    "monthly_sales.rename(columns={'unit_price': 'total_value'}, inplace=True)\n",
    "\n",
    "# Convert Month-Year to datetime\n",
    "monthly_sales['month-year'] = pd.to_datetime(monthly_sales['month-year'], format='%B %Y')\n",
    "\n",
    "# Sort values for time-series processing\n",
    "monthly_sales = monthly_sales.sort_values('month-year')\n",
    "\n",
    "# Set Month-Year as index\n",
    "monthly_sales.set_index('month-year', inplace=True)\n",
    "\n",
    "# Plot to visualize trend\n",
    "plt.figure(figsize=(10, 5))\n",
    "plt.plot(monthly_sales.index, monthly_sales['total_value'], marker='o', linestyle='-')\n",
    "plt.xlabel('Month-Year')\n",
    "plt.ylabel('Total Sales Value')\n",
    "plt.title('Total Sales Over Time')\n",
    "plt.xticks(rotation=45)\n",
    "plt.show()\n"
   ]
  },
  {
   "cell_type": "markdown",
   "metadata": {},
   "source": [
    "#### Using ARIMA to forecast"
   ]
  },
  {
   "cell_type": "code",
   "execution_count": 36,
   "metadata": {},
   "outputs": [
    {
     "name": "stdout",
     "output_type": "stream",
     "text": [
      "ADF Statistic: -2.312432015412156\n",
      "p-value: 0.1679897431612946\n"
     ]
    },
    {
     "name": "stderr",
     "output_type": "stream",
     "text": [
      "c:\\Users\\GICHEHA\\anaconda3\\envs\\learn-env\\lib\\site-packages\\statsmodels\\tsa\\base\\tsa_model.py:473: ValueWarning: No frequency information was provided, so inferred frequency MS will be used.\n",
      "  self._init_dates(dates, freq)\n",
      "c:\\Users\\GICHEHA\\anaconda3\\envs\\learn-env\\lib\\site-packages\\statsmodels\\tsa\\base\\tsa_model.py:473: ValueWarning: No frequency information was provided, so inferred frequency MS will be used.\n",
      "  self._init_dates(dates, freq)\n",
      "c:\\Users\\GICHEHA\\anaconda3\\envs\\learn-env\\lib\\site-packages\\statsmodels\\tsa\\base\\tsa_model.py:473: ValueWarning: No frequency information was provided, so inferred frequency MS will be used.\n",
      "  self._init_dates(dates, freq)\n",
      "c:\\Users\\GICHEHA\\anaconda3\\envs\\learn-env\\lib\\site-packages\\statsmodels\\tsa\\statespace\\sarimax.py:978: UserWarning: Non-invertible starting MA parameters found. Using zeros as starting parameters.\n",
      "  warn('Non-invertible starting MA parameters found.'\n"
     ]
    },
    {
     "data": {
      "image/png": "[encoded data removed]",
      "text/plain": [
       "<Figure size 720x360 with 1 Axes>"
      ]
     },
     "metadata": {
      "needs_background": "light"
     },
     "output_type": "display_data"
    },
    {
     "name": "stdout",
     "output_type": "stream",
     "text": [
      "Forecasted Sales for Next 3 Months:\n",
      " 2025-01-31    6.055243e+07\n",
      "2025-02-28    6.099246e+07\n",
      "2025-03-31    6.102073e+07\n",
      "Freq: M, Name: predicted_mean, dtype: float64\n"
     ]
    }
   ],
   "source": [
    "from statsmodels.tsa.arima.model import ARIMA\n",
    "from statsmodels.tsa.stattools import adfuller\n",
    "\n",
    "# Check stationarity\n",
    "result = adfuller(monthly_sales['total_value'])\n",
    "print(f'ADF Statistic: {result[0]}')\n",
    "print(f'p-value: {result[1]}')\n",
    "\n",
    "# If p-value > 0.05, we need differencing\n",
    "if result[1] > 0.05:\n",
    "    monthly_sales['total_value_diff'] = monthly_sales['total_value'].diff().dropna()\n",
    "\n",
    "# Fit ARIMA model (adjust p, d, q based on analysis)\n",
    "model = ARIMA(monthly_sales['total_value'], order=(1, 1, 1))  # (p,d,q) values may need tuning\n",
    "model_fit = model.fit()\n",
    "\n",
    "# Forecast next 3 months\n",
    "forecast = model_fit.forecast(steps=3)\n",
    "forecast.index = pd.date_range(start=monthly_sales.index[-1], periods=4, freq='M')[1:]\n",
    "\n",
    "# Plot results\n",
    "plt.figure(figsize=(10, 5))\n",
    "plt.plot(monthly_sales.index, monthly_sales['total_value'], marker='o', linestyle='-', label='Actual Sales')\n",
    "plt.plot(forecast.index, forecast, marker='o', linestyle='--', color='red', label='Forecasted Sales')\n",
    "plt.xlabel('Month-Year')\n",
    "plt.ylabel('Total Sales Value')\n",
    "plt.title('Total Sales Forecast for Next 3 Months')\n",
    "plt.legend()\n",
    "plt.show()\n",
    "\n",
    "# Print Forecasted Values\n",
    "print(\"Forecasted Sales for Next 3 Months:\\n\", forecast)\n"
   ]
  },
  {
   "cell_type": "markdown",
   "metadata": {},
   "source": [
    "3.3 Anomaly Detection:Identify any unusual spikes or drops in sales performance (Quantity or Value) and explain possible reasons based on the data"
   ]
  },
  {
   "cell_type": "markdown",
   "metadata": {},
   "source": [
    "Calculate Total Monthly Sales (Value) and Quantity"
   ]
  },
  {
   "cell_type": "code",
   "execution_count": 37,
   "metadata": {},
   "outputs": [
    {
     "name": "stdout",
     "output_type": "stream",
     "text": [
      "  anonymized_business  total_quantity  total_value  transaction_count  \\\n",
      "0       Business-0000               8        10445                  8   \n",
      "1       Business-0005               1         2645                  1   \n",
      "2       Business-0029              26        18385                  6   \n",
      "3       Business-003d              98        73251                 31   \n",
      "4       Business-0072             127       194501                101   \n",
      "\n",
      "     segment  \n",
      "0  Low Value  \n",
      "1  Low Value  \n",
      "2  Low Value  \n",
      "3  Low Value  \n",
      "4  Low Value  \n"
     ]
    }
   ],
   "source": [
    "from sklearn.cluster import KMeans\n",
    "\n",
    "# Select features for clustering\n",
    "X = kt_business_df[[\"total_quantity\", \"total_value\", \"transaction_count\"]]\n",
    "\n",
    "# Apply K-Means with 3 clusters\n",
    "kmeans = KMeans(n_clusters=3, random_state=42, n_init=10)\n",
    "kt_business_df[\"segment\"] = kmeans.fit_predict(X)\n",
    "\n",
    "# Rename segments based on business value\n",
    "kt_business_df[\"segment\"] = kt_business_df[\"segment\"].map({0: \"Low Value\", 1: \"Medium Value\", 2: \"High Value\"})\n",
    "\n",
    "# Display segmented data\n",
    "print(kt_business_df.head())\n"
   ]
  },
  {
   "cell_type": "code",
   "execution_count": 53,
   "metadata": {},
   "outputs": [
    {
     "data": {
      "text/plain": [
       "Index(['anonymized_business', 'total_quantity', 'total_value',\n",
       "       'transaction_count', 'segment'],\n",
       "      dtype='object')"
      ]
     },
     "execution_count": 53,
     "metadata": {},
     "output_type": "execute_result"
    }
   ],
   "source": [
    "kt_business_df.columns"
   ]
  },
  {
   "cell_type": "code",
   "execution_count": 38,
   "metadata": {},
   "outputs": [
    {
     "data": {
      "image/png": "[encoded data removed]",
      "text/plain": [
       "<Figure size 576x432 with 1 Axes>"
      ]
     },
     "metadata": {
      "needs_background": "light"
     },
     "output_type": "display_data"
    }
   ],
   "source": [
    "plt.figure(figsize=(8, 6))\n",
    "sns.scatterplot(data=kt_business_df, x=\"total_quantity\", y=\"total_value\", hue=\"segment\", palette=\"viridis\")\n",
    "plt.title(\"Customer Segmentation Based on Purchases\")\n",
    "plt.show()\n"
   ]
  },
  {
   "cell_type": "markdown",
   "metadata": {},
   "source": [
    "#### Anomaly Detection:Identify any unusual spikes or drops in sales performance (Quantity or Value)"
   ]
  },
  {
   "cell_type": "markdown",
   "metadata": {},
   "source": [
    "Plot sales trends to spot anomalies"
   ]
  },
  {
   "cell_type": "code",
   "execution_count": 39,
   "metadata": {},
   "outputs": [
    {
     "data": {
      "image/png": "[encoded data removed]",
      "text/plain": [
       "<Figure size 864x360 with 1 Axes>"
      ]
     },
     "metadata": {
      "needs_background": "light"
     },
     "output_type": "display_data"
    }
   ],
   "source": [
    "import matplotlib.pyplot as plt\n",
    "\n",
    "# Plot Total Value over time\n",
    "plt.figure(figsize=(12, 5))\n",
    "plt.plot(monthly_sales.index, monthly_sales['total_value'], marker='o', linestyle='-', color='b', label=\"Total Value\")\n",
    "plt.xlabel('Month-Year')\n",
    "plt.ylabel('Total Sales Value')\n",
    "plt.title('Total Sales Over Time')\n",
    "plt.xticks(rotation=45)\n",
    "plt.legend()\n",
    "plt.show()\n",
    "\n",
    "\n"
   ]
  },
  {
   "cell_type": "markdown",
   "metadata": {},
   "source": [
    "##### Possible Reasons for Anomalies\n",
    "\n",
    "Spikes in sales value or quantity could be due to:\n",
    "\n",
    "* Seasonal promotions or discounts.\n",
    "* New product launches.\n",
    "* Increased marketing efforts.\n",
    "* Unexpected high demand.\n",
    "\n",
    "Drops in sales value or quantity could be due to:\n",
    "\n",
    "* Seasonal downturns.\n",
    "* Stock shortages.\n",
    "* Changes in customer demand.\n",
    "* Economic factors (e.g., price increase, competitor influence).\n"
   ]
  },
  {
   "cell_type": "markdown",
   "metadata": {},
   "source": [
    "#### 3.4 Correlation Analysis:Examine relationships between Quantity and Value. Provide insights into which factors drive sales performance."
   ]
  },
  {
   "cell_type": "code",
   "execution_count": 40,
   "metadata": {},
   "outputs": [
    {
     "data": {
      "image/png": "[encoded data removed]",
      "text/plain": [
       "<Figure size 720x432 with 1 Axes>"
      ]
     },
     "metadata": {
      "needs_background": "light"
     },
     "output_type": "display_data"
    }
   ],
   "source": [
    "#Calculate Total Monthly Sales(Value) and Quantity\n",
    "\n",
    "monthly_sales = kt_clean_df.groupby('month-year').agg({'total_value': 'sum', 'quantity': 'sum'}).reset_index()\n",
    "\n",
    "# Convert Month-Year to datetime for proper sorting\n",
    "monthly_sales['month-year'] = pd.to_datetime(monthly_sales['month-year'], format='%B %Y')\n",
    "\n",
    "# Sort by Month-Year\n",
    "monthly_sales = monthly_sales.sort_values('month-year')\n",
    "\n",
    "# Set Month-Year as index\n",
    "monthly_sales.set_index('month-year', inplace=True)\n",
    "\n",
    "# Plot the relationship between Quantity and Value\n",
    "plt.figure(figsize=(10, 6))\n",
    "sns.scatterplot(x='quantity', y='total_value', data=monthly_sales)\n",
    "plt.xlabel('Total Quantity')\n",
    "plt.ylabel('Total Value')\n",
    "plt.title('Relationship between Quantity and Value')\n",
    "plt.show()"
   ]
  },
  {
   "cell_type": "code",
   "execution_count": 41,
   "metadata": {},
   "outputs": [
    {
     "name": "stdout",
     "output_type": "stream",
     "text": [
      "Correlation between Quantity and Value: 0.8310545840922671\n"
     ]
    }
   ],
   "source": [
    "#calculate correlation\n",
    "# Calculate correlation between Quantity and Value\n",
    "correlation = monthly_sales['quantity'].corr(monthly_sales['total_value'])\n",
    "print(f\"Correlation between Quantity and Value: {correlation}\")\n"
   ]
  },
  {
   "cell_type": "code",
   "execution_count": 42,
   "metadata": {},
   "outputs": [
    {
     "name": "stdout",
     "output_type": "stream",
     "text": [
      "Insights into factors driving sales performance:\n",
      "There is a strong positive correlation between Quantity and Value, indicating that higher quantities sold are associated with higher sales value.\n"
     ]
    }
   ],
   "source": [
    "#Give insights\n",
    "# Insights into factors driving sales performance\n",
    "if correlation > 0.7:\n",
    "    insight = \"There is a strong positive correlation between Quantity and Value, indicating that higher quantities sold are associated with higher sales value.\"\n",
    "elif correlation > 0.3:\n",
    "    insight = \"There is a moderate positive correlation between Quantity and Value, suggesting that quantities sold have a noticeable impact on sales value.\"\n",
    "else:\n",
    "    insight = \"There is a weak or no correlation between Quantity and Value, implying that other factors might be driving sales performance.\"\n",
    "\n",
    "print(\"Insights into factors driving sales performance:\")\n",
    "print(insight)"
   ]
  },
  {
   "cell_type": "markdown",
   "metadata": {},
   "source": [
    "### Section 4: Strategic Insights and Recommendations (20 points)\n",
    "\n",
    "    "
   ]
  },
  {
   "cell_type": "markdown",
   "metadata": {},
   "source": [
    "1. Product Strategy: Based on your analysis, recommend one product category to prioritize for marketing campaigns. Justify your choice using the data.\n"
   ]
  },
  {
   "cell_type": "markdown",
   "metadata": {},
   "source": [
    "2. Customer Retention: Identify businesses that have reduced their purchase frequency over time. Suggest strategies to re-engage these customers.\n"
   ]
  },
  {
   "cell_type": "markdown",
   "metadata": {},
   "source": [
    "\n",
    "3. Operational Efficiency:Suggest improvements to inventory management or supply chain processes based on trends in product performance and seasonal demand."
   ]
  },
  {
   "cell_type": "markdown",
   "metadata": {},
   "source": [
    "### Section 5: Dashboard and Reporting (20 points)\n",
    "\n",
    "Create a dashboard summarizing key insights, including:\n",
    "\n",
    "    Total Quantity and Value by Anonymized Category.\n",
    "    Top-performing products and businesses.\n",
    "    A time-series chart of sales trends.\n",
    "    A segmentation summary of customer groups.\n",
    "\n",
    "Use tools such as Power BI, Tableau, or a Python library (e.g., Plotly, Dash) to make the dashboard interactive (if possible). Provide a screenshot or link to the dashboard."
   ]
  },
  {
   "cell_type": "code",
   "execution_count": 43,
   "metadata": {},
   "outputs": [],
   "source": [
    "#Calculate Total Quality and value by anonymized category\n",
    "category_grouped = kt_clean_df.groupby('anonymized_category').agg({'quantity': 'sum', 'total_value': 'sum'}).reset_index()"
   ]
  },
  {
   "cell_type": "code",
   "execution_count": 44,
   "metadata": {},
   "outputs": [],
   "source": [
    "# Top-performing products\n",
    "top_products = kt_clean_df.groupby('anonymized_product').agg({'quantity': 'sum', 'total_value': 'sum'}).reset_index()\n",
    "top_products = top_products.sort_values(by='total_value', ascending=False).head(5)\n",
    "\n",
    "# Top-performing businesses\n",
    "top_businesses = kt_clean_df.groupby('anonymized_business').agg({'quantity': 'sum', 'total_value': 'sum'}).reset_index()\n",
    "top_businesses = top_businesses.sort_values(by='total_value', ascending=False).head(5)"
   ]
  },
  {
   "cell_type": "code",
   "execution_count": 45,
   "metadata": {},
   "outputs": [
    {
     "data": {
      "text/plain": [
       "Index(['date', 'anonymized_category', 'anonymized_product',\n",
       "       'anonymized_business', 'anonymized_location', 'quantity', 'unit_price',\n",
       "       'month-year', 'total_value'],\n",
       "      dtype='object')"
      ]
     },
     "execution_count": 45,
     "metadata": {},
     "output_type": "execute_result"
    }
   ],
   "source": [
    "kt_clean_df.columns"
   ]
  },
  {
   "cell_type": "code",
   "execution_count": 46,
   "metadata": {},
   "outputs": [],
   "source": [
    "#Time-series chart of sales Trends\n",
    "monthly_sales = kt_clean_df.groupby('month-year').agg({'total_value': 'sum', 'quantity': 'sum'}).reset_index()\n",
    "monthly_sales['month-year'] = pd.to_datetime(monthly_sales['month-year'], format='%B %Y')\n",
    "monthly_sales = monthly_sales.sort_values('month-year')"
   ]
  },
  {
   "cell_type": "code",
   "execution_count": 47,
   "metadata": {},
   "outputs": [],
   "source": [
    "from sklearn.cluster import KMeans\n",
    "\n",
    "business_grouped = kt_clean_df.groupby('anonymized_business').agg({\n",
    "    'quantity': 'sum',\n",
    "    'total_value': 'sum',\n",
    "    'anonymized_product': 'count'\n",
    "}).reset_index()\n",
    "business_grouped.rename(columns={'anonymized_product': 'frequency'}, inplace=True)\n",
    "kmeans = KMeans(n_clusters=3, random_state=0)\n",
    "business_grouped['cluster'] = kmeans.fit_predict(business_grouped[['total_value', 'quantity', 'frequency']])\n",
    "cluster_map = {0: 'Low Value', 1: 'Medium Value', 2: 'High Value'}\n",
    "business_grouped['group'] = business_grouped['cluster'].map(cluster_map)"
   ]
  },
  {
   "cell_type": "code",
   "execution_count": 48,
   "metadata": {},
   "outputs": [
    {
     "data": {
      "application/vnd.plotly.v1+json": {
       "config": {
        "plotlyServerURL": "https://plot.ly"
       },
       "data": [
        {
         "alignmentgroup": "True",
         "hovertemplate": "variable=quantity<br>anonymized_category=%{x}<br>value=%{y}<extra></extra>",
         "legendgroup": "quantity",
         "marker": {
          "color": "#636efa",
          "pattern": {
           "shape": ""
          }
         },
         "name": "quantity",
         "offsetgroup": "quantity",
         "orientation": "v",
         "showlegend": true,
         "textposition": "auto",
         "type": "bar",
         "x": [
          "Category-100",
          "Category-101",
          "Category-102",
          "Category-104",
          "Category-105",
          "Category-106",
          "Category-107",
          "Category-108",
          "Category-109",
          "Category-110",
          "Category-111",
          "Category-113",
          "Category-114",
          "Category-115",
          "Category-116",
          "Category-117",
          "Category-118",
          "Category-119",
          "Category-120",
          "Category-121",
          "Category-122",
          "Category-123",
          "Category-124",
          "Category-125",
          "Category-74",
          "Category-75",
          "Category-76",
          "Category-77",
          "Category-78",
          "Category-79",
          "Category-81",
          "Category-82",
          "Category-83",
          "Category-84",
          "Category-85",
          "Category-86",
          "Category-89",
          "Category-90",
          "Category-91",
          "Category-92",
          "Category-94",
          "Category-95",
          "Category-96",
          "Category-97",
          "Category-98",
          "Category-99"
         ],
         "xaxis": "x",
         "y": {
          "bdata": "GCwBAGxMAAD6BgAAwQQAACsGAAB5GQAAqQoAABwmAACmBQAAISkAADsaAADlAgAAAwAAAFwBAABYAwAABQAAABUAAADsCgEA85YCAE05AADHBAAAHgEAAAQAAAB7AAAArQMAACJPAgAnGAEAJ28AACYmAACnCAAAjgAAAJcSAACECQAAnS4AANVZAAAIAAAA7gAAAA8AAAB1UQAAKRsAAHRcAAAUEAAAkwUAAJcKAABoCAAArAcAAA==",
          "dtype": "i4"
         },
         "yaxis": "y"
        },
        {
         "alignmentgroup": "True",
         "hovertemplate": "variable=total_value<br>anonymized_category=%{x}<br>value=%{y}<extra></extra>",
         "legendgroup": "total_value",
         "marker": {
          "color": "#EF553B",
          "pattern": {
           "shape": ""
          }
         },
         "name": "total_value",
         "offsetgroup": "total_value",
         "orientation": "v",
         "showlegend": true,
         "textposition": "auto",
         "type": "bar",
         "x": [
          "Category-100",
          "Category-101",
          "Category-102",
          "Category-104",
          "Category-105",
          "Category-106",
          "Category-107",
          "Category-108",
          "Category-109",
          "Category-110",
          "Category-111",
          "Category-113",
          "Category-114",
          "Category-115",
          "Category-116",
          "Category-117",
          "Category-118",
          "Category-119",
          "Category-120",
          "Category-121",
          "Category-122",
          "Category-123",
          "Category-124",
          "Category-125",
          "Category-74",
          "Category-75",
          "Category-76",
          "Category-77",
          "Category-78",
          "Category-79",
          "Category-81",
          "Category-82",
          "Category-83",
          "Category-84",
          "Category-85",
          "Category-86",
          "Category-89",
          "Category-90",
          "Category-91",
          "Category-92",
          "Category-94",
          "Category-95",
          "Category-96",
          "Category-97",
          "Category-98",
          "Category-99"
         ],
         "xaxis": "x",
         "y": {
          "bdata": "33MKCN7fHgJPFgcAXsQXAJ8OKQDbhloALaQ/AD/XTQB6RhMAeqtTAA/yQgDDIhMAmCEAAJB9BgBZcwYADgYAAIgdAABjmCoG90cGE1uxVAFoTjUAaiYLAEwnAABkiAQAv2odAAzVdiAhXI8UBvuSBGFslQC5FBIAfRkBAML6OwA7oz0ATrtnAOUsAwL4DAAAkhYCAIY9AAAntaECc72fAN+Y/wC073EA0FIiANUaKACPciYA6EAYAA==",
          "dtype": "i4"
         },
         "yaxis": "y"
        }
       ],
       "layout": {
        "barmode": "group",
        "legend": {
         "title": {
          "text": "variable"
         },
         "tracegroupgap": 0
        },
        "template": {
         "data": {
          "bar": [
           {
            "error_x": {
             "color": "#2a3f5f"
            },
            "error_y": {
             "color": "#2a3f5f"
            },
            "marker": {
             "line": {
              "color": "#E5ECF6",
              "width": 0.5
             },
             "pattern": {
              "fillmode": "overlay",
              "size": 10,
              "solidity": 0.2
             }
            },
            "type": "bar"
           }
          ],
          "barpolar": [
           {
            "marker": {
             "line": {
              "color": "#E5ECF6",
              "width": 0.5
             },
             "pattern": {
              "fillmode": "overlay",
              "size": 10,
              "solidity": 0.2
             }
            },
            "type": "barpolar"
           }
          ],
          "carpet": [
           {
            "aaxis": {
             "endlinecolor": "#2a3f5f",
             "gridcolor": "white",
             "linecolor": "white",
             "minorgridcolor": "white",
             "startlinecolor": "#2a3f5f"
            },
            "baxis": {
             "endlinecolor": "#2a3f5f",
             "gridcolor": "white",
             "linecolor": "white",
             "minorgridcolor": "white",
             "startlinecolor": "#2a3f5f"
            },
            "type": "carpet"
           }
          ],
          "choropleth": [
           {
            "colorbar": {
             "outlinewidth": 0,
             "ticks": ""
            },
            "type": "choropleth"
           }
          ],
          "contour": [
           {
            "colorbar": {
             "outlinewidth": 0,
             "ticks": ""
            },
            "colorscale": [
             [
              0,
              "#0d0887"
             ],
             [
              0.1111111111111111,
              "#46039f"
             ],
             [
              0.2222222222222222,
              "#7201a8"
             ],
             [
              0.3333333333333333,
              "#9c179e"
             ],
             [
              0.4444444444444444,
              "#bd3786"
             ],
             [
              0.5555555555555556,
              "#d8576b"
             ],
             [
              0.6666666666666666,
              "#ed7953"
             ],
             [
              0.7777777777777778,
              "#fb9f3a"
             ],
             [
              0.8888888888888888,
              "#fdca26"
             ],
             [
              1,
              "#f0f921"
             ]
            ],
            "type": "contour"
           }
          ],
          "contourcarpet": [
           {
            "colorbar": {
             "outlinewidth": 0,
             "ticks": ""
            },
            "type": "contourcarpet"
           }
          ],
          "heatmap": [
           {
            "colorbar": {
             "outlinewidth": 0,
             "ticks": ""
            },
            "colorscale": [
             [
              0,
              "#0d0887"
             ],
             [
              0.1111111111111111,
              "#46039f"
             ],
             [
              0.2222222222222222,
              "#7201a8"
             ],
             [
              0.3333333333333333,
              "#9c179e"
             ],
             [
              0.4444444444444444,
              "#bd3786"
             ],
             [
              0.5555555555555556,
              "#d8576b"
             ],
             [
              0.6666666666666666,
              "#ed7953"
             ],
             [
              0.7777777777777778,
              "#fb9f3a"
             ],
             [
              0.8888888888888888,
              "#fdca26"
             ],
             [
              1,
              "#f0f921"
             ]
            ],
            "type": "heatmap"
           }
          ],
          "histogram": [
           {
            "marker": {
             "pattern": {
              "fillmode": "overlay",
              "size": 10,
              "solidity": 0.2
             }
            },
            "type": "histogram"
           }
          ],
          "histogram2d": [
           {
            "colorbar": {
             "outlinewidth": 0,
             "ticks": ""
            },
            "colorscale": [
             [
              0,
              "#0d0887"
             ],
             [
              0.1111111111111111,
              "#46039f"
             ],
             [
              0.2222222222222222,
              "#7201a8"
             ],
             [
              0.3333333333333333,
              "#9c179e"
             ],
             [
              0.4444444444444444,
              "#bd3786"
             ],
             [
              0.5555555555555556,
              "#d8576b"
             ],
             [
              0.6666666666666666,
              "#ed7953"
             ],
             [
              0.7777777777777778,
              "#fb9f3a"
             ],
             [
              0.8888888888888888,
              "#fdca26"
             ],
             [
              1,
              "#f0f921"
             ]
            ],
            "type": "histogram2d"
           }
          ],
          "histogram2dcontour": [
           {
            "colorbar": {
             "outlinewidth": 0,
             "ticks": ""
            },
            "colorscale": [
             [
              0,
              "#0d0887"
             ],
             [
              0.1111111111111111,
              "#46039f"
             ],
             [
              0.2222222222222222,
              "#7201a8"
             ],
             [
              0.3333333333333333,
              "#9c179e"
             ],
             [
              0.4444444444444444,
              "#bd3786"
             ],
             [
              0.5555555555555556,
              "#d8576b"
             ],
             [
              0.6666666666666666,
              "#ed7953"
             ],
             [
              0.7777777777777778,
              "#fb9f3a"
             ],
             [
              0.8888888888888888,
              "#fdca26"
             ],
             [
              1,
              "#f0f921"
             ]
            ],
            "type": "histogram2dcontour"
           }
          ],
          "mesh3d": [
           {
            "colorbar": {
             "outlinewidth": 0,
             "ticks": ""
            },
            "type": "mesh3d"
           }
          ],
          "parcoords": [
           {
            "line": {
             "colorbar": {
              "outlinewidth": 0,
              "ticks": ""
             }
            },
            "type": "parcoords"
           }
          ],
          "pie": [
           {
            "automargin": true,
            "type": "pie"
           }
          ],
          "scatter": [
           {
            "fillpattern": {
             "fillmode": "overlay",
             "size": 10,
             "solidity": 0.2
            },
            "type": "scatter"
           }
          ],
          "scatter3d": [
           {
            "line": {
             "colorbar": {
              "outlinewidth": 0,
              "ticks": ""
             }
            },
            "marker": {
             "colorbar": {
              "outlinewidth": 0,
              "ticks": ""
             }
            },
            "type": "scatter3d"
           }
          ],
          "scattercarpet": [
           {
            "marker": {
             "colorbar": {
              "outlinewidth": 0,
              "ticks": ""
             }
            },
            "type": "scattercarpet"
           }
          ],
          "scattergeo": [
           {
            "marker": {
             "colorbar": {
              "outlinewidth": 0,
              "ticks": ""
             }
            },
            "type": "scattergeo"
           }
          ],
          "scattergl": [
           {
            "marker": {
             "colorbar": {
              "outlinewidth": 0,
              "ticks": ""
             }
            },
            "type": "scattergl"
           }
          ],
          "scattermap": [
           {
            "marker": {
             "colorbar": {
              "outlinewidth": 0,
              "ticks": ""
             }
            },
            "type": "scattermap"
           }
          ],
          "scattermapbox": [
           {
            "marker": {
             "colorbar": {
              "outlinewidth": 0,
              "ticks": ""
             }
            },
            "type": "scattermapbox"
           }
          ],
          "scatterpolar": [
           {
            "marker": {
             "colorbar": {
              "outlinewidth": 0,
              "ticks": ""
             }
            },
            "type": "scatterpolar"
           }
          ],
          "scatterpolargl": [
           {
            "marker": {
             "colorbar": {
              "outlinewidth": 0,
              "ticks": ""
             }
            },
            "type": "scatterpolargl"
           }
          ],
          "scatterternary": [
           {
            "marker": {
             "colorbar": {
              "outlinewidth": 0,
              "ticks": ""
             }
            },
            "type": "scatterternary"
           }
          ],
          "surface": [
           {
            "colorbar": {
             "outlinewidth": 0,
             "ticks": ""
            },
            "colorscale": [
             [
              0,
              "#0d0887"
             ],
             [
              0.1111111111111111,
              "#46039f"
             ],
             [
              0.2222222222222222,
              "#7201a8"
             ],
             [
              0.3333333333333333,
              "#9c179e"
             ],
             [
              0.4444444444444444,
              "#bd3786"
             ],
             [
              0.5555555555555556,
              "#d8576b"
             ],
             [
              0.6666666666666666,
              "#ed7953"
             ],
             [
              0.7777777777777778,
              "#fb9f3a"
             ],
             [
              0.8888888888888888,
              "#fdca26"
             ],
             [
              1,
              "#f0f921"
             ]
            ],
            "type": "surface"
           }
          ],
          "table": [
           {
            "cells": {
             "fill": {
              "color": "#EBF0F8"
             },
             "line": {
              "color": "white"
             }
            },
            "header": {
             "fill": {
              "color": "#C8D4E3"
             },
             "line": {
              "color": "white"
             }
            },
            "type": "table"
           }
          ]
         },
         "layout": {
          "annotationdefaults": {
           "arrowcolor": "#2a3f5f",
           "arrowhead": 0,
           "arrowwidth": 1
          },
          "autotypenumbers": "strict",
          "coloraxis": {
           "colorbar": {
            "outlinewidth": 0,
            "ticks": ""
           }
          },
          "colorscale": {
           "diverging": [
            [
             0,
             "#8e0152"
            ],
            [
             0.1,
             "#c51b7d"
            ],
            [
             0.2,
             "#de77ae"
            ],
            [
             0.3,
             "#f1b6da"
            ],
            [
             0.4,
             "#fde0ef"
            ],
            [
             0.5,
             "#f7f7f7"
            ],
            [
             0.6,
             "#e6f5d0"
            ],
            [
             0.7,
             "#b8e186"
            ],
            [
             0.8,
             "#7fbc41"
            ],
            [
             0.9,
             "#4d9221"
            ],
            [
             1,
             "#276419"
            ]
           ],
           "sequential": [
            [
             0,
             "#0d0887"
            ],
            [
             0.1111111111111111,
             "#46039f"
            ],
            [
             0.2222222222222222,
             "#7201a8"
            ],
            [
             0.3333333333333333,
             "#9c179e"
            ],
            [
             0.4444444444444444,
             "#bd3786"
            ],
            [
             0.5555555555555556,
             "#d8576b"
            ],
            [
             0.6666666666666666,
             "#ed7953"
            ],
            [
             0.7777777777777778,
             "#fb9f3a"
            ],
            [
             0.8888888888888888,
             "#fdca26"
            ],
            [
             1,
             "#f0f921"
            ]
           ],
           "sequentialminus": [
            [
             0,
             "#0d0887"
            ],
            [
             0.1111111111111111,
             "#46039f"
            ],
            [
             0.2222222222222222,
             "#7201a8"
            ],
            [
             0.3333333333333333,
             "#9c179e"
            ],
            [
             0.4444444444444444,
             "#bd3786"
            ],
            [
             0.5555555555555556,
             "#d8576b"
            ],
            [
             0.6666666666666666,
             "#ed7953"
            ],
            [
             0.7777777777777778,
             "#fb9f3a"
            ],
            [
             0.8888888888888888,
             "#fdca26"
            ],
            [
             1,
             "#f0f921"
            ]
           ]
          },
          "colorway": [
           "#636efa",
           "#EF553B",
           "#00cc96",
           "#ab63fa",
           "#FFA15A",
           "#19d3f3",
           "#FF6692",
           "#B6E880",
           "#FF97FF",
           "#FECB52"
          ],
          "font": {
           "color": "#2a3f5f"
          },
          "geo": {
           "bgcolor": "white",
           "lakecolor": "white",
           "landcolor": "#E5ECF6",
           "showlakes": true,
           "showland": true,
           "subunitcolor": "white"
          },
          "hoverlabel": {
           "align": "left"
          },
          "hovermode": "closest",
          "mapbox": {
           "style": "light"
          },
          "paper_bgcolor": "white",
          "plot_bgcolor": "#E5ECF6",
          "polar": {
           "angularaxis": {
            "gridcolor": "white",
            "linecolor": "white",
            "ticks": ""
           },
           "bgcolor": "#E5ECF6",
           "radialaxis": {
            "gridcolor": "white",
            "linecolor": "white",
            "ticks": ""
           }
          },
          "scene": {
           "xaxis": {
            "backgroundcolor": "#E5ECF6",
            "gridcolor": "white",
            "gridwidth": 2,
            "linecolor": "white",
            "showbackground": true,
            "ticks": "",
            "zerolinecolor": "white"
           },
           "yaxis": {
            "backgroundcolor": "#E5ECF6",
            "gridcolor": "white",
            "gridwidth": 2,
            "linecolor": "white",
            "showbackground": true,
            "ticks": "",
            "zerolinecolor": "white"
           },
           "zaxis": {
            "backgroundcolor": "#E5ECF6",
            "gridcolor": "white",
            "gridwidth": 2,
            "linecolor": "white",
            "showbackground": true,
            "ticks": "",
            "zerolinecolor": "white"
           }
          },
          "shapedefaults": {
           "line": {
            "color": "#2a3f5f"
           }
          },
          "ternary": {
           "aaxis": {
            "gridcolor": "white",
            "linecolor": "white",
            "ticks": ""
           },
           "baxis": {
            "gridcolor": "white",
            "linecolor": "white",
            "ticks": ""
           },
           "bgcolor": "#E5ECF6",
           "caxis": {
            "gridcolor": "white",
            "linecolor": "white",
            "ticks": ""
           }
          },
          "title": {
           "x": 0.05
          },
          "xaxis": {
           "automargin": true,
           "gridcolor": "white",
           "linecolor": "white",
           "ticks": "",
           "title": {
            "standoff": 15
           },
           "zerolinecolor": "white",
           "zerolinewidth": 2
          },
          "yaxis": {
           "automargin": true,
           "gridcolor": "white",
           "linecolor": "white",
           "ticks": "",
           "title": {
            "standoff": 15
           },
           "zerolinecolor": "white",
           "zerolinewidth": 2
          }
         }
        },
        "title": {
         "text": "Total Quantity and Value by Anonymized Category"
        },
        "xaxis": {
         "anchor": "y",
         "domain": [
          0,
          1
         ],
         "title": {
          "text": "anonymized_category"
         }
        },
        "yaxis": {
         "anchor": "x",
         "domain": [
          0,
          1
         ],
         "title": {
          "text": "value"
         }
        }
       }
      }
     },
     "metadata": {},
     "output_type": "display_data"
    },
    {
     "data": {
      "application/vnd.plotly.v1+json": {
       "config": {
        "plotlyServerURL": "https://plot.ly"
       },
       "data": [
        {
         "hovertemplate": "anonymized_product=%{x}<br>total_value=%{y}<extra></extra>",
         "legendgroup": "",
         "marker": {
          "color": "#636efa",
          "pattern": {
           "shape": ""
          }
         },
         "name": "",
         "orientation": "v",
         "showlegend": false,
         "textposition": "auto",
         "type": "bar",
         "x": [
          "Product-e805",
          "Product-8f75",
          "Product-66e0",
          "Product-29ee",
          "Product-4156"
         ],
         "xaxis": "x",
         "y": {
          "bdata": "0dCpD5QOdwlh3DYE0mIRBGcUZQM=",
          "dtype": "i4"
         },
         "yaxis": "y"
        }
       ],
       "layout": {
        "barmode": "relative",
        "legend": {
         "tracegroupgap": 0
        },
        "template": {
         "data": {
          "bar": [
           {
            "error_x": {
             "color": "#2a3f5f"
            },
            "error_y": {
             "color": "#2a3f5f"
            },
            "marker": {
             "line": {
              "color": "#E5ECF6",
              "width": 0.5
             },
             "pattern": {
              "fillmode": "overlay",
              "size": 10,
              "solidity": 0.2
             }
            },
            "type": "bar"
           }
          ],
          "barpolar": [
           {
            "marker": {
             "line": {
              "color": "#E5ECF6",
              "width": 0.5
             },
             "pattern": {
              "fillmode": "overlay",
              "size": 10,
              "solidity": 0.2
             }
            },
            "type": "barpolar"
           }
          ],
          "carpet": [
           {
            "aaxis": {
             "endlinecolor": "#2a3f5f",
             "gridcolor": "white",
             "linecolor": "white",
             "minorgridcolor": "white",
             "startlinecolor": "#2a3f5f"
            },
            "baxis": {
             "endlinecolor": "#2a3f5f",
             "gridcolor": "white",
             "linecolor": "white",
             "minorgridcolor": "white",
             "startlinecolor": "#2a3f5f"
            },
            "type": "carpet"
           }
          ],
          "choropleth": [
           {
            "colorbar": {
             "outlinewidth": 0,
             "ticks": ""
            },
            "type": "choropleth"
           }
          ],
          "contour": [
           {
            "colorbar": {
             "outlinewidth": 0,
             "ticks": ""
            },
            "colorscale": [
             [
              0,
              "#0d0887"
             ],
             [
              0.1111111111111111,
              "#46039f"
             ],
             [
              0.2222222222222222,
              "#7201a8"
             ],
             [
              0.3333333333333333,
              "#9c179e"
             ],
             [
              0.4444444444444444,
              "#bd3786"
             ],
             [
              0.5555555555555556,
              "#d8576b"
             ],
             [
              0.6666666666666666,
              "#ed7953"
             ],
             [
              0.7777777777777778,
              "#fb9f3a"
             ],
             [
              0.8888888888888888,
              "#fdca26"
             ],
             [
              1,
              "#f0f921"
             ]
            ],
            "type": "contour"
           }
          ],
          "contourcarpet": [
           {
            "colorbar": {
             "outlinewidth": 0,
             "ticks": ""
            },
            "type": "contourcarpet"
           }
          ],
          "heatmap": [
           {
            "colorbar": {
             "outlinewidth": 0,
             "ticks": ""
            },
            "colorscale": [
             [
              0,
              "#0d0887"
             ],
             [
              0.1111111111111111,
              "#46039f"
             ],
             [
              0.2222222222222222,
              "#7201a8"
             ],
             [
              0.3333333333333333,
              "#9c179e"
             ],
             [
              0.4444444444444444,
              "#bd3786"
             ],
             [
              0.5555555555555556,
              "#d8576b"
             ],
             [
              0.6666666666666666,
              "#ed7953"
             ],
             [
              0.7777777777777778,
              "#fb9f3a"
             ],
             [
              0.8888888888888888,
              "#fdca26"
             ],
             [
              1,
              "#f0f921"
             ]
            ],
            "type": "heatmap"
           }
          ],
          "histogram": [
           {
            "marker": {
             "pattern": {
              "fillmode": "overlay",
              "size": 10,
              "solidity": 0.2
             }
            },
            "type": "histogram"
           }
          ],
          "histogram2d": [
           {
            "colorbar": {
             "outlinewidth": 0,
             "ticks": ""
            },
            "colorscale": [
             [
              0,
              "#0d0887"
             ],
             [
              0.1111111111111111,
              "#46039f"
             ],
             [
              0.2222222222222222,
              "#7201a8"
             ],
             [
              0.3333333333333333,
              "#9c179e"
             ],
             [
              0.4444444444444444,
              "#bd3786"
             ],
             [
              0.5555555555555556,
              "#d8576b"
             ],
             [
              0.6666666666666666,
              "#ed7953"
             ],
             [
              0.7777777777777778,
              "#fb9f3a"
             ],
             [
              0.8888888888888888,
              "#fdca26"
             ],
             [
              1,
              "#f0f921"
             ]
            ],
            "type": "histogram2d"
           }
          ],
          "histogram2dcontour": [
           {
            "colorbar": {
             "outlinewidth": 0,
             "ticks": ""
            },
            "colorscale": [
             [
              0,
              "#0d0887"
             ],
             [
              0.1111111111111111,
              "#46039f"
             ],
             [
              0.2222222222222222,
              "#7201a8"
             ],
             [
              0.3333333333333333,
              "#9c179e"
             ],
             [
              0.4444444444444444,
              "#bd3786"
             ],
             [
              0.5555555555555556,
              "#d8576b"
             ],
             [
              0.6666666666666666,
              "#ed7953"
             ],
             [
              0.7777777777777778,
              "#fb9f3a"
             ],
             [
              0.8888888888888888,
              "#fdca26"
             ],
             [
              1,
              "#f0f921"
             ]
            ],
            "type": "histogram2dcontour"
           }
          ],
          "mesh3d": [
           {
            "colorbar": {
             "outlinewidth": 0,
             "ticks": ""
            },
            "type": "mesh3d"
           }
          ],
          "parcoords": [
           {
            "line": {
             "colorbar": {
              "outlinewidth": 0,
              "ticks": ""
             }
            },
            "type": "parcoords"
           }
          ],
          "pie": [
           {
            "automargin": true,
            "type": "pie"
           }
          ],
          "scatter": [
           {
            "fillpattern": {
             "fillmode": "overlay",
             "size": 10,
             "solidity": 0.2
            },
            "type": "scatter"
           }
          ],
          "scatter3d": [
           {
            "line": {
             "colorbar": {
              "outlinewidth": 0,
              "ticks": ""
             }
            },
            "marker": {
             "colorbar": {
              "outlinewidth": 0,
              "ticks": ""
             }
            },
            "type": "scatter3d"
           }
          ],
          "scattercarpet": [
           {
            "marker": {
             "colorbar": {
              "outlinewidth": 0,
              "ticks": ""
             }
            },
            "type": "scattercarpet"
           }
          ],
          "scattergeo": [
           {
            "marker": {
             "colorbar": {
              "outlinewidth": 0,
              "ticks": ""
             }
            },
            "type": "scattergeo"
           }
          ],
          "scattergl": [
           {
            "marker": {
             "colorbar": {
              "outlinewidth": 0,
              "ticks": ""
             }
            },
            "type": "scattergl"
           }
          ],
          "scattermap": [
           {
            "marker": {
             "colorbar": {
              "outlinewidth": 0,
              "ticks": ""
             }
            },
            "type": "scattermap"
           }
          ],
          "scattermapbox": [
           {
            "marker": {
             "colorbar": {
              "outlinewidth": 0,
              "ticks": ""
             }
            },
            "type": "scattermapbox"
           }
          ],
          "scatterpolar": [
           {
            "marker": {
             "colorbar": {
              "outlinewidth": 0,
              "ticks": ""
             }
            },
            "type": "scatterpolar"
           }
          ],
          "scatterpolargl": [
           {
            "marker": {
             "colorbar": {
              "outlinewidth": 0,
              "ticks": ""
             }
            },
            "type": "scatterpolargl"
           }
          ],
          "scatterternary": [
           {
            "marker": {
             "colorbar": {
              "outlinewidth": 0,
              "ticks": ""
             }
            },
            "type": "scatterternary"
           }
          ],
          "surface": [
           {
            "colorbar": {
             "outlinewidth": 0,
             "ticks": ""
            },
            "colorscale": [
             [
              0,
              "#0d0887"
             ],
             [
              0.1111111111111111,
              "#46039f"
             ],
             [
              0.2222222222222222,
              "#7201a8"
             ],
             [
              0.3333333333333333,
              "#9c179e"
             ],
             [
              0.4444444444444444,
              "#bd3786"
             ],
             [
              0.5555555555555556,
              "#d8576b"
             ],
             [
              0.6666666666666666,
              "#ed7953"
             ],
             [
              0.7777777777777778,
              "#fb9f3a"
             ],
             [
              0.8888888888888888,
              "#fdca26"
             ],
             [
              1,
              "#f0f921"
             ]
            ],
            "type": "surface"
           }
          ],
          "table": [
           {
            "cells": {
             "fill": {
              "color": "#EBF0F8"
             },
             "line": {
              "color": "white"
             }
            },
            "header": {
             "fill": {
              "color": "#C8D4E3"
             },
             "line": {
              "color": "white"
             }
            },
            "type": "table"
           }
          ]
         },
         "layout": {
          "annotationdefaults": {
           "arrowcolor": "#2a3f5f",
           "arrowhead": 0,
           "arrowwidth": 1
          },
          "autotypenumbers": "strict",
          "coloraxis": {
           "colorbar": {
            "outlinewidth": 0,
            "ticks": ""
           }
          },
          "colorscale": {
           "diverging": [
            [
             0,
             "#8e0152"
            ],
            [
             0.1,
             "#c51b7d"
            ],
            [
             0.2,
             "#de77ae"
            ],
            [
             0.3,
             "#f1b6da"
            ],
            [
             0.4,
             "#fde0ef"
            ],
            [
             0.5,
             "#f7f7f7"
            ],
            [
             0.6,
             "#e6f5d0"
            ],
            [
             0.7,
             "#b8e186"
            ],
            [
             0.8,
             "#7fbc41"
            ],
            [
             0.9,
             "#4d9221"
            ],
            [
             1,
             "#276419"
            ]
           ],
           "sequential": [
            [
             0,
             "#0d0887"
            ],
            [
             0.1111111111111111,
             "#46039f"
            ],
            [
             0.2222222222222222,
             "#7201a8"
            ],
            [
             0.3333333333333333,
             "#9c179e"
            ],
            [
             0.4444444444444444,
             "#bd3786"
            ],
            [
             0.5555555555555556,
             "#d8576b"
            ],
            [
             0.6666666666666666,
             "#ed7953"
            ],
            [
             0.7777777777777778,
             "#fb9f3a"
            ],
            [
             0.8888888888888888,
             "#fdca26"
            ],
            [
             1,
             "#f0f921"
            ]
           ],
           "sequentialminus": [
            [
             0,
             "#0d0887"
            ],
            [
             0.1111111111111111,
             "#46039f"
            ],
            [
             0.2222222222222222,
             "#7201a8"
            ],
            [
             0.3333333333333333,
             "#9c179e"
            ],
            [
             0.4444444444444444,
             "#bd3786"
            ],
            [
             0.5555555555555556,
             "#d8576b"
            ],
            [
             0.6666666666666666,
             "#ed7953"
            ],
            [
             0.7777777777777778,
             "#fb9f3a"
            ],
            [
             0.8888888888888888,
             "#fdca26"
            ],
            [
             1,
             "#f0f921"
            ]
           ]
          },
          "colorway": [
           "#636efa",
           "#EF553B",
           "#00cc96",
           "#ab63fa",
           "#FFA15A",
           "#19d3f3",
           "#FF6692",
           "#B6E880",
           "#FF97FF",
           "#FECB52"
          ],
          "font": {
           "color": "#2a3f5f"
          },
          "geo": {
           "bgcolor": "white",
           "lakecolor": "white",
           "landcolor": "#E5ECF6",
           "showlakes": true,
           "showland": true,
           "subunitcolor": "white"
          },
          "hoverlabel": {
           "align": "left"
          },
          "hovermode": "closest",
          "mapbox": {
           "style": "light"
          },
          "paper_bgcolor": "white",
          "plot_bgcolor": "#E5ECF6",
          "polar": {
           "angularaxis": {
            "gridcolor": "white",
            "linecolor": "white",
            "ticks": ""
           },
           "bgcolor": "#E5ECF6",
           "radialaxis": {
            "gridcolor": "white",
            "linecolor": "white",
            "ticks": ""
           }
          },
          "scene": {
           "xaxis": {
            "backgroundcolor": "#E5ECF6",
            "gridcolor": "white",
            "gridwidth": 2,
            "linecolor": "white",
            "showbackground": true,
            "ticks": "",
            "zerolinecolor": "white"
           },
           "yaxis": {
            "backgroundcolor": "#E5ECF6",
            "gridcolor": "white",
            "gridwidth": 2,
            "linecolor": "white",
            "showbackground": true,
            "ticks": "",
            "zerolinecolor": "white"
           },
           "zaxis": {
            "backgroundcolor": "#E5ECF6",
            "gridcolor": "white",
            "gridwidth": 2,
            "linecolor": "white",
            "showbackground": true,
            "ticks": "",
            "zerolinecolor": "white"
           }
          },
          "shapedefaults": {
           "line": {
            "color": "#2a3f5f"
           }
          },
          "ternary": {
           "aaxis": {
            "gridcolor": "white",
            "linecolor": "white",
            "ticks": ""
           },
           "baxis": {
            "gridcolor": "white",
            "linecolor": "white",
            "ticks": ""
           },
           "bgcolor": "#E5ECF6",
           "caxis": {
            "gridcolor": "white",
            "linecolor": "white",
            "ticks": ""
           }
          },
          "title": {
           "x": 0.05
          },
          "xaxis": {
           "automargin": true,
           "gridcolor": "white",
           "linecolor": "white",
           "ticks": "",
           "title": {
            "standoff": 15
           },
           "zerolinecolor": "white",
           "zerolinewidth": 2
          },
          "yaxis": {
           "automargin": true,
           "gridcolor": "white",
           "linecolor": "white",
           "ticks": "",
           "title": {
            "standoff": 15
           },
           "zerolinecolor": "white",
           "zerolinewidth": 2
          }
         }
        },
        "title": {
         "text": "Top 5 Performing Products by Total Value"
        },
        "xaxis": {
         "anchor": "y",
         "domain": [
          0,
          1
         ],
         "title": {
          "text": "anonymized_product"
         }
        },
        "yaxis": {
         "anchor": "x",
         "domain": [
          0,
          1
         ],
         "title": {
          "text": "total_value"
         }
        }
       }
      }
     },
     "metadata": {},
     "output_type": "display_data"
    },
    {
     "data": {
      "application/vnd.plotly.v1+json": {
       "config": {
        "plotlyServerURL": "https://plot.ly"
       },
       "data": [
        {
         "hovertemplate": "anonymized_business=%{x}<br>total_value=%{y}<extra></extra>",
         "legendgroup": "",
         "marker": {
          "color": "#636efa",
          "pattern": {
           "shape": ""
          }
         },
         "name": "",
         "orientation": "v",
         "showlegend": false,
         "textposition": "auto",
         "type": "bar",
         "x": [
          "Business-978e",
          "Business-fe7d",
          "Business-6068",
          "Business-07de",
          "Business-7a03"
         ],
         "xaxis": "x",
         "y": {
          "bdata": "7tCrAYHxmwFDOfsAFBT4AEMk1QA=",
          "dtype": "i4"
         },
         "yaxis": "y"
        }
       ],
       "layout": {
        "barmode": "relative",
        "legend": {
         "tracegroupgap": 0
        },
        "template": {
         "data": {
          "bar": [
           {
            "error_x": {
             "color": "#2a3f5f"
            },
            "error_y": {
             "color": "#2a3f5f"
            },
            "marker": {
             "line": {
              "color": "#E5ECF6",
              "width": 0.5
             },
             "pattern": {
              "fillmode": "overlay",
              "size": 10,
              "solidity": 0.2
             }
            },
            "type": "bar"
           }
          ],
          "barpolar": [
           {
            "marker": {
             "line": {
              "color": "#E5ECF6",
              "width": 0.5
             },
             "pattern": {
              "fillmode": "overlay",
              "size": 10,
              "solidity": 0.2
             }
            },
            "type": "barpolar"
           }
          ],
          "carpet": [
           {
            "aaxis": {
             "endlinecolor": "#2a3f5f",
             "gridcolor": "white",
             "linecolor": "white",
             "minorgridcolor": "white",
             "startlinecolor": "#2a3f5f"
            },
            "baxis": {
             "endlinecolor": "#2a3f5f",
             "gridcolor": "white",
             "linecolor": "white",
             "minorgridcolor": "white",
             "startlinecolor": "#2a3f5f"
            },
            "type": "carpet"
           }
          ],
          "choropleth": [
           {
            "colorbar": {
             "outlinewidth": 0,
             "ticks": ""
            },
            "type": "choropleth"
           }
          ],
          "contour": [
           {
            "colorbar": {
             "outlinewidth": 0,
             "ticks": ""
            },
            "colorscale": [
             [
              0,
              "#0d0887"
             ],
             [
              0.1111111111111111,
              "#46039f"
             ],
             [
              0.2222222222222222,
              "#7201a8"
             ],
             [
              0.3333333333333333,
              "#9c179e"
             ],
             [
              0.4444444444444444,
              "#bd3786"
             ],
             [
              0.5555555555555556,
              "#d8576b"
             ],
             [
              0.6666666666666666,
              "#ed7953"
             ],
             [
              0.7777777777777778,
              "#fb9f3a"
             ],
             [
              0.8888888888888888,
              "#fdca26"
             ],
             [
              1,
              "#f0f921"
             ]
            ],
            "type": "contour"
           }
          ],
          "contourcarpet": [
           {
            "colorbar": {
             "outlinewidth": 0,
             "ticks": ""
            },
            "type": "contourcarpet"
           }
          ],
          "heatmap": [
           {
            "colorbar": {
             "outlinewidth": 0,
             "ticks": ""
            },
            "colorscale": [
             [
              0,
              "#0d0887"
             ],
             [
              0.1111111111111111,
              "#46039f"
             ],
             [
              0.2222222222222222,
              "#7201a8"
             ],
             [
              0.3333333333333333,
              "#9c179e"
             ],
             [
              0.4444444444444444,
              "#bd3786"
             ],
             [
              0.5555555555555556,
              "#d8576b"
             ],
             [
              0.6666666666666666,
              "#ed7953"
             ],
             [
              0.7777777777777778,
              "#fb9f3a"
             ],
             [
              0.8888888888888888,
              "#fdca26"
             ],
             [
              1,
              "#f0f921"
             ]
            ],
            "type": "heatmap"
           }
          ],
          "histogram": [
           {
            "marker": {
             "pattern": {
              "fillmode": "overlay",
              "size": 10,
              "solidity": 0.2
             }
            },
            "type": "histogram"
           }
          ],
          "histogram2d": [
           {
            "colorbar": {
             "outlinewidth": 0,
             "ticks": ""
            },
            "colorscale": [
             [
              0,
              "#0d0887"
             ],
             [
              0.1111111111111111,
              "#46039f"
             ],
             [
              0.2222222222222222,
              "#7201a8"
             ],
             [
              0.3333333333333333,
              "#9c179e"
             ],
             [
              0.4444444444444444,
              "#bd3786"
             ],
             [
              0.5555555555555556,
              "#d8576b"
             ],
             [
              0.6666666666666666,
              "#ed7953"
             ],
             [
              0.7777777777777778,
              "#fb9f3a"
             ],
             [
              0.8888888888888888,
              "#fdca26"
             ],
             [
              1,
              "#f0f921"
             ]
            ],
            "type": "histogram2d"
           }
          ],
          "histogram2dcontour": [
           {
            "colorbar": {
             "outlinewidth": 0,
             "ticks": ""
            },
            "colorscale": [
             [
              0,
              "#0d0887"
             ],
             [
              0.1111111111111111,
              "#46039f"
             ],
             [
              0.2222222222222222,
              "#7201a8"
             ],
             [
              0.3333333333333333,
              "#9c179e"
             ],
             [
              0.4444444444444444,
              "#bd3786"
             ],
             [
              0.5555555555555556,
              "#d8576b"
             ],
             [
              0.6666666666666666,
              "#ed7953"
             ],
             [
              0.7777777777777778,
              "#fb9f3a"
             ],
             [
              0.8888888888888888,
              "#fdca26"
             ],
             [
              1,
              "#f0f921"
             ]
            ],
            "type": "histogram2dcontour"
           }
          ],
          "mesh3d": [
           {
            "colorbar": {
             "outlinewidth": 0,
             "ticks": ""
            },
            "type": "mesh3d"
           }
          ],
          "parcoords": [
           {
            "line": {
             "colorbar": {
              "outlinewidth": 0,
              "ticks": ""
             }
            },
            "type": "parcoords"
           }
          ],
          "pie": [
           {
            "automargin": true,
            "type": "pie"
           }
          ],
          "scatter": [
           {
            "fillpattern": {
             "fillmode": "overlay",
             "size": 10,
             "solidity": 0.2
            },
            "type": "scatter"
           }
          ],
          "scatter3d": [
           {
            "line": {
             "colorbar": {
              "outlinewidth": 0,
              "ticks": ""
             }
            },
            "marker": {
             "colorbar": {
              "outlinewidth": 0,
              "ticks": ""
             }
            },
            "type": "scatter3d"
           }
          ],
          "scattercarpet": [
           {
            "marker": {
             "colorbar": {
              "outlinewidth": 0,
              "ticks": ""
             }
            },
            "type": "scattercarpet"
           }
          ],
          "scattergeo": [
           {
            "marker": {
             "colorbar": {
              "outlinewidth": 0,
              "ticks": ""
             }
            },
            "type": "scattergeo"
           }
          ],
          "scattergl": [
           {
            "marker": {
             "colorbar": {
              "outlinewidth": 0,
              "ticks": ""
             }
            },
            "type": "scattergl"
           }
          ],
          "scattermap": [
           {
            "marker": {
             "colorbar": {
              "outlinewidth": 0,
              "ticks": ""
             }
            },
            "type": "scattermap"
           }
          ],
          "scattermapbox": [
           {
            "marker": {
             "colorbar": {
              "outlinewidth": 0,
              "ticks": ""
             }
            },
            "type": "scattermapbox"
           }
          ],
          "scatterpolar": [
           {
            "marker": {
             "colorbar": {
              "outlinewidth": 0,
              "ticks": ""
             }
            },
            "type": "scatterpolar"
           }
          ],
          "scatterpolargl": [
           {
            "marker": {
             "colorbar": {
              "outlinewidth": 0,
              "ticks": ""
             }
            },
            "type": "scatterpolargl"
           }
          ],
          "scatterternary": [
           {
            "marker": {
             "colorbar": {
              "outlinewidth": 0,
              "ticks": ""
             }
            },
            "type": "scatterternary"
           }
          ],
          "surface": [
           {
            "colorbar": {
             "outlinewidth": 0,
             "ticks": ""
            },
            "colorscale": [
             [
              0,
              "#0d0887"
             ],
             [
              0.1111111111111111,
              "#46039f"
             ],
             [
              0.2222222222222222,
              "#7201a8"
             ],
             [
              0.3333333333333333,
              "#9c179e"
             ],
             [
              0.4444444444444444,
              "#bd3786"
             ],
             [
              0.5555555555555556,
              "#d8576b"
             ],
             [
              0.6666666666666666,
              "#ed7953"
             ],
             [
              0.7777777777777778,
              "#fb9f3a"
             ],
             [
              0.8888888888888888,
              "#fdca26"
             ],
             [
              1,
              "#f0f921"
             ]
            ],
            "type": "surface"
           }
          ],
          "table": [
           {
            "cells": {
             "fill": {
              "color": "#EBF0F8"
             },
             "line": {
              "color": "white"
             }
            },
            "header": {
             "fill": {
              "color": "#C8D4E3"
             },
             "line": {
              "color": "white"
             }
            },
            "type": "table"
           }
          ]
         },
         "layout": {
          "annotationdefaults": {
           "arrowcolor": "#2a3f5f",
           "arrowhead": 0,
           "arrowwidth": 1
          },
          "autotypenumbers": "strict",
          "coloraxis": {
           "colorbar": {
            "outlinewidth": 0,
            "ticks": ""
           }
          },
          "colorscale": {
           "diverging": [
            [
             0,
             "#8e0152"
            ],
            [
             0.1,
             "#c51b7d"
            ],
            [
             0.2,
             "#de77ae"
            ],
            [
             0.3,
             "#f1b6da"
            ],
            [
             0.4,
             "#fde0ef"
            ],
            [
             0.5,
             "#f7f7f7"
            ],
            [
             0.6,
             "#e6f5d0"
            ],
            [
             0.7,
             "#b8e186"
            ],
            [
             0.8,
             "#7fbc41"
            ],
            [
             0.9,
             "#4d9221"
            ],
            [
             1,
             "#276419"
            ]
           ],
           "sequential": [
            [
             0,
             "#0d0887"
            ],
            [
             0.1111111111111111,
             "#46039f"
            ],
            [
             0.2222222222222222,
             "#7201a8"
            ],
            [
             0.3333333333333333,
             "#9c179e"
            ],
            [
             0.4444444444444444,
             "#bd3786"
            ],
            [
             0.5555555555555556,
             "#d8576b"
            ],
            [
             0.6666666666666666,
             "#ed7953"
            ],
            [
             0.7777777777777778,
             "#fb9f3a"
            ],
            [
             0.8888888888888888,
             "#fdca26"
            ],
            [
             1,
             "#f0f921"
            ]
           ],
           "sequentialminus": [
            [
             0,
             "#0d0887"
            ],
            [
             0.1111111111111111,
             "#46039f"
            ],
            [
             0.2222222222222222,
             "#7201a8"
            ],
            [
             0.3333333333333333,
             "#9c179e"
            ],
            [
             0.4444444444444444,
             "#bd3786"
            ],
            [
             0.5555555555555556,
             "#d8576b"
            ],
            [
             0.6666666666666666,
             "#ed7953"
            ],
            [
             0.7777777777777778,
             "#fb9f3a"
            ],
            [
             0.8888888888888888,
             "#fdca26"
            ],
            [
             1,
             "#f0f921"
            ]
           ]
          },
          "colorway": [
           "#636efa",
           "#EF553B",
           "#00cc96",
           "#ab63fa",
           "#FFA15A",
           "#19d3f3",
           "#FF6692",
           "#B6E880",
           "#FF97FF",
           "#FECB52"
          ],
          "font": {
           "color": "#2a3f5f"
          },
          "geo": {
           "bgcolor": "white",
           "lakecolor": "white",
           "landcolor": "#E5ECF6",
           "showlakes": true,
           "showland": true,
           "subunitcolor": "white"
          },
          "hoverlabel": {
           "align": "left"
          },
          "hovermode": "closest",
          "mapbox": {
           "style": "light"
          },
          "paper_bgcolor": "white",
          "plot_bgcolor": "#E5ECF6",
          "polar": {
           "angularaxis": {
            "gridcolor": "white",
            "linecolor": "white",
            "ticks": ""
           },
           "bgcolor": "#E5ECF6",
           "radialaxis": {
            "gridcolor": "white",
            "linecolor": "white",
            "ticks": ""
           }
          },
          "scene": {
           "xaxis": {
            "backgroundcolor": "#E5ECF6",
            "gridcolor": "white",
            "gridwidth": 2,
            "linecolor": "white",
            "showbackground": true,
            "ticks": "",
            "zerolinecolor": "white"
           },
           "yaxis": {
            "backgroundcolor": "#E5ECF6",
            "gridcolor": "white",
            "gridwidth": 2,
            "linecolor": "white",
            "showbackground": true,
            "ticks": "",
            "zerolinecolor": "white"
           },
           "zaxis": {
            "backgroundcolor": "#E5ECF6",
            "gridcolor": "white",
            "gridwidth": 2,
            "linecolor": "white",
            "showbackground": true,
            "ticks": "",
            "zerolinecolor": "white"
           }
          },
          "shapedefaults": {
           "line": {
            "color": "#2a3f5f"
           }
          },
          "ternary": {
           "aaxis": {
            "gridcolor": "white",
            "linecolor": "white",
            "ticks": ""
           },
           "baxis": {
            "gridcolor": "white",
            "linecolor": "white",
            "ticks": ""
           },
           "bgcolor": "#E5ECF6",
           "caxis": {
            "gridcolor": "white",
            "linecolor": "white",
            "ticks": ""
           }
          },
          "title": {
           "x": 0.05
          },
          "xaxis": {
           "automargin": true,
           "gridcolor": "white",
           "linecolor": "white",
           "ticks": "",
           "title": {
            "standoff": 15
           },
           "zerolinecolor": "white",
           "zerolinewidth": 2
          },
          "yaxis": {
           "automargin": true,
           "gridcolor": "white",
           "linecolor": "white",
           "ticks": "",
           "title": {
            "standoff": 15
           },
           "zerolinecolor": "white",
           "zerolinewidth": 2
          }
         }
        },
        "title": {
         "text": "Top 5 Performing Businesses by Total Value"
        },
        "xaxis": {
         "anchor": "y",
         "domain": [
          0,
          1
         ],
         "title": {
          "text": "anonymized_business"
         }
        },
        "yaxis": {
         "anchor": "x",
         "domain": [
          0,
          1
         ],
         "title": {
          "text": "total_value"
         }
        }
       }
      }
     },
     "metadata": {},
     "output_type": "display_data"
    },
    {
     "data": {
      "application/vnd.plotly.v1+json": {
       "config": {
        "plotlyServerURL": "https://plot.ly"
       },
       "data": [
        {
         "mode": "lines+markers",
         "name": "Total Value",
         "type": "scatter",
         "x": [
          "2024-01-01T00:00:00.000000000",
          "2024-02-01T00:00:00.000000000",
          "2024-03-01T00:00:00.000000000",
          "2024-04-01T00:00:00.000000000",
          "2024-05-01T00:00:00.000000000",
          "2024-06-01T00:00:00.000000000",
          "2024-07-01T00:00:00.000000000",
          "2024-08-01T00:00:00.000000000",
          "2024-09-01T00:00:00.000000000",
          "2024-10-01T00:00:00.000000000",
          "2024-11-01T00:00:00.000000000",
          "2024-12-01T00:00:00.000000000"
         ],
         "y": {
          "bdata": "Sm4QC/ZziwekB+oGHkNHB75mDwo2DQ4IceAxCgumvAjfhzYIJy/1CjDw4wnOmIcG",
          "dtype": "i4"
         }
        },
        {
         "mode": "lines+markers",
         "name": "Total Quantity",
         "type": "scatter",
         "x": [
          "2024-01-01T00:00:00.000000000",
          "2024-02-01T00:00:00.000000000",
          "2024-03-01T00:00:00.000000000",
          "2024-04-01T00:00:00.000000000",
          "2024-05-01T00:00:00.000000000",
          "2024-06-01T00:00:00.000000000",
          "2024-07-01T00:00:00.000000000",
          "2024-08-01T00:00:00.000000000",
          "2024-09-01T00:00:00.000000000",
          "2024-10-01T00:00:00.000000000",
          "2024-11-01T00:00:00.000000000",
          "2024-12-01T00:00:00.000000000"
         ],
         "y": {
          "bdata": "xgcBAB+sAABFsQAAesUAAK8PAQAs7QAAwSMBAOUMAQC7BAEAA0sBAGEmAQAa4QAA",
          "dtype": "i4"
         }
        }
       ],
       "layout": {
        "template": {
         "data": {
          "bar": [
           {
            "error_x": {
             "color": "#2a3f5f"
            },
            "error_y": {
             "color": "#2a3f5f"
            },
            "marker": {
             "line": {
              "color": "#E5ECF6",
              "width": 0.5
             },
             "pattern": {
              "fillmode": "overlay",
              "size": 10,
              "solidity": 0.2
             }
            },
            "type": "bar"
           }
          ],
          "barpolar": [
           {
            "marker": {
             "line": {
              "color": "#E5ECF6",
              "width": 0.5
             },
             "pattern": {
              "fillmode": "overlay",
              "size": 10,
              "solidity": 0.2
             }
            },
            "type": "barpolar"
           }
          ],
          "carpet": [
           {
            "aaxis": {
             "endlinecolor": "#2a3f5f",
             "gridcolor": "white",
             "linecolor": "white",
             "minorgridcolor": "white",
             "startlinecolor": "#2a3f5f"
            },
            "baxis": {
             "endlinecolor": "#2a3f5f",
             "gridcolor": "white",
             "linecolor": "white",
             "minorgridcolor": "white",
             "startlinecolor": "#2a3f5f"
            },
            "type": "carpet"
           }
          ],
          "choropleth": [
           {
            "colorbar": {
             "outlinewidth": 0,
             "ticks": ""
            },
            "type": "choropleth"
           }
          ],
          "contour": [
           {
            "colorbar": {
             "outlinewidth": 0,
             "ticks": ""
            },
            "colorscale": [
             [
              0,
              "#0d0887"
             ],
             [
              0.1111111111111111,
              "#46039f"
             ],
             [
              0.2222222222222222,
              "#7201a8"
             ],
             [
              0.3333333333333333,
              "#9c179e"
             ],
             [
              0.4444444444444444,
              "#bd3786"
             ],
             [
              0.5555555555555556,
              "#d8576b"
             ],
             [
              0.6666666666666666,
              "#ed7953"
             ],
             [
              0.7777777777777778,
              "#fb9f3a"
             ],
             [
              0.8888888888888888,
              "#fdca26"
             ],
             [
              1,
              "#f0f921"
             ]
            ],
            "type": "contour"
           }
          ],
          "contourcarpet": [
           {
            "colorbar": {
             "outlinewidth": 0,
             "ticks": ""
            },
            "type": "contourcarpet"
           }
          ],
          "heatmap": [
           {
            "colorbar": {
             "outlinewidth": 0,
             "ticks": ""
            },
            "colorscale": [
             [
              0,
              "#0d0887"
             ],
             [
              0.1111111111111111,
              "#46039f"
             ],
             [
              0.2222222222222222,
              "#7201a8"
             ],
             [
              0.3333333333333333,
              "#9c179e"
             ],
             [
              0.4444444444444444,
              "#bd3786"
             ],
             [
              0.5555555555555556,
              "#d8576b"
             ],
             [
              0.6666666666666666,
              "#ed7953"
             ],
             [
              0.7777777777777778,
              "#fb9f3a"
             ],
             [
              0.8888888888888888,
              "#fdca26"
             ],
             [
              1,
              "#f0f921"
             ]
            ],
            "type": "heatmap"
           }
          ],
          "histogram": [
           {
            "marker": {
             "pattern": {
              "fillmode": "overlay",
              "size": 10,
              "solidity": 0.2
             }
            },
            "type": "histogram"
           }
          ],
          "histogram2d": [
           {
            "colorbar": {
             "outlinewidth": 0,
             "ticks": ""
            },
            "colorscale": [
             [
              0,
              "#0d0887"
             ],
             [
              0.1111111111111111,
              "#46039f"
             ],
             [
              0.2222222222222222,
              "#7201a8"
             ],
             [
              0.3333333333333333,
              "#9c179e"
             ],
             [
              0.4444444444444444,
              "#bd3786"
             ],
             [
              0.5555555555555556,
              "#d8576b"
             ],
             [
              0.6666666666666666,
              "#ed7953"
             ],
             [
              0.7777777777777778,
              "#fb9f3a"
             ],
             [
              0.8888888888888888,
              "#fdca26"
             ],
             [
              1,
              "#f0f921"
             ]
            ],
            "type": "histogram2d"
           }
          ],
          "histogram2dcontour": [
           {
            "colorbar": {
             "outlinewidth": 0,
             "ticks": ""
            },
            "colorscale": [
             [
              0,
              "#0d0887"
             ],
             [
              0.1111111111111111,
              "#46039f"
             ],
             [
              0.2222222222222222,
              "#7201a8"
             ],
             [
              0.3333333333333333,
              "#9c179e"
             ],
             [
              0.4444444444444444,
              "#bd3786"
             ],
             [
              0.5555555555555556,
              "#d8576b"
             ],
             [
              0.6666666666666666,
              "#ed7953"
             ],
             [
              0.7777777777777778,
              "#fb9f3a"
             ],
             [
              0.8888888888888888,
              "#fdca26"
             ],
             [
              1,
              "#f0f921"
             ]
            ],
            "type": "histogram2dcontour"
           }
          ],
          "mesh3d": [
           {
            "colorbar": {
             "outlinewidth": 0,
             "ticks": ""
            },
            "type": "mesh3d"
           }
          ],
          "parcoords": [
           {
            "line": {
             "colorbar": {
              "outlinewidth": 0,
              "ticks": ""
             }
            },
            "type": "parcoords"
           }
          ],
          "pie": [
           {
            "automargin": true,
            "type": "pie"
           }
          ],
          "scatter": [
           {
            "fillpattern": {
             "fillmode": "overlay",
             "size": 10,
             "solidity": 0.2
            },
            "type": "scatter"
           }
          ],
          "scatter3d": [
           {
            "line": {
             "colorbar": {
              "outlinewidth": 0,
              "ticks": ""
             }
            },
            "marker": {
             "colorbar": {
              "outlinewidth": 0,
              "ticks": ""
             }
            },
            "type": "scatter3d"
           }
          ],
          "scattercarpet": [
           {
            "marker": {
             "colorbar": {
              "outlinewidth": 0,
              "ticks": ""
             }
            },
            "type": "scattercarpet"
           }
          ],
          "scattergeo": [
           {
            "marker": {
             "colorbar": {
              "outlinewidth": 0,
              "ticks": ""
             }
            },
            "type": "scattergeo"
           }
          ],
          "scattergl": [
           {
            "marker": {
             "colorbar": {
              "outlinewidth": 0,
              "ticks": ""
             }
            },
            "type": "scattergl"
           }
          ],
          "scattermap": [
           {
            "marker": {
             "colorbar": {
              "outlinewidth": 0,
              "ticks": ""
             }
            },
            "type": "scattermap"
           }
          ],
          "scattermapbox": [
           {
            "marker": {
             "colorbar": {
              "outlinewidth": 0,
              "ticks": ""
             }
            },
            "type": "scattermapbox"
           }
          ],
          "scatterpolar": [
           {
            "marker": {
             "colorbar": {
              "outlinewidth": 0,
              "ticks": ""
             }
            },
            "type": "scatterpolar"
           }
          ],
          "scatterpolargl": [
           {
            "marker": {
             "colorbar": {
              "outlinewidth": 0,
              "ticks": ""
             }
            },
            "type": "scatterpolargl"
           }
          ],
          "scatterternary": [
           {
            "marker": {
             "colorbar": {
              "outlinewidth": 0,
              "ticks": ""
             }
            },
            "type": "scatterternary"
           }
          ],
          "surface": [
           {
            "colorbar": {
             "outlinewidth": 0,
             "ticks": ""
            },
            "colorscale": [
             [
              0,
              "#0d0887"
             ],
             [
              0.1111111111111111,
              "#46039f"
             ],
             [
              0.2222222222222222,
              "#7201a8"
             ],
             [
              0.3333333333333333,
              "#9c179e"
             ],
             [
              0.4444444444444444,
              "#bd3786"
             ],
             [
              0.5555555555555556,
              "#d8576b"
             ],
             [
              0.6666666666666666,
              "#ed7953"
             ],
             [
              0.7777777777777778,
              "#fb9f3a"
             ],
             [
              0.8888888888888888,
              "#fdca26"
             ],
             [
              1,
              "#f0f921"
             ]
            ],
            "type": "surface"
           }
          ],
          "table": [
           {
            "cells": {
             "fill": {
              "color": "#EBF0F8"
             },
             "line": {
              "color": "white"
             }
            },
            "header": {
             "fill": {
              "color": "#C8D4E3"
             },
             "line": {
              "color": "white"
             }
            },
            "type": "table"
           }
          ]
         },
         "layout": {
          "annotationdefaults": {
           "arrowcolor": "#2a3f5f",
           "arrowhead": 0,
           "arrowwidth": 1
          },
          "autotypenumbers": "strict",
          "coloraxis": {
           "colorbar": {
            "outlinewidth": 0,
            "ticks": ""
           }
          },
          "colorscale": {
           "diverging": [
            [
             0,
             "#8e0152"
            ],
            [
             0.1,
             "#c51b7d"
            ],
            [
             0.2,
             "#de77ae"
            ],
            [
             0.3,
             "#f1b6da"
            ],
            [
             0.4,
             "#fde0ef"
            ],
            [
             0.5,
             "#f7f7f7"
            ],
            [
             0.6,
             "#e6f5d0"
            ],
            [
             0.7,
             "#b8e186"
            ],
            [
             0.8,
             "#7fbc41"
            ],
            [
             0.9,
             "#4d9221"
            ],
            [
             1,
             "#276419"
            ]
           ],
           "sequential": [
            [
             0,
             "#0d0887"
            ],
            [
             0.1111111111111111,
             "#46039f"
            ],
            [
             0.2222222222222222,
             "#7201a8"
            ],
            [
             0.3333333333333333,
             "#9c179e"
            ],
            [
             0.4444444444444444,
             "#bd3786"
            ],
            [
             0.5555555555555556,
             "#d8576b"
            ],
            [
             0.6666666666666666,
             "#ed7953"
            ],
            [
             0.7777777777777778,
             "#fb9f3a"
            ],
            [
             0.8888888888888888,
             "#fdca26"
            ],
            [
             1,
             "#f0f921"
            ]
           ],
           "sequentialminus": [
            [
             0,
             "#0d0887"
            ],
            [
             0.1111111111111111,
             "#46039f"
            ],
            [
             0.2222222222222222,
             "#7201a8"
            ],
            [
             0.3333333333333333,
             "#9c179e"
            ],
            [
             0.4444444444444444,
             "#bd3786"
            ],
            [
             0.5555555555555556,
             "#d8576b"
            ],
            [
             0.6666666666666666,
             "#ed7953"
            ],
            [
             0.7777777777777778,
             "#fb9f3a"
            ],
            [
             0.8888888888888888,
             "#fdca26"
            ],
            [
             1,
             "#f0f921"
            ]
           ]
          },
          "colorway": [
           "#636efa",
           "#EF553B",
           "#00cc96",
           "#ab63fa",
           "#FFA15A",
           "#19d3f3",
           "#FF6692",
           "#B6E880",
           "#FF97FF",
           "#FECB52"
          ],
          "font": {
           "color": "#2a3f5f"
          },
          "geo": {
           "bgcolor": "white",
           "lakecolor": "white",
           "landcolor": "#E5ECF6",
           "showlakes": true,
           "showland": true,
           "subunitcolor": "white"
          },
          "hoverlabel": {
           "align": "left"
          },
          "hovermode": "closest",
          "mapbox": {
           "style": "light"
          },
          "paper_bgcolor": "white",
          "plot_bgcolor": "#E5ECF6",
          "polar": {
           "angularaxis": {
            "gridcolor": "white",
            "linecolor": "white",
            "ticks": ""
           },
           "bgcolor": "#E5ECF6",
           "radialaxis": {
            "gridcolor": "white",
            "linecolor": "white",
            "ticks": ""
           }
          },
          "scene": {
           "xaxis": {
            "backgroundcolor": "#E5ECF6",
            "gridcolor": "white",
            "gridwidth": 2,
            "linecolor": "white",
            "showbackground": true,
            "ticks": "",
            "zerolinecolor": "white"
           },
           "yaxis": {
            "backgroundcolor": "#E5ECF6",
            "gridcolor": "white",
            "gridwidth": 2,
            "linecolor": "white",
            "showbackground": true,
            "ticks": "",
            "zerolinecolor": "white"
           },
           "zaxis": {
            "backgroundcolor": "#E5ECF6",
            "gridcolor": "white",
            "gridwidth": 2,
            "linecolor": "white",
            "showbackground": true,
            "ticks": "",
            "zerolinecolor": "white"
           }
          },
          "shapedefaults": {
           "line": {
            "color": "#2a3f5f"
           }
          },
          "ternary": {
           "aaxis": {
            "gridcolor": "white",
            "linecolor": "white",
            "ticks": ""
           },
           "baxis": {
            "gridcolor": "white",
            "linecolor": "white",
            "ticks": ""
           },
           "bgcolor": "#E5ECF6",
           "caxis": {
            "gridcolor": "white",
            "linecolor": "white",
            "ticks": ""
           }
          },
          "title": {
           "x": 0.05
          },
          "xaxis": {
           "automargin": true,
           "gridcolor": "white",
           "linecolor": "white",
           "ticks": "",
           "title": {
            "standoff": 15
           },
           "zerolinecolor": "white",
           "zerolinewidth": 2
          },
          "yaxis": {
           "automargin": true,
           "gridcolor": "white",
           "linecolor": "white",
           "ticks": "",
           "title": {
            "standoff": 15
           },
           "zerolinecolor": "white",
           "zerolinewidth": 2
          }
         }
        },
        "title": {
         "text": "Sales Trends Over Time"
        },
        "xaxis": {
         "title": {
          "text": "Month-Year"
         }
        },
        "yaxis": {
         "title": {
          "text": "Value/Quantity"
         }
        }
       }
      }
     },
     "metadata": {},
     "output_type": "display_data"
    },
    {
     "data": {
      "application/vnd.plotly.v1+json": {
       "config": {
        "plotlyServerURL": "https://plot.ly"
       },
       "data": [
        {
         "customdata": [
          [
           "Business-0000"
          ],
          [
           "Business-0005"
          ],
          [
           "Business-0029"
          ],
          [
           "Business-003d"
          ],
          [
           "Business-0072"
          ],
          [
           "Business-0078"
          ],
          [
           "Business-007a"
          ],
          [
           "Business-0086"
          ],
          [
           "Business-00a2"
          ],
          [
           "Business-00a7"
          ],
          [
           "Business-00ac"
          ],
          [
           "Business-00b7"
          ],
          [
           "Business-00e7"
          ],
          [
           "Business-00f8"
          ],
          [
           "Business-00fa"
          ],
          [
           "Business-0105"
          ],
          [
           "Business-0109"
          ],
          [
           "Business-010c"
          ],
          [
           "Business-0113"
          ],
          [
           "Business-013f"
          ],
          [
           "Business-0143"
          ],
          [
           "Business-0145"
          ],
          [
           "Business-0162"
          ],
          [
           "Business-016c"
          ],
          [
           "Business-0172"
          ],
          [
           "Business-0183"
          ],
          [
           "Business-0192"
          ],
          [
           "Business-0197"
          ],
          [
           "Business-019e"
          ],
          [
           "Business-01a0"
          ],
          [
           "Business-01d3"
          ],
          [
           "Business-01de"
          ],
          [
           "Business-01e4"
          ],
          [
           "Business-0204"
          ],
          [
           "Business-0215"
          ],
          [
           "Business-0225"
          ],
          [
           "Business-0240"
          ],
          [
           "Business-0259"
          ],
          [
           "Business-0264"
          ],
          [
           "Business-0279"
          ],
          [
           "Business-0285"
          ],
          [
           "Business-0287"
          ],
          [
           "Business-0292"
          ],
          [
           "Business-029c"
          ],
          [
           "Business-02a5"
          ],
          [
           "Business-02ac"
          ],
          [
           "Business-02b8"
          ],
          [
           "Business-02c1"
          ],
          [
           "Business-02e6"
          ],
          [
           "Business-02f9"
          ],
          [
           "Business-0305"
          ],
          [
           "Business-0308"
          ],
          [
           "Business-0309"
          ],
          [
           "Business-031e"
          ],
          [
           "Business-0325"
          ],
          [
           "Business-0335"
          ],
          [
           "Business-0343"
          ],
          [
           "Business-0348"
          ],
          [
           "Business-0354"
          ],
          [
           "Business-0357"
          ],
          [
           "Business-036d"
          ],
          [
           "Business-0384"
          ],
          [
           "Business-0399"
          ],
          [
           "Business-03a3"
          ],
          [
           "Business-03ac"
          ],
          [
           "Business-03b2"
          ],
          [
           "Business-03bc"
          ],
          [
           "Business-03e1"
          ],
          [
           "Business-03e7"
          ],
          [
           "Business-03fa"
          ],
          [
           "Business-040a"
          ],
          [
           "Business-040f"
          ],
          [
           "Business-0434"
          ],
          [
           "Business-0437"
          ],
          [
           "Business-044c"
          ],
          [
           "Business-045b"
          ],
          [
           "Business-0463"
          ],
          [
           "Business-046d"
          ],
          [
           "Business-046f"
          ],
          [
           "Business-0470"
          ],
          [
           "Business-0471"
          ],
          [
           "Business-0476"
          ],
          [
           "Business-047d"
          ],
          [
           "Business-048c"
          ],
          [
           "Business-04ad"
          ],
          [
           "Business-04ae"
          ],
          [
           "Business-04b4"
          ],
          [
           "Business-04b6"
          ],
          [
           "Business-04ca"
          ],
          [
           "Business-04d8"
          ],
          [
           "Business-04e4"
          ],
          [
           "Business-04e5"
          ],
          [
           "Business-04f3"
          ],
          [
           "Business-04fc"
          ],
          [
           "Business-0508"
          ],
          [
           "Business-051b"
          ],
          [
           "Business-053b"
          ],
          [
           "Business-054d"
          ],
          [
           "Business-0569"
          ],
          [
           "Business-0570"
          ],
          [
           "Business-059a"
          ],
          [
           "Business-059f"
          ],
          [
           "Business-05a3"
          ],
          [
           "Business-05c6"
          ],
          [
           "Business-05d3"
          ],
          [
           "Business-05dc"
          ],
          [
           "Business-05e0"
          ],
          [
           "Business-05e5"
          ],
          [
           "Business-05ff"
          ],
          [
           "Business-0600"
          ],
          [
           "Business-0610"
          ],
          [
           "Business-0616"
          ],
          [
           "Business-0630"
          ],
          [
           "Business-0654"
          ],
          [
           "Business-065e"
          ],
          [
           "Business-067e"
          ],
          [
           "Business-068f"
          ],
          [
           "Business-0691"
          ],
          [
           "Business-0693"
          ],
          [
           "Business-0695"
          ],
          [
           "Business-069c"
          ],
          [
           "Business-069f"
          ],
          [
           "Business-06ba"
          ],
          [
           "Business-06c0"
          ],
          [
           "Business-06c8"
          ],
          [
           "Business-06e6"
          ],
          [
           "Business-06eb"
          ],
          [
           "Business-06fe"
          ],
          [
           "Business-0727"
          ],
          [
           "Business-0728"
          ],
          [
           "Business-072a"
          ],
          [
           "Business-0739"
          ],
          [
           "Business-0748"
          ],
          [
           "Business-0766"
          ],
          [
           "Business-076a"
          ],
          [
           "Business-076d"
          ],
          [
           "Business-0779"
          ],
          [
           "Business-077d"
          ],
          [
           "Business-079b"
          ],
          [
           "Business-079d"
          ],
          [
           "Business-079e"
          ],
          [
           "Business-07cf"
          ],
          [
           "Business-07ed"
          ],
          [
           "Business-07ef"
          ],
          [
           "Business-07f2"
          ],
          [
           "Business-07fe"
          ],
          [
           "Business-0801"
          ],
          [
           "Business-0827"
          ],
          [
           "Business-082e"
          ],
          [
           "Business-0836"
          ],
          [
           "Business-083e"
          ],
          [
           "Business-0849"
          ],
          [
           "Business-0851"
          ],
          [
           "Business-0860"
          ],
          [
           "Business-0872"
          ],
          [
           "Business-087f"
          ],
          [
           "Business-0890"
          ],
          [
           "Business-0893"
          ],
          [
           "Business-0897"
          ],
          [
           "Business-08af"
          ],
          [
           "Business-08c1"
          ],
          [
           "Business-08df"
          ],
          [
           "Business-08e0"
          ],
          [
           "Business-08e2"
          ],
          [
           "Business-08e3"
          ],
          [
           "Business-08e8"
          ],
          [
           "Business-0912"
          ],
          [
           "Business-091b"
          ],
          [
           "Business-0937"
          ],
          [
           "Business-0940"
          ],
          [
           "Business-094d"
          ],
          [
           "Business-096b"
          ],
          [
           "Business-096c"
          ],
          [
           "Business-0976"
          ],
          [
           "Business-0994"
          ],
          [
           "Business-0997"
          ],
          [
           "Business-0999"
          ],
          [
           "Business-09a0"
          ],
          [
           "Business-09ae"
          ],
          [
           "Business-09c8"
          ],
          [
           "Business-09dd"
          ],
          [
           "Business-09e4"
          ],
          [
           "Business-0a00"
          ],
          [
           "Business-0a01"
          ],
          [
           "Business-0a29"
          ],
          [
           "Business-0a38"
          ],
          [
           "Business-0a3a"
          ],
          [
           "Business-0a4a"
          ],
          [
           "Business-0a69"
          ],
          [
           "Business-0a7b"
          ],
          [
           "Business-0a7c"
          ],
          [
           "Business-0a94"
          ],
          [
           "Business-0aa2"
          ],
          [
           "Business-0abf"
          ],
          [
           "Business-0ad3"
          ],
          [
           "Business-0ad5"
          ],
          [
           "Business-0ad6"
          ],
          [
           "Business-0ad8"
          ],
          [
           "Business-0af3"
          ],
          [
           "Business-0b10"
          ],
          [
           "Business-0b16"
          ],
          [
           "Business-0b18"
          ],
          [
           "Business-0b45"
          ],
          [
           "Business-0b49"
          ],
          [
           "Business-0b4c"
          ],
          [
           "Business-0b51"
          ],
          [
           "Business-0b56"
          ],
          [
           "Business-0b5e"
          ],
          [
           "Business-0b68"
          ],
          [
           "Business-0b84"
          ],
          [
           "Business-0b8f"
          ],
          [
           "Business-0b90"
          ],
          [
           "Business-0ba8"
          ],
          [
           "Business-0bb2"
          ],
          [
           "Business-0bc4"
          ],
          [
           "Business-0bcc"
          ],
          [
           "Business-0bd4"
          ],
          [
           "Business-0be1"
          ],
          [
           "Business-0bf4"
          ],
          [
           "Business-0bfe"
          ],
          [
           "Business-0c1a"
          ],
          [
           "Business-0c4c"
          ],
          [
           "Business-0c4f"
          ],
          [
           "Business-0c59"
          ],
          [
           "Business-0c62"
          ],
          [
           "Business-0c6b"
          ],
          [
           "Business-0c75"
          ],
          [
           "Business-0c76"
          ],
          [
           "Business-0c77"
          ],
          [
           "Business-0c88"
          ],
          [
           "Business-0ca5"
          ],
          [
           "Business-0ca8"
          ],
          [
           "Business-0cab"
          ],
          [
           "Business-0cbc"
          ],
          [
           "Business-0ccc"
          ],
          [
           "Business-0cce"
          ],
          [
           "Business-0cd0"
          ],
          [
           "Business-0cd5"
          ],
          [
           "Business-0cd8"
          ],
          [
           "Business-0ce3"
          ],
          [
           "Business-0ce5"
          ],
          [
           "Business-0cf6"
          ],
          [
           "Business-0d1d"
          ],
          [
           "Business-0d26"
          ],
          [
           "Business-0d27"
          ],
          [
           "Business-0d4b"
          ],
          [
           "Business-0d4d"
          ],
          [
           "Business-0d6c"
          ],
          [
           "Business-0d8e"
          ],
          [
           "Business-0d90"
          ],
          [
           "Business-0d9c"
          ],
          [
           "Business-0db4"
          ],
          [
           "Business-0dbe"
          ],
          [
           "Business-0dd3"
          ],
          [
           "Business-0de1"
          ],
          [
           "Business-0ded"
          ],
          [
           "Business-0df2"
          ],
          [
           "Business-0df8"
          ],
          [
           "Business-0df9"
          ],
          [
           "Business-0e00"
          ],
          [
           "Business-0e06"
          ],
          [
           "Business-0e1a"
          ],
          [
           "Business-0e1c"
          ],
          [
           "Business-0e22"
          ],
          [
           "Business-0e43"
          ],
          [
           "Business-0e51"
          ],
          [
           "Business-0e5a"
          ],
          [
           "Business-0e75"
          ],
          [
           "Business-0e77"
          ],
          [
           "Business-0e7c"
          ],
          [
           "Business-0e8c"
          ],
          [
           "Business-0e99"
          ],
          [
           "Business-0e9b"
          ],
          [
           "Business-0e9c"
          ],
          [
           "Business-0ea4"
          ],
          [
           "Business-0ec1"
          ],
          [
           "Business-0ec2"
          ],
          [
           "Business-0ec5"
          ],
          [
           "Business-0eca"
          ],
          [
           "Business-0f13"
          ],
          [
           "Business-0f1f"
          ],
          [
           "Business-0f38"
          ],
          [
           "Business-0f68"
          ],
          [
           "Business-0f83"
          ],
          [
           "Business-0f84"
          ],
          [
           "Business-0f9a"
          ],
          [
           "Business-0fbc"
          ],
          [
           "Business-0fcb"
          ],
          [
           "Business-0fdc"
          ],
          [
           "Business-0ffa"
          ],
          [
           "Business-1010"
          ],
          [
           "Business-1016"
          ],
          [
           "Business-101d"
          ],
          [
           "Business-102d"
          ],
          [
           "Business-1046"
          ],
          [
           "Business-105e"
          ],
          [
           "Business-1065"
          ],
          [
           "Business-1074"
          ],
          [
           "Business-1085"
          ],
          [
           "Business-1088"
          ],
          [
           "Business-108f"
          ],
          [
           "Business-1092"
          ],
          [
           "Business-10aa"
          ],
          [
           "Business-10b1"
          ],
          [
           "Business-10b2"
          ],
          [
           "Business-10c6"
          ],
          [
           "Business-10e4"
          ],
          [
           "Business-1120"
          ],
          [
           "Business-1128"
          ],
          [
           "Business-112a"
          ],
          [
           "Business-112f"
          ],
          [
           "Business-1139"
          ],
          [
           "Business-113f"
          ],
          [
           "Business-1152"
          ],
          [
           "Business-1153"
          ],
          [
           "Business-1162"
          ],
          [
           "Business-1167"
          ],
          [
           "Business-1187"
          ],
          [
           "Business-118d"
          ],
          [
           "Business-1192"
          ],
          [
           "Business-11ac"
          ],
          [
           "Business-11bf"
          ],
          [
           "Business-11cb"
          ],
          [
           "Business-11da"
          ],
          [
           "Business-11e2"
          ],
          [
           "Business-11f2"
          ],
          [
           "Business-1200"
          ],
          [
           "Business-121d"
          ],
          [
           "Business-122c"
          ],
          [
           "Business-1239"
          ],
          [
           "Business-123d"
          ],
          [
           "Business-1257"
          ],
          [
           "Business-125e"
          ],
          [
           "Business-1269"
          ],
          [
           "Business-126a"
          ],
          [
           "Business-126e"
          ],
          [
           "Business-1274"
          ],
          [
           "Business-128c"
          ],
          [
           "Business-1297"
          ],
          [
           "Business-12aa"
          ],
          [
           "Business-12b6"
          ],
          [
           "Business-12c2"
          ],
          [
           "Business-12c6"
          ],
          [
           "Business-12ca"
          ],
          [
           "Business-12ce"
          ],
          [
           "Business-12e1"
          ],
          [
           "Business-12e8"
          ],
          [
           "Business-12f7"
          ],
          [
           "Business-12fa"
          ],
          [
           "Business-1305"
          ],
          [
           "Business-1320"
          ],
          [
           "Business-1343"
          ],
          [
           "Business-1353"
          ],
          [
           "Business-135d"
          ],
          [
           "Business-1364"
          ],
          [
           "Business-136e"
          ],
          [
           "Business-137f"
          ],
          [
           "Business-1383"
          ],
          [
           "Business-139e"
          ],
          [
           "Business-13a7"
          ],
          [
           "Business-13b0"
          ],
          [
           "Business-13c7"
          ],
          [
           "Business-13d2"
          ],
          [
           "Business-13e1"
          ],
          [
           "Business-13f5"
          ],
          [
           "Business-13f9"
          ],
          [
           "Business-140d"
          ],
          [
           "Business-140e"
          ],
          [
           "Business-1427"
          ],
          [
           "Business-1447"
          ],
          [
           "Business-1464"
          ],
          [
           "Business-1474"
          ],
          [
           "Business-147c"
          ],
          [
           "Business-1488"
          ],
          [
           "Business-1494"
          ],
          [
           "Business-149d"
          ],
          [
           "Business-14b6"
          ],
          [
           "Business-14ca"
          ],
          [
           "Business-14dd"
          ],
          [
           "Business-14f0"
          ],
          [
           "Business-14f7"
          ],
          [
           "Business-151b"
          ],
          [
           "Business-152a"
          ],
          [
           "Business-153f"
          ],
          [
           "Business-1548"
          ],
          [
           "Business-1557"
          ],
          [
           "Business-156e"
          ],
          [
           "Business-159a"
          ],
          [
           "Business-15b4"
          ],
          [
           "Business-15c4"
          ],
          [
           "Business-15da"
          ],
          [
           "Business-15f0"
          ],
          [
           "Business-1619"
          ],
          [
           "Business-1626"
          ],
          [
           "Business-1629"
          ],
          [
           "Business-163b"
          ],
          [
           "Business-1654"
          ],
          [
           "Business-165b"
          ],
          [
           "Business-1660"
          ],
          [
           "Business-1661"
          ],
          [
           "Business-166d"
          ],
          [
           "Business-1670"
          ],
          [
           "Business-167b"
          ],
          [
           "Business-1688"
          ],
          [
           "Business-168a"
          ],
          [
           "Business-168d"
          ],
          [
           "Business-1692"
          ],
          [
           "Business-1698"
          ],
          [
           "Business-169b"
          ],
          [
           "Business-16a4"
          ],
          [
           "Business-16af"
          ],
          [
           "Business-16b6"
          ],
          [
           "Business-16d4"
          ],
          [
           "Business-16ed"
          ],
          [
           "Business-1710"
          ],
          [
           "Business-1714"
          ],
          [
           "Business-171a"
          ],
          [
           "Business-173b"
          ],
          [
           "Business-1746"
          ],
          [
           "Business-1751"
          ],
          [
           "Business-175e"
          ],
          [
           "Business-1783"
          ],
          [
           "Business-1791"
          ],
          [
           "Business-17a7"
          ],
          [
           "Business-17a8"
          ],
          [
           "Business-17ac"
          ],
          [
           "Business-17b3"
          ],
          [
           "Business-17ba"
          ],
          [
           "Business-17c9"
          ],
          [
           "Business-17e2"
          ],
          [
           "Business-17e6"
          ],
          [
           "Business-17eb"
          ],
          [
           "Business-17fe"
          ],
          [
           "Business-1862"
          ],
          [
           "Business-1866"
          ],
          [
           "Business-186d"
          ],
          [
           "Business-1873"
          ],
          [
           "Business-1885"
          ],
          [
           "Business-1895"
          ],
          [
           "Business-189b"
          ],
          [
           "Business-189e"
          ],
          [
           "Business-189f"
          ],
          [
           "Business-18a2"
          ],
          [
           "Business-18b9"
          ],
          [
           "Business-18c3"
          ],
          [
           "Business-18c8"
          ],
          [
           "Business-18e4"
          ],
          [
           "Business-18fd"
          ],
          [
           "Business-18fe"
          ],
          [
           "Business-190a"
          ],
          [
           "Business-193f"
          ],
          [
           "Business-1944"
          ],
          [
           "Business-194c"
          ],
          [
           "Business-195b"
          ],
          [
           "Business-196f"
          ],
          [
           "Business-1977"
          ],
          [
           "Business-1979"
          ],
          [
           "Business-197e"
          ],
          [
           "Business-198b"
          ],
          [
           "Business-198d"
          ],
          [
           "Business-1992"
          ],
          [
           "Business-1993"
          ],
          [
           "Business-199d"
          ],
          [
           "Business-19a8"
          ],
          [
           "Business-19ad"
          ],
          [
           "Business-19b0"
          ],
          [
           "Business-19bd"
          ],
          [
           "Business-19c9"
          ],
          [
           "Business-19d7"
          ],
          [
           "Business-19dc"
          ],
          [
           "Business-19e8"
          ],
          [
           "Business-19f7"
          ],
          [
           "Business-19f9"
          ],
          [
           "Business-1a04"
          ],
          [
           "Business-1a09"
          ],
          [
           "Business-1a23"
          ],
          [
           "Business-1a2d"
          ],
          [
           "Business-1a3a"
          ],
          [
           "Business-1a3d"
          ],
          [
           "Business-1a5e"
          ],
          [
           "Business-1a70"
          ],
          [
           "Business-1a74"
          ],
          [
           "Business-1a76"
          ],
          [
           "Business-1a85"
          ],
          [
           "Business-1a8b"
          ],
          [
           "Business-1a8c"
          ],
          [
           "Business-1ab0"
          ],
          [
           "Business-1ae1"
          ],
          [
           "Business-1ae6"
          ],
          [
           "Business-1af9"
          ],
          [
           "Business-1afb"
          ],
          [
           "Business-1afd"
          ],
          [
           "Business-1b0f"
          ],
          [
           "Business-1b17"
          ],
          [
           "Business-1b21"
          ],
          [
           "Business-1b2c"
          ],
          [
           "Business-1b30"
          ],
          [
           "Business-1b35"
          ],
          [
           "Business-1b49"
          ],
          [
           "Business-1b4d"
          ],
          [
           "Business-1b69"
          ],
          [
           "Business-1b7a"
          ],
          [
           "Business-1b81"
          ],
          [
           "Business-1b82"
          ],
          [
           "Business-1b8b"
          ],
          [
           "Business-1bb4"
          ],
          [
           "Business-1bb7"
          ],
          [
           "Business-1bbc"
          ],
          [
           "Business-1bd3"
          ],
          [
           "Business-1be8"
          ],
          [
           "Business-1beb"
          ],
          [
           "Business-1bf2"
          ],
          [
           "Business-1bff"
          ],
          [
           "Business-1c17"
          ],
          [
           "Business-1c37"
          ],
          [
           "Business-1c38"
          ],
          [
           "Business-1c4f"
          ],
          [
           "Business-1c6a"
          ],
          [
           "Business-1c6c"
          ],
          [
           "Business-1c70"
          ],
          [
           "Business-1c78"
          ],
          [
           "Business-1c79"
          ],
          [
           "Business-1c8e"
          ],
          [
           "Business-1c98"
          ],
          [
           "Business-1cb1"
          ],
          [
           "Business-1cbb"
          ],
          [
           "Business-1cc4"
          ],
          [
           "Business-1cca"
          ],
          [
           "Business-1cdc"
          ],
          [
           "Business-1ce5"
          ],
          [
           "Business-1ce6"
          ],
          [
           "Business-1cef"
          ],
          [
           "Business-1d09"
          ],
          [
           "Business-1d15"
          ],
          [
           "Business-1d24"
          ],
          [
           "Business-1d2d"
          ],
          [
           "Business-1d35"
          ],
          [
           "Business-1d37"
          ],
          [
           "Business-1d3e"
          ],
          [
           "Business-1d4a"
          ],
          [
           "Business-1d51"
          ],
          [
           "Business-1d55"
          ],
          [
           "Business-1d58"
          ],
          [
           "Business-1d6e"
          ],
          [
           "Business-1d8a"
          ],
          [
           "Business-1d9e"
          ],
          [
           "Business-1da1"
          ],
          [
           "Business-1da2"
          ],
          [
           "Business-1daa"
          ],
          [
           "Business-1dc2"
          ],
          [
           "Business-1dd4"
          ],
          [
           "Business-1ddb"
          ],
          [
           "Business-1df3"
          ],
          [
           "Business-1df8"
          ],
          [
           "Business-1dfe"
          ],
          [
           "Business-1e10"
          ],
          [
           "Business-1e41"
          ],
          [
           "Business-1e51"
          ],
          [
           "Business-1e57"
          ],
          [
           "Business-1e5b"
          ],
          [
           "Business-1e5c"
          ],
          [
           "Business-1e65"
          ],
          [
           "Business-1e76"
          ],
          [
           "Business-1e78"
          ],
          [
           "Business-1e7e"
          ],
          [
           "Business-1e81"
          ],
          [
           "Business-1e98"
          ],
          [
           "Business-1e9e"
          ],
          [
           "Business-1eb4"
          ],
          [
           "Business-1ebc"
          ],
          [
           "Business-1ed2"
          ],
          [
           "Business-1ed7"
          ],
          [
           "Business-1edd"
          ],
          [
           "Business-1ee2"
          ],
          [
           "Business-1ef9"
          ],
          [
           "Business-1f08"
          ],
          [
           "Business-1f0a"
          ],
          [
           "Business-1f1f"
          ],
          [
           "Business-1f22"
          ],
          [
           "Business-1f3e"
          ],
          [
           "Business-1f42"
          ],
          [
           "Business-1f50"
          ],
          [
           "Business-1f5a"
          ],
          [
           "Business-1f6d"
          ],
          [
           "Business-1f97"
          ],
          [
           "Business-1fb5"
          ],
          [
           "Business-1fe5"
          ],
          [
           "Business-1feb"
          ],
          [
           "Business-1ff4"
          ],
          [
           "Business-2019"
          ],
          [
           "Business-201d"
          ],
          [
           "Business-201f"
          ],
          [
           "Business-2024"
          ],
          [
           "Business-2046"
          ],
          [
           "Business-204e"
          ],
          [
           "Business-2062"
          ],
          [
           "Business-206e"
          ],
          [
           "Business-2078"
          ],
          [
           "Business-207d"
          ],
          [
           "Business-2081"
          ],
          [
           "Business-2094"
          ],
          [
           "Business-20a0"
          ],
          [
           "Business-20b0"
          ],
          [
           "Business-20c5"
          ],
          [
           "Business-20de"
          ],
          [
           "Business-20e4"
          ],
          [
           "Business-20e9"
          ],
          [
           "Business-211b"
          ],
          [
           "Business-2134"
          ],
          [
           "Business-2135"
          ],
          [
           "Business-213f"
          ],
          [
           "Business-2147"
          ],
          [
           "Business-2149"
          ],
          [
           "Business-214b"
          ],
          [
           "Business-2153"
          ],
          [
           "Business-2159"
          ],
          [
           "Business-215a"
          ],
          [
           "Business-2163"
          ],
          [
           "Business-2164"
          ],
          [
           "Business-2177"
          ],
          [
           "Business-217d"
          ],
          [
           "Business-218a"
          ],
          [
           "Business-21a0"
          ],
          [
           "Business-21c9"
          ],
          [
           "Business-21e6"
          ],
          [
           "Business-21e9"
          ],
          [
           "Business-21ec"
          ],
          [
           "Business-2213"
          ],
          [
           "Business-2235"
          ],
          [
           "Business-2237"
          ],
          [
           "Business-223a"
          ],
          [
           "Business-2249"
          ],
          [
           "Business-2254"
          ],
          [
           "Business-225d"
          ],
          [
           "Business-2282"
          ],
          [
           "Business-228c"
          ],
          [
           "Business-2295"
          ],
          [
           "Business-2297"
          ],
          [
           "Business-2298"
          ],
          [
           "Business-22a2"
          ],
          [
           "Business-22b8"
          ],
          [
           "Business-22cf"
          ],
          [
           "Business-22e2"
          ],
          [
           "Business-22fd"
          ],
          [
           "Business-2300"
          ],
          [
           "Business-2317"
          ],
          [
           "Business-2321"
          ],
          [
           "Business-2326"
          ],
          [
           "Business-2327"
          ],
          [
           "Business-232b"
          ],
          [
           "Business-232c"
          ],
          [
           "Business-234d"
          ],
          [
           "Business-234e"
          ],
          [
           "Business-234f"
          ],
          [
           "Business-2352"
          ],
          [
           "Business-2368"
          ],
          [
           "Business-236a"
          ],
          [
           "Business-2371"
          ],
          [
           "Business-237d"
          ],
          [
           "Business-238b"
          ],
          [
           "Business-23a6"
          ],
          [
           "Business-23a8"
          ],
          [
           "Business-23ac"
          ],
          [
           "Business-23f0"
          ],
          [
           "Business-240b"
          ],
          [
           "Business-242c"
          ],
          [
           "Business-242f"
          ],
          [
           "Business-243e"
          ],
          [
           "Business-245d"
          ],
          [
           "Business-2460"
          ],
          [
           "Business-2465"
          ],
          [
           "Business-248b"
          ],
          [
           "Business-248c"
          ],
          [
           "Business-2495"
          ],
          [
           "Business-24aa"
          ],
          [
           "Business-24bb"
          ],
          [
           "Business-24bc"
          ],
          [
           "Business-24cd"
          ],
          [
           "Business-24e3"
          ],
          [
           "Business-24ea"
          ],
          [
           "Business-24fb"
          ],
          [
           "Business-2504"
          ],
          [
           "Business-2511"
          ],
          [
           "Business-2513"
          ],
          [
           "Business-2518"
          ],
          [
           "Business-251a"
          ],
          [
           "Business-2526"
          ],
          [
           "Business-2549"
          ],
          [
           "Business-255b"
          ],
          [
           "Business-256a"
          ],
          [
           "Business-256d"
          ],
          [
           "Business-2574"
          ],
          [
           "Business-2578"
          ],
          [
           "Business-2590"
          ],
          [
           "Business-2592"
          ],
          [
           "Business-2598"
          ],
          [
           "Business-25a5"
          ],
          [
           "Business-25b2"
          ],
          [
           "Business-25ba"
          ],
          [
           "Business-25bd"
          ],
          [
           "Business-25ce"
          ],
          [
           "Business-25d4"
          ],
          [
           "Business-25df"
          ],
          [
           "Business-25f7"
          ],
          [
           "Business-25f9"
          ],
          [
           "Business-2604"
          ],
          [
           "Business-260d"
          ],
          [
           "Business-261d"
          ],
          [
           "Business-261e"
          ],
          [
           "Business-2657"
          ],
          [
           "Business-266a"
          ],
          [
           "Business-2678"
          ],
          [
           "Business-2679"
          ],
          [
           "Business-2688"
          ],
          [
           "Business-268b"
          ],
          [
           "Business-268f"
          ],
          [
           "Business-2693"
          ],
          [
           "Business-26a7"
          ],
          [
           "Business-26b2"
          ],
          [
           "Business-26c7"
          ],
          [
           "Business-26d5"
          ],
          [
           "Business-26d6"
          ],
          [
           "Business-26de"
          ],
          [
           "Business-26e0"
          ],
          [
           "Business-26fb"
          ],
          [
           "Business-26fc"
          ],
          [
           "Business-271f"
          ],
          [
           "Business-2726"
          ],
          [
           "Business-2732"
          ],
          [
           "Business-2735"
          ],
          [
           "Business-274a"
          ],
          [
           "Business-275e"
          ],
          [
           "Business-2766"
          ],
          [
           "Business-276d"
          ],
          [
           "Business-2778"
          ],
          [
           "Business-27a3"
          ],
          [
           "Business-27a6"
          ],
          [
           "Business-27c2"
          ],
          [
           "Business-27c5"
          ],
          [
           "Business-27e1"
          ],
          [
           "Business-27f9"
          ],
          [
           "Business-27fa"
          ],
          [
           "Business-27fc"
          ],
          [
           "Business-2806"
          ],
          [
           "Business-280a"
          ],
          [
           "Business-2814"
          ],
          [
           "Business-281c"
          ],
          [
           "Business-281e"
          ],
          [
           "Business-2827"
          ],
          [
           "Business-2828"
          ],
          [
           "Business-282a"
          ],
          [
           "Business-283d"
          ],
          [
           "Business-2843"
          ],
          [
           "Business-2848"
          ],
          [
           "Business-284b"
          ],
          [
           "Business-2858"
          ],
          [
           "Business-288e"
          ],
          [
           "Business-289a"
          ],
          [
           "Business-289e"
          ],
          [
           "Business-28a2"
          ],
          [
           "Business-28ad"
          ],
          [
           "Business-28b2"
          ],
          [
           "Business-28b6"
          ],
          [
           "Business-28bb"
          ],
          [
           "Business-28da"
          ],
          [
           "Business-28e1"
          ],
          [
           "Business-28e4"
          ],
          [
           "Business-290c"
          ],
          [
           "Business-290d"
          ],
          [
           "Business-2943"
          ],
          [
           "Business-294a"
          ],
          [
           "Business-2956"
          ],
          [
           "Business-296c"
          ],
          [
           "Business-298d"
          ],
          [
           "Business-29b9"
          ],
          [
           "Business-29be"
          ],
          [
           "Business-29cc"
          ],
          [
           "Business-29ce"
          ],
          [
           "Business-29f4"
          ],
          [
           "Business-29f9"
          ],
          [
           "Business-2a14"
          ],
          [
           "Business-2a25"
          ],
          [
           "Business-2a37"
          ],
          [
           "Business-2a41"
          ],
          [
           "Business-2a4e"
          ],
          [
           "Business-2a6e"
          ],
          [
           "Business-2a75"
          ],
          [
           "Business-2a7a"
          ],
          [
           "Business-2a93"
          ],
          [
           "Business-2a95"
          ],
          [
           "Business-2a98"
          ],
          [
           "Business-2a9d"
          ],
          [
           "Business-2aa6"
          ],
          [
           "Business-2ab1"
          ],
          [
           "Business-2ab2"
          ],
          [
           "Business-2ab5"
          ],
          [
           "Business-2ab6"
          ],
          [
           "Business-2abd"
          ],
          [
           "Business-2acd"
          ],
          [
           "Business-2ae7"
          ],
          [
           "Business-2aec"
          ],
          [
           "Business-2af9"
          ],
          [
           "Business-2b07"
          ],
          [
           "Business-2b21"
          ],
          [
           "Business-2b24"
          ],
          [
           "Business-2b32"
          ],
          [
           "Business-2b54"
          ],
          [
           "Business-2b63"
          ],
          [
           "Business-2b76"
          ],
          [
           "Business-2b82"
          ],
          [
           "Business-2b86"
          ],
          [
           "Business-2b91"
          ],
          [
           "Business-2b98"
          ],
          [
           "Business-2bab"
          ],
          [
           "Business-2bb9"
          ],
          [
           "Business-2be1"
          ],
          [
           "Business-2be7"
          ],
          [
           "Business-2bf3"
          ],
          [
           "Business-2bf5"
          ],
          [
           "Business-2c04"
          ],
          [
           "Business-2c08"
          ],
          [
           "Business-2c25"
          ],
          [
           "Business-2c42"
          ],
          [
           "Business-2c4c"
          ],
          [
           "Business-2c57"
          ],
          [
           "Business-2c64"
          ],
          [
           "Business-2c6e"
          ],
          [
           "Business-2c7d"
          ],
          [
           "Business-2c9e"
          ],
          [
           "Business-2c9f"
          ],
          [
           "Business-2ca8"
          ],
          [
           "Business-2caf"
          ],
          [
           "Business-2cdd"
          ],
          [
           "Business-2d4e"
          ],
          [
           "Business-2d82"
          ],
          [
           "Business-2d89"
          ],
          [
           "Business-2d8d"
          ],
          [
           "Business-2d90"
          ],
          [
           "Business-2da3"
          ],
          [
           "Business-2da6"
          ],
          [
           "Business-2dc3"
          ],
          [
           "Business-2dc4"
          ],
          [
           "Business-2dd3"
          ],
          [
           "Business-2ddf"
          ],
          [
           "Business-2de0"
          ],
          [
           "Business-2df0"
          ],
          [
           "Business-2dfd"
          ],
          [
           "Business-2dff"
          ],
          [
           "Business-2e04"
          ],
          [
           "Business-2e0c"
          ],
          [
           "Business-2e11"
          ],
          [
           "Business-2e19"
          ],
          [
           "Business-2e1a"
          ],
          [
           "Business-2e2f"
          ],
          [
           "Business-2e37"
          ],
          [
           "Business-2e4a"
          ],
          [
           "Business-2e59"
          ],
          [
           "Business-2e60"
          ],
          [
           "Business-2e63"
          ],
          [
           "Business-2e74"
          ],
          [
           "Business-2e78"
          ],
          [
           "Business-2e8c"
          ],
          [
           "Business-2e92"
          ],
          [
           "Business-2e95"
          ],
          [
           "Business-2ea2"
          ],
          [
           "Business-2eaf"
          ],
          [
           "Business-2eb6"
          ],
          [
           "Business-2ec3"
          ],
          [
           "Business-2ec4"
          ],
          [
           "Business-2ed3"
          ],
          [
           "Business-2ed4"
          ],
          [
           "Business-2eea"
          ],
          [
           "Business-2eec"
          ],
          [
           "Business-2eee"
          ],
          [
           "Business-2ef4"
          ],
          [
           "Business-2efe"
          ],
          [
           "Business-2f24"
          ],
          [
           "Business-2f58"
          ],
          [
           "Business-2f66"
          ],
          [
           "Business-2f95"
          ],
          [
           "Business-2fad"
          ],
          [
           "Business-2fb7"
          ],
          [
           "Business-2fc8"
          ],
          [
           "Business-2fca"
          ],
          [
           "Business-2fd2"
          ],
          [
           "Business-2fdf"
          ],
          [
           "Business-2fff"
          ],
          [
           "Business-300a"
          ],
          [
           "Business-300b"
          ],
          [
           "Business-3019"
          ],
          [
           "Business-303e"
          ],
          [
           "Business-3047"
          ],
          [
           "Business-3058"
          ],
          [
           "Business-3065"
          ],
          [
           "Business-3090"
          ],
          [
           "Business-3097"
          ],
          [
           "Business-3099"
          ],
          [
           "Business-309b"
          ],
          [
           "Business-30b8"
          ],
          [
           "Business-30bd"
          ],
          [
           "Business-30c5"
          ],
          [
           "Business-30d6"
          ],
          [
           "Business-30e8"
          ],
          [
           "Business-30fc"
          ],
          [
           "Business-30fe"
          ],
          [
           "Business-3103"
          ],
          [
           "Business-3129"
          ],
          [
           "Business-3147"
          ],
          [
           "Business-314b"
          ],
          [
           "Business-3163"
          ],
          [
           "Business-3166"
          ],
          [
           "Business-3179"
          ],
          [
           "Business-3194"
          ],
          [
           "Business-319b"
          ],
          [
           "Business-31d2"
          ],
          [
           "Business-31d6"
          ],
          [
           "Business-31ec"
          ],
          [
           "Business-31ed"
          ],
          [
           "Business-31fe"
          ],
          [
           "Business-3207"
          ],
          [
           "Business-323e"
          ],
          [
           "Business-323f"
          ],
          [
           "Business-3244"
          ],
          [
           "Business-324f"
          ],
          [
           "Business-325c"
          ],
          [
           "Business-325e"
          ],
          [
           "Business-3264"
          ],
          [
           "Business-3266"
          ],
          [
           "Business-326d"
          ],
          [
           "Business-3282"
          ],
          [
           "Business-328d"
          ],
          [
           "Business-32a4"
          ],
          [
           "Business-32b3"
          ],
          [
           "Business-32c2"
          ],
          [
           "Business-32c9"
          ],
          [
           "Business-32dd"
          ],
          [
           "Business-3326"
          ],
          [
           "Business-332c"
          ],
          [
           "Business-332e"
          ],
          [
           "Business-3334"
          ],
          [
           "Business-333a"
          ],
          [
           "Business-3345"
          ],
          [
           "Business-335d"
          ],
          [
           "Business-3366"
          ],
          [
           "Business-3370"
          ],
          [
           "Business-33a9"
          ],
          [
           "Business-33ac"
          ],
          [
           "Business-33bc"
          ],
          [
           "Business-33cb"
          ],
          [
           "Business-33d1"
          ],
          [
           "Business-33ed"
          ],
          [
           "Business-33f7"
          ],
          [
           "Business-3407"
          ],
          [
           "Business-3410"
          ],
          [
           "Business-3415"
          ],
          [
           "Business-342d"
          ],
          [
           "Business-3430"
          ],
          [
           "Business-3431"
          ],
          [
           "Business-3435"
          ],
          [
           "Business-345c"
          ],
          [
           "Business-345e"
          ],
          [
           "Business-345f"
          ],
          [
           "Business-346e"
          ],
          [
           "Business-3475"
          ],
          [
           "Business-348a"
          ],
          [
           "Business-3494"
          ],
          [
           "Business-3497"
          ],
          [
           "Business-3498"
          ],
          [
           "Business-34a7"
          ],
          [
           "Business-34b3"
          ],
          [
           "Business-34bc"
          ],
          [
           "Business-34c7"
          ],
          [
           "Business-34d4"
          ],
          [
           "Business-34e4"
          ],
          [
           "Business-34ed"
          ],
          [
           "Business-34f4"
          ],
          [
           "Business-350c"
          ],
          [
           "Business-3515"
          ],
          [
           "Business-3516"
          ],
          [
           "Business-3526"
          ],
          [
           "Business-3535"
          ],
          [
           "Business-3575"
          ],
          [
           "Business-3598"
          ],
          [
           "Business-359b"
          ],
          [
           "Business-35a2"
          ],
          [
           "Business-35a4"
          ],
          [
           "Business-35c0"
          ],
          [
           "Business-35ca"
          ],
          [
           "Business-35cf"
          ],
          [
           "Business-35ef"
          ],
          [
           "Business-35fc"
          ],
          [
           "Business-361a"
          ],
          [
           "Business-3629"
          ],
          [
           "Business-3630"
          ],
          [
           "Business-3635"
          ],
          [
           "Business-364d"
          ],
          [
           "Business-3655"
          ],
          [
           "Business-366f"
          ],
          [
           "Business-36a2"
          ],
          [
           "Business-36a7"
          ],
          [
           "Business-36c2"
          ],
          [
           "Business-36e2"
          ],
          [
           "Business-36e7"
          ],
          [
           "Business-36f5"
          ],
          [
           "Business-36f8"
          ],
          [
           "Business-3700"
          ],
          [
           "Business-3709"
          ],
          [
           "Business-3713"
          ],
          [
           "Business-371d"
          ],
          [
           "Business-3731"
          ],
          [
           "Business-3761"
          ],
          [
           "Business-3772"
          ],
          [
           "Business-377a"
          ],
          [
           "Business-377b"
          ],
          [
           "Business-37a9"
          ],
          [
           "Business-37b0"
          ],
          [
           "Business-37b9"
          ],
          [
           "Business-37bc"
          ],
          [
           "Business-37c5"
          ],
          [
           "Business-37d3"
          ],
          [
           "Business-37e2"
          ],
          [
           "Business-37e6"
          ],
          [
           "Business-37e9"
          ],
          [
           "Business-37ea"
          ],
          [
           "Business-37eb"
          ],
          [
           "Business-37ed"
          ],
          [
           "Business-37f0"
          ],
          [
           "Business-37fe"
          ],
          [
           "Business-3814"
          ],
          [
           "Business-3816"
          ],
          [
           "Business-3817"
          ],
          [
           "Business-3830"
          ],
          [
           "Business-3852"
          ],
          [
           "Business-3863"
          ],
          [
           "Business-387c"
          ],
          [
           "Business-3880"
          ],
          [
           "Business-38ad"
          ],
          [
           "Business-38b5"
          ],
          [
           "Business-38d1"
          ],
          [
           "Business-38dd"
          ],
          [
           "Business-38ee"
          ],
          [
           "Business-38fe"
          ],
          [
           "Business-38ff"
          ],
          [
           "Business-3900"
          ],
          [
           "Business-3910"
          ],
          [
           "Business-3913"
          ],
          [
           "Business-3919"
          ],
          [
           "Business-391e"
          ],
          [
           "Business-3931"
          ],
          [
           "Business-3937"
          ],
          [
           "Business-395c"
          ],
          [
           "Business-3970"
          ],
          [
           "Business-3989"
          ],
          [
           "Business-3995"
          ],
          [
           "Business-3996"
          ],
          [
           "Business-39aa"
          ],
          [
           "Business-39bb"
          ],
          [
           "Business-39cc"
          ],
          [
           "Business-39eb"
          ],
          [
           "Business-3a00"
          ],
          [
           "Business-3a1d"
          ],
          [
           "Business-3a27"
          ],
          [
           "Business-3a31"
          ],
          [
           "Business-3a38"
          ],
          [
           "Business-3a3e"
          ],
          [
           "Business-3a45"
          ],
          [
           "Business-3a4a"
          ],
          [
           "Business-3a4c"
          ],
          [
           "Business-3a62"
          ],
          [
           "Business-3a71"
          ],
          [
           "Business-3a7f"
          ],
          [
           "Business-3a94"
          ],
          [
           "Business-3a97"
          ],
          [
           "Business-3a98"
          ],
          [
           "Business-3a9a"
          ],
          [
           "Business-3af2"
          ],
          [
           "Business-3b01"
          ],
          [
           "Business-3b03"
          ],
          [
           "Business-3b0a"
          ],
          [
           "Business-3b10"
          ],
          [
           "Business-3b12"
          ],
          [
           "Business-3b15"
          ],
          [
           "Business-3b1c"
          ],
          [
           "Business-3b22"
          ],
          [
           "Business-3b33"
          ],
          [
           "Business-3b3c"
          ],
          [
           "Business-3b49"
          ],
          [
           "Business-3b67"
          ],
          [
           "Business-3b95"
          ],
          [
           "Business-3b9f"
          ],
          [
           "Business-3ba8"
          ],
          [
           "Business-3bad"
          ],
          [
           "Business-3bb2"
          ],
          [
           "Business-3bbc"
          ],
          [
           "Business-3bce"
          ],
          [
           "Business-3bd4"
          ],
          [
           "Business-3bdd"
          ],
          [
           "Business-3be7"
          ],
          [
           "Business-3bf4"
          ],
          [
           "Business-3bfa"
          ],
          [
           "Business-3c02"
          ],
          [
           "Business-3c0e"
          ],
          [
           "Business-3c3a"
          ],
          [
           "Business-3c3c"
          ],
          [
           "Business-3c55"
          ],
          [
           "Business-3c5a"
          ],
          [
           "Business-3c65"
          ],
          [
           "Business-3c81"
          ],
          [
           "Business-3c87"
          ],
          [
           "Business-3c8e"
          ],
          [
           "Business-3c92"
          ],
          [
           "Business-3c97"
          ],
          [
           "Business-3ca4"
          ],
          [
           "Business-3ca9"
          ],
          [
           "Business-3cac"
          ],
          [
           "Business-3cb8"
          ],
          [
           "Business-3ccf"
          ],
          [
           "Business-3cd8"
          ],
          [
           "Business-3cdf"
          ],
          [
           "Business-3ce8"
          ],
          [
           "Business-3cef"
          ],
          [
           "Business-3cf8"
          ],
          [
           "Business-3d0d"
          ],
          [
           "Business-3d20"
          ],
          [
           "Business-3d23"
          ],
          [
           "Business-3d2c"
          ],
          [
           "Business-3d4e"
          ],
          [
           "Business-3d54"
          ],
          [
           "Business-3d5b"
          ],
          [
           "Business-3d6e"
          ],
          [
           "Business-3d70"
          ],
          [
           "Business-3d7c"
          ],
          [
           "Business-3d9c"
          ],
          [
           "Business-3d9d"
          ],
          [
           "Business-3da5"
          ],
          [
           "Business-3da8"
          ],
          [
           "Business-3db1"
          ],
          [
           "Business-3dbf"
          ],
          [
           "Business-3dc6"
          ],
          [
           "Business-3dcf"
          ],
          [
           "Business-3dd1"
          ],
          [
           "Business-3dde"
          ],
          [
           "Business-3de4"
          ],
          [
           "Business-3df1"
          ],
          [
           "Business-3e17"
          ],
          [
           "Business-3e1f"
          ],
          [
           "Business-3e22"
          ],
          [
           "Business-3e2d"
          ],
          [
           "Business-3e63"
          ],
          [
           "Business-3e70"
          ],
          [
           "Business-3e94"
          ],
          [
           "Business-3e9b"
          ],
          [
           "Business-3ea2"
          ],
          [
           "Business-3ead"
          ],
          [
           "Business-3ec8"
          ],
          [
           "Business-3ecf"
          ],
          [
           "Business-3ed4"
          ],
          [
           "Business-3eda"
          ],
          [
           "Business-3ee2"
          ],
          [
           "Business-3eee"
          ],
          [
           "Business-3ef6"
          ],
          [
           "Business-3f1b"
          ],
          [
           "Business-3f38"
          ],
          [
           "Business-3f74"
          ],
          [
           "Business-3f85"
          ],
          [
           "Business-3f8b"
          ],
          [
           "Business-3f90"
          ],
          [
           "Business-3fa3"
          ],
          [
           "Business-3fbd"
          ],
          [
           "Business-3fbf"
          ],
          [
           "Business-3fc8"
          ],
          [
           "Business-3fca"
          ],
          [
           "Business-3fd4"
          ],
          [
           "Business-3fd8"
          ],
          [
           "Business-3fed"
          ],
          [
           "Business-3ff1"
          ],
          [
           "Business-4018"
          ],
          [
           "Business-401e"
          ],
          [
           "Business-4027"
          ],
          [
           "Business-4035"
          ],
          [
           "Business-404b"
          ],
          [
           "Business-404e"
          ],
          [
           "Business-4051"
          ],
          [
           "Business-408b"
          ],
          [
           "Business-408e"
          ],
          [
           "Business-409b"
          ],
          [
           "Business-40a1"
          ],
          [
           "Business-40a4"
          ],
          [
           "Business-40aa"
          ],
          [
           "Business-40c2"
          ],
          [
           "Business-40ca"
          ],
          [
           "Business-40cf"
          ],
          [
           "Business-40de"
          ],
          [
           "Business-40e9"
          ],
          [
           "Business-40ec"
          ],
          [
           "Business-4114"
          ],
          [
           "Business-4121"
          ],
          [
           "Business-4129"
          ],
          [
           "Business-413b"
          ],
          [
           "Business-414b"
          ],
          [
           "Business-414c"
          ],
          [
           "Business-4160"
          ],
          [
           "Business-4165"
          ],
          [
           "Business-418d"
          ],
          [
           "Business-4196"
          ],
          [
           "Business-41ac"
          ],
          [
           "Business-41b0"
          ],
          [
           "Business-41b7"
          ],
          [
           "Business-41ba"
          ],
          [
           "Business-41d8"
          ],
          [
           "Business-41d9"
          ],
          [
           "Business-41e7"
          ],
          [
           "Business-41e9"
          ],
          [
           "Business-41eb"
          ],
          [
           "Business-41f1"
          ],
          [
           "Business-41f3"
          ],
          [
           "Business-41f7"
          ],
          [
           "Business-41fd"
          ],
          [
           "Business-420f"
          ],
          [
           "Business-4214"
          ],
          [
           "Business-422a"
          ],
          [
           "Business-422f"
          ],
          [
           "Business-4248"
          ],
          [
           "Business-4249"
          ],
          [
           "Business-425b"
          ],
          [
           "Business-4262"
          ],
          [
           "Business-426f"
          ],
          [
           "Business-4277"
          ],
          [
           "Business-4293"
          ],
          [
           "Business-4298"
          ],
          [
           "Business-429d"
          ],
          [
           "Business-429f"
          ],
          [
           "Business-42b8"
          ],
          [
           "Business-42bf"
          ],
          [
           "Business-42cb"
          ],
          [
           "Business-42cd"
          ],
          [
           "Business-42d5"
          ],
          [
           "Business-42d8"
          ],
          [
           "Business-42d9"
          ],
          [
           "Business-42df"
          ],
          [
           "Business-4304"
          ],
          [
           "Business-431d"
          ],
          [
           "Business-432e"
          ],
          [
           "Business-4330"
          ],
          [
           "Business-4337"
          ],
          [
           "Business-4342"
          ],
          [
           "Business-4347"
          ],
          [
           "Business-4349"
          ],
          [
           "Business-434a"
          ],
          [
           "Business-436b"
          ],
          [
           "Business-4372"
          ],
          [
           "Business-4376"
          ],
          [
           "Business-437d"
          ],
          [
           "Business-43a2"
          ],
          [
           "Business-43ac"
          ],
          [
           "Business-43af"
          ],
          [
           "Business-43c5"
          ],
          [
           "Business-43ce"
          ],
          [
           "Business-43df"
          ],
          [
           "Business-43f5"
          ],
          [
           "Business-43f8"
          ],
          [
           "Business-43fe"
          ],
          [
           "Business-4403"
          ],
          [
           "Business-442b"
          ],
          [
           "Business-4436"
          ],
          [
           "Business-444c"
          ],
          [
           "Business-444d"
          ],
          [
           "Business-4454"
          ],
          [
           "Business-445e"
          ],
          [
           "Business-445f"
          ],
          [
           "Business-4477"
          ],
          [
           "Business-447a"
          ],
          [
           "Business-447e"
          ],
          [
           "Business-448b"
          ],
          [
           "Business-448d"
          ],
          [
           "Business-4490"
          ],
          [
           "Business-4492"
          ],
          [
           "Business-4498"
          ],
          [
           "Business-44a4"
          ],
          [
           "Business-44a9"
          ],
          [
           "Business-44c6"
          ],
          [
           "Business-44f1"
          ],
          [
           "Business-44f3"
          ],
          [
           "Business-44fb"
          ],
          [
           "Business-4503"
          ],
          [
           "Business-450d"
          ],
          [
           "Business-4518"
          ],
          [
           "Business-452a"
          ],
          [
           "Business-453b"
          ],
          [
           "Business-4547"
          ],
          [
           "Business-4548"
          ],
          [
           "Business-455c"
          ],
          [
           "Business-4598"
          ],
          [
           "Business-45af"
          ],
          [
           "Business-45b4"
          ],
          [
           "Business-45be"
          ],
          [
           "Business-45c0"
          ],
          [
           "Business-45cd"
          ],
          [
           "Business-4601"
          ],
          [
           "Business-4611"
          ],
          [
           "Business-4624"
          ],
          [
           "Business-4626"
          ],
          [
           "Business-4633"
          ],
          [
           "Business-463e"
          ],
          [
           "Business-4651"
          ],
          [
           "Business-4661"
          ],
          [
           "Business-4689"
          ],
          [
           "Business-46a2"
          ],
          [
           "Business-46a5"
          ],
          [
           "Business-46c6"
          ],
          [
           "Business-46c7"
          ],
          [
           "Business-46d5"
          ],
          [
           "Business-46d8"
          ],
          [
           "Business-46dc"
          ],
          [
           "Business-46e0"
          ],
          [
           "Business-46ef"
          ],
          [
           "Business-46f4"
          ],
          [
           "Business-470a"
          ],
          [
           "Business-4714"
          ],
          [
           "Business-4721"
          ],
          [
           "Business-4724"
          ],
          [
           "Business-4744"
          ],
          [
           "Business-4758"
          ],
          [
           "Business-4765"
          ],
          [
           "Business-476c"
          ],
          [
           "Business-476e"
          ],
          [
           "Business-4774"
          ],
          [
           "Business-4788"
          ],
          [
           "Business-4794"
          ],
          [
           "Business-479b"
          ],
          [
           "Business-47c5"
          ],
          [
           "Business-47c7"
          ],
          [
           "Business-47d6"
          ],
          [
           "Business-47f8"
          ],
          [
           "Business-4804"
          ],
          [
           "Business-4808"
          ],
          [
           "Business-4827"
          ],
          [
           "Business-488a"
          ],
          [
           "Business-4891"
          ],
          [
           "Business-48a1"
          ],
          [
           "Business-48a7"
          ],
          [
           "Business-48bf"
          ],
          [
           "Business-48c3"
          ],
          [
           "Business-48c4"
          ],
          [
           "Business-48cb"
          ],
          [
           "Business-48d2"
          ],
          [
           "Business-48e9"
          ],
          [
           "Business-48f4"
          ],
          [
           "Business-4918"
          ],
          [
           "Business-4919"
          ],
          [
           "Business-4920"
          ],
          [
           "Business-4925"
          ],
          [
           "Business-4929"
          ],
          [
           "Business-492a"
          ],
          [
           "Business-492e"
          ],
          [
           "Business-4952"
          ],
          [
           "Business-496a"
          ],
          [
           "Business-4982"
          ],
          [
           "Business-4998"
          ],
          [
           "Business-49a5"
          ],
          [
           "Business-49b9"
          ],
          [
           "Business-49be"
          ],
          [
           "Business-49c2"
          ],
          [
           "Business-49c5"
          ],
          [
           "Business-49e0"
          ],
          [
           "Business-49e8"
          ],
          [
           "Business-49f6"
          ],
          [
           "Business-4a01"
          ],
          [
           "Business-4a09"
          ],
          [
           "Business-4a11"
          ],
          [
           "Business-4a48"
          ],
          [
           "Business-4a5d"
          ],
          [
           "Business-4a5e"
          ],
          [
           "Business-4a60"
          ],
          [
           "Business-4a62"
          ],
          [
           "Business-4a6d"
          ],
          [
           "Business-4a70"
          ],
          [
           "Business-4a8e"
          ],
          [
           "Business-4a9b"
          ],
          [
           "Business-4aa3"
          ],
          [
           "Business-4ac4"
          ],
          [
           "Business-4ad9"
          ],
          [
           "Business-4ae8"
          ],
          [
           "Business-4af0"
          ],
          [
           "Business-4af3"
          ],
          [
           "Business-4afb"
          ],
          [
           "Business-4b07"
          ],
          [
           "Business-4b0d"
          ],
          [
           "Business-4b1e"
          ],
          [
           "Business-4b2d"
          ],
          [
           "Business-4b3b"
          ],
          [
           "Business-4b4c"
          ],
          [
           "Business-4b76"
          ],
          [
           "Business-4b87"
          ],
          [
           "Business-4b8b"
          ],
          [
           "Business-4b8d"
          ],
          [
           "Business-4b8e"
          ],
          [
           "Business-4b91"
          ],
          [
           "Business-4b92"
          ],
          [
           "Business-4ba1"
          ],
          [
           "Business-4bc3"
          ],
          [
           "Business-4bc8"
          ],
          [
           "Business-4be1"
          ],
          [
           "Business-4bfc"
          ],
          [
           "Business-4c0b"
          ],
          [
           "Business-4c1b"
          ],
          [
           "Business-4c1f"
          ],
          [
           "Business-4c26"
          ],
          [
           "Business-4c46"
          ],
          [
           "Business-4c49"
          ],
          [
           "Business-4c5e"
          ],
          [
           "Business-4c6e"
          ],
          [
           "Business-4c82"
          ],
          [
           "Business-4c9e"
          ],
          [
           "Business-4ca8"
          ],
          [
           "Business-4caa"
          ],
          [
           "Business-4cad"
          ],
          [
           "Business-4ce8"
          ],
          [
           "Business-4cf4"
          ],
          [
           "Business-4d0a"
          ],
          [
           "Business-4d0b"
          ],
          [
           "Business-4d1a"
          ],
          [
           "Business-4d1b"
          ],
          [
           "Business-4d2a"
          ],
          [
           "Business-4d3c"
          ],
          [
           "Business-4d45"
          ],
          [
           "Business-4d4c"
          ],
          [
           "Business-4d57"
          ],
          [
           "Business-4d5a"
          ],
          [
           "Business-4d5c"
          ],
          [
           "Business-4d69"
          ],
          [
           "Business-4d6c"
          ],
          [
           "Business-4d8e"
          ],
          [
           "Business-4d9c"
          ],
          [
           "Business-4d9d"
          ],
          [
           "Business-4da5"
          ],
          [
           "Business-4dd6"
          ],
          [
           "Business-4e15"
          ],
          [
           "Business-4e1b"
          ],
          [
           "Business-4e24"
          ],
          [
           "Business-4e2c"
          ],
          [
           "Business-4e36"
          ],
          [
           "Business-4e4c"
          ],
          [
           "Business-4e50"
          ],
          [
           "Business-4e67"
          ],
          [
           "Business-4e69"
          ],
          [
           "Business-4e7f"
          ],
          [
           "Business-4e82"
          ],
          [
           "Business-4e8a"
          ],
          [
           "Business-4e8c"
          ],
          [
           "Business-4e94"
          ],
          [
           "Business-4eea"
          ],
          [
           "Business-4ef7"
          ],
          [
           "Business-4f2d"
          ],
          [
           "Business-4f3f"
          ],
          [
           "Business-4f41"
          ],
          [
           "Business-4f4c"
          ],
          [
           "Business-4f53"
          ],
          [
           "Business-4f5f"
          ],
          [
           "Business-4f89"
          ],
          [
           "Business-4fb5"
          ],
          [
           "Business-4fbd"
          ],
          [
           "Business-4fc2"
          ],
          [
           "Business-4fcb"
          ],
          [
           "Business-4fce"
          ],
          [
           "Business-4fd5"
          ],
          [
           "Business-4fd6"
          ],
          [
           "Business-4fdb"
          ],
          [
           "Business-4fe6"
          ],
          [
           "Business-4ff2"
          ],
          [
           "Business-4ffe"
          ],
          [
           "Business-500d"
          ],
          [
           "Business-5017"
          ],
          [
           "Business-5020"
          ],
          [
           "Business-5029"
          ],
          [
           "Business-502a"
          ],
          [
           "Business-5035"
          ],
          [
           "Business-5038"
          ],
          [
           "Business-504d"
          ],
          [
           "Business-5088"
          ],
          [
           "Business-509c"
          ],
          [
           "Business-509d"
          ],
          [
           "Business-50b4"
          ],
          [
           "Business-50b5"
          ],
          [
           "Business-50b6"
          ],
          [
           "Business-50ba"
          ],
          [
           "Business-50f6"
          ],
          [
           "Business-50fe"
          ],
          [
           "Business-5109"
          ],
          [
           "Business-5116"
          ],
          [
           "Business-511b"
          ],
          [
           "Business-5124"
          ],
          [
           "Business-5132"
          ],
          [
           "Business-513d"
          ],
          [
           "Business-5162"
          ],
          [
           "Business-5166"
          ],
          [
           "Business-516f"
          ],
          [
           "Business-5172"
          ],
          [
           "Business-5176"
          ],
          [
           "Business-517a"
          ],
          [
           "Business-5188"
          ],
          [
           "Business-51a9"
          ],
          [
           "Business-51aa"
          ],
          [
           "Business-51ac"
          ],
          [
           "Business-51c0"
          ],
          [
           "Business-51cb"
          ],
          [
           "Business-51ef"
          ],
          [
           "Business-5200"
          ],
          [
           "Business-5207"
          ],
          [
           "Business-522f"
          ],
          [
           "Business-5233"
          ],
          [
           "Business-523d"
          ],
          [
           "Business-525d"
          ],
          [
           "Business-5293"
          ],
          [
           "Business-529a"
          ],
          [
           "Business-52a1"
          ],
          [
           "Business-52ac"
          ],
          [
           "Business-52ad"
          ],
          [
           "Business-52d7"
          ],
          [
           "Business-52d9"
          ],
          [
           "Business-52ee"
          ],
          [
           "Business-52f3"
          ],
          [
           "Business-5300"
          ],
          [
           "Business-5311"
          ],
          [
           "Business-5319"
          ],
          [
           "Business-5327"
          ],
          [
           "Business-5342"
          ],
          [
           "Business-536d"
          ],
          [
           "Business-5378"
          ],
          [
           "Business-5381"
          ],
          [
           "Business-5384"
          ],
          [
           "Business-5389"
          ],
          [
           "Business-53a2"
          ],
          [
           "Business-53ab"
          ],
          [
           "Business-53b0"
          ],
          [
           "Business-53e1"
          ],
          [
           "Business-5407"
          ],
          [
           "Business-5425"
          ],
          [
           "Business-5430"
          ],
          [
           "Business-5434"
          ],
          [
           "Business-5435"
          ],
          [
           "Business-5440"
          ],
          [
           "Business-5442"
          ],
          [
           "Business-5457"
          ],
          [
           "Business-5459"
          ],
          [
           "Business-545d"
          ],
          [
           "Business-5474"
          ],
          [
           "Business-5483"
          ],
          [
           "Business-5494"
          ],
          [
           "Business-5495"
          ],
          [
           "Business-5499"
          ],
          [
           "Business-54a9"
          ],
          [
           "Business-54aa"
          ],
          [
           "Business-54ac"
          ],
          [
           "Business-54ad"
          ],
          [
           "Business-54af"
          ],
          [
           "Business-54b3"
          ],
          [
           "Business-54c4"
          ],
          [
           "Business-54c5"
          ],
          [
           "Business-54ea"
          ],
          [
           "Business-54f5"
          ],
          [
           "Business-54fa"
          ],
          [
           "Business-550c"
          ],
          [
           "Business-552a"
          ],
          [
           "Business-5539"
          ],
          [
           "Business-553e"
          ],
          [
           "Business-5544"
          ],
          [
           "Business-5570"
          ],
          [
           "Business-557b"
          ],
          [
           "Business-557c"
          ],
          [
           "Business-557e"
          ],
          [
           "Business-5597"
          ],
          [
           "Business-55aa"
          ],
          [
           "Business-55b8"
          ],
          [
           "Business-55d1"
          ],
          [
           "Business-55d4"
          ],
          [
           "Business-55d5"
          ],
          [
           "Business-55f8"
          ],
          [
           "Business-5600"
          ],
          [
           "Business-5601"
          ],
          [
           "Business-5608"
          ],
          [
           "Business-5611"
          ],
          [
           "Business-5620"
          ],
          [
           "Business-5623"
          ],
          [
           "Business-563a"
          ],
          [
           "Business-5646"
          ],
          [
           "Business-5661"
          ],
          [
           "Business-566a"
          ],
          [
           "Business-567a"
          ],
          [
           "Business-567e"
          ],
          [
           "Business-5685"
          ],
          [
           "Business-5689"
          ],
          [
           "Business-56aa"
          ],
          [
           "Business-56dc"
          ],
          [
           "Business-5700"
          ],
          [
           "Business-570e"
          ],
          [
           "Business-5722"
          ],
          [
           "Business-573a"
          ],
          [
           "Business-574f"
          ],
          [
           "Business-5751"
          ],
          [
           "Business-5754"
          ],
          [
           "Business-575f"
          ],
          [
           "Business-5760"
          ],
          [
           "Business-5777"
          ],
          [
           "Business-5780"
          ],
          [
           "Business-5788"
          ],
          [
           "Business-5791"
          ],
          [
           "Business-57c5"
          ],
          [
           "Business-57e3"
          ],
          [
           "Business-57f0"
          ],
          [
           "Business-57ff"
          ],
          [
           "Business-5809"
          ],
          [
           "Business-5810"
          ],
          [
           "Business-5823"
          ],
          [
           "Business-5827"
          ],
          [
           "Business-5829"
          ],
          [
           "Business-582f"
          ],
          [
           "Business-5830"
          ],
          [
           "Business-583a"
          ],
          [
           "Business-5840"
          ],
          [
           "Business-5842"
          ],
          [
           "Business-585d"
          ],
          [
           "Business-585e"
          ],
          [
           "Business-586b"
          ],
          [
           "Business-587a"
          ],
          [
           "Business-58a4"
          ],
          [
           "Business-58a8"
          ],
          [
           "Business-58a9"
          ],
          [
           "Business-58d9"
          ],
          [
           "Business-58e3"
          ],
          [
           "Business-58f1"
          ],
          [
           "Business-58fe"
          ],
          [
           "Business-5915"
          ],
          [
           "Business-593c"
          ],
          [
           "Business-5943"
          ],
          [
           "Business-5947"
          ],
          [
           "Business-5948"
          ],
          [
           "Business-5953"
          ],
          [
           "Business-5957"
          ],
          [
           "Business-595c"
          ],
          [
           "Business-595e"
          ],
          [
           "Business-595f"
          ],
          [
           "Business-5960"
          ],
          [
           "Business-596f"
          ],
          [
           "Business-5973"
          ],
          [
           "Business-598a"
          ],
          [
           "Business-598d"
          ],
          [
           "Business-5999"
          ],
          [
           "Business-59a4"
          ],
          [
           "Business-59b6"
          ],
          [
           "Business-59c1"
          ],
          [
           "Business-59d2"
          ],
          [
           "Business-59e8"
          ],
          [
           "Business-59ea"
          ],
          [
           "Business-59ed"
          ],
          [
           "Business-5a29"
          ],
          [
           "Business-5a2a"
          ],
          [
           "Business-5a47"
          ],
          [
           "Business-5a63"
          ],
          [
           "Business-5a76"
          ],
          [
           "Business-5a91"
          ],
          [
           "Business-5aaf"
          ],
          [
           "Business-5ac3"
          ],
          [
           "Business-5ace"
          ],
          [
           "Business-5b02"
          ],
          [
           "Business-5b07"
          ],
          [
           "Business-5b0f"
          ],
          [
           "Business-5b15"
          ],
          [
           "Business-5b19"
          ],
          [
           "Business-5b40"
          ],
          [
           "Business-5b5f"
          ],
          [
           "Business-5b6f"
          ],
          [
           "Business-5b82"
          ],
          [
           "Business-5b9e"
          ],
          [
           "Business-5ba6"
          ],
          [
           "Business-5bac"
          ],
          [
           "Business-5bb6"
          ],
          [
           "Business-5bd2"
          ],
          [
           "Business-5be4"
          ],
          [
           "Business-5bf2"
          ],
          [
           "Business-5bf6"
          ],
          [
           "Business-5c29"
          ],
          [
           "Business-5c2e"
          ],
          [
           "Business-5c47"
          ],
          [
           "Business-5c4d"
          ],
          [
           "Business-5c56"
          ],
          [
           "Business-5c59"
          ],
          [
           "Business-5c5f"
          ],
          [
           "Business-5c61"
          ],
          [
           "Business-5c6b"
          ],
          [
           "Business-5c6c"
          ],
          [
           "Business-5c71"
          ],
          [
           "Business-5c89"
          ],
          [
           "Business-5c8b"
          ],
          [
           "Business-5c98"
          ],
          [
           "Business-5c9f"
          ],
          [
           "Business-5ca7"
          ],
          [
           "Business-5cac"
          ],
          [
           "Business-5cbb"
          ],
          [
           "Business-5cc4"
          ],
          [
           "Business-5cc9"
          ],
          [
           "Business-5cec"
          ],
          [
           "Business-5cef"
          ],
          [
           "Business-5cf4"
          ],
          [
           "Business-5cfa"
          ],
          [
           "Business-5cfe"
          ],
          [
           "Business-5d02"
          ],
          [
           "Business-5d0f"
          ],
          [
           "Business-5d3d"
          ],
          [
           "Business-5d3e"
          ],
          [
           "Business-5d41"
          ],
          [
           "Business-5d58"
          ],
          [
           "Business-5d75"
          ],
          [
           "Business-5d7e"
          ],
          [
           "Business-5d91"
          ],
          [
           "Business-5da0"
          ],
          [
           "Business-5da8"
          ],
          [
           "Business-5dcb"
          ],
          [
           "Business-5dcf"
          ],
          [
           "Business-5de0"
          ],
          [
           "Business-5dfe"
          ],
          [
           "Business-5e1d"
          ],
          [
           "Business-5e3e"
          ],
          [
           "Business-5e4f"
          ],
          [
           "Business-5e51"
          ],
          [
           "Business-5e9e"
          ],
          [
           "Business-5ea8"
          ],
          [
           "Business-5ebd"
          ],
          [
           "Business-5ecd"
          ],
          [
           "Business-5ecf"
          ],
          [
           "Business-5ed4"
          ],
          [
           "Business-5ed6"
          ],
          [
           "Business-5eec"
          ],
          [
           "Business-5ef1"
          ],
          [
           "Business-5ef5"
          ],
          [
           "Business-5efe"
          ],
          [
           "Business-5f13"
          ],
          [
           "Business-5f20"
          ],
          [
           "Business-5f23"
          ],
          [
           "Business-5f26"
          ],
          [
           "Business-5f31"
          ],
          [
           "Business-5f3a"
          ],
          [
           "Business-5f46"
          ],
          [
           "Business-5f56"
          ],
          [
           "Business-5f63"
          ],
          [
           "Business-5f65"
          ],
          [
           "Business-5f66"
          ],
          [
           "Business-5f7b"
          ],
          [
           "Business-5f7c"
          ],
          [
           "Business-5f88"
          ],
          [
           "Business-5f89"
          ],
          [
           "Business-5f9e"
          ],
          [
           "Business-5fa4"
          ],
          [
           "Business-5fa7"
          ],
          [
           "Business-5faf"
          ],
          [
           "Business-5fbb"
          ],
          [
           "Business-5fbd"
          ],
          [
           "Business-5fc5"
          ],
          [
           "Business-5fca"
          ],
          [
           "Business-5fcd"
          ],
          [
           "Business-5fe1"
          ],
          [
           "Business-5fec"
          ],
          [
           "Business-5fef"
          ],
          [
           "Business-5ff6"
          ],
          [
           "Business-6001"
          ],
          [
           "Business-6007"
          ],
          [
           "Business-6037"
          ],
          [
           "Business-603c"
          ],
          [
           "Business-6049"
          ],
          [
           "Business-6055"
          ],
          [
           "Business-605b"
          ],
          [
           "Business-606b"
          ],
          [
           "Business-607c"
          ],
          [
           "Business-6084"
          ],
          [
           "Business-6087"
          ],
          [
           "Business-6089"
          ],
          [
           "Business-608c"
          ],
          [
           "Business-6091"
          ],
          [
           "Business-6093"
          ],
          [
           "Business-609b"
          ],
          [
           "Business-60af"
          ],
          [
           "Business-60b8"
          ],
          [
           "Business-60bd"
          ],
          [
           "Business-60cf"
          ],
          [
           "Business-60d7"
          ],
          [
           "Business-60d9"
          ],
          [
           "Business-60f4"
          ],
          [
           "Business-60fe"
          ],
          [
           "Business-6110"
          ],
          [
           "Business-6137"
          ],
          [
           "Business-6180"
          ],
          [
           "Business-6194"
          ],
          [
           "Business-61cb"
          ],
          [
           "Business-61db"
          ],
          [
           "Business-620e"
          ],
          [
           "Business-6214"
          ],
          [
           "Business-6229"
          ],
          [
           "Business-6245"
          ],
          [
           "Business-6249"
          ],
          [
           "Business-624b"
          ],
          [
           "Business-624e"
          ],
          [
           "Business-6254"
          ],
          [
           "Business-625a"
          ],
          [
           "Business-625b"
          ],
          [
           "Business-6265"
          ],
          [
           "Business-6288"
          ],
          [
           "Business-628a"
          ],
          [
           "Business-6290"
          ],
          [
           "Business-6291"
          ],
          [
           "Business-629c"
          ],
          [
           "Business-62a5"
          ],
          [
           "Business-62b2"
          ],
          [
           "Business-62b8"
          ],
          [
           "Business-62bb"
          ],
          [
           "Business-62d0"
          ],
          [
           "Business-62d9"
          ],
          [
           "Business-62f6"
          ],
          [
           "Business-6305"
          ],
          [
           "Business-630f"
          ],
          [
           "Business-6326"
          ],
          [
           "Business-632b"
          ],
          [
           "Business-6338"
          ],
          [
           "Business-633a"
          ],
          [
           "Business-6341"
          ],
          [
           "Business-6343"
          ],
          [
           "Business-6355"
          ],
          [
           "Business-6358"
          ],
          [
           "Business-6360"
          ],
          [
           "Business-636c"
          ],
          [
           "Business-6371"
          ],
          [
           "Business-639f"
          ],
          [
           "Business-63a3"
          ],
          [
           "Business-63a9"
          ],
          [
           "Business-63cc"
          ],
          [
           "Business-63dd"
          ],
          [
           "Business-63df"
          ],
          [
           "Business-63e6"
          ],
          [
           "Business-63ea"
          ],
          [
           "Business-6416"
          ],
          [
           "Business-6417"
          ],
          [
           "Business-6438"
          ],
          [
           "Business-6440"
          ],
          [
           "Business-644e"
          ],
          [
           "Business-6468"
          ],
          [
           "Business-648f"
          ],
          [
           "Business-64a5"
          ],
          [
           "Business-64a7"
          ],
          [
           "Business-64ac"
          ],
          [
           "Business-64af"
          ],
          [
           "Business-64d2"
          ],
          [
           "Business-64d6"
          ],
          [
           "Business-64d8"
          ],
          [
           "Business-64db"
          ],
          [
           "Business-64f7"
          ],
          [
           "Business-64fe"
          ],
          [
           "Business-651a"
          ],
          [
           "Business-651c"
          ],
          [
           "Business-6524"
          ],
          [
           "Business-652d"
          ],
          [
           "Business-6539"
          ],
          [
           "Business-6541"
          ],
          [
           "Business-6543"
          ],
          [
           "Business-6554"
          ],
          [
           "Business-6556"
          ],
          [
           "Business-6566"
          ],
          [
           "Business-657f"
          ],
          [
           "Business-6580"
          ],
          [
           "Business-658e"
          ],
          [
           "Business-65a5"
          ],
          [
           "Business-65b2"
          ],
          [
           "Business-65c0"
          ],
          [
           "Business-65c2"
          ],
          [
           "Business-65d1"
          ],
          [
           "Business-65d7"
          ],
          [
           "Business-65e7"
          ],
          [
           "Business-65ec"
          ],
          [
           "Business-65fd"
          ],
          [
           "Business-6603"
          ],
          [
           "Business-6606"
          ],
          [
           "Business-660d"
          ],
          [
           "Business-6628"
          ],
          [
           "Business-6640"
          ],
          [
           "Business-664a"
          ],
          [
           "Business-6652"
          ],
          [
           "Business-6668"
          ],
          [
           "Business-6685"
          ],
          [
           "Business-6686"
          ],
          [
           "Business-668e"
          ],
          [
           "Business-6697"
          ],
          [
           "Business-66c4"
          ],
          [
           "Business-66c8"
          ],
          [
           "Business-66d6"
          ],
          [
           "Business-66da"
          ],
          [
           "Business-66db"
          ],
          [
           "Business-66e8"
          ],
          [
           "Business-6700"
          ],
          [
           "Business-6720"
          ],
          [
           "Business-6725"
          ],
          [
           "Business-672f"
          ],
          [
           "Business-674d"
          ],
          [
           "Business-6756"
          ],
          [
           "Business-6782"
          ],
          [
           "Business-67a9"
          ],
          [
           "Business-67b6"
          ],
          [
           "Business-67c0"
          ],
          [
           "Business-67ca"
          ],
          [
           "Business-67e1"
          ],
          [
           "Business-67f4"
          ],
          [
           "Business-680e"
          ],
          [
           "Business-6823"
          ],
          [
           "Business-6851"
          ],
          [
           "Business-6855"
          ],
          [
           "Business-685b"
          ],
          [
           "Business-6860"
          ],
          [
           "Business-686e"
          ],
          [
           "Business-6874"
          ],
          [
           "Business-6877"
          ],
          [
           "Business-6897"
          ],
          [
           "Business-68a7"
          ],
          [
           "Business-68a9"
          ],
          [
           "Business-68b6"
          ],
          [
           "Business-68df"
          ],
          [
           "Business-68e4"
          ],
          [
           "Business-68ef"
          ],
          [
           "Business-690d"
          ],
          [
           "Business-691d"
          ],
          [
           "Business-692d"
          ],
          [
           "Business-6950"
          ],
          [
           "Business-6953"
          ],
          [
           "Business-6956"
          ],
          [
           "Business-696a"
          ],
          [
           "Business-696b"
          ],
          [
           "Business-696e"
          ],
          [
           "Business-697a"
          ],
          [
           "Business-698c"
          ],
          [
           "Business-69a9"
          ],
          [
           "Business-69b2"
          ],
          [
           "Business-69b3"
          ],
          [
           "Business-69b4"
          ],
          [
           "Business-69d0"
          ],
          [
           "Business-69d8"
          ],
          [
           "Business-69eb"
          ],
          [
           "Business-6a04"
          ],
          [
           "Business-6a06"
          ],
          [
           "Business-6a08"
          ],
          [
           "Business-6a1f"
          ],
          [
           "Business-6a2b"
          ],
          [
           "Business-6a2f"
          ],
          [
           "Business-6a39"
          ],
          [
           "Business-6a3d"
          ],
          [
           "Business-6a45"
          ],
          [
           "Business-6a52"
          ],
          [
           "Business-6a66"
          ],
          [
           "Business-6a70"
          ],
          [
           "Business-6a83"
          ],
          [
           "Business-6a85"
          ],
          [
           "Business-6a87"
          ],
          [
           "Business-6a8e"
          ],
          [
           "Business-6a91"
          ],
          [
           "Business-6a96"
          ],
          [
           "Business-6aaf"
          ],
          [
           "Business-6ab3"
          ],
          [
           "Business-6ac6"
          ],
          [
           "Business-6ace"
          ],
          [
           "Business-6ae1"
          ],
          [
           "Business-6ae9"
          ],
          [
           "Business-6aea"
          ],
          [
           "Business-6afd"
          ],
          [
           "Business-6b1a"
          ],
          [
           "Business-6b1f"
          ],
          [
           "Business-6b20"
          ],
          [
           "Business-6b29"
          ],
          [
           "Business-6b2d"
          ],
          [
           "Business-6b55"
          ],
          [
           "Business-6b65"
          ],
          [
           "Business-6b6b"
          ],
          [
           "Business-6b71"
          ],
          [
           "Business-6b7c"
          ],
          [
           "Business-6b87"
          ],
          [
           "Business-6b9a"
          ],
          [
           "Business-6ba6"
          ],
          [
           "Business-6bae"
          ],
          [
           "Business-6bb0"
          ],
          [
           "Business-6bb2"
          ],
          [
           "Business-6bcf"
          ],
          [
           "Business-6bdc"
          ],
          [
           "Business-6bdf"
          ],
          [
           "Business-6c27"
          ],
          [
           "Business-6c69"
          ],
          [
           "Business-6c8d"
          ],
          [
           "Business-6ca4"
          ],
          [
           "Business-6cc0"
          ],
          [
           "Business-6cc6"
          ],
          [
           "Business-6cd7"
          ],
          [
           "Business-6cdf"
          ],
          [
           "Business-6ce5"
          ],
          [
           "Business-6cf4"
          ],
          [
           "Business-6d06"
          ],
          [
           "Business-6d0f"
          ],
          [
           "Business-6d10"
          ],
          [
           "Business-6d11"
          ],
          [
           "Business-6d1c"
          ],
          [
           "Business-6d1d"
          ],
          [
           "Business-6d3e"
          ],
          [
           "Business-6d40"
          ],
          [
           "Business-6d54"
          ],
          [
           "Business-6d5d"
          ],
          [
           "Business-6d60"
          ],
          [
           "Business-6d65"
          ],
          [
           "Business-6d73"
          ],
          [
           "Business-6d94"
          ],
          [
           "Business-6d99"
          ],
          [
           "Business-6dae"
          ],
          [
           "Business-6de8"
          ],
          [
           "Business-6deb"
          ],
          [
           "Business-6ded"
          ],
          [
           "Business-6df1"
          ],
          [
           "Business-6e56"
          ],
          [
           "Business-6e5d"
          ],
          [
           "Business-6e74"
          ],
          [
           "Business-6e8e"
          ],
          [
           "Business-6e9d"
          ],
          [
           "Business-6ea4"
          ],
          [
           "Business-6ea5"
          ],
          [
           "Business-6ecd"
          ],
          [
           "Business-6ee5"
          ],
          [
           "Business-6ee8"
          ],
          [
           "Business-6efc"
          ],
          [
           "Business-6eff"
          ],
          [
           "Business-6f09"
          ],
          [
           "Business-6f0c"
          ],
          [
           "Business-6f10"
          ],
          [
           "Business-6f13"
          ],
          [
           "Business-6f1a"
          ],
          [
           "Business-6f25"
          ],
          [
           "Business-6f29"
          ],
          [
           "Business-6f33"
          ],
          [
           "Business-6f46"
          ],
          [
           "Business-6f74"
          ],
          [
           "Business-6f76"
          ],
          [
           "Business-6f93"
          ],
          [
           "Business-6f99"
          ],
          [
           "Business-6fa0"
          ],
          [
           "Business-6fa4"
          ],
          [
           "Business-6fa9"
          ],
          [
           "Business-6fb7"
          ],
          [
           "Business-6fba"
          ],
          [
           "Business-6fd0"
          ],
          [
           "Business-7002"
          ],
          [
           "Business-7016"
          ],
          [
           "Business-7020"
          ],
          [
           "Business-7029"
          ],
          [
           "Business-7040"
          ],
          [
           "Business-7063"
          ],
          [
           "Business-7089"
          ],
          [
           "Business-7094"
          ],
          [
           "Business-709d"
          ],
          [
           "Business-70c0"
          ],
          [
           "Business-70c4"
          ],
          [
           "Business-70ca"
          ],
          [
           "Business-70d4"
          ],
          [
           "Business-70d7"
          ],
          [
           "Business-70e8"
          ],
          [
           "Business-70f8"
          ],
          [
           "Business-7100"
          ],
          [
           "Business-7102"
          ],
          [
           "Business-7152"
          ],
          [
           "Business-7170"
          ],
          [
           "Business-7176"
          ],
          [
           "Business-7197"
          ],
          [
           "Business-719c"
          ],
          [
           "Business-71ac"
          ],
          [
           "Business-71bf"
          ],
          [
           "Business-71c0"
          ],
          [
           "Business-71e2"
          ],
          [
           "Business-71eb"
          ],
          [
           "Business-71f0"
          ],
          [
           "Business-7206"
          ],
          [
           "Business-721c"
          ],
          [
           "Business-7220"
          ],
          [
           "Business-7239"
          ],
          [
           "Business-724d"
          ],
          [
           "Business-7250"
          ],
          [
           "Business-7256"
          ],
          [
           "Business-726a"
          ],
          [
           "Business-7279"
          ],
          [
           "Business-727d"
          ],
          [
           "Business-7290"
          ],
          [
           "Business-729d"
          ],
          [
           "Business-729e"
          ],
          [
           "Business-72b6"
          ],
          [
           "Business-72bc"
          ],
          [
           "Business-72dd"
          ],
          [
           "Business-72f8"
          ],
          [
           "Business-7328"
          ],
          [
           "Business-732d"
          ],
          [
           "Business-733e"
          ],
          [
           "Business-7341"
          ],
          [
           "Business-7343"
          ],
          [
           "Business-7350"
          ],
          [
           "Business-7362"
          ],
          [
           "Business-736c"
          ],
          [
           "Business-7372"
          ],
          [
           "Business-737b"
          ],
          [
           "Business-7384"
          ],
          [
           "Business-7389"
          ],
          [
           "Business-739f"
          ],
          [
           "Business-73bf"
          ],
          [
           "Business-73c6"
          ],
          [
           "Business-73f5"
          ],
          [
           "Business-7403"
          ],
          [
           "Business-7405"
          ],
          [
           "Business-740b"
          ],
          [
           "Business-7424"
          ],
          [
           "Business-7434"
          ],
          [
           "Business-7456"
          ],
          [
           "Business-746a"
          ],
          [
           "Business-7479"
          ],
          [
           "Business-747e"
          ],
          [
           "Business-7487"
          ],
          [
           "Business-7488"
          ],
          [
           "Business-748a"
          ],
          [
           "Business-7490"
          ],
          [
           "Business-74a1"
          ],
          [
           "Business-74af"
          ],
          [
           "Business-74b1"
          ],
          [
           "Business-74b5"
          ],
          [
           "Business-74d6"
          ],
          [
           "Business-74dc"
          ],
          [
           "Business-74e2"
          ],
          [
           "Business-74e8"
          ],
          [
           "Business-74f4"
          ],
          [
           "Business-750a"
          ],
          [
           "Business-750d"
          ],
          [
           "Business-7515"
          ],
          [
           "Business-7545"
          ],
          [
           "Business-754b"
          ],
          [
           "Business-7553"
          ],
          [
           "Business-7575"
          ],
          [
           "Business-7590"
          ],
          [
           "Business-75a6"
          ],
          [
           "Business-75b3"
          ],
          [
           "Business-75cd"
          ],
          [
           "Business-75d7"
          ],
          [
           "Business-75df"
          ],
          [
           "Business-75e9"
          ],
          [
           "Business-75fa"
          ],
          [
           "Business-75fe"
          ],
          [
           "Business-7616"
          ],
          [
           "Business-7621"
          ],
          [
           "Business-7623"
          ],
          [
           "Business-7627"
          ],
          [
           "Business-7636"
          ],
          [
           "Business-766b"
          ],
          [
           "Business-7673"
          ],
          [
           "Business-7682"
          ],
          [
           "Business-768f"
          ],
          [
           "Business-76ab"
          ],
          [
           "Business-76ad"
          ],
          [
           "Business-76c7"
          ],
          [
           "Business-76d1"
          ],
          [
           "Business-76d2"
          ],
          [
           "Business-76e0"
          ],
          [
           "Business-7704"
          ],
          [
           "Business-770b"
          ],
          [
           "Business-771c"
          ],
          [
           "Business-7745"
          ],
          [
           "Business-7749"
          ],
          [
           "Business-7758"
          ],
          [
           "Business-7759"
          ],
          [
           "Business-775f"
          ],
          [
           "Business-7769"
          ],
          [
           "Business-776c"
          ],
          [
           "Business-776d"
          ],
          [
           "Business-777b"
          ],
          [
           "Business-7781"
          ],
          [
           "Business-7783"
          ],
          [
           "Business-7791"
          ],
          [
           "Business-7795"
          ],
          [
           "Business-779c"
          ],
          [
           "Business-779d"
          ],
          [
           "Business-77a2"
          ],
          [
           "Business-77a7"
          ],
          [
           "Business-77af"
          ],
          [
           "Business-77b0"
          ],
          [
           "Business-77b1"
          ],
          [
           "Business-77b6"
          ],
          [
           "Business-77bb"
          ],
          [
           "Business-77cc"
          ],
          [
           "Business-77d0"
          ],
          [
           "Business-7811"
          ],
          [
           "Business-783b"
          ],
          [
           "Business-784e"
          ],
          [
           "Business-7850"
          ],
          [
           "Business-7856"
          ],
          [
           "Business-785b"
          ],
          [
           "Business-785d"
          ],
          [
           "Business-786c"
          ],
          [
           "Business-789e"
          ],
          [
           "Business-78a5"
          ],
          [
           "Business-78dd"
          ],
          [
           "Business-78e2"
          ],
          [
           "Business-78f3"
          ],
          [
           "Business-7918"
          ],
          [
           "Business-791b"
          ],
          [
           "Business-794b"
          ],
          [
           "Business-7955"
          ],
          [
           "Business-7964"
          ],
          [
           "Business-7982"
          ],
          [
           "Business-7983"
          ],
          [
           "Business-7984"
          ],
          [
           "Business-7987"
          ],
          [
           "Business-79a4"
          ],
          [
           "Business-79c1"
          ],
          [
           "Business-79cd"
          ],
          [
           "Business-7a00"
          ],
          [
           "Business-7a07"
          ],
          [
           "Business-7a28"
          ],
          [
           "Business-7a2c"
          ],
          [
           "Business-7a40"
          ],
          [
           "Business-7a42"
          ],
          [
           "Business-7a4d"
          ],
          [
           "Business-7a5d"
          ],
          [
           "Business-7a60"
          ],
          [
           "Business-7a7f"
          ],
          [
           "Business-7a95"
          ],
          [
           "Business-7a9b"
          ],
          [
           "Business-7aa1"
          ],
          [
           "Business-7aa4"
          ],
          [
           "Business-7aa8"
          ],
          [
           "Business-7aaf"
          ],
          [
           "Business-7ab1"
          ],
          [
           "Business-7ab8"
          ],
          [
           "Business-7ac6"
          ],
          [
           "Business-7ad4"
          ],
          [
           "Business-7ad8"
          ],
          [
           "Business-7aef"
          ],
          [
           "Business-7af0"
          ],
          [
           "Business-7af1"
          ],
          [
           "Business-7af9"
          ],
          [
           "Business-7b0e"
          ],
          [
           "Business-7b28"
          ],
          [
           "Business-7b3a"
          ],
          [
           "Business-7b40"
          ],
          [
           "Business-7b57"
          ],
          [
           "Business-7b74"
          ],
          [
           "Business-7b8f"
          ],
          [
           "Business-7b9e"
          ],
          [
           "Business-7baa"
          ],
          [
           "Business-7bbc"
          ],
          [
           "Business-7bc4"
          ],
          [
           "Business-7bd2"
          ],
          [
           "Business-7bd8"
          ],
          [
           "Business-7bdf"
          ],
          [
           "Business-7c25"
          ],
          [
           "Business-7c29"
          ],
          [
           "Business-7c37"
          ],
          [
           "Business-7c3d"
          ],
          [
           "Business-7c3e"
          ],
          [
           "Business-7c4e"
          ],
          [
           "Business-7c6a"
          ],
          [
           "Business-7c80"
          ],
          [
           "Business-7c8a"
          ],
          [
           "Business-7c93"
          ],
          [
           "Business-7c94"
          ],
          [
           "Business-7c97"
          ],
          [
           "Business-7c9e"
          ],
          [
           "Business-7cb0"
          ],
          [
           "Business-7cb3"
          ],
          [
           "Business-7cc1"
          ],
          [
           "Business-7cc9"
          ],
          [
           "Business-7cd2"
          ],
          [
           "Business-7cd8"
          ],
          [
           "Business-7cdb"
          ],
          [
           "Business-7ce1"
          ],
          [
           "Business-7ce5"
          ],
          [
           "Business-7ce8"
          ],
          [
           "Business-7cfa"
          ],
          [
           "Business-7d06"
          ],
          [
           "Business-7d09"
          ],
          [
           "Business-7d0f"
          ],
          [
           "Business-7d11"
          ],
          [
           "Business-7d15"
          ],
          [
           "Business-7d16"
          ],
          [
           "Business-7d23"
          ],
          [
           "Business-7d24"
          ],
          [
           "Business-7d27"
          ],
          [
           "Business-7d30"
          ],
          [
           "Business-7d41"
          ],
          [
           "Business-7d4f"
          ],
          [
           "Business-7d5a"
          ],
          [
           "Business-7d5d"
          ],
          [
           "Business-7d66"
          ],
          [
           "Business-7d69"
          ],
          [
           "Business-7d6b"
          ],
          [
           "Business-7d74"
          ],
          [
           "Business-7d80"
          ],
          [
           "Business-7d81"
          ],
          [
           "Business-7d98"
          ],
          [
           "Business-7d9b"
          ],
          [
           "Business-7d9c"
          ],
          [
           "Business-7da3"
          ],
          [
           "Business-7da7"
          ],
          [
           "Business-7db8"
          ],
          [
           "Business-7dbb"
          ],
          [
           "Business-7dc9"
          ],
          [
           "Business-7dcb"
          ],
          [
           "Business-7dd6"
          ],
          [
           "Business-7de7"
          ],
          [
           "Business-7dec"
          ],
          [
           "Business-7df0"
          ],
          [
           "Business-7e0e"
          ],
          [
           "Business-7e26"
          ],
          [
           "Business-7e2d"
          ],
          [
           "Business-7e2e"
          ],
          [
           "Business-7e52"
          ],
          [
           "Business-7e55"
          ],
          [
           "Business-7e69"
          ],
          [
           "Business-7e6f"
          ],
          [
           "Business-7e70"
          ],
          [
           "Business-7e71"
          ],
          [
           "Business-7e89"
          ],
          [
           "Business-7e9d"
          ],
          [
           "Business-7eb1"
          ],
          [
           "Business-7ef7"
          ],
          [
           "Business-7efb"
          ],
          [
           "Business-7f09"
          ],
          [
           "Business-7f0d"
          ],
          [
           "Business-7f24"
          ],
          [
           "Business-7f28"
          ],
          [
           "Business-7f2c"
          ],
          [
           "Business-7f36"
          ],
          [
           "Business-7f41"
          ],
          [
           "Business-7f63"
          ],
          [
           "Business-7f6a"
          ],
          [
           "Business-7f72"
          ],
          [
           "Business-7f77"
          ],
          [
           "Business-7f7e"
          ],
          [
           "Business-7f82"
          ],
          [
           "Business-7f97"
          ],
          [
           "Business-7f9f"
          ],
          [
           "Business-7fa0"
          ],
          [
           "Business-7fa2"
          ],
          [
           "Business-7fa5"
          ],
          [
           "Business-7fab"
          ],
          [
           "Business-7fda"
          ],
          [
           "Business-800c"
          ],
          [
           "Business-800e"
          ],
          [
           "Business-8011"
          ],
          [
           "Business-8020"
          ],
          [
           "Business-802a"
          ],
          [
           "Business-8037"
          ],
          [
           "Business-8038"
          ],
          [
           "Business-803c"
          ],
          [
           "Business-804a"
          ],
          [
           "Business-8052"
          ],
          [
           "Business-8076"
          ],
          [
           "Business-8077"
          ],
          [
           "Business-8089"
          ],
          [
           "Business-809e"
          ],
          [
           "Business-80c7"
          ],
          [
           "Business-80d7"
          ],
          [
           "Business-80fa"
          ],
          [
           "Business-8109"
          ],
          [
           "Business-810a"
          ],
          [
           "Business-810b"
          ],
          [
           "Business-8121"
          ],
          [
           "Business-8123"
          ],
          [
           "Business-814d"
          ],
          [
           "Business-8157"
          ],
          [
           "Business-8159"
          ],
          [
           "Business-8177"
          ],
          [
           "Business-817d"
          ],
          [
           "Business-81b7"
          ],
          [
           "Business-81b9"
          ],
          [
           "Business-81e2"
          ],
          [
           "Business-81f1"
          ],
          [
           "Business-81f5"
          ],
          [
           "Business-8202"
          ],
          [
           "Business-8216"
          ],
          [
           "Business-821e"
          ],
          [
           "Business-822f"
          ],
          [
           "Business-8232"
          ],
          [
           "Business-823a"
          ],
          [
           "Business-8250"
          ],
          [
           "Business-8261"
          ],
          [
           "Business-8264"
          ],
          [
           "Business-8266"
          ],
          [
           "Business-826f"
          ],
          [
           "Business-827a"
          ],
          [
           "Business-82a3"
          ],
          [
           "Business-82a8"
          ],
          [
           "Business-82b1"
          ],
          [
           "Business-82bc"
          ],
          [
           "Business-82c6"
          ],
          [
           "Business-82c7"
          ],
          [
           "Business-82c9"
          ],
          [
           "Business-82d2"
          ],
          [
           "Business-82dc"
          ],
          [
           "Business-82e9"
          ],
          [
           "Business-82ed"
          ],
          [
           "Business-830d"
          ],
          [
           "Business-8314"
          ],
          [
           "Business-8327"
          ],
          [
           "Business-8329"
          ],
          [
           "Business-8337"
          ],
          [
           "Business-8341"
          ],
          [
           "Business-8346"
          ],
          [
           "Business-834b"
          ],
          [
           "Business-835e"
          ],
          [
           "Business-8360"
          ],
          [
           "Business-8373"
          ],
          [
           "Business-838c"
          ],
          [
           "Business-8393"
          ],
          [
           "Business-8395"
          ],
          [
           "Business-839f"
          ],
          [
           "Business-83a0"
          ],
          [
           "Business-83a7"
          ],
          [
           "Business-83aa"
          ],
          [
           "Business-83c1"
          ],
          [
           "Business-83c8"
          ],
          [
           "Business-83ce"
          ],
          [
           "Business-83f0"
          ],
          [
           "Business-83f6"
          ],
          [
           "Business-8401"
          ],
          [
           "Business-840f"
          ],
          [
           "Business-8429"
          ],
          [
           "Business-842b"
          ],
          [
           "Business-8430"
          ],
          [
           "Business-843b"
          ],
          [
           "Business-843e"
          ],
          [
           "Business-8448"
          ],
          [
           "Business-844e"
          ],
          [
           "Business-8475"
          ],
          [
           "Business-847b"
          ],
          [
           "Business-848c"
          ],
          [
           "Business-848f"
          ],
          [
           "Business-84a6"
          ],
          [
           "Business-84bc"
          ],
          [
           "Business-84f4"
          ],
          [
           "Business-84f8"
          ],
          [
           "Business-8502"
          ],
          [
           "Business-8504"
          ],
          [
           "Business-851c"
          ],
          [
           "Business-8520"
          ],
          [
           "Business-8528"
          ],
          [
           "Business-8529"
          ],
          [
           "Business-8535"
          ],
          [
           "Business-8542"
          ],
          [
           "Business-8554"
          ],
          [
           "Business-8561"
          ],
          [
           "Business-856e"
          ],
          [
           "Business-8576"
          ],
          [
           "Business-8594"
          ],
          [
           "Business-85ad"
          ],
          [
           "Business-85cf"
          ],
          [
           "Business-85dd"
          ],
          [
           "Business-85e2"
          ],
          [
           "Business-85f1"
          ],
          [
           "Business-8603"
          ],
          [
           "Business-8611"
          ],
          [
           "Business-861f"
          ],
          [
           "Business-863b"
          ],
          [
           "Business-864f"
          ],
          [
           "Business-8654"
          ],
          [
           "Business-865c"
          ],
          [
           "Business-8672"
          ],
          [
           "Business-8680"
          ],
          [
           "Business-8689"
          ],
          [
           "Business-868e"
          ],
          [
           "Business-8691"
          ],
          [
           "Business-8697"
          ],
          [
           "Business-869b"
          ],
          [
           "Business-86a4"
          ],
          [
           "Business-86a8"
          ],
          [
           "Business-86ac"
          ],
          [
           "Business-86b1"
          ],
          [
           "Business-86b9"
          ],
          [
           "Business-86bc"
          ],
          [
           "Business-86c7"
          ],
          [
           "Business-86d4"
          ],
          [
           "Business-86f0"
          ],
          [
           "Business-86f8"
          ],
          [
           "Business-8701"
          ],
          [
           "Business-8711"
          ],
          [
           "Business-872a"
          ],
          [
           "Business-8740"
          ],
          [
           "Business-8749"
          ],
          [
           "Business-8754"
          ],
          [
           "Business-8765"
          ],
          [
           "Business-876f"
          ],
          [
           "Business-8791"
          ],
          [
           "Business-879a"
          ],
          [
           "Business-87b7"
          ],
          [
           "Business-87fa"
          ],
          [
           "Business-8823"
          ],
          [
           "Business-8828"
          ],
          [
           "Business-8829"
          ],
          [
           "Business-8837"
          ],
          [
           "Business-883a"
          ],
          [
           "Business-884f"
          ],
          [
           "Business-8854"
          ],
          [
           "Business-885e"
          ],
          [
           "Business-886b"
          ],
          [
           "Business-8870"
          ],
          [
           "Business-8881"
          ],
          [
           "Business-8896"
          ],
          [
           "Business-88ce"
          ],
          [
           "Business-88e2"
          ],
          [
           "Business-88e8"
          ],
          [
           "Business-88f2"
          ],
          [
           "Business-88fe"
          ],
          [
           "Business-8909"
          ],
          [
           "Business-890d"
          ],
          [
           "Business-8914"
          ],
          [
           "Business-891a"
          ],
          [
           "Business-8925"
          ],
          [
           "Business-892a"
          ],
          [
           "Business-893b"
          ],
          [
           "Business-8940"
          ],
          [
           "Business-8944"
          ],
          [
           "Business-8960"
          ],
          [
           "Business-8987"
          ],
          [
           "Business-89ab"
          ],
          [
           "Business-89ac"
          ],
          [
           "Business-89c7"
          ],
          [
           "Business-89da"
          ],
          [
           "Business-89de"
          ],
          [
           "Business-89ea"
          ],
          [
           "Business-89fd"
          ],
          [
           "Business-8a0e"
          ],
          [
           "Business-8a10"
          ],
          [
           "Business-8a17"
          ],
          [
           "Business-8a2f"
          ],
          [
           "Business-8a31"
          ],
          [
           "Business-8a4e"
          ],
          [
           "Business-8a4f"
          ],
          [
           "Business-8a69"
          ],
          [
           "Business-8a86"
          ],
          [
           "Business-8a88"
          ],
          [
           "Business-8a95"
          ],
          [
           "Business-8aad"
          ],
          [
           "Business-8ab1"
          ],
          [
           "Business-8ac5"
          ],
          [
           "Business-8acb"
          ],
          [
           "Business-8aee"
          ],
          [
           "Business-8b00"
          ],
          [
           "Business-8b08"
          ],
          [
           "Business-8b2a"
          ],
          [
           "Business-8b36"
          ],
          [
           "Business-8b41"
          ],
          [
           "Business-8b5c"
          ],
          [
           "Business-8b66"
          ],
          [
           "Business-8b71"
          ],
          [
           "Business-8b77"
          ],
          [
           "Business-8b96"
          ],
          [
           "Business-8b9b"
          ],
          [
           "Business-8baf"
          ],
          [
           "Business-8bb0"
          ],
          [
           "Business-8bb4"
          ],
          [
           "Business-8bc0"
          ],
          [
           "Business-8bc4"
          ],
          [
           "Business-8be0"
          ],
          [
           "Business-8bf5"
          ],
          [
           "Business-8bf9"
          ],
          [
           "Business-8bfd"
          ],
          [
           "Business-8bfe"
          ],
          [
           "Business-8c10"
          ],
          [
           "Business-8c1b"
          ],
          [
           "Business-8c48"
          ],
          [
           "Business-8c49"
          ],
          [
           "Business-8c56"
          ],
          [
           "Business-8ca3"
          ],
          [
           "Business-8ca4"
          ],
          [
           "Business-8ca5"
          ],
          [
           "Business-8cb5"
          ],
          [
           "Business-8cb7"
          ],
          [
           "Business-8cd7"
          ],
          [
           "Business-8cf2"
          ],
          [
           "Business-8cf7"
          ],
          [
           "Business-8d06"
          ],
          [
           "Business-8d1d"
          ],
          [
           "Business-8d38"
          ],
          [
           "Business-8d44"
          ],
          [
           "Business-8d45"
          ],
          [
           "Business-8d52"
          ],
          [
           "Business-8d64"
          ],
          [
           "Business-8d75"
          ],
          [
           "Business-8d7e"
          ],
          [
           "Business-8d87"
          ],
          [
           "Business-8d9c"
          ],
          [
           "Business-8d9d"
          ],
          [
           "Business-8dac"
          ],
          [
           "Business-8db8"
          ],
          [
           "Business-8dd9"
          ],
          [
           "Business-8de9"
          ],
          [
           "Business-8dfa"
          ],
          [
           "Business-8dfb"
          ],
          [
           "Business-8e04"
          ],
          [
           "Business-8e16"
          ],
          [
           "Business-8e3c"
          ],
          [
           "Business-8e4a"
          ],
          [
           "Business-8e52"
          ],
          [
           "Business-8e5d"
          ],
          [
           "Business-8e62"
          ],
          [
           "Business-8e69"
          ],
          [
           "Business-8e6f"
          ],
          [
           "Business-8e85"
          ],
          [
           "Business-8eaa"
          ],
          [
           "Business-8edf"
          ],
          [
           "Business-8ee0"
          ],
          [
           "Business-8ee7"
          ],
          [
           "Business-8ef0"
          ],
          [
           "Business-8f0e"
          ],
          [
           "Business-8f1c"
          ],
          [
           "Business-8f2f"
          ],
          [
           "Business-8f4e"
          ],
          [
           "Business-8f5e"
          ],
          [
           "Business-8f7d"
          ],
          [
           "Business-8f7e"
          ],
          [
           "Business-8f86"
          ],
          [
           "Business-8fb0"
          ],
          [
           "Business-8fc9"
          ],
          [
           "Business-8fcf"
          ],
          [
           "Business-8ff6"
          ],
          [
           "Business-9011"
          ],
          [
           "Business-9020"
          ],
          [
           "Business-9045"
          ],
          [
           "Business-9048"
          ],
          [
           "Business-905b"
          ],
          [
           "Business-9066"
          ],
          [
           "Business-906b"
          ],
          [
           "Business-9084"
          ],
          [
           "Business-9086"
          ],
          [
           "Business-90a3"
          ],
          [
           "Business-90ad"
          ],
          [
           "Business-90d8"
          ],
          [
           "Business-90e2"
          ],
          [
           "Business-90f4"
          ],
          [
           "Business-913b"
          ],
          [
           "Business-9140"
          ],
          [
           "Business-9147"
          ],
          [
           "Business-9159"
          ],
          [
           "Business-9166"
          ],
          [
           "Business-9179"
          ],
          [
           "Business-9187"
          ],
          [
           "Business-9193"
          ],
          [
           "Business-91a4"
          ],
          [
           "Business-91b3"
          ],
          [
           "Business-91b5"
          ],
          [
           "Business-91b6"
          ],
          [
           "Business-9226"
          ],
          [
           "Business-922b"
          ],
          [
           "Business-9246"
          ],
          [
           "Business-924d"
          ],
          [
           "Business-9256"
          ],
          [
           "Business-9258"
          ],
          [
           "Business-925d"
          ],
          [
           "Business-9274"
          ],
          [
           "Business-9279"
          ],
          [
           "Business-9280"
          ],
          [
           "Business-928a"
          ],
          [
           "Business-929c"
          ],
          [
           "Business-92a9"
          ],
          [
           "Business-92b5"
          ],
          [
           "Business-92b6"
          ],
          [
           "Business-92eb"
          ],
          [
           "Business-92ec"
          ],
          [
           "Business-92ed"
          ],
          [
           "Business-930d"
          ],
          [
           "Business-9317"
          ],
          [
           "Business-9338"
          ],
          [
           "Business-9343"
          ],
          [
           "Business-9354"
          ],
          [
           "Business-9370"
          ],
          [
           "Business-937b"
          ],
          [
           "Business-9383"
          ],
          [
           "Business-9392"
          ],
          [
           "Business-93a0"
          ],
          [
           "Business-93a5"
          ],
          [
           "Business-93a6"
          ],
          [
           "Business-93e2"
          ],
          [
           "Business-93eb"
          ],
          [
           "Business-93f4"
          ],
          [
           "Business-93f6"
          ],
          [
           "Business-9412"
          ],
          [
           "Business-9452"
          ],
          [
           "Business-946e"
          ],
          [
           "Business-949f"
          ],
          [
           "Business-94a2"
          ],
          [
           "Business-94de"
          ],
          [
           "Business-94e3"
          ],
          [
           "Business-94f3"
          ],
          [
           "Business-94f5"
          ],
          [
           "Business-9510"
          ],
          [
           "Business-9511"
          ],
          [
           "Business-9512"
          ],
          [
           "Business-951e"
          ],
          [
           "Business-9528"
          ],
          [
           "Business-952a"
          ],
          [
           "Business-9547"
          ],
          [
           "Business-959b"
          ],
          [
           "Business-95ab"
          ],
          [
           "Business-95b1"
          ],
          [
           "Business-95c5"
          ],
          [
           "Business-95c9"
          ],
          [
           "Business-95d4"
          ],
          [
           "Business-95db"
          ],
          [
           "Business-9614"
          ],
          [
           "Business-962a"
          ],
          [
           "Business-9632"
          ],
          [
           "Business-964a"
          ],
          [
           "Business-965d"
          ],
          [
           "Business-966a"
          ],
          [
           "Business-966e"
          ],
          [
           "Business-9695"
          ],
          [
           "Business-9697"
          ],
          [
           "Business-9699"
          ],
          [
           "Business-969a"
          ],
          [
           "Business-96bb"
          ],
          [
           "Business-96c3"
          ],
          [
           "Business-96c6"
          ],
          [
           "Business-96c9"
          ],
          [
           "Business-96d3"
          ],
          [
           "Business-96eb"
          ],
          [
           "Business-9712"
          ],
          [
           "Business-9718"
          ],
          [
           "Business-9725"
          ],
          [
           "Business-9732"
          ],
          [
           "Business-9741"
          ],
          [
           "Business-9756"
          ],
          [
           "Business-9768"
          ],
          [
           "Business-9770"
          ],
          [
           "Business-978c"
          ],
          [
           "Business-97ae"
          ],
          [
           "Business-97c7"
          ],
          [
           "Business-97cf"
          ],
          [
           "Business-97df"
          ],
          [
           "Business-97e8"
          ],
          [
           "Business-97e9"
          ],
          [
           "Business-9807"
          ],
          [
           "Business-9813"
          ],
          [
           "Business-9817"
          ],
          [
           "Business-9867"
          ],
          [
           "Business-98b5"
          ],
          [
           "Business-98ba"
          ],
          [
           "Business-98bc"
          ],
          [
           "Business-98d4"
          ],
          [
           "Business-98d9"
          ],
          [
           "Business-98de"
          ],
          [
           "Business-9909"
          ],
          [
           "Business-990e"
          ],
          [
           "Business-9911"
          ],
          [
           "Business-9916"
          ],
          [
           "Business-9917"
          ],
          [
           "Business-9918"
          ],
          [
           "Business-991a"
          ],
          [
           "Business-9937"
          ],
          [
           "Business-9960"
          ],
          [
           "Business-9978"
          ],
          [
           "Business-997c"
          ],
          [
           "Business-9981"
          ],
          [
           "Business-9983"
          ],
          [
           "Business-998c"
          ],
          [
           "Business-99bb"
          ],
          [
           "Business-99da"
          ],
          [
           "Business-99e4"
          ],
          [
           "Business-99e9"
          ],
          [
           "Business-99f1"
          ],
          [
           "Business-99fe"
          ],
          [
           "Business-9a15"
          ],
          [
           "Business-9a2d"
          ],
          [
           "Business-9a59"
          ],
          [
           "Business-9a60"
          ],
          [
           "Business-9a67"
          ],
          [
           "Business-9a6c"
          ],
          [
           "Business-9a6e"
          ],
          [
           "Business-9a87"
          ],
          [
           "Business-9a8e"
          ],
          [
           "Business-9a8f"
          ],
          [
           "Business-9aa1"
          ],
          [
           "Business-9ab5"
          ],
          [
           "Business-9ac7"
          ],
          [
           "Business-9add"
          ],
          [
           "Business-9b47"
          ],
          [
           "Business-9b4a"
          ],
          [
           "Business-9b7b"
          ],
          [
           "Business-9ba4"
          ],
          [
           "Business-9bb3"
          ],
          [
           "Business-9bc8"
          ],
          [
           "Business-9bdd"
          ],
          [
           "Business-9be8"
          ],
          [
           "Business-9be9"
          ],
          [
           "Business-9beb"
          ],
          [
           "Business-9bf9"
          ],
          [
           "Business-9c04"
          ],
          [
           "Business-9c3d"
          ],
          [
           "Business-9c5a"
          ],
          [
           "Business-9c61"
          ],
          [
           "Business-9caf"
          ],
          [
           "Business-9cb1"
          ],
          [
           "Business-9cb4"
          ],
          [
           "Business-9ccb"
          ],
          [
           "Business-9cdf"
          ],
          [
           "Business-9ce3"
          ],
          [
           "Business-9cff"
          ],
          [
           "Business-9d04"
          ],
          [
           "Business-9d16"
          ],
          [
           "Business-9d26"
          ],
          [
           "Business-9d47"
          ],
          [
           "Business-9d5f"
          ],
          [
           "Business-9d6e"
          ],
          [
           "Business-9d7c"
          ],
          [
           "Business-9d95"
          ],
          [
           "Business-9dab"
          ],
          [
           "Business-9daf"
          ],
          [
           "Business-9dd9"
          ],
          [
           "Business-9dfa"
          ],
          [
           "Business-9e08"
          ],
          [
           "Business-9e0c"
          ],
          [
           "Business-9e27"
          ],
          [
           "Business-9e30"
          ],
          [
           "Business-9e50"
          ],
          [
           "Business-9e5f"
          ],
          [
           "Business-9e71"
          ],
          [
           "Business-9e91"
          ],
          [
           "Business-9ea0"
          ],
          [
           "Business-9ead"
          ],
          [
           "Business-9ec2"
          ],
          [
           "Business-9ec3"
          ],
          [
           "Business-9ec4"
          ],
          [
           "Business-9ed4"
          ],
          [
           "Business-9edf"
          ],
          [
           "Business-9ee1"
          ],
          [
           "Business-9eec"
          ],
          [
           "Business-9f41"
          ],
          [
           "Business-9f4f"
          ],
          [
           "Business-9f61"
          ],
          [
           "Business-9f90"
          ],
          [
           "Business-9fa0"
          ],
          [
           "Business-9fa6"
          ],
          [
           "Business-9faf"
          ],
          [
           "Business-9fba"
          ],
          [
           "Business-9fd1"
          ],
          [
           "Business-9fd8"
          ],
          [
           "Business-9feb"
          ],
          [
           "Business-9fed"
          ],
          [
           "Business-9ff8"
          ],
          [
           "Business-9ffe"
          ],
          [
           "Business-a002"
          ],
          [
           "Business-a012"
          ],
          [
           "Business-a02b"
          ],
          [
           "Business-a043"
          ],
          [
           "Business-a05f"
          ],
          [
           "Business-a061"
          ],
          [
           "Business-a062"
          ],
          [
           "Business-a078"
          ],
          [
           "Business-a07f"
          ],
          [
           "Business-a085"
          ],
          [
           "Business-a09e"
          ],
          [
           "Business-a0aa"
          ],
          [
           "Business-a0bd"
          ],
          [
           "Business-a0c1"
          ],
          [
           "Business-a0d9"
          ],
          [
           "Business-a12f"
          ],
          [
           "Business-a132"
          ],
          [
           "Business-a13e"
          ],
          [
           "Business-a149"
          ],
          [
           "Business-a15a"
          ],
          [
           "Business-a15d"
          ],
          [
           "Business-a166"
          ],
          [
           "Business-a16a"
          ],
          [
           "Business-a170"
          ],
          [
           "Business-a172"
          ],
          [
           "Business-a187"
          ],
          [
           "Business-a18e"
          ],
          [
           "Business-a18f"
          ],
          [
           "Business-a196"
          ],
          [
           "Business-a197"
          ],
          [
           "Business-a19a"
          ],
          [
           "Business-a1a6"
          ],
          [
           "Business-a1a7"
          ],
          [
           "Business-a1b0"
          ],
          [
           "Business-a1be"
          ],
          [
           "Business-a1db"
          ],
          [
           "Business-a1f1"
          ],
          [
           "Business-a21f"
          ],
          [
           "Business-a221"
          ],
          [
           "Business-a225"
          ],
          [
           "Business-a22f"
          ],
          [
           "Business-a24a"
          ],
          [
           "Business-a25b"
          ],
          [
           "Business-a264"
          ],
          [
           "Business-a282"
          ],
          [
           "Business-a28f"
          ],
          [
           "Business-a298"
          ],
          [
           "Business-a2a1"
          ],
          [
           "Business-a2ae"
          ],
          [
           "Business-a2b1"
          ],
          [
           "Business-a2ba"
          ],
          [
           "Business-a2c1"
          ],
          [
           "Business-a2cb"
          ],
          [
           "Business-a2d5"
          ],
          [
           "Business-a2d7"
          ],
          [
           "Business-a2f8"
          ],
          [
           "Business-a304"
          ],
          [
           "Business-a324"
          ],
          [
           "Business-a332"
          ],
          [
           "Business-a334"
          ],
          [
           "Business-a346"
          ],
          [
           "Business-a353"
          ],
          [
           "Business-a364"
          ],
          [
           "Business-a391"
          ],
          [
           "Business-a39a"
          ],
          [
           "Business-a39b"
          ],
          [
           "Business-a3a0"
          ],
          [
           "Business-a3da"
          ],
          [
           "Business-a3e6"
          ],
          [
           "Business-a3e9"
          ],
          [
           "Business-a3ee"
          ],
          [
           "Business-a409"
          ],
          [
           "Business-a417"
          ],
          [
           "Business-a422"
          ],
          [
           "Business-a427"
          ],
          [
           "Business-a44a"
          ],
          [
           "Business-a462"
          ],
          [
           "Business-a465"
          ],
          [
           "Business-a476"
          ],
          [
           "Business-a47b"
          ],
          [
           "Business-a47c"
          ],
          [
           "Business-a484"
          ],
          [
           "Business-a4a5"
          ],
          [
           "Business-a4af"
          ],
          [
           "Business-a4b5"
          ],
          [
           "Business-a4ea"
          ],
          [
           "Business-a4fa"
          ],
          [
           "Business-a50a"
          ],
          [
           "Business-a51c"
          ],
          [
           "Business-a523"
          ],
          [
           "Business-a534"
          ],
          [
           "Business-a549"
          ],
          [
           "Business-a54b"
          ],
          [
           "Business-a55f"
          ],
          [
           "Business-a563"
          ],
          [
           "Business-a568"
          ],
          [
           "Business-a585"
          ],
          [
           "Business-a58d"
          ],
          [
           "Business-a58f"
          ],
          [
           "Business-a5ac"
          ],
          [
           "Business-a5cd"
          ],
          [
           "Business-a5f2"
          ],
          [
           "Business-a609"
          ],
          [
           "Business-a616"
          ],
          [
           "Business-a62d"
          ],
          [
           "Business-a63b"
          ],
          [
           "Business-a65e"
          ],
          [
           "Business-a682"
          ],
          [
           "Business-a68e"
          ],
          [
           "Business-a6b2"
          ],
          [
           "Business-a6b6"
          ],
          [
           "Business-a6b8"
          ],
          [
           "Business-a6c4"
          ],
          [
           "Business-a6c6"
          ],
          [
           "Business-a6ce"
          ],
          [
           "Business-a6d9"
          ],
          [
           "Business-a6dc"
          ],
          [
           "Business-a6e2"
          ],
          [
           "Business-a6e4"
          ],
          [
           "Business-a6ed"
          ],
          [
           "Business-a703"
          ],
          [
           "Business-a709"
          ],
          [
           "Business-a70f"
          ],
          [
           "Business-a712"
          ],
          [
           "Business-a717"
          ],
          [
           "Business-a71a"
          ],
          [
           "Business-a71f"
          ],
          [
           "Business-a728"
          ],
          [
           "Business-a747"
          ],
          [
           "Business-a75f"
          ],
          [
           "Business-a76a"
          ],
          [
           "Business-a76c"
          ],
          [
           "Business-a774"
          ],
          [
           "Business-a78d"
          ],
          [
           "Business-a7a3"
          ],
          [
           "Business-a7cf"
          ],
          [
           "Business-a7d3"
          ],
          [
           "Business-a7d6"
          ],
          [
           "Business-a7f1"
          ],
          [
           "Business-a801"
          ],
          [
           "Business-a81b"
          ],
          [
           "Business-a820"
          ],
          [
           "Business-a825"
          ],
          [
           "Business-a82f"
          ],
          [
           "Business-a835"
          ],
          [
           "Business-a847"
          ],
          [
           "Business-a850"
          ],
          [
           "Business-a85f"
          ],
          [
           "Business-a869"
          ],
          [
           "Business-a883"
          ],
          [
           "Business-a8b3"
          ],
          [
           "Business-a8e1"
          ],
          [
           "Business-a8ea"
          ],
          [
           "Business-a8ef"
          ],
          [
           "Business-a8fc"
          ],
          [
           "Business-a8ff"
          ],
          [
           "Business-a91c"
          ],
          [
           "Business-a91e"
          ],
          [
           "Business-a928"
          ],
          [
           "Business-a92a"
          ],
          [
           "Business-a939"
          ],
          [
           "Business-a987"
          ],
          [
           "Business-a990"
          ],
          [
           "Business-a995"
          ],
          [
           "Business-a999"
          ],
          [
           "Business-a99f"
          ],
          [
           "Business-a9a7"
          ],
          [
           "Business-a9ab"
          ],
          [
           "Business-a9be"
          ],
          [
           "Business-a9c0"
          ],
          [
           "Business-a9c4"
          ],
          [
           "Business-a9d9"
          ],
          [
           "Business-a9dd"
          ],
          [
           "Business-aa04"
          ],
          [
           "Business-aa2b"
          ],
          [
           "Business-aa2e"
          ],
          [
           "Business-aa33"
          ],
          [
           "Business-aa3d"
          ],
          [
           "Business-aa41"
          ],
          [
           "Business-aa55"
          ],
          [
           "Business-aa59"
          ],
          [
           "Business-aa71"
          ],
          [
           "Business-aa74"
          ],
          [
           "Business-aa79"
          ],
          [
           "Business-aa89"
          ],
          [
           "Business-aab8"
          ],
          [
           "Business-aabd"
          ],
          [
           "Business-aadf"
          ],
          [
           "Business-aae9"
          ],
          [
           "Business-aaef"
          ],
          [
           "Business-ab02"
          ],
          [
           "Business-ab0b"
          ],
          [
           "Business-ab10"
          ],
          [
           "Business-ab1f"
          ],
          [
           "Business-ab40"
          ],
          [
           "Business-ab4d"
          ],
          [
           "Business-ab52"
          ],
          [
           "Business-ab77"
          ],
          [
           "Business-ab8c"
          ],
          [
           "Business-aba8"
          ],
          [
           "Business-abae"
          ],
          [
           "Business-abb1"
          ],
          [
           "Business-abb8"
          ],
          [
           "Business-abc4"
          ],
          [
           "Business-abc5"
          ],
          [
           "Business-abca"
          ],
          [
           "Business-abcb"
          ],
          [
           "Business-abe0"
          ],
          [
           "Business-abed"
          ],
          [
           "Business-abf9"
          ],
          [
           "Business-abfe"
          ],
          [
           "Business-ac0d"
          ],
          [
           "Business-ac16"
          ],
          [
           "Business-ac17"
          ],
          [
           "Business-ac29"
          ],
          [
           "Business-ac50"
          ],
          [
           "Business-ac5a"
          ],
          [
           "Business-ac5b"
          ],
          [
           "Business-ac5d"
          ],
          [
           "Business-ac67"
          ],
          [
           "Business-ac7e"
          ],
          [
           "Business-ac82"
          ],
          [
           "Business-ace3"
          ],
          [
           "Business-ace9"
          ],
          [
           "Business-acff"
          ],
          [
           "Business-ad1f"
          ],
          [
           "Business-ad5a"
          ],
          [
           "Business-ad63"
          ],
          [
           "Business-ad6a"
          ],
          [
           "Business-ad72"
          ],
          [
           "Business-ad77"
          ],
          [
           "Business-ad9f"
          ],
          [
           "Business-ada7"
          ],
          [
           "Business-adac"
          ],
          [
           "Business-adbe"
          ],
          [
           "Business-adc7"
          ],
          [
           "Business-adc9"
          ],
          [
           "Business-adcf"
          ],
          [
           "Business-adef"
          ],
          [
           "Business-adfa"
          ],
          [
           "Business-adfd"
          ],
          [
           "Business-ae03"
          ],
          [
           "Business-ae08"
          ],
          [
           "Business-ae0b"
          ],
          [
           "Business-ae18"
          ],
          [
           "Business-ae1d"
          ],
          [
           "Business-ae24"
          ],
          [
           "Business-ae2f"
          ],
          [
           "Business-ae31"
          ],
          [
           "Business-ae37"
          ],
          [
           "Business-ae5f"
          ],
          [
           "Business-ae62"
          ],
          [
           "Business-ae6f"
          ],
          [
           "Business-ae70"
          ],
          [
           "Business-ae7e"
          ],
          [
           "Business-ae94"
          ],
          [
           "Business-aea0"
          ],
          [
           "Business-aea3"
          ],
          [
           "Business-aebd"
          ],
          [
           "Business-aebf"
          ],
          [
           "Business-aec5"
          ],
          [
           "Business-aecf"
          ],
          [
           "Business-aef2"
          ],
          [
           "Business-af19"
          ],
          [
           "Business-af24"
          ],
          [
           "Business-af39"
          ],
          [
           "Business-af3e"
          ],
          [
           "Business-af6e"
          ],
          [
           "Business-af74"
          ],
          [
           "Business-af76"
          ],
          [
           "Business-af7a"
          ],
          [
           "Business-afa9"
          ],
          [
           "Business-afc3"
          ],
          [
           "Business-afc4"
          ],
          [
           "Business-afce"
          ],
          [
           "Business-afd4"
          ],
          [
           "Business-afd5"
          ],
          [
           "Business-afe2"
          ],
          [
           "Business-b00e"
          ],
          [
           "Business-b013"
          ],
          [
           "Business-b014"
          ],
          [
           "Business-b019"
          ],
          [
           "Business-b02f"
          ],
          [
           "Business-b049"
          ],
          [
           "Business-b050"
          ],
          [
           "Business-b056"
          ],
          [
           "Business-b058"
          ],
          [
           "Business-b059"
          ],
          [
           "Business-b07b"
          ],
          [
           "Business-b093"
          ],
          [
           "Business-b098"
          ],
          [
           "Business-b0ac"
          ],
          [
           "Business-b0b2"
          ],
          [
           "Business-b0ba"
          ],
          [
           "Business-b0c4"
          ],
          [
           "Business-b0cf"
          ],
          [
           "Business-b0e4"
          ],
          [
           "Business-b0f4"
          ],
          [
           "Business-b0f5"
          ],
          [
           "Business-b0f9"
          ],
          [
           "Business-b104"
          ],
          [
           "Business-b11d"
          ],
          [
           "Business-b143"
          ],
          [
           "Business-b146"
          ],
          [
           "Business-b14d"
          ],
          [
           "Business-b15b"
          ],
          [
           "Business-b162"
          ],
          [
           "Business-b188"
          ],
          [
           "Business-b192"
          ],
          [
           "Business-b197"
          ],
          [
           "Business-b1b3"
          ],
          [
           "Business-b1c1"
          ],
          [
           "Business-b1c4"
          ],
          [
           "Business-b1c6"
          ],
          [
           "Business-b1cc"
          ],
          [
           "Business-b1d0"
          ],
          [
           "Business-b1d6"
          ],
          [
           "Business-b1e0"
          ],
          [
           "Business-b1ef"
          ],
          [
           "Business-b22b"
          ],
          [
           "Business-b243"
          ],
          [
           "Business-b245"
          ],
          [
           "Business-b256"
          ],
          [
           "Business-b25b"
          ],
          [
           "Business-b26e"
          ],
          [
           "Business-b285"
          ],
          [
           "Business-b28a"
          ],
          [
           "Business-b292"
          ],
          [
           "Business-b295"
          ],
          [
           "Business-b299"
          ],
          [
           "Business-b2a4"
          ],
          [
           "Business-b2a8"
          ],
          [
           "Business-b2aa"
          ],
          [
           "Business-b2ac"
          ],
          [
           "Business-b2c8"
          ],
          [
           "Business-b2f7"
          ],
          [
           "Business-b301"
          ],
          [
           "Business-b303"
          ],
          [
           "Business-b325"
          ],
          [
           "Business-b32d"
          ],
          [
           "Business-b334"
          ],
          [
           "Business-b35b"
          ],
          [
           "Business-b35e"
          ],
          [
           "Business-b360"
          ],
          [
           "Business-b361"
          ],
          [
           "Business-b362"
          ],
          [
           "Business-b372"
          ],
          [
           "Business-b38f"
          ],
          [
           "Business-b395"
          ],
          [
           "Business-b3a0"
          ],
          [
           "Business-b3a3"
          ],
          [
           "Business-b3c2"
          ],
          [
           "Business-b3d2"
          ],
          [
           "Business-b3e6"
          ],
          [
           "Business-b3f7"
          ],
          [
           "Business-b3f8"
          ],
          [
           "Business-b404"
          ],
          [
           "Business-b41c"
          ],
          [
           "Business-b42b"
          ],
          [
           "Business-b43c"
          ],
          [
           "Business-b43f"
          ],
          [
           "Business-b444"
          ],
          [
           "Business-b453"
          ],
          [
           "Business-b467"
          ],
          [
           "Business-b473"
          ],
          [
           "Business-b488"
          ],
          [
           "Business-b48a"
          ],
          [
           "Business-b4b5"
          ],
          [
           "Business-b4b9"
          ],
          [
           "Business-b4bd"
          ],
          [
           "Business-b4ea"
          ],
          [
           "Business-b4ed"
          ],
          [
           "Business-b4f0"
          ],
          [
           "Business-b4f8"
          ],
          [
           "Business-b517"
          ],
          [
           "Business-b51a"
          ],
          [
           "Business-b51c"
          ],
          [
           "Business-b530"
          ],
          [
           "Business-b536"
          ],
          [
           "Business-b551"
          ],
          [
           "Business-b567"
          ],
          [
           "Business-b587"
          ],
          [
           "Business-b58c"
          ],
          [
           "Business-b591"
          ],
          [
           "Business-b593"
          ],
          [
           "Business-b5a6"
          ],
          [
           "Business-b5b5"
          ],
          [
           "Business-b5b6"
          ],
          [
           "Business-b5ba"
          ],
          [
           "Business-b5bd"
          ],
          [
           "Business-b5cb"
          ],
          [
           "Business-b5ce"
          ],
          [
           "Business-b5fa"
          ],
          [
           "Business-b603"
          ],
          [
           "Business-b609"
          ],
          [
           "Business-b613"
          ],
          [
           "Business-b619"
          ],
          [
           "Business-b620"
          ],
          [
           "Business-b627"
          ],
          [
           "Business-b62e"
          ],
          [
           "Business-b646"
          ],
          [
           "Business-b649"
          ],
          [
           "Business-b65d"
          ],
          [
           "Business-b675"
          ],
          [
           "Business-b68f"
          ],
          [
           "Business-b699"
          ],
          [
           "Business-b69f"
          ],
          [
           "Business-b6a3"
          ],
          [
           "Business-b6c2"
          ],
          [
           "Business-b6eb"
          ],
          [
           "Business-b6ef"
          ],
          [
           "Business-b710"
          ],
          [
           "Business-b71a"
          ],
          [
           "Business-b71f"
          ],
          [
           "Business-b72e"
          ],
          [
           "Business-b73c"
          ],
          [
           "Business-b73f"
          ],
          [
           "Business-b75e"
          ],
          [
           "Business-b764"
          ],
          [
           "Business-b774"
          ],
          [
           "Business-b779"
          ],
          [
           "Business-b77a"
          ],
          [
           "Business-b784"
          ],
          [
           "Business-b785"
          ],
          [
           "Business-b7a6"
          ],
          [
           "Business-b7bf"
          ],
          [
           "Business-b7c2"
          ],
          [
           "Business-b7d1"
          ],
          [
           "Business-b7d7"
          ],
          [
           "Business-b7e3"
          ],
          [
           "Business-b7e6"
          ],
          [
           "Business-b7e7"
          ],
          [
           "Business-b7f3"
          ],
          [
           "Business-b804"
          ],
          [
           "Business-b816"
          ],
          [
           "Business-b827"
          ],
          [
           "Business-b837"
          ],
          [
           "Business-b85d"
          ],
          [
           "Business-b85f"
          ],
          [
           "Business-b884"
          ],
          [
           "Business-b886"
          ],
          [
           "Business-b88d"
          ],
          [
           "Business-b88e"
          ],
          [
           "Business-b898"
          ],
          [
           "Business-b8a7"
          ],
          [
           "Business-b8d8"
          ],
          [
           "Business-b8f6"
          ],
          [
           "Business-b901"
          ],
          [
           "Business-b903"
          ],
          [
           "Business-b919"
          ],
          [
           "Business-b91d"
          ],
          [
           "Business-b92b"
          ],
          [
           "Business-b92c"
          ],
          [
           "Business-b92e"
          ],
          [
           "Business-b941"
          ],
          [
           "Business-b943"
          ],
          [
           "Business-b95c"
          ],
          [
           "Business-b979"
          ],
          [
           "Business-b980"
          ],
          [
           "Business-b9a6"
          ],
          [
           "Business-b9a7"
          ],
          [
           "Business-b9ac"
          ],
          [
           "Business-b9b6"
          ],
          [
           "Business-b9b8"
          ],
          [
           "Business-b9bd"
          ],
          [
           "Business-b9c1"
          ],
          [
           "Business-b9e9"
          ],
          [
           "Business-b9f6"
          ],
          [
           "Business-ba08"
          ],
          [
           "Business-ba0d"
          ],
          [
           "Business-ba10"
          ],
          [
           "Business-ba15"
          ],
          [
           "Business-ba20"
          ],
          [
           "Business-ba25"
          ],
          [
           "Business-ba2a"
          ],
          [
           "Business-ba37"
          ],
          [
           "Business-ba39"
          ],
          [
           "Business-ba52"
          ],
          [
           "Business-ba7e"
          ],
          [
           "Business-bab8"
          ],
          [
           "Business-baeb"
          ],
          [
           "Business-bb34"
          ],
          [
           "Business-bb36"
          ],
          [
           "Business-bb3e"
          ],
          [
           "Business-bb3f"
          ],
          [
           "Business-bb47"
          ],
          [
           "Business-bb51"
          ],
          [
           "Business-bb7b"
          ],
          [
           "Business-bb83"
          ],
          [
           "Business-bb8a"
          ],
          [
           "Business-bba4"
          ],
          [
           "Business-bba7"
          ],
          [
           "Business-bba8"
          ],
          [
           "Business-bbb9"
          ],
          [
           "Business-bbc0"
          ],
          [
           "Business-bbf6"
          ],
          [
           "Business-bc19"
          ],
          [
           "Business-bc1c"
          ],
          [
           "Business-bc3d"
          ],
          [
           "Business-bc6a"
          ],
          [
           "Business-bc6c"
          ],
          [
           "Business-bc71"
          ],
          [
           "Business-bc7c"
          ],
          [
           "Business-bc7f"
          ],
          [
           "Business-bc83"
          ],
          [
           "Business-bc8b"
          ],
          [
           "Business-bc9e"
          ],
          [
           "Business-bca7"
          ],
          [
           "Business-bce9"
          ],
          [
           "Business-bceb"
          ],
          [
           "Business-bcf1"
          ],
          [
           "Business-bcff"
          ],
          [
           "Business-bd0a"
          ],
          [
           "Business-bd0c"
          ],
          [
           "Business-bd11"
          ],
          [
           "Business-bd15"
          ],
          [
           "Business-bd23"
          ],
          [
           "Business-bd33"
          ],
          [
           "Business-bd6d"
          ],
          [
           "Business-bd75"
          ],
          [
           "Business-bd8a"
          ],
          [
           "Business-bd94"
          ],
          [
           "Business-bd99"
          ],
          [
           "Business-bdb3"
          ],
          [
           "Business-bdba"
          ],
          [
           "Business-bdd2"
          ],
          [
           "Business-bdd6"
          ],
          [
           "Business-bdea"
          ],
          [
           "Business-bdf9"
          ],
          [
           "Business-be14"
          ],
          [
           "Business-be24"
          ],
          [
           "Business-be40"
          ],
          [
           "Business-be43"
          ],
          [
           "Business-be64"
          ],
          [
           "Business-be73"
          ],
          [
           "Business-be84"
          ],
          [
           "Business-be87"
          ],
          [
           "Business-be9c"
          ],
          [
           "Business-beaf"
          ],
          [
           "Business-befb"
          ],
          [
           "Business-bf0b"
          ],
          [
           "Business-bf3d"
          ],
          [
           "Business-bf42"
          ],
          [
           "Business-bf68"
          ],
          [
           "Business-bf83"
          ],
          [
           "Business-bf92"
          ],
          [
           "Business-bf95"
          ],
          [
           "Business-bfa0"
          ],
          [
           "Business-bfa2"
          ],
          [
           "Business-bfa7"
          ],
          [
           "Business-bfaa"
          ],
          [
           "Business-bfae"
          ],
          [
           "Business-bfb4"
          ],
          [
           "Business-bfc3"
          ],
          [
           "Business-bfcd"
          ],
          [
           "Business-bfce"
          ],
          [
           "Business-bfd5"
          ],
          [
           "Business-bfdc"
          ],
          [
           "Business-bff1"
          ],
          [
           "Business-bffa"
          ],
          [
           "Business-c005"
          ],
          [
           "Business-c00a"
          ],
          [
           "Business-c024"
          ],
          [
           "Business-c02b"
          ],
          [
           "Business-c030"
          ],
          [
           "Business-c039"
          ],
          [
           "Business-c04f"
          ],
          [
           "Business-c056"
          ],
          [
           "Business-c05c"
          ],
          [
           "Business-c07e"
          ],
          [
           "Business-c082"
          ],
          [
           "Business-c08c"
          ],
          [
           "Business-c095"
          ],
          [
           "Business-c0a9"
          ],
          [
           "Business-c0ae"
          ],
          [
           "Business-c0ce"
          ],
          [
           "Business-c0e6"
          ],
          [
           "Business-c0f0"
          ],
          [
           "Business-c0f5"
          ],
          [
           "Business-c105"
          ],
          [
           "Business-c10c"
          ],
          [
           "Business-c10d"
          ],
          [
           "Business-c113"
          ],
          [
           "Business-c11a"
          ],
          [
           "Business-c12a"
          ],
          [
           "Business-c130"
          ],
          [
           "Business-c149"
          ],
          [
           "Business-c14e"
          ],
          [
           "Business-c152"
          ],
          [
           "Business-c153"
          ],
          [
           "Business-c155"
          ],
          [
           "Business-c170"
          ],
          [
           "Business-c182"
          ],
          [
           "Business-c18e"
          ],
          [
           "Business-c192"
          ],
          [
           "Business-c19b"
          ],
          [
           "Business-c1a0"
          ],
          [
           "Business-c1a2"
          ],
          [
           "Business-c1a8"
          ],
          [
           "Business-c1be"
          ],
          [
           "Business-c1c9"
          ],
          [
           "Business-c1d8"
          ],
          [
           "Business-c1de"
          ],
          [
           "Business-c1e2"
          ],
          [
           "Business-c1e9"
          ],
          [
           "Business-c1f7"
          ],
          [
           "Business-c207"
          ],
          [
           "Business-c219"
          ],
          [
           "Business-c21d"
          ],
          [
           "Business-c22f"
          ],
          [
           "Business-c231"
          ],
          [
           "Business-c233"
          ],
          [
           "Business-c244"
          ],
          [
           "Business-c251"
          ],
          [
           "Business-c263"
          ],
          [
           "Business-c291"
          ],
          [
           "Business-c29f"
          ],
          [
           "Business-c2aa"
          ],
          [
           "Business-c2e8"
          ],
          [
           "Business-c31a"
          ],
          [
           "Business-c321"
          ],
          [
           "Business-c323"
          ],
          [
           "Business-c328"
          ],
          [
           "Business-c33f"
          ],
          [
           "Business-c34d"
          ],
          [
           "Business-c357"
          ],
          [
           "Business-c35d"
          ],
          [
           "Business-c37d"
          ],
          [
           "Business-c399"
          ],
          [
           "Business-c39e"
          ],
          [
           "Business-c3a2"
          ],
          [
           "Business-c3bc"
          ],
          [
           "Business-c3c3"
          ],
          [
           "Business-c3cb"
          ],
          [
           "Business-c3f0"
          ],
          [
           "Business-c3fa"
          ],
          [
           "Business-c428"
          ],
          [
           "Business-c429"
          ],
          [
           "Business-c431"
          ],
          [
           "Business-c440"
          ],
          [
           "Business-c450"
          ],
          [
           "Business-c45a"
          ],
          [
           "Business-c45f"
          ],
          [
           "Business-c461"
          ],
          [
           "Business-c46c"
          ],
          [
           "Business-c472"
          ],
          [
           "Business-c483"
          ],
          [
           "Business-c488"
          ],
          [
           "Business-c4c7"
          ],
          [
           "Business-c4d0"
          ],
          [
           "Business-c4e6"
          ],
          [
           "Business-c4f8"
          ],
          [
           "Business-c50f"
          ],
          [
           "Business-c516"
          ],
          [
           "Business-c531"
          ],
          [
           "Business-c532"
          ],
          [
           "Business-c535"
          ],
          [
           "Business-c55d"
          ],
          [
           "Business-c575"
          ],
          [
           "Business-c586"
          ],
          [
           "Business-c589"
          ],
          [
           "Business-c58b"
          ],
          [
           "Business-c590"
          ],
          [
           "Business-c5a9"
          ],
          [
           "Business-c5b9"
          ],
          [
           "Business-c5c1"
          ],
          [
           "Business-c5c9"
          ],
          [
           "Business-c5cf"
          ],
          [
           "Business-c5e4"
          ],
          [
           "Business-c5e8"
          ],
          [
           "Business-c5ea"
          ],
          [
           "Business-c5f0"
          ],
          [
           "Business-c629"
          ],
          [
           "Business-c62a"
          ],
          [
           "Business-c62f"
          ],
          [
           "Business-c63d"
          ],
          [
           "Business-c640"
          ],
          [
           "Business-c65f"
          ],
          [
           "Business-c666"
          ],
          [
           "Business-c66a"
          ],
          [
           "Business-c678"
          ],
          [
           "Business-c680"
          ],
          [
           "Business-c68b"
          ],
          [
           "Business-c694"
          ],
          [
           "Business-c698"
          ],
          [
           "Business-c699"
          ],
          [
           "Business-c69f"
          ],
          [
           "Business-c6be"
          ],
          [
           "Business-c6c2"
          ],
          [
           "Business-c6c9"
          ],
          [
           "Business-c6ce"
          ],
          [
           "Business-c6dd"
          ],
          [
           "Business-c6e6"
          ],
          [
           "Business-c6f4"
          ],
          [
           "Business-c702"
          ],
          [
           "Business-c70a"
          ],
          [
           "Business-c713"
          ],
          [
           "Business-c740"
          ],
          [
           "Business-c745"
          ],
          [
           "Business-c756"
          ],
          [
           "Business-c761"
          ],
          [
           "Business-c766"
          ],
          [
           "Business-c772"
          ],
          [
           "Business-c775"
          ],
          [
           "Business-c7ae"
          ],
          [
           "Business-c7be"
          ],
          [
           "Business-c7bf"
          ],
          [
           "Business-c7d8"
          ],
          [
           "Business-c7df"
          ],
          [
           "Business-c7e1"
          ],
          [
           "Business-c801"
          ],
          [
           "Business-c805"
          ],
          [
           "Business-c80f"
          ],
          [
           "Business-c840"
          ],
          [
           "Business-c84f"
          ],
          [
           "Business-c852"
          ],
          [
           "Business-c857"
          ],
          [
           "Business-c866"
          ],
          [
           "Business-c86b"
          ],
          [
           "Business-c86d"
          ],
          [
           "Business-c87a"
          ],
          [
           "Business-c893"
          ],
          [
           "Business-c89b"
          ],
          [
           "Business-c8aa"
          ],
          [
           "Business-c8b2"
          ],
          [
           "Business-c8bf"
          ],
          [
           "Business-c8d5"
          ],
          [
           "Business-c8e3"
          ],
          [
           "Business-c8ee"
          ],
          [
           "Business-c91b"
          ],
          [
           "Business-c924"
          ],
          [
           "Business-c929"
          ],
          [
           "Business-c92c"
          ],
          [
           "Business-c943"
          ],
          [
           "Business-c948"
          ],
          [
           "Business-c94e"
          ],
          [
           "Business-c964"
          ],
          [
           "Business-c96d"
          ],
          [
           "Business-c983"
          ],
          [
           "Business-c98a"
          ],
          [
           "Business-c995"
          ],
          [
           "Business-c99d"
          ],
          [
           "Business-c9a7"
          ],
          [
           "Business-c9bb"
          ],
          [
           "Business-c9bf"
          ],
          [
           "Business-c9c0"
          ],
          [
           "Business-c9ce"
          ],
          [
           "Business-c9dc"
          ],
          [
           "Business-c9e1"
          ],
          [
           "Business-c9e9"
          ],
          [
           "Business-ca02"
          ],
          [
           "Business-ca08"
          ],
          [
           "Business-ca11"
          ],
          [
           "Business-ca31"
          ],
          [
           "Business-ca33"
          ],
          [
           "Business-ca42"
          ],
          [
           "Business-ca45"
          ],
          [
           "Business-ca4d"
          ],
          [
           "Business-ca55"
          ],
          [
           "Business-ca58"
          ],
          [
           "Business-ca7b"
          ],
          [
           "Business-ca83"
          ],
          [
           "Business-ca9c"
          ],
          [
           "Business-caa5"
          ],
          [
           "Business-cabd"
          ],
          [
           "Business-cabe"
          ],
          [
           "Business-cac5"
          ],
          [
           "Business-cacc"
          ],
          [
           "Business-cad2"
          ],
          [
           "Business-caf2"
          ],
          [
           "Business-cb09"
          ],
          [
           "Business-cb0e"
          ],
          [
           "Business-cb1d"
          ],
          [
           "Business-cb40"
          ],
          [
           "Business-cb44"
          ],
          [
           "Business-cb5f"
          ],
          [
           "Business-cb6c"
          ],
          [
           "Business-cb8e"
          ],
          [
           "Business-cb99"
          ],
          [
           "Business-cba1"
          ],
          [
           "Business-cbdd"
          ],
          [
           "Business-cbde"
          ],
          [
           "Business-cbe1"
          ],
          [
           "Business-cbf2"
          ],
          [
           "Business-cc03"
          ],
          [
           "Business-cc05"
          ],
          [
           "Business-cc11"
          ],
          [
           "Business-cc20"
          ],
          [
           "Business-cc31"
          ],
          [
           "Business-cc55"
          ],
          [
           "Business-cc70"
          ],
          [
           "Business-cc78"
          ],
          [
           "Business-cc96"
          ],
          [
           "Business-ccbb"
          ],
          [
           "Business-ccdf"
          ],
          [
           "Business-ccf3"
          ],
          [
           "Business-cd2b"
          ],
          [
           "Business-cd2d"
          ],
          [
           "Business-cd30"
          ],
          [
           "Business-cd58"
          ],
          [
           "Business-cd67"
          ],
          [
           "Business-cd92"
          ],
          [
           "Business-cd93"
          ],
          [
           "Business-cd9f"
          ],
          [
           "Business-cda6"
          ],
          [
           "Business-cdb0"
          ],
          [
           "Business-cdb7"
          ],
          [
           "Business-cdbe"
          ],
          [
           "Business-cdc1"
          ],
          [
           "Business-cdc2"
          ],
          [
           "Business-cddd"
          ],
          [
           "Business-ce02"
          ],
          [
           "Business-ce05"
          ],
          [
           "Business-ce0a"
          ],
          [
           "Business-ce0b"
          ],
          [
           "Business-ce2f"
          ],
          [
           "Business-ce34"
          ],
          [
           "Business-ce51"
          ],
          [
           "Business-ce57"
          ],
          [
           "Business-ce58"
          ],
          [
           "Business-ce6e"
          ],
          [
           "Business-cea5"
          ],
          [
           "Business-ceb3"
          ],
          [
           "Business-ceb7"
          ],
          [
           "Business-ceba"
          ],
          [
           "Business-cec2"
          ],
          [
           "Business-cee5"
          ],
          [
           "Business-ceeb"
          ],
          [
           "Business-cf0c"
          ],
          [
           "Business-cf0f"
          ],
          [
           "Business-cf28"
          ],
          [
           "Business-cf2a"
          ],
          [
           "Business-cf67"
          ],
          [
           "Business-cf86"
          ],
          [
           "Business-cf88"
          ],
          [
           "Business-cf89"
          ],
          [
           "Business-cf93"
          ],
          [
           "Business-cfa0"
          ],
          [
           "Business-cfbc"
          ],
          [
           "Business-cfc5"
          ],
          [
           "Business-cfcf"
          ],
          [
           "Business-cfd5"
          ],
          [
           "Business-cfe4"
          ],
          [
           "Business-cff8"
          ],
          [
           "Business-d001"
          ],
          [
           "Business-d01b"
          ],
          [
           "Business-d024"
          ],
          [
           "Business-d02d"
          ],
          [
           "Business-d033"
          ],
          [
           "Business-d046"
          ],
          [
           "Business-d065"
          ],
          [
           "Business-d072"
          ],
          [
           "Business-d087"
          ],
          [
           "Business-d0a4"
          ],
          [
           "Business-d0ad"
          ],
          [
           "Business-d0bc"
          ],
          [
           "Business-d0c8"
          ],
          [
           "Business-d115"
          ],
          [
           "Business-d11a"
          ],
          [
           "Business-d11b"
          ],
          [
           "Business-d124"
          ],
          [
           "Business-d125"
          ],
          [
           "Business-d129"
          ],
          [
           "Business-d12f"
          ],
          [
           "Business-d13a"
          ],
          [
           "Business-d13e"
          ],
          [
           "Business-d14e"
          ],
          [
           "Business-d15c"
          ],
          [
           "Business-d168"
          ],
          [
           "Business-d177"
          ],
          [
           "Business-d17c"
          ],
          [
           "Business-d186"
          ],
          [
           "Business-d18e"
          ],
          [
           "Business-d1a2"
          ],
          [
           "Business-d1a5"
          ],
          [
           "Business-d1b9"
          ],
          [
           "Business-d1c1"
          ],
          [
           "Business-d1c6"
          ],
          [
           "Business-d1c8"
          ],
          [
           "Business-d1ed"
          ],
          [
           "Business-d218"
          ],
          [
           "Business-d21e"
          ],
          [
           "Business-d255"
          ],
          [
           "Business-d257"
          ],
          [
           "Business-d25b"
          ],
          [
           "Business-d26e"
          ],
          [
           "Business-d26f"
          ],
          [
           "Business-d288"
          ],
          [
           "Business-d2a5"
          ],
          [
           "Business-d2b0"
          ],
          [
           "Business-d2cf"
          ],
          [
           "Business-d2eb"
          ],
          [
           "Business-d2f6"
          ],
          [
           "Business-d31a"
          ],
          [
           "Business-d346"
          ],
          [
           "Business-d387"
          ],
          [
           "Business-d38b"
          ],
          [
           "Business-d3a2"
          ],
          [
           "Business-d3af"
          ],
          [
           "Business-d3d5"
          ],
          [
           "Business-d3d8"
          ],
          [
           "Business-d3e6"
          ],
          [
           "Business-d3f6"
          ],
          [
           "Business-d40d"
          ],
          [
           "Business-d40e"
          ],
          [
           "Business-d41a"
          ],
          [
           "Business-d420"
          ],
          [
           "Business-d430"
          ],
          [
           "Business-d438"
          ],
          [
           "Business-d454"
          ],
          [
           "Business-d457"
          ],
          [
           "Business-d45a"
          ],
          [
           "Business-d45c"
          ],
          [
           "Business-d463"
          ],
          [
           "Business-d47e"
          ],
          [
           "Business-d482"
          ],
          [
           "Business-d497"
          ],
          [
           "Business-d4b0"
          ],
          [
           "Business-d4ba"
          ],
          [
           "Business-d4c7"
          ],
          [
           "Business-d4cd"
          ],
          [
           "Business-d4cf"
          ],
          [
           "Business-d4e3"
          ],
          [
           "Business-d4e9"
          ],
          [
           "Business-d4f9"
          ],
          [
           "Business-d500"
          ],
          [
           "Business-d513"
          ],
          [
           "Business-d525"
          ],
          [
           "Business-d52d"
          ],
          [
           "Business-d55c"
          ],
          [
           "Business-d55f"
          ],
          [
           "Business-d564"
          ],
          [
           "Business-d567"
          ],
          [
           "Business-d582"
          ],
          [
           "Business-d59e"
          ],
          [
           "Business-d5a5"
          ],
          [
           "Business-d5a8"
          ],
          [
           "Business-d5b6"
          ],
          [
           "Business-d5bb"
          ],
          [
           "Business-d5c0"
          ],
          [
           "Business-d5e3"
          ],
          [
           "Business-d5f8"
          ],
          [
           "Business-d606"
          ],
          [
           "Business-d60b"
          ],
          [
           "Business-d614"
          ],
          [
           "Business-d61a"
          ],
          [
           "Business-d61c"
          ],
          [
           "Business-d626"
          ],
          [
           "Business-d64b"
          ],
          [
           "Business-d656"
          ],
          [
           "Business-d666"
          ],
          [
           "Business-d67c"
          ],
          [
           "Business-d68d"
          ],
          [
           "Business-d692"
          ],
          [
           "Business-d6c9"
          ],
          [
           "Business-d6d7"
          ],
          [
           "Business-d6e3"
          ],
          [
           "Business-d6f5"
          ],
          [
           "Business-d6fb"
          ],
          [
           "Business-d701"
          ],
          [
           "Business-d719"
          ],
          [
           "Business-d72a"
          ],
          [
           "Business-d72f"
          ],
          [
           "Business-d740"
          ],
          [
           "Business-d74f"
          ],
          [
           "Business-d752"
          ],
          [
           "Business-d759"
          ],
          [
           "Business-d773"
          ],
          [
           "Business-d783"
          ],
          [
           "Business-d784"
          ],
          [
           "Business-d789"
          ],
          [
           "Business-d78d"
          ],
          [
           "Business-d7a5"
          ],
          [
           "Business-d7a8"
          ],
          [
           "Business-d7ac"
          ],
          [
           "Business-d7b3"
          ],
          [
           "Business-d7ba"
          ],
          [
           "Business-d7c2"
          ],
          [
           "Business-d7c6"
          ],
          [
           "Business-d814"
          ],
          [
           "Business-d820"
          ],
          [
           "Business-d827"
          ],
          [
           "Business-d834"
          ],
          [
           "Business-d84d"
          ],
          [
           "Business-d857"
          ],
          [
           "Business-d870"
          ],
          [
           "Business-d894"
          ],
          [
           "Business-d89d"
          ],
          [
           "Business-d8af"
          ],
          [
           "Business-d8b6"
          ],
          [
           "Business-d8e3"
          ],
          [
           "Business-d906"
          ],
          [
           "Business-d910"
          ],
          [
           "Business-d911"
          ],
          [
           "Business-d914"
          ],
          [
           "Business-d917"
          ],
          [
           "Business-d91c"
          ],
          [
           "Business-d91e"
          ],
          [
           "Business-d935"
          ],
          [
           "Business-d940"
          ],
          [
           "Business-d94c"
          ],
          [
           "Business-d97d"
          ],
          [
           "Business-d982"
          ],
          [
           "Business-d985"
          ],
          [
           "Business-d98a"
          ],
          [
           "Business-d9a3"
          ],
          [
           "Business-d9ac"
          ],
          [
           "Business-d9c3"
          ],
          [
           "Business-d9e4"
          ],
          [
           "Business-da32"
          ],
          [
           "Business-da34"
          ],
          [
           "Business-da44"
          ],
          [
           "Business-da4f"
          ],
          [
           "Business-da56"
          ],
          [
           "Business-da5e"
          ],
          [
           "Business-da72"
          ],
          [
           "Business-da87"
          ],
          [
           "Business-da94"
          ],
          [
           "Business-daa6"
          ],
          [
           "Business-dac2"
          ],
          [
           "Business-dacb"
          ],
          [
           "Business-dad2"
          ],
          [
           "Business-dae7"
          ],
          [
           "Business-daed"
          ],
          [
           "Business-daf8"
          ],
          [
           "Business-db19"
          ],
          [
           "Business-db2d"
          ],
          [
           "Business-db49"
          ],
          [
           "Business-db5d"
          ],
          [
           "Business-db5f"
          ],
          [
           "Business-db61"
          ],
          [
           "Business-db75"
          ],
          [
           "Business-db84"
          ],
          [
           "Business-db9b"
          ],
          [
           "Business-dba9"
          ],
          [
           "Business-dbac"
          ],
          [
           "Business-dbbc"
          ],
          [
           "Business-dbc6"
          ],
          [
           "Business-dbd6"
          ],
          [
           "Business-dbdd"
          ],
          [
           "Business-dbe0"
          ],
          [
           "Business-dbe2"
          ],
          [
           "Business-dbe5"
          ],
          [
           "Business-dbeb"
          ],
          [
           "Business-dbf7"
          ],
          [
           "Business-dc1d"
          ],
          [
           "Business-dc3b"
          ],
          [
           "Business-dc43"
          ],
          [
           "Business-dc4f"
          ],
          [
           "Business-dc65"
          ],
          [
           "Business-dc6c"
          ],
          [
           "Business-dc72"
          ],
          [
           "Business-dc9c"
          ],
          [
           "Business-dca9"
          ],
          [
           "Business-dcb0"
          ],
          [
           "Business-dcb4"
          ],
          [
           "Business-dcc4"
          ],
          [
           "Business-dcc8"
          ],
          [
           "Business-dce1"
          ],
          [
           "Business-dcf8"
          ],
          [
           "Business-dd04"
          ],
          [
           "Business-dd07"
          ],
          [
           "Business-dd17"
          ],
          [
           "Business-dd18"
          ],
          [
           "Business-dd19"
          ],
          [
           "Business-dd28"
          ],
          [
           "Business-dd47"
          ],
          [
           "Business-dd4c"
          ],
          [
           "Business-dd61"
          ],
          [
           "Business-dd89"
          ],
          [
           "Business-dda3"
          ],
          [
           "Business-ddaf"
          ],
          [
           "Business-ddb0"
          ],
          [
           "Business-dde1"
          ],
          [
           "Business-dde8"
          ],
          [
           "Business-de03"
          ],
          [
           "Business-de08"
          ],
          [
           "Business-de1a"
          ],
          [
           "Business-de1c"
          ],
          [
           "Business-de47"
          ],
          [
           "Business-de51"
          ],
          [
           "Business-de5c"
          ],
          [
           "Business-de9b"
          ],
          [
           "Business-deac"
          ],
          [
           "Business-deb3"
          ],
          [
           "Business-dec6"
          ],
          [
           "Business-ded1"
          ],
          [
           "Business-dee6"
          ],
          [
           "Business-deff"
          ],
          [
           "Business-df05"
          ],
          [
           "Business-df0f"
          ],
          [
           "Business-df12"
          ],
          [
           "Business-df2b"
          ],
          [
           "Business-df2f"
          ],
          [
           "Business-df4a"
          ],
          [
           "Business-df71"
          ],
          [
           "Business-df76"
          ],
          [
           "Business-df78"
          ],
          [
           "Business-df7d"
          ],
          [
           "Business-df83"
          ],
          [
           "Business-df9b"
          ],
          [
           "Business-dfcd"
          ],
          [
           "Business-dff7"
          ],
          [
           "Business-dffd"
          ],
          [
           "Business-dffe"
          ],
          [
           "Business-e00b"
          ],
          [
           "Business-e00f"
          ],
          [
           "Business-e015"
          ],
          [
           "Business-e034"
          ],
          [
           "Business-e05c"
          ],
          [
           "Business-e067"
          ],
          [
           "Business-e06b"
          ],
          [
           "Business-e0a8"
          ],
          [
           "Business-e0a9"
          ],
          [
           "Business-e0ad"
          ],
          [
           "Business-e0b7"
          ],
          [
           "Business-e0b9"
          ],
          [
           "Business-e0c3"
          ],
          [
           "Business-e0cb"
          ],
          [
           "Business-e0cc"
          ],
          [
           "Business-e0cd"
          ],
          [
           "Business-e0ea"
          ],
          [
           "Business-e11c"
          ],
          [
           "Business-e12e"
          ],
          [
           "Business-e132"
          ],
          [
           "Business-e137"
          ],
          [
           "Business-e145"
          ],
          [
           "Business-e150"
          ],
          [
           "Business-e15a"
          ],
          [
           "Business-e15f"
          ],
          [
           "Business-e162"
          ],
          [
           "Business-e163"
          ],
          [
           "Business-e186"
          ],
          [
           "Business-e1a6"
          ],
          [
           "Business-e1ad"
          ],
          [
           "Business-e1b2"
          ],
          [
           "Business-e1b3"
          ],
          [
           "Business-e1b5"
          ],
          [
           "Business-e1b6"
          ],
          [
           "Business-e1b9"
          ],
          [
           "Business-e1bf"
          ],
          [
           "Business-e1d6"
          ],
          [
           "Business-e1ee"
          ],
          [
           "Business-e1f9"
          ],
          [
           "Business-e203"
          ],
          [
           "Business-e225"
          ],
          [
           "Business-e23f"
          ],
          [
           "Business-e259"
          ],
          [
           "Business-e25f"
          ],
          [
           "Business-e261"
          ],
          [
           "Business-e27c"
          ],
          [
           "Business-e283"
          ],
          [
           "Business-e29d"
          ],
          [
           "Business-e2a4"
          ],
          [
           "Business-e2a7"
          ],
          [
           "Business-e2b4"
          ],
          [
           "Business-e2ed"
          ],
          [
           "Business-e321"
          ],
          [
           "Business-e378"
          ],
          [
           "Business-e3a6"
          ],
          [
           "Business-e3ae"
          ],
          [
           "Business-e3c1"
          ],
          [
           "Business-e3c9"
          ],
          [
           "Business-e3d2"
          ],
          [
           "Business-e3e6"
          ],
          [
           "Business-e41e"
          ],
          [
           "Business-e424"
          ],
          [
           "Business-e432"
          ],
          [
           "Business-e438"
          ],
          [
           "Business-e43c"
          ],
          [
           "Business-e453"
          ],
          [
           "Business-e454"
          ],
          [
           "Business-e463"
          ],
          [
           "Business-e469"
          ],
          [
           "Business-e46d"
          ],
          [
           "Business-e482"
          ],
          [
           "Business-e48b"
          ],
          [
           "Business-e491"
          ],
          [
           "Business-e499"
          ],
          [
           "Business-e49b"
          ],
          [
           "Business-e4a9"
          ],
          [
           "Business-e4b2"
          ],
          [
           "Business-e4bd"
          ],
          [
           "Business-e4bf"
          ],
          [
           "Business-e4d4"
          ],
          [
           "Business-e4fb"
          ],
          [
           "Business-e520"
          ],
          [
           "Business-e52e"
          ],
          [
           "Business-e535"
          ],
          [
           "Business-e53e"
          ],
          [
           "Business-e54f"
          ],
          [
           "Business-e558"
          ],
          [
           "Business-e565"
          ],
          [
           "Business-e567"
          ],
          [
           "Business-e56a"
          ],
          [
           "Business-e57b"
          ],
          [
           "Business-e5ae"
          ],
          [
           "Business-e5be"
          ],
          [
           "Business-e5c6"
          ],
          [
           "Business-e5cb"
          ],
          [
           "Business-e5e2"
          ],
          [
           "Business-e5f8"
          ],
          [
           "Business-e5f9"
          ],
          [
           "Business-e5fa"
          ],
          [
           "Business-e5fd"
          ],
          [
           "Business-e61e"
          ],
          [
           "Business-e635"
          ],
          [
           "Business-e639"
          ],
          [
           "Business-e667"
          ],
          [
           "Business-e6b9"
          ],
          [
           "Business-e6ce"
          ],
          [
           "Business-e6ec"
          ],
          [
           "Business-e6ff"
          ],
          [
           "Business-e700"
          ],
          [
           "Business-e706"
          ],
          [
           "Business-e710"
          ],
          [
           "Business-e711"
          ],
          [
           "Business-e729"
          ],
          [
           "Business-e770"
          ],
          [
           "Business-e772"
          ],
          [
           "Business-e789"
          ],
          [
           "Business-e78e"
          ],
          [
           "Business-e79b"
          ],
          [
           "Business-e79e"
          ],
          [
           "Business-e7a7"
          ],
          [
           "Business-e7ab"
          ],
          [
           "Business-e7af"
          ],
          [
           "Business-e7b5"
          ],
          [
           "Business-e7be"
          ],
          [
           "Business-e7c4"
          ],
          [
           "Business-e7c5"
          ],
          [
           "Business-e7ce"
          ],
          [
           "Business-e7d6"
          ],
          [
           "Business-e7e4"
          ],
          [
           "Business-e7ed"
          ],
          [
           "Business-e7fe"
          ],
          [
           "Business-e802"
          ],
          [
           "Business-e807"
          ],
          [
           "Business-e80e"
          ],
          [
           "Business-e816"
          ],
          [
           "Business-e841"
          ],
          [
           "Business-e846"
          ],
          [
           "Business-e87a"
          ],
          [
           "Business-e88f"
          ],
          [
           "Business-e893"
          ],
          [
           "Business-e898"
          ],
          [
           "Business-e89b"
          ],
          [
           "Business-e8a1"
          ],
          [
           "Business-e8a3"
          ],
          [
           "Business-e8b2"
          ],
          [
           "Business-e8cf"
          ],
          [
           "Business-e8ee"
          ],
          [
           "Business-e8f0"
          ],
          [
           "Business-e8fd"
          ],
          [
           "Business-e901"
          ],
          [
           "Business-e902"
          ],
          [
           "Business-e912"
          ],
          [
           "Business-e930"
          ],
          [
           "Business-e95e"
          ],
          [
           "Business-e970"
          ],
          [
           "Business-e97c"
          ],
          [
           "Business-e990"
          ],
          [
           "Business-e9af"
          ],
          [
           "Business-e9e2"
          ],
          [
           "Business-e9e3"
          ],
          [
           "Business-e9e9"
          ],
          [
           "Business-e9ee"
          ],
          [
           "Business-e9f2"
          ],
          [
           "Business-e9fb"
          ],
          [
           "Business-ea0e"
          ],
          [
           "Business-ea14"
          ],
          [
           "Business-ea15"
          ],
          [
           "Business-ea44"
          ],
          [
           "Business-ea5d"
          ],
          [
           "Business-ea6b"
          ],
          [
           "Business-ea71"
          ],
          [
           "Business-ea73"
          ],
          [
           "Business-ea78"
          ],
          [
           "Business-ea7a"
          ],
          [
           "Business-ea82"
          ],
          [
           "Business-ea83"
          ],
          [
           "Business-ea84"
          ],
          [
           "Business-ea87"
          ],
          [
           "Business-ea88"
          ],
          [
           "Business-ea97"
          ],
          [
           "Business-ea98"
          ],
          [
           "Business-eaa9"
          ],
          [
           "Business-ead8"
          ],
          [
           "Business-eae3"
          ],
          [
           "Business-eae4"
          ],
          [
           "Business-eae7"
          ],
          [
           "Business-eaf3"
          ],
          [
           "Business-eafd"
          ],
          [
           "Business-eb01"
          ],
          [
           "Business-eb06"
          ],
          [
           "Business-eb0e"
          ],
          [
           "Business-eb10"
          ],
          [
           "Business-eb14"
          ],
          [
           "Business-eb2c"
          ],
          [
           "Business-eb4b"
          ],
          [
           "Business-eb52"
          ],
          [
           "Business-eb58"
          ],
          [
           "Business-eb59"
          ],
          [
           "Business-eb70"
          ],
          [
           "Business-eb81"
          ],
          [
           "Business-eb88"
          ],
          [
           "Business-eb90"
          ],
          [
           "Business-eb91"
          ],
          [
           "Business-eba2"
          ],
          [
           "Business-ebc0"
          ],
          [
           "Business-ebc1"
          ],
          [
           "Business-ebc8"
          ],
          [
           "Business-ebd0"
          ],
          [
           "Business-ebd8"
          ],
          [
           "Business-ebef"
          ],
          [
           "Business-ec0e"
          ],
          [
           "Business-ec23"
          ],
          [
           "Business-ec25"
          ],
          [
           "Business-ec41"
          ],
          [
           "Business-ec46"
          ],
          [
           "Business-ec5c"
          ],
          [
           "Business-ec67"
          ],
          [
           "Business-ec6e"
          ],
          [
           "Business-ec77"
          ],
          [
           "Business-ec78"
          ],
          [
           "Business-ec99"
          ],
          [
           "Business-ec9e"
          ],
          [
           "Business-eca4"
          ],
          [
           "Business-eca7"
          ],
          [
           "Business-ecd9"
          ],
          [
           "Business-ece0"
          ],
          [
           "Business-ecfc"
          ],
          [
           "Business-ed0d"
          ],
          [
           "Business-ed11"
          ],
          [
           "Business-ed14"
          ],
          [
           "Business-ed15"
          ],
          [
           "Business-ed1b"
          ],
          [
           "Business-ed1e"
          ],
          [
           "Business-ed23"
          ],
          [
           "Business-ed32"
          ],
          [
           "Business-ed67"
          ],
          [
           "Business-ed6b"
          ],
          [
           "Business-ed86"
          ],
          [
           "Business-ed87"
          ],
          [
           "Business-ed9b"
          ],
          [
           "Business-edb5"
          ],
          [
           "Business-edd6"
          ],
          [
           "Business-ee04"
          ],
          [
           "Business-ee0a"
          ],
          [
           "Business-ee0c"
          ],
          [
           "Business-ee13"
          ],
          [
           "Business-ee14"
          ],
          [
           "Business-ee3b"
          ],
          [
           "Business-ee65"
          ],
          [
           "Business-ee6f"
          ],
          [
           "Business-ee74"
          ],
          [
           "Business-ee81"
          ],
          [
           "Business-ee96"
          ],
          [
           "Business-eea3"
          ],
          [
           "Business-eeb1"
          ],
          [
           "Business-eedc"
          ],
          [
           "Business-eede"
          ],
          [
           "Business-eee7"
          ],
          [
           "Business-eefc"
          ],
          [
           "Business-ef00"
          ],
          [
           "Business-ef01"
          ],
          [
           "Business-ef0a"
          ],
          [
           "Business-ef27"
          ],
          [
           "Business-ef34"
          ],
          [
           "Business-ef35"
          ],
          [
           "Business-ef3a"
          ],
          [
           "Business-ef56"
          ],
          [
           "Business-ef57"
          ],
          [
           "Business-ef7a"
          ],
          [
           "Business-ef93"
          ],
          [
           "Business-efa3"
          ],
          [
           "Business-efb0"
          ],
          [
           "Business-efbb"
          ],
          [
           "Business-efc5"
          ],
          [
           "Business-efcb"
          ],
          [
           "Business-efd5"
          ],
          [
           "Business-efdd"
          ],
          [
           "Business-eff6"
          ],
          [
           "Business-f006"
          ],
          [
           "Business-f00c"
          ],
          [
           "Business-f011"
          ],
          [
           "Business-f022"
          ],
          [
           "Business-f043"
          ],
          [
           "Business-f04f"
          ],
          [
           "Business-f065"
          ],
          [
           "Business-f07f"
          ],
          [
           "Business-f083"
          ],
          [
           "Business-f096"
          ],
          [
           "Business-f0a6"
          ],
          [
           "Business-f0ac"
          ],
          [
           "Business-f0ba"
          ],
          [
           "Business-f0d6"
          ],
          [
           "Business-f0ee"
          ],
          [
           "Business-f119"
          ],
          [
           "Business-f126"
          ],
          [
           "Business-f159"
          ],
          [
           "Business-f16f"
          ],
          [
           "Business-f18a"
          ],
          [
           "Business-f193"
          ],
          [
           "Business-f1c4"
          ],
          [
           "Business-f1de"
          ],
          [
           "Business-f20a"
          ],
          [
           "Business-f20e"
          ],
          [
           "Business-f211"
          ],
          [
           "Business-f21e"
          ],
          [
           "Business-f22d"
          ],
          [
           "Business-f232"
          ],
          [
           "Business-f23d"
          ],
          [
           "Business-f244"
          ],
          [
           "Business-f248"
          ],
          [
           "Business-f24d"
          ],
          [
           "Business-f251"
          ],
          [
           "Business-f254"
          ],
          [
           "Business-f25d"
          ],
          [
           "Business-f260"
          ],
          [
           "Business-f270"
          ],
          [
           "Business-f286"
          ],
          [
           "Business-f287"
          ],
          [
           "Business-f2aa"
          ],
          [
           "Business-f2b6"
          ],
          [
           "Business-f2bb"
          ],
          [
           "Business-f2c9"
          ],
          [
           "Business-f2e7"
          ],
          [
           "Business-f31d"
          ],
          [
           "Business-f31e"
          ],
          [
           "Business-f323"
          ],
          [
           "Business-f325"
          ],
          [
           "Business-f326"
          ],
          [
           "Business-f32c"
          ],
          [
           "Business-f331"
          ],
          [
           "Business-f33d"
          ],
          [
           "Business-f340"
          ],
          [
           "Business-f343"
          ],
          [
           "Business-f35b"
          ],
          [
           "Business-f360"
          ],
          [
           "Business-f36e"
          ],
          [
           "Business-f386"
          ],
          [
           "Business-f387"
          ],
          [
           "Business-f388"
          ],
          [
           "Business-f3a5"
          ],
          [
           "Business-f3c0"
          ],
          [
           "Business-f3d9"
          ],
          [
           "Business-f3da"
          ],
          [
           "Business-f3e4"
          ],
          [
           "Business-f3ef"
          ],
          [
           "Business-f404"
          ],
          [
           "Business-f408"
          ],
          [
           "Business-f416"
          ],
          [
           "Business-f418"
          ],
          [
           "Business-f42f"
          ],
          [
           "Business-f443"
          ],
          [
           "Business-f444"
          ],
          [
           "Business-f455"
          ],
          [
           "Business-f49f"
          ],
          [
           "Business-f4ae"
          ],
          [
           "Business-f4b0"
          ],
          [
           "Business-f4b4"
          ],
          [
           "Business-f4c9"
          ],
          [
           "Business-f4dc"
          ],
          [
           "Business-f4e5"
          ],
          [
           "Business-f4f1"
          ],
          [
           "Business-f4ff"
          ],
          [
           "Business-f510"
          ],
          [
           "Business-f529"
          ],
          [
           "Business-f52c"
          ],
          [
           "Business-f539"
          ],
          [
           "Business-f551"
          ],
          [
           "Business-f56c"
          ],
          [
           "Business-f588"
          ],
          [
           "Business-f59b"
          ],
          [
           "Business-f5a5"
          ],
          [
           "Business-f5af"
          ],
          [
           "Business-f5be"
          ],
          [
           "Business-f5cf"
          ],
          [
           "Business-f5db"
          ],
          [
           "Business-f5dd"
          ],
          [
           "Business-f5f9"
          ],
          [
           "Business-f600"
          ],
          [
           "Business-f60b"
          ],
          [
           "Business-f626"
          ],
          [
           "Business-f641"
          ],
          [
           "Business-f655"
          ],
          [
           "Business-f656"
          ],
          [
           "Business-f65a"
          ],
          [
           "Business-f65b"
          ],
          [
           "Business-f663"
          ],
          [
           "Business-f673"
          ],
          [
           "Business-f685"
          ],
          [
           "Business-f694"
          ],
          [
           "Business-f6bb"
          ],
          [
           "Business-f6bc"
          ],
          [
           "Business-f6ca"
          ],
          [
           "Business-f6cb"
          ],
          [
           "Business-f6cf"
          ],
          [
           "Business-f712"
          ],
          [
           "Business-f72f"
          ],
          [
           "Business-f734"
          ],
          [
           "Business-f753"
          ],
          [
           "Business-f764"
          ],
          [
           "Business-f799"
          ],
          [
           "Business-f79a"
          ],
          [
           "Business-f7c5"
          ],
          [
           "Business-f7e7"
          ],
          [
           "Business-f7eb"
          ],
          [
           "Business-f7fd"
          ],
          [
           "Business-f7ff"
          ],
          [
           "Business-f805"
          ],
          [
           "Business-f807"
          ],
          [
           "Business-f817"
          ],
          [
           "Business-f820"
          ],
          [
           "Business-f829"
          ],
          [
           "Business-f836"
          ],
          [
           "Business-f840"
          ],
          [
           "Business-f841"
          ],
          [
           "Business-f842"
          ],
          [
           "Business-f84e"
          ],
          [
           "Business-f85f"
          ],
          [
           "Business-f869"
          ],
          [
           "Business-f86f"
          ],
          [
           "Business-f879"
          ],
          [
           "Business-f888"
          ],
          [
           "Business-f88e"
          ],
          [
           "Business-f893"
          ],
          [
           "Business-f8a0"
          ],
          [
           "Business-f8cb"
          ],
          [
           "Business-f8cc"
          ],
          [
           "Business-f8d3"
          ],
          [
           "Business-f8e7"
          ],
          [
           "Business-f8fd"
          ],
          [
           "Business-f909"
          ],
          [
           "Business-f910"
          ],
          [
           "Business-f92b"
          ],
          [
           "Business-f931"
          ],
          [
           "Business-f938"
          ],
          [
           "Business-f940"
          ],
          [
           "Business-f94b"
          ],
          [
           "Business-f95a"
          ],
          [
           "Business-f95c"
          ],
          [
           "Business-f967"
          ],
          [
           "Business-f970"
          ],
          [
           "Business-f992"
          ],
          [
           "Business-f994"
          ],
          [
           "Business-f9a6"
          ],
          [
           "Business-f9a7"
          ],
          [
           "Business-f9aa"
          ],
          [
           "Business-f9b0"
          ],
          [
           "Business-f9b1"
          ],
          [
           "Business-f9b2"
          ],
          [
           "Business-f9b5"
          ],
          [
           "Business-f9c0"
          ],
          [
           "Business-f9c1"
          ],
          [
           "Business-f9d8"
          ],
          [
           "Business-f9e0"
          ],
          [
           "Business-f9e4"
          ],
          [
           "Business-f9ff"
          ],
          [
           "Business-fa0a"
          ],
          [
           "Business-fa23"
          ],
          [
           "Business-fa2a"
          ],
          [
           "Business-fa2b"
          ],
          [
           "Business-fa34"
          ],
          [
           "Business-fa46"
          ],
          [
           "Business-fa48"
          ],
          [
           "Business-fa5e"
          ],
          [
           "Business-fa63"
          ],
          [
           "Business-fa66"
          ],
          [
           "Business-fa6b"
          ],
          [
           "Business-fa6f"
          ],
          [
           "Business-fa77"
          ],
          [
           "Business-fa7a"
          ],
          [
           "Business-fa96"
          ],
          [
           "Business-fac2"
          ],
          [
           "Business-fac8"
          ],
          [
           "Business-fac9"
          ],
          [
           "Business-fad3"
          ],
          [
           "Business-faf5"
          ],
          [
           "Business-fb13"
          ],
          [
           "Business-fb27"
          ],
          [
           "Business-fb3f"
          ],
          [
           "Business-fb44"
          ],
          [
           "Business-fb51"
          ],
          [
           "Business-fb5c"
          ],
          [
           "Business-fb5f"
          ],
          [
           "Business-fb65"
          ],
          [
           "Business-fb68"
          ],
          [
           "Business-fb84"
          ],
          [
           "Business-fb87"
          ],
          [
           "Business-fb8a"
          ],
          [
           "Business-fb93"
          ],
          [
           "Business-fb9d"
          ],
          [
           "Business-fba1"
          ],
          [
           "Business-fba7"
          ],
          [
           "Business-fbb8"
          ],
          [
           "Business-fbb9"
          ],
          [
           "Business-fbbb"
          ],
          [
           "Business-fbc3"
          ],
          [
           "Business-fbc6"
          ],
          [
           "Business-fbc8"
          ],
          [
           "Business-fbcd"
          ],
          [
           "Business-fbd2"
          ],
          [
           "Business-fbf2"
          ],
          [
           "Business-fc00"
          ],
          [
           "Business-fc11"
          ],
          [
           "Business-fc33"
          ],
          [
           "Business-fc37"
          ],
          [
           "Business-fc97"
          ],
          [
           "Business-fc9c"
          ],
          [
           "Business-fc9f"
          ],
          [
           "Business-fca2"
          ],
          [
           "Business-fcb3"
          ],
          [
           "Business-fcb7"
          ],
          [
           "Business-fcbe"
          ],
          [
           "Business-fcc1"
          ],
          [
           "Business-fcc5"
          ],
          [
           "Business-fcca"
          ],
          [
           "Business-fcdd"
          ],
          [
           "Business-fce9"
          ],
          [
           "Business-fceb"
          ],
          [
           "Business-fd03"
          ],
          [
           "Business-fd09"
          ],
          [
           "Business-fd0b"
          ],
          [
           "Business-fd11"
          ],
          [
           "Business-fd35"
          ],
          [
           "Business-fd3b"
          ],
          [
           "Business-fd3e"
          ],
          [
           "Business-fd4d"
          ],
          [
           "Business-fd50"
          ],
          [
           "Business-fd59"
          ],
          [
           "Business-fd61"
          ],
          [
           "Business-fd64"
          ],
          [
           "Business-fd6c"
          ],
          [
           "Business-fd80"
          ],
          [
           "Business-fd93"
          ],
          [
           "Business-fd94"
          ],
          [
           "Business-fdbf"
          ],
          [
           "Business-fdcf"
          ],
          [
           "Business-fdfc"
          ],
          [
           "Business-fe0c"
          ],
          [
           "Business-fe1a"
          ],
          [
           "Business-fe1d"
          ],
          [
           "Business-fe23"
          ],
          [
           "Business-fe34"
          ],
          [
           "Business-fe37"
          ],
          [
           "Business-fe3d"
          ],
          [
           "Business-fe3e"
          ],
          [
           "Business-fe3f"
          ],
          [
           "Business-fe41"
          ],
          [
           "Business-fe46"
          ],
          [
           "Business-fe4b"
          ],
          [
           "Business-fe58"
          ],
          [
           "Business-fe63"
          ],
          [
           "Business-fe6b"
          ],
          [
           "Business-fe7b"
          ],
          [
           "Business-fe7e"
          ],
          [
           "Business-fe96"
          ],
          [
           "Business-fe97"
          ],
          [
           "Business-fed0"
          ],
          [
           "Business-fee4"
          ],
          [
           "Business-ff09"
          ],
          [
           "Business-ff19"
          ],
          [
           "Business-ff53"
          ],
          [
           "Business-ff6d"
          ],
          [
           "Business-ff6f"
          ],
          [
           "Business-ff84"
          ],
          [
           "Business-ffa9"
          ],
          [
           "Business-ffae"
          ],
          [
           "Business-ffb1"
          ],
          [
           "Business-ffd2"
          ],
          [
           "Business-ffff"
          ]
         ],
         "hovertemplate": "group=Low Value<br>total_value=%{x}<br>quantity=%{y}<br>frequency=%{marker.size}<br>anonymized_business=%{customdata[0]}<extra></extra>",
         "legendgroup": "Low Value",
         "marker": {
          "color": "#636efa",
          "size": {
           "bdata": "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",
           "dtype": "i2"
          },
          "sizemode": "area",
          "sizeref": 6.535,
          "symbol": "circle"
         },
         "mode": "markers",
         "name": "Low Value",
         "showlegend": true,
         "type": "scattergl",
         "x": {
          "bdata": "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",
          "dtype": "i4"
         },
         "xaxis": "x",
         "y": {
          "bdata": "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",
          "dtype": "i2"
         },
         "yaxis": "y"
        },
        {
         "customdata": [
          [
           "Business-0523"
          ],
          [
           "Business-06ed"
          ],
          [
           "Business-0825"
          ],
          [
           "Business-0855"
          ],
          [
           "Business-089e"
          ],
          [
           "Business-0c98"
          ],
          [
           "Business-0d61"
          ],
          [
           "Business-0daa"
          ],
          [
           "Business-0e56"
          ],
          [
           "Business-0ea3"
          ],
          [
           "Business-0f72"
          ],
          [
           "Business-10e2"
          ],
          [
           "Business-1371"
          ],
          [
           "Business-1510"
          ],
          [
           "Business-155f"
          ],
          [
           "Business-15bc"
          ],
          [
           "Business-1696"
          ],
          [
           "Business-16e7"
          ],
          [
           "Business-1886"
          ],
          [
           "Business-188a"
          ],
          [
           "Business-18f1"
          ],
          [
           "Business-1ae8"
          ],
          [
           "Business-1b52"
          ],
          [
           "Business-1d1c"
          ],
          [
           "Business-1d95"
          ],
          [
           "Business-1ddc"
          ],
          [
           "Business-1ede"
          ],
          [
           "Business-20fc"
          ],
          [
           "Business-2130"
          ],
          [
           "Business-2229"
          ],
          [
           "Business-2366"
          ],
          [
           "Business-245e"
          ],
          [
           "Business-2482"
          ],
          [
           "Business-2485"
          ],
          [
           "Business-24c3"
          ],
          [
           "Business-258b"
          ],
          [
           "Business-260e"
          ],
          [
           "Business-263c"
          ],
          [
           "Business-2672"
          ],
          [
           "Business-270a"
          ],
          [
           "Business-29bc"
          ],
          [
           "Business-2a83"
          ],
          [
           "Business-2afb"
          ],
          [
           "Business-2ba7"
          ],
          [
           "Business-2db8"
          ],
          [
           "Business-2e05"
          ],
          [
           "Business-2e23"
          ],
          [
           "Business-2eba"
          ],
          [
           "Business-2f6a"
          ],
          [
           "Business-3112"
          ],
          [
           "Business-31b8"
          ],
          [
           "Business-31f8"
          ],
          [
           "Business-3280"
          ],
          [
           "Business-32f2"
          ],
          [
           "Business-3539"
          ],
          [
           "Business-3683"
          ],
          [
           "Business-37cb"
          ],
          [
           "Business-37ee"
          ],
          [
           "Business-3955"
          ],
          [
           "Business-3bf0"
          ],
          [
           "Business-3d8c"
          ],
          [
           "Business-3dfc"
          ],
          [
           "Business-3edd"
          ],
          [
           "Business-3f6c"
          ],
          [
           "Business-4087"
          ],
          [
           "Business-4133"
          ],
          [
           "Business-4219"
          ],
          [
           "Business-4305"
          ],
          [
           "Business-43c3"
          ],
          [
           "Business-457d"
          ],
          [
           "Business-4608"
          ],
          [
           "Business-47fa"
          ],
          [
           "Business-483f"
          ],
          [
           "Business-4846"
          ],
          [
           "Business-48f6"
          ],
          [
           "Business-49e7"
          ],
          [
           "Business-4a1c"
          ],
          [
           "Business-4bbb"
          ],
          [
           "Business-4fee"
          ],
          [
           "Business-51e9"
          ],
          [
           "Business-52fa"
          ],
          [
           "Business-5415"
          ],
          [
           "Business-5477"
          ],
          [
           "Business-5525"
          ],
          [
           "Business-5677"
          ],
          [
           "Business-59a0"
          ],
          [
           "Business-5a62"
          ],
          [
           "Business-5aa4"
          ],
          [
           "Business-5de9"
          ],
          [
           "Business-5f36"
          ],
          [
           "Business-5fc7"
          ],
          [
           "Business-5feb"
          ],
          [
           "Business-6011"
          ],
          [
           "Business-60fb"
          ],
          [
           "Business-6162"
          ],
          [
           "Business-61e9"
          ],
          [
           "Business-63d9"
          ],
          [
           "Business-63e2"
          ],
          [
           "Business-643c"
          ],
          [
           "Business-64b6"
          ],
          [
           "Business-64de"
          ],
          [
           "Business-6510"
          ],
          [
           "Business-655d"
          ],
          [
           "Business-659d"
          ],
          [
           "Business-663a"
          ],
          [
           "Business-67ef"
          ],
          [
           "Business-6836"
          ],
          [
           "Business-69b8"
          ],
          [
           "Business-69e4"
          ],
          [
           "Business-6a90"
          ],
          [
           "Business-6b30"
          ],
          [
           "Business-6baf"
          ],
          [
           "Business-6bf6"
          ],
          [
           "Business-6cc2"
          ],
          [
           "Business-6daf"
          ],
          [
           "Business-6ecc"
          ],
          [
           "Business-6eda"
          ],
          [
           "Business-6f3b"
          ],
          [
           "Business-6f4d"
          ],
          [
           "Business-700f"
          ],
          [
           "Business-72b8"
          ],
          [
           "Business-755c"
          ],
          [
           "Business-7580"
          ],
          [
           "Business-7678"
          ],
          [
           "Business-77fa"
          ],
          [
           "Business-78a8"
          ],
          [
           "Business-7ab4"
          ],
          [
           "Business-7cf4"
          ],
          [
           "Business-7d7e"
          ],
          [
           "Business-7e5e"
          ],
          [
           "Business-7eff"
          ],
          [
           "Business-838f"
          ],
          [
           "Business-83cd"
          ],
          [
           "Business-83dd"
          ],
          [
           "Business-845f"
          ],
          [
           "Business-8513"
          ],
          [
           "Business-85ca"
          ],
          [
           "Business-8647"
          ],
          [
           "Business-88f5"
          ],
          [
           "Business-898c"
          ],
          [
           "Business-8abb"
          ],
          [
           "Business-8b4f"
          ],
          [
           "Business-8bbf"
          ],
          [
           "Business-8c70"
          ],
          [
           "Business-8c9c"
          ],
          [
           "Business-8d3c"
          ],
          [
           "Business-8f6d"
          ],
          [
           "Business-8f8d"
          ],
          [
           "Business-8fae"
          ],
          [
           "Business-90af"
          ],
          [
           "Business-912c"
          ],
          [
           "Business-9184"
          ],
          [
           "Business-9239"
          ],
          [
           "Business-926b"
          ],
          [
           "Business-9540"
          ],
          [
           "Business-95a5"
          ],
          [
           "Business-9657"
          ],
          [
           "Business-965c"
          ],
          [
           "Business-97d2"
          ],
          [
           "Business-9872"
          ],
          [
           "Business-98d1"
          ],
          [
           "Business-98e4"
          ],
          [
           "Business-996a"
          ],
          [
           "Business-9b3a"
          ],
          [
           "Business-9baf"
          ],
          [
           "Business-9fd0"
          ],
          [
           "Business-a171"
          ],
          [
           "Business-a223"
          ],
          [
           "Business-a2ef"
          ],
          [
           "Business-a3fe"
          ],
          [
           "Business-a43d"
          ],
          [
           "Business-a4fe"
          ],
          [
           "Business-a641"
          ],
          [
           "Business-a658"
          ],
          [
           "Business-a6a1"
          ],
          [
           "Business-a7aa"
          ],
          [
           "Business-a8d5"
          ],
          [
           "Business-a8d7"
          ],
          [
           "Business-a8da"
          ],
          [
           "Business-a8db"
          ],
          [
           "Business-aac2"
          ],
          [
           "Business-aad4"
          ],
          [
           "Business-adc1"
          ],
          [
           "Business-ae7c"
          ],
          [
           "Business-afa0"
          ],
          [
           "Business-b04e"
          ],
          [
           "Business-b094"
          ],
          [
           "Business-b22c"
          ],
          [
           "Business-b412"
          ],
          [
           "Business-b477"
          ],
          [
           "Business-b48e"
          ],
          [
           "Business-b5f0"
          ],
          [
           "Business-b76a"
          ],
          [
           "Business-b844"
          ],
          [
           "Business-b882"
          ],
          [
           "Business-b8e8"
          ],
          [
           "Business-ba5f"
          ],
          [
           "Business-ba97"
          ],
          [
           "Business-bab3"
          ],
          [
           "Business-bb8c"
          ],
          [
           "Business-bc52"
          ],
          [
           "Business-bf11"
          ],
          [
           "Business-bf85"
          ],
          [
           "Business-c13c"
          ],
          [
           "Business-c1e3"
          ],
          [
           "Business-c206"
          ],
          [
           "Business-c38e"
          ],
          [
           "Business-c569"
          ],
          [
           "Business-c574"
          ],
          [
           "Business-c5ff"
          ],
          [
           "Business-c774"
          ],
          [
           "Business-cc1e"
          ],
          [
           "Business-cd1c"
          ],
          [
           "Business-ce15"
          ],
          [
           "Business-cf0d"
          ],
          [
           "Business-cf4b"
          ],
          [
           "Business-d042"
          ],
          [
           "Business-d203"
          ],
          [
           "Business-d2b6"
          ],
          [
           "Business-d5b5"
          ],
          [
           "Business-d81e"
          ],
          [
           "Business-d963"
          ],
          [
           "Business-daff"
          ],
          [
           "Business-dbce"
          ],
          [
           "Business-dc0b"
          ],
          [
           "Business-dcd4"
          ],
          [
           "Business-de42"
          ],
          [
           "Business-dea1"
          ],
          [
           "Business-df25"
          ],
          [
           "Business-e000"
          ],
          [
           "Business-e0ec"
          ],
          [
           "Business-e21c"
          ],
          [
           "Business-e268"
          ],
          [
           "Business-e2bb"
          ],
          [
           "Business-e466"
          ],
          [
           "Business-e8d5"
          ],
          [
           "Business-e8fc"
          ],
          [
           "Business-e997"
          ],
          [
           "Business-eb11"
          ],
          [
           "Business-eb50"
          ],
          [
           "Business-ebb4"
          ],
          [
           "Business-ec8b"
          ],
          [
           "Business-ee44"
          ],
          [
           "Business-ef78"
          ],
          [
           "Business-f13b"
          ],
          [
           "Business-f17a"
          ],
          [
           "Business-f1d2"
          ],
          [
           "Business-f3e7"
          ],
          [
           "Business-f3f6"
          ],
          [
           "Business-f749"
          ],
          [
           "Business-f7a9"
          ],
          [
           "Business-fac0"
          ],
          [
           "Business-fba5"
          ],
          [
           "Business-fe8f"
          ],
          [
           "Business-fef1"
          ]
         ],
         "hovertemplate": "group=High Value<br>total_value=%{x}<br>quantity=%{y}<br>frequency=%{marker.size}<br>anonymized_business=%{customdata[0]}<extra></extra>",
         "legendgroup": "High Value",
         "marker": {
          "color": "#EF553B",
          "size": {
           "bdata": "HALvAHkAHwE2AiACjAPWAC0CHgFTARUCGAALAfoBuAIDBJgBlgJ4AH8CXwKEAeMBgwHiAxwClQAYAuIAVgLkAZ4BpwDdAZgCYQF4AWwCRQBXAzECrACYAQ4C0AC3AmYDfAGAAQEBXQJBAp8B2QKqANgBtQEvAeoC0AJwAioC7wHaAKEDKAEMA48CmAELAYQAMwF4AQUDlQFKAGUBCgXLASsBYQNUAqQAXQIUAWYBcQEJArwARANEAh8DjgGYAjcBBQV2ATYADAK9AZoAVwHAAeQA2gGVAE4AgABKAcwANgJzAGoC5QCGAIkA9AN1ACYCbwAVA2YBKQG4AfwBVAPaAS0CBwDdAL8BegFsAIUACQKjAdMBOAEMAvMA7QH4A2MBlAKQA/EAkAKtASgAOwIZARECTwKSA1IA/gEMAekADwE2AJ0CYgHhAfsB9gCtAXgAIAC+AhIBGAJhA70BzwFoAf8AJAKMAqcBNAJBA84BhQIFABICXACeAK8A+gGFAWQCgwBgAnEBqAAXAewBvAG1A5kBagCkAFUBLgSZAQMBLwGUAKoBsgIOAoUCSgKZAYMBZgKgAIQCdgDEA5sCMwJmBPUBZAAXA10B0AFWBN4BCgHAAv8ChgFeArABgAMfAAEASgCLAqcB0wKZAAcCzgIaAT4DVgJ0AF8CVAKeAS8E",
           "dtype": "i2"
          },
          "sizemode": "area",
          "sizeref": 6.535,
          "symbol": "circle"
         },
         "mode": "markers",
         "name": "High Value",
         "showlegend": true,
         "type": "scattergl",
         "x": {
          "bdata": "NzQyANGGGQACxB0AyWAYACYnJQAFQRwAv8xnAFtyIQAt1RwAqEoaAAcdHQB9GiwAxJgkAIyVOQAkKloA9TQfAN8FPwCWsCAAJfQ9AHP7IQCugzMA7pNsAMTALQB5BCEAETEeABm8RAD2OyIAEaokAIVhGQDBdxkAzm8YANa9KwAgdjoAVLgoAOjIPwA6sCgA9FE5AO8GXwAcGhsA7YojAFf6QQArDx8Aw1IeAErmMwDgfiEA37w2AP6WHgAEOlIA3xdDAPHpHABl+x4AlHMgAE4qGgCjeCcAGiAnAMxpGQD6OBgAOvEhADatLgC8oDUAoDUsAEnNNwDTZScAgN4ZABCCGQCo4ioA05odAHDxOQAgnCcA5BYwAAa8GQBrwRwAEzQhAAihIgA0mzsA4XkaAIEPKQDxJCsAPsQ9AKEMGQD6DSYAMAYoAOMdYADcJiUA5kEeAGWVKwBu0CEA3SAhAHs0KQAK7DUA5u0wABbwQQDsWSwAIN4vACuOMQDUA1oAjCFRAE2EQADoezUAD6obANnYZADS6CYAGoU/ANH5IQAPsyQA86wdAGUJLgB8+WEA8BtGABZHNABEAyIABqJOAPLjHwBO4i8ApSImAH1pGADSfB4A2AFLAHw4JgC7ihsAAEMaAOqyMwA+YSEAVgw+ANGxHwBMTlkAIp86AOulTQD6RSUAts8pAKB7GQC1EUcAx8pAANG/GAABByIAMqQdABeHNABMOywAtOIvAGJYJAASlCIA1R4YANO3KQDJ5hcArhQsAHVPRwAkMy8AH/gZABk1IgDEAioAUXArACICKQB+TScALTEnAPqLIgDoqisA4WZPAItjLQCgqykAK7cqAPMrHQDDuhoA+H5JAErYJwBuYj0AV5AwAB0AGgAb+BwAOAIqACelLwC9SUsAZgQnAIpEMwAstzQA2eA2AOxmHgCUfDAAnv0eAHUQOQCZGFoAMOgrAOz2JQCEfz4AJxQbAJmqIAAiZUYAbHorAI2CTwCQSTMAu4AeACHcLgB3ZS4AeZEZAMdiGQAF/RcAktQgANk5HwCDsiwAwlM1AImvLgBloyQAtTwjAAE7HwAWnR0AartLAHKoHABe9jkAdW0tAEqmHQB2EFwAr0siAF/7HwCH2z0AjywqAHc5NgA9K18AJxkyAPYbNABEniAAkngZANIQUwD0yRsA4JMYALGJcQC0gyMA6BAaAHB4JwAzLBgAinkmAKSHMwC3MxsAxu8YAPk0WwAjCkcA75gjACblMAAvQyUARh8hAOjIHACQNB0ABxMgAHoYagCSjyYAQ90cAEJPLwCcbkMAX8odAGxLHAA3X0cAhaQ2AJsHGgB/zh4AdAsdACJRHgAnHkIA",
          "dtype": "i4"
         },
         "xaxis": "x",
         "y": {
          "bdata": "GQXPAi4E6gI0BBcDHAueA/0CBgMdA70EMQT6BvIIAQSRBsIEqAWAAiAF7Ac4BWUEhAK5Bt4DXwRvAv4BDQMhBEIE2AMtBq4ErgRBCPkC5wJMB4MDYAJGBpkDvwZpAzsKuge7A/kCBgMvAy0E0QPdAfIChANCBAAFcgS0BLkDfAKbAvUDzgLsBcwDwwR6AhUCcwJZAzcG8AI8BBsF9Ac6A5gD7QQkCrsDCANRBEoDtAKMBR8FCgYYCCwFxgTSBIkKpAguB9YGgAIWC+sD6gWYBMkDAATlBR8JuwWhB+MCcwlJA1EF1AO2AjoDKgdeAwsDJgLRBHEDAAkmAz8JfgWJB0gE/QEgAwoHNwbyAokDSQNCBYMEPgb8At0DrAJJBJICCgRhB7YEQgMZA54EGgRsBIoERATYBeEEOggBBRMDdANUAk4DqAgzBIoGrAO3Ah0DeAMRBf4G3AUBBS4FmQaHAvQFOQN8B3cICATlA4gHSwOFAssFJwWCCNkE+QTuBbUEgQLOAm8CqALJAnYEVQWVBd4DcgODAuYClQdQA/YFwwXFAtMJTARnAwAGowMBB0oL0QWxBekD1gLZCb8DNwOaCTIECwKABQgDLwSjBekCqwLhB2wHxAPaBNADfQTzAywB4QJiDNkDcAOSBPoEIQOdAs4HmwVYAx0D+QOZAkgH",
          "dtype": "i2"
         },
         "yaxis": "y"
        },
        {
         "customdata": [
          [
           "Business-07de"
          ],
          [
           "Business-0e5b"
          ],
          [
           "Business-1e3e"
          ],
          [
           "Business-1f55"
          ],
          [
           "Business-2197"
          ],
          [
           "Business-2efb"
          ],
          [
           "Business-3215"
          ],
          [
           "Business-468e"
          ],
          [
           "Business-5613"
          ],
          [
           "Business-6068"
          ],
          [
           "Business-610c"
          ],
          [
           "Business-7a03"
          ],
          [
           "Business-80b3"
          ],
          [
           "Business-8119"
          ],
          [
           "Business-978e"
          ],
          [
           "Business-a68c"
          ],
          [
           "Business-a8bd"
          ],
          [
           "Business-ba13"
          ],
          [
           "Business-cb1f"
          ],
          [
           "Business-d72e"
          ],
          [
           "Business-e672"
          ],
          [
           "Business-f4f4"
          ],
          [
           "Business-fe7d"
          ]
         ],
         "hovertemplate": "group=Medium Value<br>total_value=%{x}<br>quantity=%{y}<br>frequency=%{marker.size}<br>anonymized_business=%{customdata[0]}<extra></extra>",
         "legendgroup": "Medium Value",
         "marker": {
          "color": "#00cc96",
          "size": {
           "bdata": "iAR/B6YAIgLmAKQAdQITA7MCwgWqA3sE1AR7ATYK1APAAuQCTgTNA3QDWASNAg==",
           "dtype": "i2"
          },
          "sizemode": "area",
          "sizeref": 6.535,
          "symbol": "circle"
         },
         "mode": "markers",
         "name": "Medium Value",
         "showlegend": true,
         "type": "scattergl",
         "x": {
          "bdata": "FBT4ABRHigAHT8kAjrJ7AInkigB7rYEATYuBACVyvwAAg7UAQzn7AGXsdgBDJNUAaYiNAKrxsgDu0KsB5014AHmUjgBgSNAAjIaSAJubjQAtKaQALWO2AIHxmwE=",
          "dtype": "i4"
         },
         "xaxis": "x",
         "y": {
          "bdata": "sRfBEHUT6Av/DCkOpw1KFfkPFiAUDK4YzxDMDqc2fgymDZ0VHBL7DqoMDA9XGg==",
          "dtype": "i2"
         },
         "yaxis": "y"
        }
       ],
       "layout": {
        "legend": {
         "itemsizing": "constant",
         "title": {
          "text": "group"
         },
         "tracegroupgap": 0
        },
        "template": {
         "data": {
          "bar": [
           {
            "error_x": {
             "color": "#2a3f5f"
            },
            "error_y": {
             "color": "#2a3f5f"
            },
            "marker": {
             "line": {
              "color": "#E5ECF6",
              "width": 0.5
             },
             "pattern": {
              "fillmode": "overlay",
              "size": 10,
              "solidity": 0.2
             }
            },
            "type": "bar"
           }
          ],
          "barpolar": [
           {
            "marker": {
             "line": {
              "color": "#E5ECF6",
              "width": 0.5
             },
             "pattern": {
              "fillmode": "overlay",
              "size": 10,
              "solidity": 0.2
             }
            },
            "type": "barpolar"
           }
          ],
          "carpet": [
           {
            "aaxis": {
             "endlinecolor": "#2a3f5f",
             "gridcolor": "white",
             "linecolor": "white",
             "minorgridcolor": "white",
             "startlinecolor": "#2a3f5f"
            },
            "baxis": {
             "endlinecolor": "#2a3f5f",
             "gridcolor": "white",
             "linecolor": "white",
             "minorgridcolor": "white",
             "startlinecolor": "#2a3f5f"
            },
            "type": "carpet"
           }
          ],
          "choropleth": [
           {
            "colorbar": {
             "outlinewidth": 0,
             "ticks": ""
            },
            "type": "choropleth"
           }
          ],
          "contour": [
           {
            "colorbar": {
             "outlinewidth": 0,
             "ticks": ""
            },
            "colorscale": [
             [
              0,
              "#0d0887"
             ],
             [
              0.1111111111111111,
              "#46039f"
             ],
             [
              0.2222222222222222,
              "#7201a8"
             ],
             [
              0.3333333333333333,
              "#9c179e"
             ],
             [
              0.4444444444444444,
              "#bd3786"
             ],
             [
              0.5555555555555556,
              "#d8576b"
             ],
             [
              0.6666666666666666,
              "#ed7953"
             ],
             [
              0.7777777777777778,
              "#fb9f3a"
             ],
             [
              0.8888888888888888,
              "#fdca26"
             ],
             [
              1,
              "#f0f921"
             ]
            ],
            "type": "contour"
           }
          ],
          "contourcarpet": [
           {
            "colorbar": {
             "outlinewidth": 0,
             "ticks": ""
            },
            "type": "contourcarpet"
           }
          ],
          "heatmap": [
           {
            "colorbar": {
             "outlinewidth": 0,
             "ticks": ""
            },
            "colorscale": [
             [
              0,
              "#0d0887"
             ],
             [
              0.1111111111111111,
              "#46039f"
             ],
             [
              0.2222222222222222,
              "#7201a8"
             ],
             [
              0.3333333333333333,
              "#9c179e"
             ],
             [
              0.4444444444444444,
              "#bd3786"
             ],
             [
              0.5555555555555556,
              "#d8576b"
             ],
             [
              0.6666666666666666,
              "#ed7953"
             ],
             [
              0.7777777777777778,
              "#fb9f3a"
             ],
             [
              0.8888888888888888,
              "#fdca26"
             ],
             [
              1,
              "#f0f921"
             ]
            ],
            "type": "heatmap"
           }
          ],
          "histogram": [
           {
            "marker": {
             "pattern": {
              "fillmode": "overlay",
              "size": 10,
              "solidity": 0.2
             }
            },
            "type": "histogram"
           }
          ],
          "histogram2d": [
           {
            "colorbar": {
             "outlinewidth": 0,
             "ticks": ""
            },
            "colorscale": [
             [
              0,
              "#0d0887"
             ],
             [
              0.1111111111111111,
              "#46039f"
             ],
             [
              0.2222222222222222,
              "#7201a8"
             ],
             [
              0.3333333333333333,
              "#9c179e"
             ],
             [
              0.4444444444444444,
              "#bd3786"
             ],
             [
              0.5555555555555556,
              "#d8576b"
             ],
             [
              0.6666666666666666,
              "#ed7953"
             ],
             [
              0.7777777777777778,
              "#fb9f3a"
             ],
             [
              0.8888888888888888,
              "#fdca26"
             ],
             [
              1,
              "#f0f921"
             ]
            ],
            "type": "histogram2d"
           }
          ],
          "histogram2dcontour": [
           {
            "colorbar": {
             "outlinewidth": 0,
             "ticks": ""
            },
            "colorscale": [
             [
              0,
              "#0d0887"
             ],
             [
              0.1111111111111111,
              "#46039f"
             ],
             [
              0.2222222222222222,
              "#7201a8"
             ],
             [
              0.3333333333333333,
              "#9c179e"
             ],
             [
              0.4444444444444444,
              "#bd3786"
             ],
             [
              0.5555555555555556,
              "#d8576b"
             ],
             [
              0.6666666666666666,
              "#ed7953"
             ],
             [
              0.7777777777777778,
              "#fb9f3a"
             ],
             [
              0.8888888888888888,
              "#fdca26"
             ],
             [
              1,
              "#f0f921"
             ]
            ],
            "type": "histogram2dcontour"
           }
          ],
          "mesh3d": [
           {
            "colorbar": {
             "outlinewidth": 0,
             "ticks": ""
            },
            "type": "mesh3d"
           }
          ],
          "parcoords": [
           {
            "line": {
             "colorbar": {
              "outlinewidth": 0,
              "ticks": ""
             }
            },
            "type": "parcoords"
           }
          ],
          "pie": [
           {
            "automargin": true,
            "type": "pie"
           }
          ],
          "scatter": [
           {
            "fillpattern": {
             "fillmode": "overlay",
             "size": 10,
             "solidity": 0.2
            },
            "type": "scatter"
           }
          ],
          "scatter3d": [
           {
            "line": {
             "colorbar": {
              "outlinewidth": 0,
              "ticks": ""
             }
            },
            "marker": {
             "colorbar": {
              "outlinewidth": 0,
              "ticks": ""
             }
            },
            "type": "scatter3d"
           }
          ],
          "scattercarpet": [
           {
            "marker": {
             "colorbar": {
              "outlinewidth": 0,
              "ticks": ""
             }
            },
            "type": "scattercarpet"
           }
          ],
          "scattergeo": [
           {
            "marker": {
             "colorbar": {
              "outlinewidth": 0,
              "ticks": ""
             }
            },
            "type": "scattergeo"
           }
          ],
          "scattergl": [
           {
            "marker": {
             "colorbar": {
              "outlinewidth": 0,
              "ticks": ""
             }
            },
            "type": "scattergl"
           }
          ],
          "scattermap": [
           {
            "marker": {
             "colorbar": {
              "outlinewidth": 0,
              "ticks": ""
             }
            },
            "type": "scattermap"
           }
          ],
          "scattermapbox": [
           {
            "marker": {
             "colorbar": {
              "outlinewidth": 0,
              "ticks": ""
             }
            },
            "type": "scattermapbox"
           }
          ],
          "scatterpolar": [
           {
            "marker": {
             "colorbar": {
              "outlinewidth": 0,
              "ticks": ""
             }
            },
            "type": "scatterpolar"
           }
          ],
          "scatterpolargl": [
           {
            "marker": {
             "colorbar": {
              "outlinewidth": 0,
              "ticks": ""
             }
            },
            "type": "scatterpolargl"
           }
          ],
          "scatterternary": [
           {
            "marker": {
             "colorbar": {
              "outlinewidth": 0,
              "ticks": ""
             }
            },
            "type": "scatterternary"
           }
          ],
          "surface": [
           {
            "colorbar": {
             "outlinewidth": 0,
             "ticks": ""
            },
            "colorscale": [
             [
              0,
              "#0d0887"
             ],
             [
              0.1111111111111111,
              "#46039f"
             ],
             [
              0.2222222222222222,
              "#7201a8"
             ],
             [
              0.3333333333333333,
              "#9c179e"
             ],
             [
              0.4444444444444444,
              "#bd3786"
             ],
             [
              0.5555555555555556,
              "#d8576b"
             ],
             [
              0.6666666666666666,
              "#ed7953"
             ],
             [
              0.7777777777777778,
              "#fb9f3a"
             ],
             [
              0.8888888888888888,
              "#fdca26"
             ],
             [
              1,
              "#f0f921"
             ]
            ],
            "type": "surface"
           }
          ],
          "table": [
           {
            "cells": {
             "fill": {
              "color": "#EBF0F8"
             },
             "line": {
              "color": "white"
             }
            },
            "header": {
             "fill": {
              "color": "#C8D4E3"
             },
             "line": {
              "color": "white"
             }
            },
            "type": "table"
           }
          ]
         },
         "layout": {
          "annotationdefaults": {
           "arrowcolor": "#2a3f5f",
           "arrowhead": 0,
           "arrowwidth": 1
          },
          "autotypenumbers": "strict",
          "coloraxis": {
           "colorbar": {
            "outlinewidth": 0,
            "ticks": ""
           }
          },
          "colorscale": {
           "diverging": [
            [
             0,
             "#8e0152"
            ],
            [
             0.1,
             "#c51b7d"
            ],
            [
             0.2,
             "#de77ae"
            ],
            [
             0.3,
             "#f1b6da"
            ],
            [
             0.4,
             "#fde0ef"
            ],
            [
             0.5,
             "#f7f7f7"
            ],
            [
             0.6,
             "#e6f5d0"
            ],
            [
             0.7,
             "#b8e186"
            ],
            [
             0.8,
             "#7fbc41"
            ],
            [
             0.9,
             "#4d9221"
            ],
            [
             1,
             "#276419"
            ]
           ],
           "sequential": [
            [
             0,
             "#0d0887"
            ],
            [
             0.1111111111111111,
             "#46039f"
            ],
            [
             0.2222222222222222,
             "#7201a8"
            ],
            [
             0.3333333333333333,
             "#9c179e"
            ],
            [
             0.4444444444444444,
             "#bd3786"
            ],
            [
             0.5555555555555556,
             "#d8576b"
            ],
            [
             0.6666666666666666,
             "#ed7953"
            ],
            [
             0.7777777777777778,
             "#fb9f3a"
            ],
            [
             0.8888888888888888,
             "#fdca26"
            ],
            [
             1,
             "#f0f921"
            ]
           ],
           "sequentialminus": [
            [
             0,
             "#0d0887"
            ],
            [
             0.1111111111111111,
             "#46039f"
            ],
            [
             0.2222222222222222,
             "#7201a8"
            ],
            [
             0.3333333333333333,
             "#9c179e"
            ],
            [
             0.4444444444444444,
             "#bd3786"
            ],
            [
             0.5555555555555556,
             "#d8576b"
            ],
            [
             0.6666666666666666,
             "#ed7953"
            ],
            [
             0.7777777777777778,
             "#fb9f3a"
            ],
            [
             0.8888888888888888,
             "#fdca26"
            ],
            [
             1,
             "#f0f921"
            ]
           ]
          },
          "colorway": [
           "#636efa",
           "#EF553B",
           "#00cc96",
           "#ab63fa",
           "#FFA15A",
           "#19d3f3",
           "#FF6692",
           "#B6E880",
           "#FF97FF",
           "#FECB52"
          ],
          "font": {
           "color": "#2a3f5f"
          },
          "geo": {
           "bgcolor": "white",
           "lakecolor": "white",
           "landcolor": "#E5ECF6",
           "showlakes": true,
           "showland": true,
           "subunitcolor": "white"
          },
          "hoverlabel": {
           "align": "left"
          },
          "hovermode": "closest",
          "mapbox": {
           "style": "light"
          },
          "paper_bgcolor": "white",
          "plot_bgcolor": "#E5ECF6",
          "polar": {
           "angularaxis": {
            "gridcolor": "white",
            "linecolor": "white",
            "ticks": ""
           },
           "bgcolor": "#E5ECF6",
           "radialaxis": {
            "gridcolor": "white",
            "linecolor": "white",
            "ticks": ""
           }
          },
          "scene": {
           "xaxis": {
            "backgroundcolor": "#E5ECF6",
            "gridcolor": "white",
            "gridwidth": 2,
            "linecolor": "white",
            "showbackground": true,
            "ticks": "",
            "zerolinecolor": "white"
           },
           "yaxis": {
            "backgroundcolor": "#E5ECF6",
            "gridcolor": "white",
            "gridwidth": 2,
            "linecolor": "white",
            "showbackground": true,
            "ticks": "",
            "zerolinecolor": "white"
           },
           "zaxis": {
            "backgroundcolor": "#E5ECF6",
            "gridcolor": "white",
            "gridwidth": 2,
            "linecolor": "white",
            "showbackground": true,
            "ticks": "",
            "zerolinecolor": "white"
           }
          },
          "shapedefaults": {
           "line": {
            "color": "#2a3f5f"
           }
          },
          "ternary": {
           "aaxis": {
            "gridcolor": "white",
            "linecolor": "white",
            "ticks": ""
           },
           "baxis": {
            "gridcolor": "white",
            "linecolor": "white",
            "ticks": ""
           },
           "bgcolor": "#E5ECF6",
           "caxis": {
            "gridcolor": "white",
            "linecolor": "white",
            "ticks": ""
           }
          },
          "title": {
           "x": 0.05
          },
          "xaxis": {
           "automargin": true,
           "gridcolor": "white",
           "linecolor": "white",
           "ticks": "",
           "title": {
            "standoff": 15
           },
           "zerolinecolor": "white",
           "zerolinewidth": 2
          },
          "yaxis": {
           "automargin": true,
           "gridcolor": "white",
           "linecolor": "white",
           "ticks": "",
           "title": {
            "standoff": 15
           },
           "zerolinecolor": "white",
           "zerolinewidth": 2
          }
         }
        },
        "title": {
         "text": "Customer Segmentation Based on Purchasing Behavior"
        },
        "xaxis": {
         "anchor": "y",
         "domain": [
          0,
          1
         ],
         "title": {
          "text": "total_value"
         }
        },
        "yaxis": {
         "anchor": "x",
         "domain": [
          0,
          1
         ],
         "title": {
          "text": "quantity"
         }
        }
       }
      }
     },
     "metadata": {},
     "output_type": "display_data"
    }
   ],
   "source": [
    "import plotly.express as px\n",
    "import plotly.graph_objects as go\n",
    "\n",
    "# Total Quantity and Value by Anonymized Category\n",
    "fig_category = px.bar(category_grouped, x='anonymized_category', y=['quantity', 'total_value'], barmode='group', title='Total Quantity and Value by Anonymized Category')\n",
    "\n",
    "# Top-performing products\n",
    "fig_top_products = px.bar(top_products, x='anonymized_product', y='total_value', title='Top 5 Performing Products by Total Value')\n",
    "\n",
    "# Top-performing businesses\n",
    "fig_top_businesses = px.bar(top_businesses, x='anonymized_business', y='total_value', title='Top 5 Performing Businesses by Total Value')\n",
    "\n",
    "# Time-series chart of sales trends\n",
    "fig_sales_trends = go.Figure()\n",
    "fig_sales_trends.add_trace(go.Scatter(x=monthly_sales['month-year'], y=monthly_sales['total_value'], mode='lines+markers', name='Total Value'))\n",
    "fig_sales_trends.add_trace(go.Scatter(x=monthly_sales['month-year'], y=monthly_sales['quantity'], mode='lines+markers', name='Total Quantity'))\n",
    "fig_sales_trends.update_layout(title='Sales Trends Over Time', xaxis_title='Month-Year', yaxis_title='Value/Quantity')\n",
    "\n",
    "# Segmentation summary of customer groups\n",
    "fig_segmentation = px.scatter(business_grouped, x='total_value', y='quantity', color='group', size='frequency', hover_data=['anonymized_business'], title='Customer Segmentation Based on Purchasing Behavior')\n",
    "\n",
    "# Show the dashboard components\n",
    "fig_category.show()\n",
    "fig_top_products.show()\n",
    "fig_top_businesses.show()\n",
    "fig_sales_trends.show()\n",
    "fig_segmentation.show()"
   ]
  },
  {
   "cell_type": "markdown",
   "metadata": {},
   "source": [
    "    Predictive Analysis: Identify external factors that could influence sales (e.g., economic conditions, competitor actions). Propose a methodology to incorporate such factors into future analyses.\n",
    "    \n"
   ]
  },
  {
   "cell_type": "markdown",
   "metadata": {},
   "source": [
    "External Factors Influencing Sales:\n",
    "\n",
    "1. Economic Conditions: Factors like GDP growth, inflation, and unemployment rates can significantly impact consumer purchasing power and demand\n",
    "    \n",
    "2. Competitor Actions: Changes in competitor pricing, new product launches, and marketing campaigns can affect market share and sales\n",
    "\n",
    "3. Consumer Trends: Shifts in consumer preferences, seasonal trends, and demographic changes can influence sales patterns\n",
    "    \n",
    "4. Regulatory Changes: New laws and regulations, such as changes in tax policies or trade tariffs, can impact costs and pricing strategies\n",
    "\n",
    "5. Technological Advancements: Innovations and technological changes can create new opportunities or render existing products obsolete\n",
    "    \n",
    "\n",
    "Methodology to Incorporate External Factors:\n",
    "\n",
    "1. Data Collection: Gather data from reliable sources such as government reports, industry publications, and market research firms\n",
    "2. Integration: Use data integration tools to combine internal sales data with external datasets. Ensure data is cleaned and standardized for consistency1\n",
    "3. Modeling: Apply advanced analytics techniques like regression analysis or time series analysis to quantify the relationships between external factors and sales performance\n",
    "4. Validation: Validate models using historical data to ensure accuracy. Adjust models based on performance metrics\n",
    "5. Monitoring: Continuously monitor external factors and update models regularly to reflect changes in the external environment\n",
    "    .\n"
   ]
  },
  {
   "cell_type": "markdown",
   "metadata": {},
   "source": [
    "    Scalability: If the dataset were 10 times larger, what optimizations would you implement for data storage, processing, and analysis?"
   ]
  },
  {
   "cell_type": "markdown",
   "metadata": {},
   "source": [
    "Optimizations for Data Storage, Processing, and Analysis:\n",
    "\n",
    "Data Storage:\n",
    "\n",
    "1. Partitioning: Divide large datasets into smaller, manageable partitions to improve query performance and reduce latency4\n",
    "\n",
    "2. Compression: Use data compression techniques to reduce storage requirements and improve I/O performance4\n",
    "       \n",
    "Data Processing:\n",
    "\n",
    "1. Parallel Processing: Utilize parallel processing frameworks like Apache Spark to distribute processing tasks across multiple nodes5\n",
    "\n",
    "2. In-Memory Computing: Leverage in-memory computing to reduce data access times and improve processing speed5\n",
    "\n",
    "3. Load Balancing: Implement load balancing to evenly distribute processing workloads and prevent bottlenecks5\n",
    "        \n",
    "Data Analysis:\n",
    "\n",
    "1. Scalable Algorithms: Use scalable machine learning algorithms that can handle large datasets efficiently5\n",
    "2. Distributed Computing: Employ distributed computing frameworks to perform complex analyses on large datasets5\n",
    "3. Real-Time Analytics: Implement real-time analytics to provide immediate insights and enable quick decision-making5\n",
    "        .\n"
   ]
  },
  {
   "cell_type": "code",
   "execution_count": 49,
   "metadata": {},
   "outputs": [
    {
     "name": "stdout",
     "output_type": "stream",
     "text": [
      "Index(['date', 'anonymized_category', 'anonymized_product',\n",
      "       'anonymized_business', 'anonymized_location', 'quantity', 'unit_price',\n",
      "       'month-year', 'total_value'],\n",
      "      dtype='object')\n"
     ]
    }
   ],
   "source": [
    "print(kt_clean_df.columns)\n"
   ]
  },
  {
   "cell_type": "code",
   "execution_count": 55,
   "metadata": {},
   "outputs": [
    {
     "data": {
      "text/plain": [
       "Index(['anonymized_business', 'total_quantity', 'total_value',\n",
       "       'transaction_count', 'segment'],\n",
       "      dtype='object')"
      ]
     },
     "execution_count": 55,
     "metadata": {},
     "output_type": "execute_result"
    }
   ],
   "source": [
    "kt_business_df.columns"
   ]
  },
  {
   "cell_type": "code",
   "execution_count": 50,
   "metadata": {},
   "outputs": [],
   "source": [
    "import plotly.io as pio"
   ]
  },
  {
   "cell_type": "code",
   "execution_count": 57,
   "metadata": {},
   "outputs": [
    {
     "data": {
      "text/html": [
       "\n",
       "        <iframe\n",
       "            width=\"100%\"\n",
       "            height=\"650\"\n",
       "            src=\"http://127.0.0.1:8050/\"\n",
       "            frameborder=\"0\"\n",
       "            allowfullscreen\n",
       "        ></iframe>\n",
       "        "
      ],
      "text/plain": [
       "<IPython.lib.display.IFrame at 0x22ddd09d460>"
      ]
     },
     "metadata": {},
     "output_type": "display_data"
    }
   ],
   "source": [
    "import dash\n",
    "from dash import dcc, html, dash_table\n",
    "import plotly.express as px\n",
    "import pandas as pd\n",
    "from dash.dependencies import Input, Output\n",
    "\n",
    "\n",
    "# Aggregate data for different visualizations\n",
    "monthly_sales = kt_clean_df.groupby('month-year').agg({'total_value': 'sum', 'quantity': 'sum'}).reset_index()\n",
    "category_sales = kt_clean_df.groupby('anonymized_category').agg({'total_value': 'sum', 'quantity': 'sum'}).reset_index()\n",
    "top_products = kt_clean_df.groupby('anonymized_product').agg({'total_value': 'sum', 'quantity': 'sum'}).reset_index().nlargest(10, 'total_value')\n",
    "top_businesses = kt_clean_df.groupby('anonymized_business').agg({'total_value': 'sum'}).reset_index().nlargest(10, 'total_value')\n",
    "\n",
    "# Initialize Dash app\n",
    "app = dash.Dash(__name__)\n",
    "\n",
    "# Layout\n",
    "app.layout = html.Div([\n",
    "    html.H1(\"Sales Performance Dashboard\", style={'textAlign': 'center'}),\n",
    "    \n",
    "    # Total Quantity and Value by Category\n",
    "    dcc.Graph(\n",
    "        id='category-sales',\n",
    "        figure=px.bar(category_sales, x='anonymized_category', y=['total_value', 'quantity'],\n",
    "                      title=\"Total Sales Value and Quantity by Category\",\n",
    "                      barmode='group', labels={'value': 'Total Sales', 'quantity': 'Total Quantity'})\n",
    "    ),\n",
    "    \n",
    "    # Top-Performing Products\n",
    "    dcc.Graph(\n",
    "        id='top-products',\n",
    "        figure=px.bar(top_products, x='anonymized_product', y='total_value',\n",
    "                      title=\"Top 10 Best-Selling Products\",\n",
    "                      labels={'product_name': 'Product', 'total_value': 'Sales Value'})\n",
    "    ),\n",
    "    \n",
    "    # Top Businesses\n",
    "    dcc.Graph(\n",
    "        id='top-businesses',\n",
    "        figure=px.bar(top_businesses, x='anonymized_business', y='total_value',\n",
    "                      title=\"Top 10 Businesses by Sales\",\n",
    "                      labels={'business_name': 'Business', 'total_value': 'Sales Value'})\n",
    "    ),\n",
    "    \n",
    "    # Time-Series Chart of Sales Trends\n",
    "    dcc.Graph(\n",
    "        id='sales-trends',\n",
    "        figure=px.line(monthly_sales, x='month-year', y=['total_value', 'quantity'],\n",
    "                       title=\"Sales Trends Over Time\", labels={'month-year': 'Date', 'value': 'Sales'})\n",
    "    ),\n",
    "    \n",
    "      # Customer Segmentation Table\n",
    "    html.H3(\"Customer Segmentation Summary\"),\n",
    "    dash_table.DataTable(\n",
    "        id='customer-segmentation',\n",
    "        columns=[{\"name\": i, \"id\": i} for i in ['segment', 'total_value', 'total_quantity']],\n",
    "        data=kt_business_df.groupby('segment').agg({'total_value': 'sum', 'total_quantity': 'sum'}).reset_index().to_dict('records'),\n",
    "        style_table={'overflowX': 'auto'},\n",
    "    )\n",
    "])\n",
    "\n",
    "# Run the app\n",
    "if __name__ == '__main__':\n",
    "    app.run_server(debug=True)\n"
   ]
  }
 ],
 "metadata": {
  "kernelspec": {
   "display_name": "learn-env",
   "language": "python",
   "name": "python3"
  },
  "language_info": {
   "codemirror_mode": {
    "name": "ipython",
    "version": 3
   },
   "file_extension": ".py",
   "mimetype": "text/x-python",
   "name": "python",
   "nbconvert_exporter": "python",
   "pygments_lexer": "ipython3",
   "version": "3.8.5"
  }
 },
 "nbformat": 4,
 "nbformat_minor": 2
}
