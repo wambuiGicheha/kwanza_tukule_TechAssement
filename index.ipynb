{
 "cells": [
  {
   "cell_type": "markdown",
   "metadata": {},
   "source": [
    "# Kwanza Tukule Data Analyst Assessment\n",
    "Author : Keziah Gicheha \n",
    "\n",
    "Date : 31/01/2025\n",
    "\n",
    "## Introduction \n",
    "\n",
    "This notebook presents an analysis of anonymized sales data provided by Kwanza Tukule. The goal of this assessment is to evaluate data cleaning, preparation, and analytical skills by addressing key tasks, including:\n",
    "\n",
    "* Identifying and resolving data quality issues (e.g., missing values, duplicates, inconsistent data types).\n",
    "* Performing feature engineering to create new useful columns.\n",
    "* Conducting exploratory data analysis (EDA) to uncover trends and insights.\n",
    "* Providing actionable recommendations based on data findings."
   ]
  },
  {
   "cell_type": "markdown",
   "metadata": {},
   "source": [
    "## Project Overview\n",
    "\n",
    "This project involves building a **Sales Dashboard** using **Dash** (a Python framework for building analytical web applications) to visualize and analyze sales performance. The dashboard includes key visualizations for monthly sales trends, product performance, and customer retention. Additionally, I apply time series forecasting (ARIMA) to predict future sales, enabling data-driven decision-making."
   ]
  },
  {
   "cell_type": "markdown",
   "metadata": {},
   "source": [
    "### Section 1: Data Cleaning and Preparation\n",
    "\n",
    "This section outlines the steps taken to clean and prepare the dataset for analysis. The dataset represents anonymized sales data from Kwanza Tukule.\n"
   ]
  },
  {
   "cell_type": "code",
   "execution_count": 2,
   "metadata": {},
   "outputs": [
    {
     "data": {
      "text/html": [
       "<div>\n",
       "<style scoped>\n",
       "    .dataframe tbody tr th:only-of-type {\n",
       "        vertical-align: middle;\n",
       "    }\n",
       "\n",
       "    .dataframe tbody tr th {\n",
       "        vertical-align: top;\n",
       "    }\n",
       "\n",
       "    .dataframe thead th {\n",
       "        text-align: right;\n",
       "    }\n",
       "</style>\n",
       "<table border=\"1\" class=\"dataframe\">\n",
       "  <thead>\n",
       "    <tr style=\"text-align: right;\">\n",
       "      <th></th>\n",
       "      <th>DATE</th>\n",
       "      <th>ANONYMIZED CATEGORY</th>\n",
       "      <th>ANONYMIZED PRODUCT</th>\n",
       "      <th>ANONYMIZED BUSINESS</th>\n",
       "      <th>ANONYMIZED LOCATION</th>\n",
       "      <th>QUANTITY</th>\n",
       "      <th>UNIT PRICE</th>\n",
       "    </tr>\n",
       "  </thead>\n",
       "  <tbody>\n",
       "    <tr>\n",
       "      <th>0</th>\n",
       "      <td>August 18, 2024, 9:32 PM</td>\n",
       "      <td>Category-106</td>\n",
       "      <td>Product-21f4</td>\n",
       "      <td>Business-de42</td>\n",
       "      <td>Location-1ba8</td>\n",
       "      <td>1</td>\n",
       "      <td>850</td>\n",
       "    </tr>\n",
       "    <tr>\n",
       "      <th>1</th>\n",
       "      <td>August 18, 2024, 9:32 PM</td>\n",
       "      <td>Category-120</td>\n",
       "      <td>Product-4156</td>\n",
       "      <td>Business-de42</td>\n",
       "      <td>Location-1ba8</td>\n",
       "      <td>2</td>\n",
       "      <td>1,910</td>\n",
       "    </tr>\n",
       "    <tr>\n",
       "      <th>2</th>\n",
       "      <td>August 18, 2024, 9:32 PM</td>\n",
       "      <td>Category-121</td>\n",
       "      <td>Product-49bd</td>\n",
       "      <td>Business-de42</td>\n",
       "      <td>Location-1ba8</td>\n",
       "      <td>1</td>\n",
       "      <td>3,670</td>\n",
       "    </tr>\n",
       "    <tr>\n",
       "      <th>3</th>\n",
       "      <td>August 18, 2024, 9:32 PM</td>\n",
       "      <td>Category-76</td>\n",
       "      <td>Product-61dd</td>\n",
       "      <td>Business-de42</td>\n",
       "      <td>Location-1ba8</td>\n",
       "      <td>1</td>\n",
       "      <td>2,605</td>\n",
       "    </tr>\n",
       "    <tr>\n",
       "      <th>4</th>\n",
       "      <td>August 18, 2024, 9:32 PM</td>\n",
       "      <td>Category-119</td>\n",
       "      <td>Product-66e0</td>\n",
       "      <td>Business-de42</td>\n",
       "      <td>Location-1ba8</td>\n",
       "      <td>5</td>\n",
       "      <td>1,480</td>\n",
       "    </tr>\n",
       "  </tbody>\n",
       "</table>\n",
       "</div>"
      ],
      "text/plain": [
       "                       DATE ANONYMIZED CATEGORY ANONYMIZED PRODUCT  \\\n",
       "0  August 18, 2024, 9:32 PM        Category-106       Product-21f4   \n",
       "1  August 18, 2024, 9:32 PM        Category-120       Product-4156   \n",
       "2  August 18, 2024, 9:32 PM        Category-121       Product-49bd   \n",
       "3  August 18, 2024, 9:32 PM         Category-76       Product-61dd   \n",
       "4  August 18, 2024, 9:32 PM        Category-119       Product-66e0   \n",
       "\n",
       "  ANONYMIZED BUSINESS ANONYMIZED LOCATION  QUANTITY UNIT PRICE  \n",
       "0       Business-de42       Location-1ba8         1        850  \n",
       "1       Business-de42       Location-1ba8         2      1,910  \n",
       "2       Business-de42       Location-1ba8         1      3,670  \n",
       "3       Business-de42       Location-1ba8         1      2,605  \n",
       "4       Business-de42       Location-1ba8         5      1,480  "
      ]
     },
     "execution_count": 2,
     "metadata": {},
     "output_type": "execute_result"
    }
   ],
   "source": [
    "#import necessary libraries fot the data cleaning, visualization and analysis\n",
    "import numpy as np\n",
    "import pandas as pd\n",
    "import matplotlib.pyplot as plt\n",
    "import seaborn as sns\n",
    "\n",
    "#load the dataset\n",
    "data = pd.read_csv('Data/kwanza_tukule.csv')\n",
    "\n",
    "#check the first 5 rows of the data\n",
    "data.head(5)"
   ]
  },
  {
   "cell_type": "markdown",
   "metadata": {},
   "source": [
    "### 1.1 Data Quality Assessment"
   ]
  },
  {
   "cell_type": "code",
   "execution_count": 3,
   "metadata": {},
   "outputs": [
    {
     "name": "stdout",
     "output_type": "stream",
     "text": [
      "<class 'pandas.core.frame.DataFrame'>\n",
      "RangeIndex: 333405 entries, 0 to 333404\n",
      "Data columns (total 7 columns):\n",
      " #   Column               Non-Null Count   Dtype \n",
      "---  ------               --------------   ----- \n",
      " 0   DATE                 333405 non-null  object\n",
      " 1   ANONYMIZED CATEGORY  333405 non-null  object\n",
      " 2   ANONYMIZED PRODUCT   333405 non-null  object\n",
      " 3   ANONYMIZED BUSINESS  333405 non-null  object\n",
      " 4   ANONYMIZED LOCATION  333405 non-null  object\n",
      " 5   QUANTITY             333405 non-null  int64 \n",
      " 6   UNIT PRICE           333397 non-null  object\n",
      "dtypes: int64(1), object(6)\n",
      "memory usage: 17.8+ MB\n",
      "None\n",
      "            QUANTITY\n",
      "count  333405.000000\n",
      "mean        2.321186\n",
      "std         3.790614\n",
      "min         0.000000\n",
      "25%         1.000000\n",
      "50%         1.000000\n",
      "75%         2.000000\n",
      "max       359.000000\n"
     ]
    }
   ],
   "source": [
    "#Inspect the dataset\n",
    "print(data.info())\n",
    "\n",
    "print(data.describe())\n",
    "\n"
   ]
  },
  {
   "cell_type": "markdown",
   "metadata": {},
   "source": [
    "#### Check for Missing Values"
   ]
  },
  {
   "cell_type": "code",
   "execution_count": 4,
   "metadata": {},
   "outputs": [
    {
     "name": "stdout",
     "output_type": "stream",
     "text": [
      "Missing values per column:\n",
      " DATE                   0\n",
      "ANONYMIZED CATEGORY    0\n",
      "ANONYMIZED PRODUCT     0\n",
      "ANONYMIZED BUSINESS    0\n",
      "ANONYMIZED LOCATION    0\n",
      "QUANTITY               0\n",
      "UNIT PRICE             8\n",
      "dtype: int64\n",
      "Missing values per column:\n",
      " DATE                   0.000000\n",
      "ANONYMIZED CATEGORY    0.000000\n",
      "ANONYMIZED PRODUCT     0.000000\n",
      "ANONYMIZED BUSINESS    0.000000\n",
      "ANONYMIZED LOCATION    0.000000\n",
      "QUANTITY               0.000000\n",
      "UNIT PRICE             0.002399\n",
      "dtype: float64\n"
     ]
    }
   ],
   "source": [
    "#Check for missing values\n",
    "print(\"Missing values per column:\\n\", data.isnull().sum())\n",
    "print(\"Missing values per column:\\n\", data.isnull().sum()* 100 / len(data))"
   ]
  },
  {
   "cell_type": "markdown",
   "metadata": {},
   "source": [
    "#### Handling Missing Values in \"UNIT PRICE\" Column\n",
    "\n",
    "From the output above, we can observe that the column **\"UNIT PRICE\"** has missing values. Given that the percentage of missing data is only **0.002%**, it is a minimal amount. The recommended approach is to **drop these 8 rows**. This decision ensures that the analysis remains unaffected by such a small proportion of missing values.\n",
    "\n",
    "##### Why Dropping is the Best Option:\n",
    "- **Minimal Impact:** The small percentage of missing data will not significantly impact the analysis.\n",
    "- **Prevents Artificial Bias:** Removing the missing values helps avoid introducing bias into the data, which is crucial for maintaining ethical standards in Data Science.\n"
   ]
  },
  {
   "cell_type": "markdown",
   "metadata": {},
   "source": [
    "##### Drop Missing Values"
   ]
  },
  {
   "cell_type": "code",
   "execution_count": 5,
   "metadata": {},
   "outputs": [],
   "source": [
    "# Drop the missing values\n",
    "data = data.dropna(subset=\"UNIT PRICE\")\n",
    "\n"
   ]
  },
  {
   "cell_type": "code",
   "execution_count": 6,
   "metadata": {},
   "outputs": [
    {
     "name": "stdout",
     "output_type": "stream",
     "text": [
      "Missing values per column:\n",
      " DATE                   0\n",
      "ANONYMIZED CATEGORY    0\n",
      "ANONYMIZED PRODUCT     0\n",
      "ANONYMIZED BUSINESS    0\n",
      "ANONYMIZED LOCATION    0\n",
      "QUANTITY               0\n",
      "UNIT PRICE             0\n",
      "dtype: int64\n"
     ]
    }
   ],
   "source": [
    "#Check for missing values\n",
    "print(\"Missing values per column:\\n\", data.isnull().sum())\n"
   ]
  },
  {
   "cell_type": "markdown",
   "metadata": {},
   "source": [
    "\n",
    "\n",
    "Upon reviewing the dataset, we can confirm that the dataset has no missing values. \n",
    "\n",
    "###### Why This is Important:\n",
    "- **Data Integrity:** The absence of missing values ensures the integrity of the dataset and eliminates the need for imputation or row removal.\n"
   ]
  },
  {
   "cell_type": "markdown",
   "metadata": {},
   "source": [
    "#### Check for Duplicates"
   ]
  },
  {
   "cell_type": "code",
   "execution_count": 7,
   "metadata": {},
   "outputs": [
    {
     "name": "stdout",
     "output_type": "stream",
     "text": [
      "Number of duplicates:  3524\n"
     ]
    }
   ],
   "source": [
    "#check for duplicates\n",
    "print(\"Number of duplicates: \", data.duplicated().sum())"
   ]
  },
  {
   "cell_type": "markdown",
   "metadata": {},
   "source": [
    "#### Handling Duplicated Rows\n",
    "\n",
    "Upon reviewing the dataset, I found that there are **3524 duplicated rows**. To ensure accurate analysis, it is crucial to remove these duplicates. \n",
    "\n",
    "#### Why Removing Duplicates is Necessary:\n",
    "- **Accurate Analysis:** Duplicated rows can skew the results of the analysis, leading to false insights.\n",
    "- **Data Integrity:** By removing duplicates, we maintain the integrity of the dataset and ensure that each row represents unique data.\n"
   ]
  },
  {
   "cell_type": "markdown",
   "metadata": {},
   "source": [
    "##### Drop Duplicates"
   ]
  },
  {
   "cell_type": "code",
   "execution_count": 8,
   "metadata": {},
   "outputs": [
    {
     "name": "stdout",
     "output_type": "stream",
     "text": [
      "Number of duplicates:  0\n"
     ]
    }
   ],
   "source": [
    "#drop duplicates\n",
    "data = data.drop_duplicates()\n",
    "print(\"Number of duplicates: \", data.duplicated().sum())"
   ]
  },
  {
   "cell_type": "markdown",
   "metadata": {},
   "source": [
    "#### Removal of Duplicated Rows\n",
    "\n",
    "The **3524 duplicated rows** have been successfully dropped from the dataset. This step ensures the dataset is free from redundancy, improving the accuracy of the analysis.\n",
    "\n",
    "#### Outcome:\n",
    "- **Clean Dataset:** With the duplicates removed, we now have a dataset that accurately reflects unique data points.\n",
    "- **Improved Analysis:** The removal of duplicates eliminates any potential bias or distortions in the analysis, ensuring more reliable results.\n"
   ]
  },
  {
   "cell_type": "code",
   "execution_count": 9,
   "metadata": {},
   "outputs": [
    {
     "name": "stdout",
     "output_type": "stream",
     "text": [
      "Data types:\n",
      " DATE                   object\n",
      "ANONYMIZED CATEGORY    object\n",
      "ANONYMIZED PRODUCT     object\n",
      "ANONYMIZED BUSINESS    object\n",
      "ANONYMIZED LOCATION    object\n",
      "QUANTITY                int64\n",
      "UNIT PRICE             object\n",
      "dtype: object\n"
     ]
    }
   ],
   "source": [
    "#check data types\n",
    "print(\"Data types:\\n\", data.dtypes)"
   ]
  },
  {
   "cell_type": "markdown",
   "metadata": {},
   "source": [
    "#### Check for Unique Values"
   ]
  },
  {
   "cell_type": "code",
   "execution_count": 10,
   "metadata": {},
   "outputs": [
    {
     "name": "stdout",
     "output_type": "stream",
     "text": [
      "Unique values:\n",
      " DATE                   96702\n",
      "ANONYMIZED CATEGORY       46\n",
      "ANONYMIZED PRODUCT       817\n",
      "ANONYMIZED BUSINESS     4800\n",
      "ANONYMIZED LOCATION       53\n",
      "QUANTITY                  79\n",
      "UNIT PRICE              1050\n",
      "dtype: int64\n"
     ]
    }
   ],
   "source": [
    "#check for unique values\n",
    "print(\"Unique values:\\n\", data.nunique())\n"
   ]
  },
  {
   "cell_type": "markdown",
   "metadata": {},
   "source": [
    "#### Unique Values in the Dataset\n",
    "\n",
    "From the output above, we can observe the unique values in each column:\n",
    "\n",
    "- **DATE**: 96,702 unique values\n",
    "- **ANONYMIZED CATEGORY**: 46 unique values\n",
    "- **ANONYMIZED PRODUCT**: 817 unique values\n",
    "- **ANONYMIZED BUSINESS**: 4,800 unique values\n",
    "- **ANONYMIZED LOCATION**: 53 unique values\n",
    "- **QUANTITY**: 79 unique values\n",
    "- **UNIT PRICE**: 1,050 unique values\n",
    "\n",
    "This distribution of unique values across columns provides insight into the dataset's structure. \n",
    "\n",
    "#### Next Steps:\n",
    "- These unique values will be explored further in the **analysis section** to identify patterns, trends, and outliers that could impact the overall analysis.\n",
    "\n"
   ]
  },
  {
   "cell_type": "markdown",
   "metadata": {},
   "source": [
    "#### Check the Datatypes"
   ]
  },
  {
   "cell_type": "code",
   "execution_count": 11,
   "metadata": {},
   "outputs": [
    {
     "name": "stdout",
     "output_type": "stream",
     "text": [
      "Data types:\n",
      " DATE                   object\n",
      "ANONYMIZED CATEGORY    object\n",
      "ANONYMIZED PRODUCT     object\n",
      "ANONYMIZED BUSINESS    object\n",
      "ANONYMIZED LOCATION    object\n",
      "QUANTITY                int64\n",
      "UNIT PRICE             object\n",
      "dtype: object\n"
     ]
    }
   ],
   "source": [
    "#check the datatypes\n",
    "print(\"Data types:\\n\", data.dtypes)"
   ]
  },
  {
   "cell_type": "markdown",
   "metadata": {},
   "source": [
    "#### Data Types in the Dataset\n",
    "\n",
    "From the output above, the data types for each column are as follows:\n",
    "\n",
    "- **DATE**: object\n",
    "- **ANONYMIZED CATEGORY**: object\n",
    "- **ANONYMIZED PRODUCT**: object\n",
    "- **ANONYMIZED BUSINESS**: object\n",
    "- **ANONYMIZED LOCATION**: object\n",
    "- **QUANTITY**: int64\n",
    "- **UNIT PRICE**: object\n",
    "\n",
    "#### Next Steps:\n",
    "- **DATE Column**: The **DATE** column needs to be converted from an `object` data type to a `datetime` data type to allow for proper date-based analysis.\n",
    "- **UNIT PRICE Column**: The **UNIT PRICE** column needs to be converted from an `object` data type to either `integer` or `float` based on how the prices are formatted in the dataset, enabling accurate numerical operations.\n"
   ]
  },
  {
   "cell_type": "code",
   "execution_count": 12,
   "metadata": {},
   "outputs": [
    {
     "name": "stdout",
     "output_type": "stream",
     "text": [
      "                       DATE ANONYMIZED CATEGORY ANONYMIZED PRODUCT  \\\n",
      "0  August 18, 2024, 9:32 PM        Category-106       Product-21f4   \n",
      "1  August 18, 2024, 9:32 PM        Category-120       Product-4156   \n",
      "\n",
      "  ANONYMIZED BUSINESS ANONYMIZED LOCATION  QUANTITY  UNIT PRICE  \n",
      "0       Business-de42       Location-1ba8         1         850  \n",
      "1       Business-de42       Location-1ba8         2        1910  \n"
     ]
    }
   ],
   "source": [
    "#convert UNIT PRICE to integer\n",
    "#first remove commas \n",
    "data['UNIT PRICE'] = data['UNIT PRICE'].str.replace(',', '', )\n",
    "#convert to integer\n",
    "data['UNIT PRICE'] = data['UNIT PRICE'].astype('int64')\n",
    "# Display the updated dataframe\n",
    "print(data.head(2))\n"
   ]
  },
  {
   "cell_type": "markdown",
   "metadata": {},
   "source": [
    "#### Data Type Conversion\n",
    "\n",
    "- The **UNIT PRICE** column has been converted from an `object` to the appropriate numeric data type  (`integer`)\n",
    "\n",
    "#### Outcome:\n",
    "- **UNIT PRICE Column**: The column is now in a numeric format, allowing for accurate calculations and analysis of price data.\n"
   ]
  },
  {
   "cell_type": "markdown",
   "metadata": {},
   "source": [
    "### 1.2 Feature Engineering"
   ]
  },
  {
   "cell_type": "markdown",
   "metadata": {},
   "source": [
    "#### Convert DATE Column to Datetime"
   ]
  },
  {
   "cell_type": "code",
   "execution_count": 13,
   "metadata": {},
   "outputs": [
    {
     "name": "stderr",
     "output_type": "stream",
     "text": [
      "<ipython-input-13-02c5d6767e47>:2: UserWarning: Could not infer format, so each element will be parsed individually, falling back to `dateutil`. To ensure parsing is consistent and as-expected, please specify a format.\n",
      "  data['DATE'] = pd.to_datetime(data['DATE'])\n"
     ]
    },
    {
     "name": "stdout",
     "output_type": "stream",
     "text": [
      "                 DATE ANONYMIZED CATEGORY ANONYMIZED PRODUCT  \\\n",
      "0 2024-08-18 21:32:00        Category-106       Product-21f4   \n",
      "1 2024-08-18 21:32:00        Category-120       Product-4156   \n",
      "\n",
      "  ANONYMIZED BUSINESS ANONYMIZED LOCATION  QUANTITY  UNIT PRICE  \n",
      "0       Business-de42       Location-1ba8         1         850  \n",
      "1       Business-de42       Location-1ba8         2        1910  \n"
     ]
    }
   ],
   "source": [
    "#convert the date value to a datetime formart\n",
    "data['DATE'] = pd.to_datetime(data['DATE'])\n",
    "# Display the updated dataframe\n",
    "print(data.head(2))\n"
   ]
  },
  {
   "cell_type": "markdown",
   "metadata": {},
   "source": [
    "The necessary column have been successfully converted:\n",
    "\n",
    "- The **DATE** column has been changed from an `object` to a `datetime` data type.\n",
    "\n",
    "#### Outcome:\n",
    "- **DATE Column**: Now properly recognized as a `datetime` type, enabling date-based analysis and operations."
   ]
  },
  {
   "cell_type": "markdown",
   "metadata": {},
   "source": [
    "#### Create Month-Year Column"
   ]
  },
  {
   "cell_type": "code",
   "execution_count": 14,
   "metadata": {},
   "outputs": [
    {
     "name": "stdout",
     "output_type": "stream",
     "text": [
      "                 DATE ANONYMIZED CATEGORY ANONYMIZED PRODUCT  \\\n",
      "0 2024-08-18 21:32:00        Category-106       Product-21f4   \n",
      "1 2024-08-18 21:32:00        Category-120       Product-4156   \n",
      "2 2024-08-18 21:32:00        Category-121       Product-49bd   \n",
      "\n",
      "  ANONYMIZED BUSINESS ANONYMIZED LOCATION  QUANTITY  UNIT PRICE   Month-Year  \n",
      "0       Business-de42       Location-1ba8         1         850  August 2024  \n",
      "1       Business-de42       Location-1ba8         2        1910  August 2024  \n",
      "2       Business-de42       Location-1ba8         1        3670  August 2024  \n"
     ]
    }
   ],
   "source": [
    "# Create \"Month-Year\" column\n",
    "data['Month-Year'] = data['DATE'].dt.strftime('%B %Y')\n",
    "\n",
    "# Display the updated dataframe\n",
    "print(data.head(3))"
   ]
  },
  {
   "cell_type": "markdown",
   "metadata": {},
   "source": [
    "#### Creating a Month-Year Column\n",
    "\n",
    "A new column, **Month-Year**, has been created from the **DATE** column. This column combines the month and year information, which is useful for time-based analysis.\n",
    "\n",
    "#### Steps Taken:\n",
    "- The **DATE** column was used to extract the **Month-Year** combination in the format `MM-YYYY`.\n",
    "- This transformation allows for easier grouping and analysis based on monthly trends.\n",
    "\n",
    "#### Outcome:\n",
    "- **Month-Year Column**: The new column is added to the dataset, providing a simplified time reference for future analysis.\n"
   ]
  },
  {
   "cell_type": "markdown",
   "metadata": {},
   "source": [
    "#### Standardizing Column Names\n"
   ]
  },
  {
   "cell_type": "code",
   "execution_count": 15,
   "metadata": {},
   "outputs": [
    {
     "name": "stdout",
     "output_type": "stream",
     "text": [
      "Index(['date', 'anonymized_category', 'anonymized_product',\n",
      "       'anonymized_business', 'anonymized_location', 'quantity', 'unit_price',\n",
      "       'month-year'],\n",
      "      dtype='object')\n"
     ]
    }
   ],
   "source": [
    "#lowercase the column names\n",
    "data.columns = data.columns.str.lower().str.replace(' ', '_')\n",
    "print(data.columns)"
   ]
  },
  {
   "cell_type": "markdown",
   "metadata": {},
   "source": [
    "\n",
    "The column names have been standardized to lowercase and spaces have been replaced with underscores for consistency and ease of use.\n",
    "\n",
    "#### Steps Taken:\n",
    "- **Lowercased Column Names**: All column names were converted to lowercase.\n",
    "- **Replaced Spaces with Underscores**: Spaces in column names were replaced with underscores (`_`) to align with common data processing practices.\n",
    "\n",
    "#### Outcome:\n",
    "- The dataset now has standardized column names, improving readability and compatibility for further analysis.\n"
   ]
  },
  {
   "cell_type": "code",
   "execution_count": 16,
   "metadata": {},
   "outputs": [
    {
     "data": {
      "text/plain": [
       "date                   datetime64[ns]\n",
       "anonymized_category            object\n",
       "anonymized_product             object\n",
       "anonymized_business            object\n",
       "anonymized_location            object\n",
       "quantity                        int64\n",
       "unit_price                      int64\n",
       "month-year                     object\n",
       "dtype: object"
      ]
     },
     "execution_count": 16,
     "metadata": {},
     "output_type": "execute_result"
    }
   ],
   "source": [
    "data.dtypes"
   ]
  },
  {
   "cell_type": "markdown",
   "metadata": {},
   "source": [
    "#### Data Types After Conversion\n",
    "\n",
    "The updated data types for the columns are as follows:\n",
    "\n",
    "- **date**: `datetime64[ns]`\n",
    "- **anonymized_category**: `object`\n",
    "- **anonymized_product**: `object`\n",
    "- **anonymized_business**: `object`\n",
    "- **anonymized_location**: `object`\n",
    "- **quantity**: `int64`\n",
    "- **unit_price**: `int64`\n",
    "- **month-year**: `object`\n",
    "\n",
    "#### Outcome:\n",
    "- The **date** column is now in the `datetime64[ns]` format, allowing for proper time-based analysis.\n",
    "- The **unit_price** column has been converted to `int64` for accurate price-based operations.\n",
    "- The **month-year** column is now ready for time-based grouping and analysis.\n"
   ]
  },
  {
   "cell_type": "code",
   "execution_count": 17,
   "metadata": {},
   "outputs": [
    {
     "data": {
      "text/html": [
       "<div>\n",
       "<style scoped>\n",
       "    .dataframe tbody tr th:only-of-type {\n",
       "        vertical-align: middle;\n",
       "    }\n",
       "\n",
       "    .dataframe tbody tr th {\n",
       "        vertical-align: top;\n",
       "    }\n",
       "\n",
       "    .dataframe thead th {\n",
       "        text-align: right;\n",
       "    }\n",
       "</style>\n",
       "<table border=\"1\" class=\"dataframe\">\n",
       "  <thead>\n",
       "    <tr style=\"text-align: right;\">\n",
       "      <th></th>\n",
       "      <th>date</th>\n",
       "      <th>quantity</th>\n",
       "      <th>unit_price</th>\n",
       "    </tr>\n",
       "  </thead>\n",
       "  <tbody>\n",
       "    <tr>\n",
       "      <th>count</th>\n",
       "      <td>329873</td>\n",
       "      <td>329873.000000</td>\n",
       "      <td>329873.000000</td>\n",
       "    </tr>\n",
       "    <tr>\n",
       "      <th>mean</th>\n",
       "      <td>2024-07-18 11:47:54.002236672</td>\n",
       "      <td>2.321469</td>\n",
       "      <td>2319.016579</td>\n",
       "    </tr>\n",
       "    <tr>\n",
       "      <th>min</th>\n",
       "      <td>2024-01-01 05:54:00</td>\n",
       "      <td>0.000000</td>\n",
       "      <td>0.000000</td>\n",
       "    </tr>\n",
       "    <tr>\n",
       "      <th>25%</th>\n",
       "      <td>2024-04-30 16:34:00</td>\n",
       "      <td>1.000000</td>\n",
       "      <td>1420.000000</td>\n",
       "    </tr>\n",
       "    <tr>\n",
       "      <th>50%</th>\n",
       "      <td>2024-07-29 18:40:00</td>\n",
       "      <td>1.000000</td>\n",
       "      <td>1840.000000</td>\n",
       "    </tr>\n",
       "    <tr>\n",
       "      <th>75%</th>\n",
       "      <td>2024-10-14 21:32:00</td>\n",
       "      <td>2.000000</td>\n",
       "      <td>2750.000000</td>\n",
       "    </tr>\n",
       "    <tr>\n",
       "      <th>max</th>\n",
       "      <td>2024-12-31 18:24:00</td>\n",
       "      <td>359.000000</td>\n",
       "      <td>16136.000000</td>\n",
       "    </tr>\n",
       "    <tr>\n",
       "      <th>std</th>\n",
       "      <td>NaN</td>\n",
       "      <td>3.767697</td>\n",
       "      <td>1582.578700</td>\n",
       "    </tr>\n",
       "  </tbody>\n",
       "</table>\n",
       "</div>"
      ],
      "text/plain": [
       "                                date       quantity     unit_price\n",
       "count                         329873  329873.000000  329873.000000\n",
       "mean   2024-07-18 11:47:54.002236672       2.321469    2319.016579\n",
       "min              2024-01-01 05:54:00       0.000000       0.000000\n",
       "25%              2024-04-30 16:34:00       1.000000    1420.000000\n",
       "50%              2024-07-29 18:40:00       1.000000    1840.000000\n",
       "75%              2024-10-14 21:32:00       2.000000    2750.000000\n",
       "max              2024-12-31 18:24:00     359.000000   16136.000000\n",
       "std                              NaN       3.767697    1582.578700"
      ]
     },
     "execution_count": 17,
     "metadata": {},
     "output_type": "execute_result"
    }
   ],
   "source": [
    "data.describe()"
   ]
  },
  {
   "cell_type": "markdown",
   "metadata": {},
   "source": [
    "#### Creating a Copy of the Cleaned DataFrame\n"
   ]
  },
  {
   "cell_type": "code",
   "execution_count": 18,
   "metadata": {},
   "outputs": [
    {
     "data": {
      "text/html": [
       "<div>\n",
       "<style scoped>\n",
       "    .dataframe tbody tr th:only-of-type {\n",
       "        vertical-align: middle;\n",
       "    }\n",
       "\n",
       "    .dataframe tbody tr th {\n",
       "        vertical-align: top;\n",
       "    }\n",
       "\n",
       "    .dataframe thead th {\n",
       "        text-align: right;\n",
       "    }\n",
       "</style>\n",
       "<table border=\"1\" class=\"dataframe\">\n",
       "  <thead>\n",
       "    <tr style=\"text-align: right;\">\n",
       "      <th></th>\n",
       "      <th>date</th>\n",
       "      <th>anonymized_category</th>\n",
       "      <th>anonymized_product</th>\n",
       "      <th>anonymized_business</th>\n",
       "      <th>anonymized_location</th>\n",
       "      <th>quantity</th>\n",
       "      <th>unit_price</th>\n",
       "      <th>month-year</th>\n",
       "    </tr>\n",
       "  </thead>\n",
       "  <tbody>\n",
       "    <tr>\n",
       "      <th>0</th>\n",
       "      <td>2024-08-18 21:32:00</td>\n",
       "      <td>Category-106</td>\n",
       "      <td>Product-21f4</td>\n",
       "      <td>Business-de42</td>\n",
       "      <td>Location-1ba8</td>\n",
       "      <td>1</td>\n",
       "      <td>850</td>\n",
       "      <td>August 2024</td>\n",
       "    </tr>\n",
       "    <tr>\n",
       "      <th>1</th>\n",
       "      <td>2024-08-18 21:32:00</td>\n",
       "      <td>Category-120</td>\n",
       "      <td>Product-4156</td>\n",
       "      <td>Business-de42</td>\n",
       "      <td>Location-1ba8</td>\n",
       "      <td>2</td>\n",
       "      <td>1910</td>\n",
       "      <td>August 2024</td>\n",
       "    </tr>\n",
       "  </tbody>\n",
       "</table>\n",
       "</div>"
      ],
      "text/plain": [
       "                 date anonymized_category anonymized_product  \\\n",
       "0 2024-08-18 21:32:00        Category-106       Product-21f4   \n",
       "1 2024-08-18 21:32:00        Category-120       Product-4156   \n",
       "\n",
       "  anonymized_business anonymized_location  quantity  unit_price   month-year  \n",
       "0       Business-de42       Location-1ba8         1         850  August 2024  \n",
       "1       Business-de42       Location-1ba8         2        1910  August 2024  "
      ]
     },
     "execution_count": 18,
     "metadata": {},
     "output_type": "execute_result"
    }
   ],
   "source": [
    "#create a copy of the cleaned dataframe for further analysis\n",
    "kt_clean_df = data.copy()\n",
    "kt_clean_df.head(2)"
   ]
  },
  {
   "cell_type": "markdown",
   "metadata": {},
   "source": [
    "\n",
    "\n",
    "A copy of the cleaned dataframe has been created for further analysis, named **kt_clean_df**. This ensures that any further modifications or transformations can be applied without altering the original dataset.\n",
    "\n",
    "#### Steps Taken:\n",
    "- The **kt_clean_df** dataframe is a duplicate of the cleaned dataset, preserving its current state for analysis.\n",
    "- Any additional analysis or processing will be carried out on this new dataframe.\n",
    "\n",
    "#### Outcome:\n",
    "- **kt_clean_df** is now available for further exploration and analysis, ensuring the original dataset remains intact.\n"
   ]
  },
  {
   "cell_type": "code",
   "execution_count": 19,
   "metadata": {},
   "outputs": [],
   "source": [
    "#save the clean df as new csv \n",
    "data.to_csv(\"cleaned_data.csv\", index=False)\n",
    "\n",
    "\n"
   ]
  },
  {
   "cell_type": "markdown",
   "metadata": {},
   "source": [
    "## SECTION 2 : EXPLORATORY DATA ANALYSIS (EDA)"
   ]
  },
  {
   "cell_type": "markdown",
   "metadata": {},
   "source": [
    "2.1 Calculate Total Quantity and Value\n"
   ]
  },
  {
   "cell_type": "code",
   "execution_count": 20,
   "metadata": {},
   "outputs": [
    {
     "name": "stdout",
     "output_type": "stream",
     "text": [
      "   anonymized_category  quantity  total_value\n",
      "25         Category-75    151330    544658700\n",
      "26         Category-76     71719    344939553\n",
      "18        Category-120    169715    319178743\n",
      "0         Category-100     76824    134902751\n",
      "17        Category-119     68332    103454819\n",
      "27         Category-77     28455     76741382\n",
      "38         Category-91     20853     44152103\n",
      "1         Category-101     19564     35577822\n",
      "34         Category-85     22997     33762533\n",
      "19        Category-121     14669     22327643\n",
      "40         Category-94     23668     16750815\n",
      "39         Category-92      6953     10468723\n",
      "28         Category-78      9766      9792609\n",
      "41         Category-95      4116      7466932\n",
      "33         Category-84     11933      6798158\n",
      "5         Category-106      6521      5932763\n",
      "9         Category-110     10529      5483386\n",
      "7         Category-108      9756      5101375\n",
      "10        Category-111      6715      4387343\n",
      "6         Category-107      2729      4170797\n",
      "32         Category-83      2436      4039483\n",
      "31         Category-82      4759      3930818\n",
      "20        Category-122      1223      3493480\n",
      "4         Category-105      1579      2690719\n",
      "43         Category-97      2711      2628309\n",
      "44         Category-98      2152      2519695\n",
      "42         Category-96      1427      2249424\n",
      "24         Category-74       941      1927871\n",
      "45         Category-99      1964      1589480\n",
      "3         Category-104      1217      1557598\n",
      "8         Category-109      1446      1263226\n",
      "11        Category-113       741      1254083\n",
      "29         Category-79      2215      1184953\n",
      "21        Category-123       286       730730\n",
      "2         Category-102      1786       464463\n",
      "13        Category-115       348       425360\n",
      "14        Category-116       856       422745\n",
      "23        Category-125       123       297060\n",
      "36         Category-89       238       136850\n",
      "30         Category-81       142        72061\n",
      "37         Category-90        15        15750\n",
      "22        Category-124         4        10060\n",
      "12        Category-114         3         8600\n",
      "16        Category-118        21         7560\n",
      "35         Category-86         8         3320\n",
      "15        Category-117         5         1550\n"
     ]
    }
   ],
   "source": [
    "# Calculate total Quantity and Value grouped by Anonymized Category\n",
    "\n",
    "#calculate the value for each row\n",
    "kt_clean_df['total_value'] = kt_clean_df['quantity'] * kt_clean_df['unit_price']\n",
    "\n",
    "#Group by anonymized category and aggregate total quantity and value\n",
    "grouped_category = kt_clean_df.groupby('anonymized_category').agg({'quantity': 'sum', 'total_value': 'sum'}).reset_index()\n",
    "\n",
    "# Sort the grouped dataframe by total value in descending order\n",
    "grouped_category = grouped_category.sort_values(by='total_value', ascending=False)\n",
    "print(grouped_category)\n"
   ]
  },
  {
   "cell_type": "markdown",
   "metadata": {},
   "source": [
    "#### Bar Chart of Total Quality by Anonymized Category"
   ]
  },
  {
   "cell_type": "code",
   "execution_count": 21,
   "metadata": {},
   "outputs": [
    {
     "data": {
      "image/png": "[encoded data removed]",
      "text/plain": [
       "<Figure size 1008x504 with 1 Axes>"
      ]
     },
     "metadata": {
      "needs_background": "light"
     },
     "output_type": "display_data"
    }
   ],
   "source": [
    "# Plot total Quantity and Value grouped by Anonymized Category\n",
    "plt.figure(figsize=(14, 7))\n",
    "\n",
    "# Total Quantity by Anonymized Category\n",
    "plt.subplot(1, 2, 1)\n",
    "plt.bar(grouped_category['anonymized_category'], grouped_category['quantity'], color='skyblue')\n",
    "plt.xlabel('Anonymized Category')\n",
    "plt.ylabel('Total Quantity')\n",
    "plt.title('Total Quantity by Anonymized Category')\n",
    "plt.xticks(rotation=90)\n",
    "plt.tight_layout()\n",
    "plt.show()\n",
    "\n",
    "\n"
   ]
  },
  {
   "cell_type": "markdown",
   "metadata": {},
   "source": [
    "#### Bar Chart of Total Value by Anonymized Category"
   ]
  },
  {
   "cell_type": "code",
   "execution_count": 22,
   "metadata": {},
   "outputs": [
    {
     "data": {
      "image/png": "[encoded data removed]",
      "text/plain": [
       "<Figure size 1008x504 with 1 Axes>"
      ]
     },
     "metadata": {
      "needs_background": "light"
     },
     "output_type": "display_data"
    }
   ],
   "source": [
    "\n",
    "# Total Value by Anonymized Category\n",
    "\n",
    "plt.figure(figsize=(14, 7))\n",
    "\n",
    "plt.subplot(1, 2, 2)\n",
    "plt.bar(grouped_category['anonymized_category'], grouped_category['total_value'], color='lightgreen')\n",
    "plt.xlabel('Anonymized Category')\n",
    "plt.ylabel('Total Value')\n",
    "plt.title('Total Value by Anonymized Category')\n",
    "plt.xticks(rotation=90)\n",
    "\n",
    "plt.tight_layout()\n",
    "plt.show()"
   ]
  },
  {
   "cell_type": "markdown",
   "metadata": {},
   "source": [
    "#### Calculating Total Quantity and Value Grouped by Anonymized Category\n",
    "\n",
    "The **total quantity** and **total value** have been calculated, grouped by **Anonymized Category**, and sorted by **total value** in descending order.\n",
    "\n",
    "#### Steps Taken:\n",
    "- The **quantity** for each **Anonymized Category** was summed to calculate the total quantity.\n",
    "- The **value** for each category was calculated by multiplying the **quantity** with the **unit_price**, and the total value was then summed.\n",
    "- The results were sorted by **total value** in descending order to highlight the categories with the highest total value.\n",
    "\n",
    "#### Outcome:\n",
    "- The dataset now provides insights into the total quantity and value for each **Anonymized Category**, with the categories ordered by total value from highest to lowest.\n"
   ]
  },
  {
   "cell_type": "markdown",
   "metadata": {},
   "source": [
    "#### Total Quantity and Value Grouped by Anonymized Business"
   ]
  },
  {
   "cell_type": "code",
   "execution_count": 23,
   "metadata": {},
   "outputs": [
    {
     "data": {
      "text/html": [
       "<div>\n",
       "<style scoped>\n",
       "    .dataframe tbody tr th:only-of-type {\n",
       "        vertical-align: middle;\n",
       "    }\n",
       "\n",
       "    .dataframe tbody tr th {\n",
       "        vertical-align: top;\n",
       "    }\n",
       "\n",
       "    .dataframe thead th {\n",
       "        text-align: right;\n",
       "    }\n",
       "</style>\n",
       "<table border=\"1\" class=\"dataframe\">\n",
       "  <thead>\n",
       "    <tr style=\"text-align: right;\">\n",
       "      <th></th>\n",
       "      <th>anonymized_business</th>\n",
       "      <th>quantity</th>\n",
       "      <th>total_value</th>\n",
       "    </tr>\n",
       "  </thead>\n",
       "  <tbody>\n",
       "    <tr>\n",
       "      <th>2906</th>\n",
       "      <td>Business-978e</td>\n",
       "      <td>13991</td>\n",
       "      <td>28037358</td>\n",
       "    </tr>\n",
       "    <tr>\n",
       "      <th>4781</th>\n",
       "      <td>Business-fe7d</td>\n",
       "      <td>6743</td>\n",
       "      <td>26997121</td>\n",
       "    </tr>\n",
       "    <tr>\n",
       "      <th>1873</th>\n",
       "      <td>Business-6068</td>\n",
       "      <td>8214</td>\n",
       "      <td>16464195</td>\n",
       "    </tr>\n",
       "    <tr>\n",
       "      <th>144</th>\n",
       "      <td>Business-07de</td>\n",
       "      <td>6065</td>\n",
       "      <td>16258068</td>\n",
       "    </tr>\n",
       "    <tr>\n",
       "      <th>2353</th>\n",
       "      <td>Business-7a03</td>\n",
       "      <td>6318</td>\n",
       "      <td>13968451</td>\n",
       "    </tr>\n",
       "    <tr>\n",
       "      <th>3533</th>\n",
       "      <td>Business-ba13</td>\n",
       "      <td>5533</td>\n",
       "      <td>13650016</td>\n",
       "    </tr>\n",
       "    <tr>\n",
       "      <th>584</th>\n",
       "      <td>Business-1e3e</td>\n",
       "      <td>4981</td>\n",
       "      <td>13192967</td>\n",
       "    </tr>\n",
       "    <tr>\n",
       "      <th>1385</th>\n",
       "      <td>Business-468e</td>\n",
       "      <td>5450</td>\n",
       "      <td>12546597</td>\n",
       "    </tr>\n",
       "    <tr>\n",
       "      <th>4585</th>\n",
       "      <td>Business-f4f4</td>\n",
       "      <td>3852</td>\n",
       "      <td>11952941</td>\n",
       "    </tr>\n",
       "    <tr>\n",
       "      <th>1674</th>\n",
       "      <td>Business-5613</td>\n",
       "      <td>4089</td>\n",
       "      <td>11895552</td>\n",
       "    </tr>\n",
       "  </tbody>\n",
       "</table>\n",
       "</div>"
      ],
      "text/plain": [
       "     anonymized_business  quantity  total_value\n",
       "2906       Business-978e     13991     28037358\n",
       "4781       Business-fe7d      6743     26997121\n",
       "1873       Business-6068      8214     16464195\n",
       "144        Business-07de      6065     16258068\n",
       "2353       Business-7a03      6318     13968451\n",
       "3533       Business-ba13      5533     13650016\n",
       "584        Business-1e3e      4981     13192967\n",
       "1385       Business-468e      5450     12546597\n",
       "4585       Business-f4f4      3852     11952941\n",
       "1674       Business-5613      4089     11895552"
      ]
     },
     "execution_count": 23,
     "metadata": {},
     "output_type": "execute_result"
    }
   ],
   "source": [
    "# Calculate total Quantity and Value grouped by Anonymized Business\n",
    "business_grouped = kt_clean_df.groupby('anonymized_business').agg({'quantity': 'sum', 'total_value': 'sum'}).reset_index()\n",
    "\n",
    "\n",
    "# Sort the grouped dataframe by total value in descending order\n",
    "business_grouped = business_grouped.sort_values(by='total_value', ascending=False)\n",
    "\n",
    "\n",
    "# Display the grouped data\n",
    "business_grouped.head(10)"
   ]
  },
  {
   "cell_type": "code",
   "execution_count": 24,
   "metadata": {},
   "outputs": [
    {
     "data": {
      "text/html": [
       "<div>\n",
       "<style scoped>\n",
       "    .dataframe tbody tr th:only-of-type {\n",
       "        vertical-align: middle;\n",
       "    }\n",
       "\n",
       "    .dataframe tbody tr th {\n",
       "        vertical-align: top;\n",
       "    }\n",
       "\n",
       "    .dataframe thead th {\n",
       "        text-align: right;\n",
       "    }\n",
       "</style>\n",
       "<table border=\"1\" class=\"dataframe\">\n",
       "  <thead>\n",
       "    <tr style=\"text-align: right;\">\n",
       "      <th></th>\n",
       "      <th>anonymized_business</th>\n",
       "      <th>quantity</th>\n",
       "      <th>total_value</th>\n",
       "    </tr>\n",
       "  </thead>\n",
       "  <tbody>\n",
       "    <tr>\n",
       "      <th>2906</th>\n",
       "      <td>Business-978e</td>\n",
       "      <td>13991</td>\n",
       "      <td>28037358</td>\n",
       "    </tr>\n",
       "    <tr>\n",
       "      <th>1873</th>\n",
       "      <td>Business-6068</td>\n",
       "      <td>8214</td>\n",
       "      <td>16464195</td>\n",
       "    </tr>\n",
       "    <tr>\n",
       "      <th>4781</th>\n",
       "      <td>Business-fe7d</td>\n",
       "      <td>6743</td>\n",
       "      <td>26997121</td>\n",
       "    </tr>\n",
       "    <tr>\n",
       "      <th>2353</th>\n",
       "      <td>Business-7a03</td>\n",
       "      <td>6318</td>\n",
       "      <td>13968451</td>\n",
       "    </tr>\n",
       "    <tr>\n",
       "      <th>144</th>\n",
       "      <td>Business-07de</td>\n",
       "      <td>6065</td>\n",
       "      <td>16258068</td>\n",
       "    </tr>\n",
       "    <tr>\n",
       "      <th>3533</th>\n",
       "      <td>Business-ba13</td>\n",
       "      <td>5533</td>\n",
       "      <td>13650016</td>\n",
       "    </tr>\n",
       "    <tr>\n",
       "      <th>1385</th>\n",
       "      <td>Business-468e</td>\n",
       "      <td>5450</td>\n",
       "      <td>12546597</td>\n",
       "    </tr>\n",
       "    <tr>\n",
       "      <th>584</th>\n",
       "      <td>Business-1e3e</td>\n",
       "      <td>4981</td>\n",
       "      <td>13192967</td>\n",
       "    </tr>\n",
       "    <tr>\n",
       "      <th>3851</th>\n",
       "      <td>Business-cb1f</td>\n",
       "      <td>4636</td>\n",
       "      <td>9602700</td>\n",
       "    </tr>\n",
       "    <tr>\n",
       "      <th>2503</th>\n",
       "      <td>Business-80b3</td>\n",
       "      <td>4303</td>\n",
       "      <td>9275497</td>\n",
       "    </tr>\n",
       "  </tbody>\n",
       "</table>\n",
       "</div>"
      ],
      "text/plain": [
       "     anonymized_business  quantity  total_value\n",
       "2906       Business-978e     13991     28037358\n",
       "1873       Business-6068      8214     16464195\n",
       "4781       Business-fe7d      6743     26997121\n",
       "2353       Business-7a03      6318     13968451\n",
       "144        Business-07de      6065     16258068\n",
       "3533       Business-ba13      5533     13650016\n",
       "1385       Business-468e      5450     12546597\n",
       "584        Business-1e3e      4981     13192967\n",
       "3851       Business-cb1f      4636      9602700\n",
       "2503       Business-80b3      4303      9275497"
      ]
     },
     "execution_count": 24,
     "metadata": {},
     "output_type": "execute_result"
    }
   ],
   "source": [
    "# Calculate total Quantity and Value grouped by Anonymized Business\n",
    "business_grouped_qt = kt_clean_df.groupby('anonymized_business').agg({'quantity': 'sum', 'total_value': 'sum'}).reset_index()\n",
    "\n",
    "\n",
    "# Sort the grouped dataframe by total value in descending order\n",
    "business_grouped_qt= business_grouped.sort_values(by='quantity', ascending=False)\n",
    "\n",
    "\n",
    "# Display the grouped data\n",
    "business_grouped_qt.head(10)"
   ]
  },
  {
   "cell_type": "markdown",
   "metadata": {},
   "source": [
    "#### Calculating Total Quantity and Value Grouped by Anonymized Business\n",
    "\n",
    "The **total quantity** and **total value** have been calculated, grouped by **Anonymized Business**.\n",
    "\n",
    "#### Steps Taken:\n",
    "- The **quantity** for each **Anonymized Business** was summed to calculate the total quantity.\n",
    "- The **value** for each business was calculated by multiplying the **quantity** with the **unit_price**, and the total value was then summed.\n",
    "\n",
    "#### Outcome:\n",
    "- The dataset now provides insights into the total quantity and value for each **Anonymized Business**, which can help identify the businesses contributing the most to the overall data.\n"
   ]
  },
  {
   "cell_type": "markdown",
   "metadata": {},
   "source": [
    "#### Top 10 Anonymized Businesses by Total Value"
   ]
  },
  {
   "cell_type": "code",
   "execution_count": 25,
   "metadata": {},
   "outputs": [
    {
     "data": {
      "image/png": "[encoded data removed]",
      "text/plain": [
       "<Figure size 1008x504 with 1 Axes>"
      ]
     },
     "metadata": {
      "needs_background": "light"
     },
     "output_type": "display_data"
    }
   ],
   "source": [
    "#visualize the first 10 businesses\n",
    "\n",
    "plt.figure(figsize=(14, 7)) \n",
    "\n",
    "# Total Value by Anonymized Business\n",
    "plt.subplot(1, 2, 2)\n",
    "plt.bar(business_grouped['anonymized_business'][:10], business_grouped['total_value'][:10], color='lightgreen')\n",
    "plt.xlabel('Anonymized Business')\n",
    "plt.ylabel('Total Value')\n",
    "plt.title('Total Value by Anonymized Business')\n",
    "plt.xticks(rotation=90)\n",
    "\n",
    "plt.tight_layout()\n",
    "plt.show()"
   ]
  },
  {
   "cell_type": "markdown",
   "metadata": {},
   "source": [
    "#### Top 10 Anonymized Businesses by Total Quantity "
   ]
  },
  {
   "cell_type": "code",
   "execution_count": 26,
   "metadata": {},
   "outputs": [
    {
     "data": {
      "image/png": "[encoded data removed]",
      "text/plain": [
       "<Figure size 1008x504 with 1 Axes>"
      ]
     },
     "metadata": {
      "needs_background": "light"
     },
     "output_type": "display_data"
    }
   ],
   "source": [
    "# Plot total Quantity and Value grouped by Anonymized Business\n",
    "plt.figure(figsize=(14, 7))\n",
    "\n",
    "# Total Quantity by Anonymized Business\n",
    "plt.subplot(1, 2, 1)\n",
    "plt.bar(business_grouped_qt['anonymized_business'][:10], business_grouped_qt['quantity'][:10], color='skyblue')\n",
    "plt.xlabel('Anonymized Business')\n",
    "plt.ylabel('Total Quantity')\n",
    "plt.title('Total Quantity by Anonymized Business')\n",
    "plt.xticks(rotation=90)\n",
    "plt.tight_layout()\n",
    "plt.show()"
   ]
  },
  {
   "cell_type": "markdown",
   "metadata": {},
   "source": [
    "### 2.2 Trends Over Time: Analyze sales trends (Value and Quantity) by Month-Year."
   ]
  },
  {
   "cell_type": "markdown",
   "metadata": {},
   "source": [
    "Create a time series plot to show seasonal patterns or changes in sales performance."
   ]
  },
  {
   "cell_type": "code",
   "execution_count": 27,
   "metadata": {},
   "outputs": [
    {
     "name": "stdout",
     "output_type": "stream",
     "text": [
      "   month-year  quantity  total_value\n",
      "4  2024-01-01     67526    185626186\n",
      "3  2024-02-01     44063    126579702\n",
      "7  2024-03-01     45381    116000676\n",
      "0  2024-04-01     50554    122110750\n",
      "8  2024-05-01     69551    168781502\n",
      "6  2024-06-01     60716    135138614\n",
      "5  2024-07-01     74689    171040881\n",
      "1  2024-08-01     68837    146581003\n",
      "11 2024-09-01     66747    137791455\n",
      "10 2024-10-01     84739    183840551\n",
      "9  2024-11-01     75361    165933104\n",
      "2  2024-12-01     57626    109549774\n"
     ]
    }
   ],
   "source": [
    "# Calculate total Quantity and Value by Month-Year\n",
    "monthly_sales = kt_clean_df.groupby('month-year').agg({'quantity': 'sum', 'total_value': 'sum'}).reset_index()\n",
    "\n",
    "\n",
    "# Convert Month-Year to datetime for proper sorting\n",
    "monthly_sales['month-year'] = pd.to_datetime(monthly_sales['month-year'], format='%B %Y')\n",
    "\n",
    "# Sort by Month-Year\n",
    "monthly_sales = monthly_sales.sort_values('month-year')\n",
    "\n",
    "# Display the grouped data\n",
    "print(monthly_sales)"
   ]
  },
  {
   "cell_type": "markdown",
   "metadata": {},
   "source": [
    "Time Series Plot of Total Quantity over time"
   ]
  },
  {
   "cell_type": "code",
   "execution_count": 28,
   "metadata": {},
   "outputs": [
    {
     "data": {
      "image/png": "[encoded data removed]",
      "text/plain": [
       "<Figure size 720x504 with 1 Axes>"
      ]
     },
     "metadata": {
      "needs_background": "light"
     },
     "output_type": "display_data"
    }
   ],
   "source": [
    "# Plot sales trends over time\n",
    "plt.figure(figsize=(10, 7))\n",
    "\n",
    "# Total Quantity over time\n",
    "plt.plot(monthly_sales['month-year'], monthly_sales['quantity'], marker='o', linestyle='-')\n",
    "plt.xlabel('Month-Year')\n",
    "plt.ylabel('Total Quantity')\n",
    "plt.title('Total Quantity by Month-Year')\n",
    "plt.xticks(rotation=45)\n",
    "plt.tight_layout()\n",
    "plt.show()\n"
   ]
  },
  {
   "cell_type": "markdown",
   "metadata": {},
   "source": [
    "#### Highest and Lowest Quantities by Month\n",
    "\n",
    "Based on plot above, the highest and lowest quantities sold were identified and the respective months are as follows:\n",
    "\n",
    "#### Highest Quantity:\n",
    "- **Month**: 2024-01-01\n",
    "- **Quantity**: 67,526 units\n",
    "\n",
    "#### Lowest Quantity:\n",
    "- **Month**: 2024-02-01\n",
    "- **Quantity**: 44,063 units"
   ]
  },
  {
   "cell_type": "markdown",
   "metadata": {},
   "source": [
    "Time Series Plot of Total Value over time"
   ]
  },
  {
   "cell_type": "code",
   "execution_count": 29,
   "metadata": {},
   "outputs": [
    {
     "data": {
      "image/png": "[encoded data removed]",
      "text/plain": [
       "<Figure size 720x504 with 1 Axes>"
      ]
     },
     "metadata": {
      "needs_background": "light"
     },
     "output_type": "display_data"
    }
   ],
   "source": [
    "# Convert 'month-year' to datetime format\n",
    "#monthly_sales['month-year'] = pd.to_datetime(monthly_sales['month-year'])\n",
    "\n",
    "# Total Value over time\n",
    "plt.figure(figsize=(10, 7))\n",
    "plt.plot(monthly_sales['month-year'], monthly_sales['total_value'], marker='o', linestyle='-')\n",
    "plt.xlabel('Month-Year')\n",
    "plt.ylabel('Total Value')\n",
    "plt.title('Total Value by Month-Year')\n",
    "\n",
    "# Rotate x-axis labels and format the ticks\n",
    "plt.xticks(monthly_sales['month-year'], monthly_sales['month-year'].dt.strftime('%b-%Y'), rotation=90)\n",
    "\n",
    "plt.tight_layout()\n",
    "plt.show()\n"
   ]
  },
  {
   "cell_type": "markdown",
   "metadata": {},
   "source": [
    "#### Highest and Lowest Values by Month\n",
    "\n",
    "Based on the data provided, the highest and lowest values of sales were identified and the respective months are as follows:\n",
    "\n",
    "#### Highest Value:\n",
    "- **Month**: 2024-01-01\n",
    "- **Total Value**: 185,626,186\n",
    "\n",
    "#### Lowest Value:\n",
    "- **Month**: 2024-12-01\n",
    "- **Total Value**: 109,549,774"
   ]
  },
  {
   "cell_type": "markdown",
   "metadata": {},
   "source": [
    "### 2.3 Performance Analysis:\n",
    "\n",
    "Identify the top 5 most frequently purchased products (based on Quantity).\n",
    "\n"
   ]
  },
  {
   "cell_type": "code",
   "execution_count": 30,
   "metadata": {},
   "outputs": [
    {
     "name": "stdout",
     "output_type": "stream",
     "text": [
      "    anonymized_product  quantity\n",
      "338       Product-66e0     46957\n",
      "750       Product-e805     42602\n",
      "476       Product-8f75     37566\n",
      "127       Product-29ee     35940\n",
      "213       Product-4156     28487\n"
     ]
    }
   ],
   "source": [
    "# Identify the top 5 most frequently purchased products based on Quantity\n",
    "top_products = kt_clean_df.groupby('anonymized_product').agg({'quantity': 'sum'}).reset_index()\n",
    "top_products = top_products.sort_values(by='quantity', ascending=False).head(5)\n",
    "\n",
    "# Display the top 5 products\n",
    "print(top_products)"
   ]
  },
  {
   "cell_type": "code",
   "execution_count": 31,
   "metadata": {},
   "outputs": [
    {
     "data": {
      "text/plain": [
       "(array([    0., 10000., 20000., 30000., 40000., 50000.]),\n",
       " [Text(0, 0.0, '0'),\n",
       "  Text(0, 10000.0, '10000'),\n",
       "  Text(0, 20000.0, '20000'),\n",
       "  Text(0, 30000.0, '30000'),\n",
       "  Text(0, 40000.0, '40000'),\n",
       "  Text(0, 50000.0, '50000')])"
      ]
     },
     "execution_count": 31,
     "metadata": {},
     "output_type": "execute_result"
    },
    {
     "data": {
      "image/png": "[encoded data removed]",
      "text/plain": [
       "<Figure size 720x432 with 1 Axes>"
      ]
     },
     "metadata": {
      "needs_background": "light"
     },
     "output_type": "display_data"
    }
   ],
   "source": [
    "# Visualize the top 5 most frequently purchased products based on Quantity\n",
    "plt.figure(figsize=(10, 6))\n",
    "plt.bar(top_products['anonymized_product'], top_products['quantity'], color='skyblue')\n",
    "plt.xlabel('Anonymized Product', fontsize=12)\n",
    "plt.ylabel('Total Quantity Purchased', fontsize=12)\n",
    "plt.title('Top 5 Most Frequently Purchased Products', fontsize=14)\n",
    "plt.xticks(rotation=45, fontsize=12)\n",
    "plt.yticks(fontsize=12)"
   ]
  },
  {
   "cell_type": "markdown",
   "metadata": {},
   "source": [
    "#### Key Insights:\n",
    "- **Product-66e0** had the highest number of purchases, making it the most frequently purchased item.\n",
    "- The difference in quantity between the top two products is around **4,355 units**, indicating strong demand for both.\n",
    "- The **fifth most purchased product (Product-4156)** still had a significant number of purchases, highlighting its popularity.\n",
    "\n",
    "Further analysis could explore the reasons behind these purchase trends, such as promotions, seasonal trends, or customer preferences."
   ]
  },
  {
   "cell_type": "markdown",
   "metadata": {},
   "source": [
    "#### Identify the top 5 most valuable products by based on Value\n"
   ]
  },
  {
   "cell_type": "code",
   "execution_count": 32,
   "metadata": {},
   "outputs": [
    {
     "name": "stdout",
     "output_type": "stream",
     "text": [
      "    anonymized_product  total_value\n",
      "750       Product-e805    262787281\n",
      "476       Product-8f75    158797460\n",
      "338       Product-66e0     70704225\n",
      "127       Product-29ee     68248274\n",
      "213       Product-4156     56956007\n"
     ]
    }
   ],
   "source": [
    "# Calculate total value for each product\n",
    "kt_clean_df['total_value'] = kt_clean_df['quantity'] * kt_clean_df['unit_price']\n",
    "\n",
    "# Identify the top 5 most valuable products based on Value\n",
    "top_valuable_products = kt_clean_df.groupby('anonymized_product').agg({'total_value': 'sum'}).reset_index()\n",
    "top_valuable_products = top_valuable_products.sort_values(by='total_value', ascending=False).head(5)\n",
    "\n",
    "# Display the top 5 most valuable products\n",
    "print(top_valuable_products)\n"
   ]
  },
  {
   "cell_type": "code",
   "execution_count": 33,
   "metadata": {},
   "outputs": [
    {
     "data": {
      "text/plain": [
       "(array([0.0e+00, 5.0e+07, 1.0e+08, 1.5e+08, 2.0e+08, 2.5e+08, 3.0e+08]),\n",
       " [Text(0, 0.0, '0.0'),\n",
       "  Text(0, 50000000.0, '0.5'),\n",
       "  Text(0, 100000000.0, '1.0'),\n",
       "  Text(0, 150000000.0, '1.5'),\n",
       "  Text(0, 200000000.0, '2.0'),\n",
       "  Text(0, 250000000.0, '2.5'),\n",
       "  Text(0, 300000000.0, '3.0')])"
      ]
     },
     "execution_count": 33,
     "metadata": {},
     "output_type": "execute_result"
    },
    {
     "data": {
      "image/png": "[encoded data removed]",
      "text/plain": [
       "<Figure size 720x432 with 1 Axes>"
      ]
     },
     "metadata": {
      "needs_background": "light"
     },
     "output_type": "display_data"
    }
   ],
   "source": [
    "# Visualize the top 5 most products based on value\n",
    "plt.figure(figsize=(10, 6))\n",
    "plt.bar(top_valuable_products['anonymized_product'], top_valuable_products['total_value'], color='purple')\n",
    "plt.xlabel('Anonymized Product', fontsize=12)\n",
    "plt.ylabel('Total Value', fontsize=12)\n",
    "plt.title('Top 5 Products by value', fontsize=14)\n",
    "plt.xticks(rotation=45, fontsize=12)\n",
    "plt.yticks(fontsize=12)"
   ]
  },
  {
   "cell_type": "markdown",
   "metadata": {},
   "source": [
    "#### Key Insights:\n",
    "- **Product-e805** had the highest total sales value, generating over **262M** in revenue.\n",
    "- **Product-8f75** ranked second, with **158M**, significantly lower than the top-ranked product but still a major contributor.\n",
    "- Although **Product-66e0** had the highest quantity sold (as seen in the previous analysis), its total value is lower, suggesting a **lower unit price** compared to Product-e805 and Product-8f75.\n",
    "- **The top two products alone accounted for a significant portion of total sales revenue**, indicating their dominance in the market.\n",
    "\n",
    "Further analysis could explore factors influencing these sales values, such as pricing strategies, product demand, and seasonal trends."
   ]
  },
  {
   "cell_type": "markdown",
   "metadata": {},
   "source": [
    "## 3. Advanced Analysis\n",
    "\n",
    "### 3.1 Customer Segmentation\n",
    "\n",
    "Perform a segmentation analysis of businesses (Anonymized Business) based on their purchasing behavior:\n",
    "\n",
    "Total Quantity purchased\n",
    "Total Value contributed\n",
    "Frequency of transactions\n",
    "\n",
    "Classify businesses into 3 groups (e.g., High Value, Medium Value, Low Value) and provide recommendations for engagement with each group."
   ]
  },
  {
   "cell_type": "markdown",
   "metadata": {},
   "source": [
    "#### Aggretate Business Level Metrics"
   ]
  },
  {
   "cell_type": "code",
   "execution_count": 34,
   "metadata": {},
   "outputs": [
    {
     "name": "stdout",
     "output_type": "stream",
     "text": [
      "       total_quantity   total_value  transaction_count\n",
      "count     4800.000000  4.800000e+03        4800.000000\n",
      "mean       159.539583  1.593710e+05          68.723542\n",
      "std        479.870741  3.629125e+05         149.042885\n",
      "min          1.000000  0.000000e+00           1.000000\n",
      "25%          5.000000  6.522500e+03           3.000000\n",
      "50%         20.000000  2.525750e+04          11.000000\n",
      "75%        114.000000  1.302732e+05          61.000000\n",
      "max      13991.000000  4.976687e+06        2614.000000\n"
     ]
    }
   ],
   "source": [
    "# Aggregate metrics per business\n",
    "kt_business_df = kt_clean_df.groupby(\"anonymized_business\").agg(\n",
    "    total_quantity=(\"quantity\", \"sum\"),\n",
    "    total_value=(\"unit_price\", \"sum\"),\n",
    "    transaction_count=(\"date\", \"count\")  # Frequency of purchases\n",
    ").reset_index()\n",
    "\n",
    "# Check summary statistics\n",
    "print(kt_business_df.describe())\n"
   ]
  },
  {
   "cell_type": "markdown",
   "metadata": {},
   "source": [
    "### Segment the businesses"
   ]
  },
  {
   "cell_type": "code",
   "execution_count": 35,
   "metadata": {},
   "outputs": [
    {
     "name": "stdout",
     "output_type": "stream",
     "text": [
      "  anonymized_business  total_quantity  total_value  transaction_count  \\\n",
      "0       Business-0000               8        10445                  8   \n",
      "1       Business-0005               1         2645                  1   \n",
      "2       Business-0029              26        18385                  6   \n",
      "3       Business-003d              98        73251                 31   \n",
      "4       Business-0072             127       194501                101   \n",
      "\n",
      "     segment  \n",
      "0  Low Value  \n",
      "1  Low Value  \n",
      "2  Low Value  \n",
      "3  Low Value  \n",
      "4  Low Value  \n"
     ]
    }
   ],
   "source": [
    "from sklearn.cluster import KMeans\n",
    "import numpy as np\n",
    "\n",
    "# Select features for clustering\n",
    "X = kt_business_df[[\"total_quantity\", \"total_value\", \"transaction_count\"]]\n",
    "\n",
    "# Apply K-Means with 3 clusters\n",
    "kmeans = KMeans(n_clusters=3, random_state=42, n_init=10)\n",
    "kt_business_df[\"segment\"] = kmeans.fit_predict(X)\n",
    "\n",
    "# Rename segments based on business value\n",
    "kt_business_df[\"segment\"] = kt_business_df[\"segment\"].map({0: \"Low Value\", 1: \"Medium Value\", 2: \"High Value\"})\n",
    "\n",
    "# Display segmented data\n",
    "print(kt_business_df.head())\n"
   ]
  },
  {
   "cell_type": "markdown",
   "metadata": {},
   "source": [
    "### Customer Segmentation ScatterPlot\n"
   ]
  },
  {
   "cell_type": "code",
   "execution_count": 36,
   "metadata": {},
   "outputs": [
    {
     "data": {
      "image/png": "[encoded data removed]",
      "text/plain": [
       "<Figure size 1008x720 with 1 Axes>"
      ]
     },
     "metadata": {
      "needs_background": "light"
     },
     "output_type": "display_data"
    }
   ],
   "source": [
    "#using a scatterplot to visualize the clusters\n",
    "plt.figure(figsize=(14, 10))\n",
    "sns.scatterplot(data=kt_business_df, x=\"total_quantity\", y=\"total_value\", hue=\"segment\", palette=\"viridis\")\n",
    "plt.title(\"Customer Segmentation Based on Purchases\")\n",
    "plt.show()\n"
   ]
  },
  {
   "cell_type": "markdown",
   "metadata": {},
   "source": [
    "### 📊 Customer Segmentation Strategy\n",
    "\n",
    "#### 🏆 High-Value Business  \n",
    "**Characteristics:**  \n",
    "- High spending  \n",
    "- Frequent transactions  \n",
    "\n",
    "**🎯 Engagement Strategies:**  \n",
    "- Offer **loyalty programs** to retain valuable customers  \n",
    "- Provide **priority support** for premium service  \n",
    "- Give **bulk discounts** to encourage larger purchases  \n",
    "\n",
    "---\n",
    "\n",
    "#### ⚖️ Medium-Value Business  \n",
    "**Characteristics:**  \n",
    "- Moderate spending  \n",
    "- Average transaction frequency  \n",
    "\n",
    "**🎯 Engagement Strategies:**  \n",
    "- Use **personalized promotions** based on purchase history  \n",
    "- Run **targeted marketing campaigns** to increase engagement  \n",
    "\n",
    "---\n",
    "\n",
    "#### 🔻 Low-Value Business  \n",
    "**Characteristics:**  \n",
    "- Low spending  \n",
    "- Infrequent transactions  \n",
    "\n",
    "**🎯 Engagement Strategies:**  \n",
    "- Implement **retargeting ads** to bring customers back  \n",
    "- Offer **special promotions** to increase interest  \n",
    "- Provide **first-time buyer discounts** to encourage conversions  \n"
   ]
  },
  {
   "cell_type": "markdown",
   "metadata": {},
   "source": [
    "### 3.2 Forecasting: Using the provided data, forecast the total sales (Value) for the next 3 months. "
   ]
  },
  {
   "cell_type": "code",
   "execution_count": 37,
   "metadata": {},
   "outputs": [
    {
     "data": {
      "image/png": "[encoded data removed]",
      "text/plain": [
       "<Figure size 720x360 with 1 Axes>"
      ]
     },
     "metadata": {
      "needs_background": "light"
     },
     "output_type": "display_data"
    }
   ],
   "source": [
    "#prepare data and ensure the data is chronologically ordered for time series analysis\n",
    "\n",
    "# Aggregate total sales per month-year\n",
    "monthly_sales = kt_clean_df.groupby('month-year').agg({'unit_price': 'sum'}).reset_index()\n",
    "\n",
    "# Rename column\n",
    "monthly_sales.rename(columns={'unit_price': 'total_value'}, inplace=True)\n",
    "\n",
    "# Convert Month-Year to datetime\n",
    "monthly_sales['month-year'] = pd.to_datetime(monthly_sales['month-year'], format='%B %Y')\n",
    "\n",
    "# Sort values for time-series processing\n",
    "monthly_sales = monthly_sales.sort_values('month-year')\n",
    "\n",
    "# Set Month-Year as index\n",
    "monthly_sales.set_index('month-year', inplace=True)\n",
    "\n",
    "# Plot to visualize trend\n",
    "plt.figure(figsize=(10, 5))\n",
    "plt.plot(monthly_sales.index, monthly_sales['total_value'], marker='o', linestyle='-')\n",
    "plt.xlabel('Month-Year')\n",
    "plt.ylabel('Total Sales Value')\n",
    "plt.title('Total Sales Over Time')\n",
    "plt.xticks(rotation=45)\n",
    "plt.show()\n"
   ]
  },
  {
   "cell_type": "markdown",
   "metadata": {},
   "source": [
    "#### Time Series Analysis: Total Sales Over Time\n",
    "\n",
    "The plot above visualizes the **total sales value over time**, showcasing potential trends, seasonal patterns, or fluctuations in sales performance.\n",
    "\n",
    "#### Key Observations:\n",
    "- There are **visible variations** in total sales across different months, which could indicate seasonal demand changes.\n",
    "- Certain peaks suggest **higher sales periods**, potentially influenced by factors such as promotions, holidays, or external market conditions.\n",
    "- Understanding these patterns is essential before applying a **forecasting model** like **ARIMA** to predict future sales trends.\n",
    "\n",
    "#### Next Steps:\n",
    "Before implementing **ARIMA (AutoRegressive Integrated Moving Average)** for forecasting, we will:\n",
    "1. **Check for stationarity** – Ensure the time series does not have a trend or seasonality that needs to be adjusted.\n",
    "2. **Determine the order of differencing (d)** – Identify whether differencing is needed to make the series stationary.\n",
    "3. **Analyze autocorrelations** – Examine the ACF (Autocorrelation Function) and PACF (Partial Autocorrelation Function) plots to determine the AR (p) and MA (q) components.\n",
    "4. **Fit the ARIMA model** – Train the model and evaluate its predictive performance.\n",
    "\n",
    "This analysis will help **forecast future sales trends**, enabling better decision-making based on historical data.\n"
   ]
  },
  {
   "cell_type": "markdown",
   "metadata": {},
   "source": [
    "#### Using ARIMA to forecast"
   ]
  },
  {
   "cell_type": "code",
   "execution_count": 38,
   "metadata": {},
   "outputs": [
    {
     "name": "stdout",
     "output_type": "stream",
     "text": [
      "ADF Statistic: -2.312432015412156\n",
      "p-value: 0.1679897431612946\n"
     ]
    },
    {
     "name": "stderr",
     "output_type": "stream",
     "text": [
      "c:\\Users\\GICHEHA\\anaconda3\\envs\\learn-env\\lib\\site-packages\\statsmodels\\tsa\\base\\tsa_model.py:473: ValueWarning: No frequency information was provided, so inferred frequency MS will be used.\n",
      "  self._init_dates(dates, freq)\n",
      "c:\\Users\\GICHEHA\\anaconda3\\envs\\learn-env\\lib\\site-packages\\statsmodels\\tsa\\base\\tsa_model.py:473: ValueWarning: No frequency information was provided, so inferred frequency MS will be used.\n",
      "  self._init_dates(dates, freq)\n",
      "c:\\Users\\GICHEHA\\anaconda3\\envs\\learn-env\\lib\\site-packages\\statsmodels\\tsa\\base\\tsa_model.py:473: ValueWarning: No frequency information was provided, so inferred frequency MS will be used.\n",
      "  self._init_dates(dates, freq)\n",
      "c:\\Users\\GICHEHA\\anaconda3\\envs\\learn-env\\lib\\site-packages\\statsmodels\\tsa\\statespace\\sarimax.py:978: UserWarning: Non-invertible starting MA parameters found. Using zeros as starting parameters.\n",
      "  warn('Non-invertible starting MA parameters found.'\n"
     ]
    },
    {
     "data": {
      "image/png": "[encoded data removed]",
      "text/plain": [
       "<Figure size 720x360 with 1 Axes>"
      ]
     },
     "metadata": {
      "needs_background": "light"
     },
     "output_type": "display_data"
    },
    {
     "name": "stdout",
     "output_type": "stream",
     "text": [
      "Forecasted Sales for Next 3 Months:\n",
      " 2025-01-31    6.055243e+07\n",
      "2025-02-28    6.099246e+07\n",
      "2025-03-31    6.102073e+07\n",
      "Freq: M, Name: predicted_mean, dtype: float64\n"
     ]
    }
   ],
   "source": [
    "from statsmodels.tsa.arima.model import ARIMA\n",
    "from statsmodels.tsa.stattools import adfuller\n",
    "\n",
    "# Check stationarity\n",
    "result = adfuller(monthly_sales['total_value'])\n",
    "print(f'ADF Statistic: {result[0]}')\n",
    "print(f'p-value: {result[1]}')\n",
    "\n",
    "# If p-value > 0.05, we need differencing\n",
    "if result[1] > 0.05:\n",
    "    monthly_sales['total_value_diff'] = monthly_sales['total_value'].diff().dropna()\n",
    "\n",
    "# Fit ARIMA model (adjust p, d, q based on analysis)\n",
    "model = ARIMA(monthly_sales['total_value'], order=(1, 1, 1))  # (p,d,q) values may need tuning\n",
    "model_fit = model.fit()\n",
    "\n",
    "# Forecast next 3 months\n",
    "forecast = model_fit.forecast(steps=3)\n",
    "forecast.index = pd.date_range(start=monthly_sales.index[-1], periods=4, freq='M')[1:]\n",
    "\n",
    "# Plot results\n",
    "plt.figure(figsize=(10, 5))\n",
    "plt.plot(monthly_sales.index, monthly_sales['total_value'], marker='o', linestyle='-', label='Actual Sales')\n",
    "plt.plot(forecast.index, forecast, marker='o', linestyle='--', color='red', label='Forecasted Sales')\n",
    "plt.xlabel('Month-Year')\n",
    "plt.ylabel('Total Sales Value')\n",
    "plt.title('Total Sales Forecast for Next 3 Months')\n",
    "plt.legend()\n",
    "plt.show()\n",
    "\n",
    "# Print Forecasted Values\n",
    "print(\"Forecasted Sales for Next 3 Months:\\n\", forecast)\n"
   ]
  },
  {
   "cell_type": "markdown",
   "metadata": {},
   "source": [
    "#### Key Insights:\n",
    "- The forecast suggests **a steady increase in total sales** over the next three months.\n",
    "- The projected sales values are in the **same range as recent historical trends**, indicating that the model predicts a stable growth pattern.\n",
    "- Further validation can be done by comparing these forecasts with actual sales data when available.\n",
    "\n",
    "#### Next Steps:\n",
    "- Consider external factors (e.g., seasonality, promotions) that might impact actual sales.\n",
    "- Extend the forecast horizon to analyze **longer-term trends** and support strategic planning.\n",
    "\n",
    "This forecast provides a **data-driven approach** to anticipate sales performance and make informed business decisions. 🚀"
   ]
  },
  {
   "cell_type": "markdown",
   "metadata": {},
   "source": [
    "#### 3.3 Anomaly Detection:Identify any unusual spikes or drops in sales performance (Quantity or Value)"
   ]
  },
  {
   "cell_type": "markdown",
   "metadata": {},
   "source": [
    "Plot sales trends to spot anomalies"
   ]
  },
  {
   "cell_type": "code",
   "execution_count": 39,
   "metadata": {},
   "outputs": [
    {
     "data": {
      "image/png": "[encoded data removed]",
      "text/plain": [
       "<Figure size 864x360 with 1 Axes>"
      ]
     },
     "metadata": {
      "needs_background": "light"
     },
     "output_type": "display_data"
    }
   ],
   "source": [
    "import matplotlib.pyplot as plt\n",
    "\n",
    "# Plot Total Value over time\n",
    "plt.figure(figsize=(12, 5))\n",
    "plt.plot(monthly_sales.index, monthly_sales['total_value'], marker='o', linestyle='-', color='b', label=\"Total Value\")\n",
    "plt.xlabel('Month-Year')\n",
    "plt.ylabel('Total Sales Value')\n",
    "plt.title('Total Sales Over Time')\n",
    "plt.legend()\n",
    "plt.show()\n",
    "\n",
    "\n"
   ]
  },
  {
   "cell_type": "markdown",
   "metadata": {},
   "source": [
    "#### 📊 Possible Reasons for Anomalies in Sales Data\n",
    "\n",
    "Sales anomalies, such as **spikes or drops** in sales value or quantity, may be influenced by several factors.\n",
    "\n",
    "#### 🔼 **Spikes in Sales Value or Quantity** (Sudden Increase)\n",
    "Potential reasons include:\n",
    "- **Seasonal promotions or discounts** – Special sales events boosting demand.\n",
    "- **New product launches** – Increased interest leading to higher purchases.\n",
    "- **Increased marketing efforts** – Campaigns driving more customer engagement.\n",
    "- **Unexpected high demand** – External factors causing a surge in sales.\n",
    "\n",
    "#### 🔽 **Drops in Sales Value or Quantity** (Sudden Decrease)\n",
    "Possible explanations:\n",
    "- **Seasonal downturns** – Periods with historically lower sales.\n",
    "- **Stock shortages** – Supply chain issues affecting product availability.\n",
    "- **Changes in customer demand** – Shift in consumer preferences.\n",
    "- **Economic factors** – Price changes, competitor influence, or market conditions impacting sales.\n",
    "\n",
    "### 🛠 Next Steps:\n",
    "- Investigate **external factors** (e.g., industry trends, competitor activities).\n",
    "- Use **predictive modeling** to anticipate future fluctuations and mitigate risks.\n",
    "\n",
    "\n"
   ]
  },
  {
   "cell_type": "markdown",
   "metadata": {},
   "source": [
    "#### 3.4 Correlation Analysis:Examine relationships between Quantity and Value. Provide insights into which factors drive sales performance."
   ]
  },
  {
   "cell_type": "code",
   "execution_count": 40,
   "metadata": {},
   "outputs": [
    {
     "data": {
      "image/png": "[encoded data removed]",
      "text/plain": [
       "<Figure size 720x432 with 1 Axes>"
      ]
     },
     "metadata": {
      "needs_background": "light"
     },
     "output_type": "display_data"
    }
   ],
   "source": [
    "#Calculate Total Monthly Sales(Value) and Quantity\n",
    "\n",
    "monthly_sales = kt_clean_df.groupby('month-year').agg({'total_value': 'sum', 'quantity': 'sum'}).reset_index()\n",
    "\n",
    "# Convert Month-Year to datetime for proper sorting\n",
    "monthly_sales['month-year'] = pd.to_datetime(monthly_sales['month-year'], format='%B %Y')\n",
    "\n",
    "# Sort by Month-Year\n",
    "monthly_sales = monthly_sales.sort_values('month-year')\n",
    "\n",
    "# Set Month-Year as index\n",
    "monthly_sales.set_index('month-year', inplace=True)\n",
    "\n",
    "# Plot the relationship between Quantity and Value\n",
    "plt.figure(figsize=(10, 6))\n",
    "sns.scatterplot(x='quantity', y='total_value', data=monthly_sales)\n",
    "plt.xlabel('Total Quantity')\n",
    "plt.ylabel('Total Value')\n",
    "plt.title('Relationship between Quantity and Value')\n",
    "plt.show()"
   ]
  },
  {
   "cell_type": "code",
   "execution_count": 41,
   "metadata": {},
   "outputs": [
    {
     "name": "stdout",
     "output_type": "stream",
     "text": [
      "Correlation between Quantity and Value: 0.8310545840922671\n"
     ]
    }
   ],
   "source": [
    "\n",
    "# Calculate correlation between Quantity and Value\n",
    "correlation = monthly_sales['quantity'].corr(monthly_sales['total_value'])\n",
    "print(f\"Correlation between Quantity and Value: {correlation}\")\n"
   ]
  },
  {
   "cell_type": "code",
   "execution_count": 42,
   "metadata": {},
   "outputs": [
    {
     "name": "stdout",
     "output_type": "stream",
     "text": [
      "Insights into factors driving sales performance:\n",
      "There is a strong positive correlation between Quantity and Value, indicating that higher quantities sold are associated with higher sales value.\n"
     ]
    }
   ],
   "source": [
    "#Give insights\n",
    "# Insights into factors driving sales performance\n",
    "if correlation > 0.7:\n",
    "    insight = \"There is a strong positive correlation between Quantity and Value, indicating that higher quantities sold are associated with higher sales value.\"\n",
    "elif correlation > 0.3:\n",
    "    insight = \"There is a moderate positive correlation between Quantity and Value, suggesting that quantities sold have a noticeable impact on sales value.\"\n",
    "else:\n",
    "    insight = \"There is a weak or no correlation between Quantity and Value, implying that other factors might be driving sales performance.\"\n",
    "\n",
    "print(\"Insights into factors driving sales performance:\")\n",
    "print(insight)"
   ]
  },
  {
   "cell_type": "markdown",
   "metadata": {},
   "source": [
    "###  Insights into Factors Driving Sales Performance\n",
    "\n",
    "####  Key Observation:\n",
    "- There is a **strong positive correlation** between **Quantity** and **Total Sales Value**.\n",
    "- This suggests that **higher quantities sold** are directly associated with **higher revenue generation**.\n",
    "\n",
    "#### Business Implications:\n",
    "- **Demand-Driven Revenue Growth**: Increasing sales volume leads to higher overall revenue.\n",
    "- **Inventory Management**: Ensuring stock availability for high-demand products can optimize sales.\n",
    "- **Sales Strategy**: Promotions and bulk purchase incentives could further boost revenue."
   ]
  },
  {
   "cell_type": "markdown",
   "metadata": {},
   "source": [
    "### Section 4: Strategic Insights and Recommendations (20 points)\n",
    "\n",
    "    "
   ]
  },
  {
   "cell_type": "markdown",
   "metadata": {},
   "source": [
    "### 1. Product Strategy: Based on your analysis, recommend one product category to prioritize for marketing campaigns. Justify your choice using the data.\n"
   ]
  },
  {
   "cell_type": "markdown",
   "metadata": {},
   "source": [
    "#### 📢 Recommended Product Category for Marketing Campaigns  \n",
    "\n",
    "#### 🏆 Recommended Category: The Category of **Product-e805**  \n",
    "\n",
    "#### 📊 Justification Based on Data:  \n",
    "\n",
    "1. **Highest Sales Value Contribution:**  \n",
    "   - **Product-e805** generated the highest total sales value of **262,787,281**, making it the most valuable product in the dataset.  \n",
    "   - Prioritizing this category can further amplify revenue growth.  \n",
    "\n",
    "2. **Strong Purchase Volume:**  \n",
    "   - **Product-e805** ranks **second** in the most frequently purchased products list, with **42,602 units sold**.  \n",
    "   - This shows it has consistent demand, making it an ideal choice for a marketing push.  \n",
    "\n",
    "3. **Potential for Increased Market Share:**  \n",
    "   - Despite being the **most valuable product**, it is **not the most frequently purchased**, meaning there is room to drive up sales volume.  \n",
    "   - A well-planned marketing strategy could increase its reach and customer base.  \n",
    "\n",
    "4. **Strategic Positioning:**  \n",
    "   - If this product belongs to a premium category, marketing efforts can highlight its **unique value proposition** to justify its high value.  \n",
    "   - If it’s a staple product, **discounts or bulk purchase incentives** could drive even more purchases.  \n",
    "\n",
    "#### 🎯 Marketing Strategy Recommendations:  \n",
    "- **Premium Positioning:** If this is a high-value product, leverage branding efforts to emphasize its **quality and exclusivity**.  \n",
    "- **Targeted Discounts & Promotions:** Offer limited-time discounts to encourage repeat purchases and boost sales.  \n",
    "- **Digital Marketing & Influencer Partnerships:** Use social media campaigns to highlight customer testimonials, features, and special offers.  \n",
    "\n",
    "\n"
   ]
  },
  {
   "cell_type": "markdown",
   "metadata": {},
   "source": [
    "### 2. Customer Retention: Identify businesses that have reduced their purchase frequency over time. Suggest strategies to re-engage these customers.\n"
   ]
  },
  {
   "cell_type": "markdown",
   "metadata": {},
   "source": [
    "### Strategies to Re-engage Customers with Reduced Purchase Frequency\n",
    "\n",
    "Based on the analysis, we have identified businesses that have reduced their purchase frequency over time. To re-engage these customers and encourage them to resume regular purchases, the following strategies can be employed:\n",
    "\n",
    "#### 1. **Targeted Discounts and Offers**\n",
    "   - **Personalized Discounts:** Provide tailored discounts to businesses that have reduced their purchasing frequency. By offering special deals, these businesses may feel incentivized to make new purchases.\n",
    "   - **Bulk Purchase Incentives:** Offer special promotions for bulk purchases, encouraging these businesses to place larger orders and increase their overall purchase volume.\n",
    "\n",
    "#### 2. **Customer Satisfaction Surveys**\n",
    "   - **Understanding Their Needs:** Send out customer satisfaction surveys to gather insights into why their purchasing frequency has decreased. This can help uncover any issues (e.g., product quality, delivery delays, or pricing concerns) and allow you to address these problems effectively.\n",
    "   - **Improvement Based on Feedback:** Use the feedback from the surveys to improve the customer experience and make necessary adjustments to the product or service offering.\n",
    "\n",
    "#### 3. **Promotions and New Product Launches**\n",
    "   - **Exclusive Promotions:** Re-engage these businesses by providing them exclusive access to **new product launches** or limited-time promotions. Offering a sneak peek or early-bird access to upcoming products can rekindle interest and motivate businesses to make purchases again.\n",
    "   - **Seasonal or Themed Discounts:** Create seasonal promotions or special offers based on the time of year, holidays, or specific business needs that could encourage them to buy during these periods.\n",
    "\n",
    "\n",
    "By implementing these strategies, you can help bring back businesses that have reduced their purchasing frequency and drive higher engagement and retention.\n"
   ]
  },
  {
   "cell_type": "markdown",
   "metadata": {},
   "source": [
    "\n",
    "### 3. Operational Efficiency:Suggest improvements to inventory management or supply chain processes based on trends in product performance and seasonal demand."
   ]
  },
  {
   "cell_type": "markdown",
   "metadata": {},
   "source": [
    "#### Operational Efficiency: Improvements to Inventory Management & Supply Chain Processes\n",
    "\n",
    "#### 📊 **Trends Observed:**\n",
    "- **Product Performance:** \n",
    "   - Based on sales data, **Product-e805** and **Product-8f75** have demonstrated strong sales performance, both in terms of **high quantity sold** and **total value generated**.\n",
    "   - These products can be considered for **priority stocking** and **focused inventory replenishment** strategies.\n",
    "\n",
    "- **Seasonal Demand Fluctuations:**\n",
    "   - There is a noticeable **seasonal spike in sales** during certain months, such as **December and January**. This suggests the potential for **seasonal demand** in specific product categories, like holiday-themed or promotional items.\n",
    "   \n",
    "#### 📈 **Suggested Improvements:**\n",
    "\n",
    "1. **Demand Forecasting & Inventory Planning:**\n",
    "   - Use **historical sales data** and **seasonal trends** to predict product demand for future periods. This allows for better inventory planning and reduces the risk of overstocking or stockouts.\n",
    "   - Implement **ARIMA** or **exponential smoothing** models to forecast demand and adjust inventory levels accordingly.\n",
    "\n",
    "2. **Product Segmentation:**\n",
    "   - Classify products into **high-demand**, **low-demand**, and **seasonal** categories.\n",
    "     - **High-demand products**: Maintain higher stock levels and automate restocking when stock falls below a threshold.\n",
    "     - **Seasonal products**: Increase inventory in the lead-up to high-demand months (e.g., holiday seasons) and reduce after peak periods.\n",
    "     - **Low-demand products**: Implement **just-in-time** inventory methods to reduce storage costs and avoid overstocking.\n",
    "\n",
    "3. **Optimized Supply Chain Management:**\n",
    "   - Leverage **real-time data** from sales trends and supplier lead times to **adjust orders dynamically** and maintain optimal stock levels.\n",
    "   - Strengthen relationships with suppliers to ensure faster replenishment during peak sales periods.\n",
    "   - Implement **vendor-managed inventory** (VMI) for **high-performing products** to ensure the supply chain aligns with demand shifts.\n",
    "\n",
    "#### 🏆 **Expected Outcomes:**\n",
    "- **Reduced Stockouts & Overstocking:** Improved forecasting and better stock control would result in fewer missed sales opportunities and lower holding costs.\n",
    "- **Optimized Costs:** By balancing supply with demand, operational costs such as warehousing and logistics can be minimized.\n",
    "- **Enhanced Customer Satisfaction:** Availability of in-demand products, especially during peak periods, will improve customer satisfaction and retention.\n",
    "\n",
    "\n"
   ]
  },
  {
   "cell_type": "markdown",
   "metadata": {},
   "source": [
    "### Section 5: Dashboard and Reporting (20 points)\n",
    "\n",
    "Create a dashboard summarizing key insights, including:\n",
    "\n",
    "    Total Quantity and Value by Anonymized Category.\n",
    "    Top-performing products and businesses.\n",
    "    A time-series chart of sales trends.\n",
    "    A segmentation summary of customer groups.\n",
    "\n",
    "I will use a Python libraries ( Plotly, Dash) to make the dashboard interactive with a link to the dashboard."
   ]
  },
  {
   "cell_type": "code",
   "execution_count": 43,
   "metadata": {},
   "outputs": [],
   "source": [
    "import plotly.io as pio"
   ]
  },
  {
   "cell_type": "code",
   "execution_count": 44,
   "metadata": {},
   "outputs": [
    {
     "name": "stdout",
     "output_type": "stream",
     "text": [
      "Index(['anonymized_business', 'quantity', 'total_value'], dtype='object')\n"
     ]
    }
   ],
   "source": [
    "print(business_grouped.columns)\n"
   ]
  },
  {
   "cell_type": "code",
   "execution_count": 45,
   "metadata": {},
   "outputs": [
    {
     "data": {
      "text/html": [
       "\n",
       "        <iframe\n",
       "            width=\"100%\"\n",
       "            height=\"650\"\n",
       "            src=\"http://127.0.0.1:8050/\"\n",
       "            frameborder=\"0\"\n",
       "            allowfullscreen\n",
       "        ></iframe>\n",
       "        "
      ],
      "text/plain": [
       "<IPython.lib.display.IFrame at 0x2117c060bb0>"
      ]
     },
     "metadata": {},
     "output_type": "display_data"
    }
   ],
   "source": [
    "import dash\n",
    "from dash import dcc, html, dash_table\n",
    "import plotly.express as px\n",
    "import pandas as pd\n",
    "from dash.dependencies import Input, Output\n",
    "\n",
    "\n",
    "# Aggregate data for different visualizations\n",
    "monthly_sales = kt_clean_df.groupby('month-year').agg({'total_value': 'sum', 'quantity': 'sum'}).reset_index()\n",
    "category_sales = kt_clean_df.groupby('anonymized_category').agg({'total_value': 'sum', 'quantity': 'sum'}).reset_index()\n",
    "top_products = kt_clean_df.groupby('anonymized_product').agg({'total_value': 'sum', 'quantity': 'sum'}).reset_index().nlargest(10, 'total_value')\n",
    "top_businesses = kt_clean_df.groupby('anonymized_business').agg({'total_value': 'sum'}).reset_index().nlargest(10, 'total_value')\n",
    "\n",
    "\n",
    "# Sort the dataframe by 'month-year'\n",
    "monthly_sales = monthly_sales.sort_values('month-year')\n",
    "\n",
    "# Initialize Dash app\n",
    "app = dash.Dash(__name__)\n",
    "\n",
    "# Layout\n",
    "app.layout = html.Div([\n",
    "    html.H1(\"Sales Performance Dashboard\", style={'textAlign': 'center'}),\n",
    "    \n",
    "    # Total Quantity and Value by Category\n",
    "    dcc.Graph(\n",
    "        id='category-sales',\n",
    "        figure=px.bar(category_sales, x='anonymized_category', y=['total_value', 'quantity'],\n",
    "                      title=\"Total Sales Value and Quantity by Category\",\n",
    "                      barmode='group', labels={'value': 'Total Sales', 'quantity': 'Total Quantity'})\n",
    "    ),\n",
    "    \n",
    "    # Top-Performing Products\n",
    "    dcc.Graph(\n",
    "        id='top-products',\n",
    "        figure=px.bar(top_products, x='anonymized_product', y='total_value',\n",
    "                      title=\"Top 10 Best-Selling Products\",\n",
    "                      labels={'product_name': 'Product', 'total_value': 'Sales Value'})\n",
    "    ),\n",
    "    \n",
    "    # Top Businesses\n",
    "    dcc.Graph(\n",
    "        id='top-businesses',\n",
    "        figure=px.bar(top_businesses, x='anonymized_business', y='total_value',\n",
    "                      title=\"Top 10 Businesses by Sales\",\n",
    "                      labels={'business_name': 'Business', 'total_value': 'Sales Value'})\n",
    "    ),\n",
    "    \n",
    "    # Time-Series Chart of Sales Trends\n",
    "    dcc.Graph(\n",
    "        id='sales-trends',\n",
    "        figure=px.line(monthly_sales, x='month-year', y=['total_value', 'quantity'],\n",
    "                       title=\"Sales Trends Over Time\", labels={'month-year': 'Date', 'value': 'Sales'})\n",
    "    ),\n",
    "    \n",
    "      # Customer Segmentation Table\n",
    "    html.H3(\"Customer Segmentation Summary\"),\n",
    "    dash_table.DataTable(\n",
    "        id='customer-segmentation',\n",
    "        columns=[{\"name\": i, \"id\": i} for i in ['segment', 'total_value', 'total_quantity']],\n",
    "        data=kt_business_df.groupby('segment').agg({'total_value': 'sum', 'total_quantity': 'sum'}).reset_index().to_dict('records'),\n",
    "        style_table={'overflowX': 'auto'},\n",
    "    ),\n",
    "    \n",
    "   \n",
    "   \n",
    "])\n",
    "\n",
    "\n",
    "\n",
    "# Run the app\n",
    "if __name__ == '__main__':\n",
    "    app.run_server(debug=True)\n"
   ]
  },
  {
   "cell_type": "markdown",
   "metadata": {},
   "source": [
    "### Predictive Analysis\n",
    "    Identify external factors that could influence sales (e.g., economic conditions, competitor actions). \n",
    "    \n"
   ]
  },
  {
   "cell_type": "markdown",
   "metadata": {},
   "source": [
    "External Factors Influencing Sales:\n",
    "\n",
    "1. Economic Conditions: Factors like GDP growth, inflation, and unemployment rates can significantly impact consumer purchasing power and demand\n",
    "    \n",
    "2. Competitor Actions: Changes in competitor pricing, new product launches, and marketing campaigns can affect market share and sales\n",
    "\n",
    "3. Consumer Trends: Shifts in consumer preferences, seasonal trends, and demographic changes can influence sales patterns\n",
    "    \n",
    "4. Regulatory Changes: New laws and regulations, such as changes in tax policies or trade tariffs, can impact costs and pricing strategies\n",
    "\n",
    "5. Technological Advancements: Innovations and technological changes can create new opportunities or render existing products obsolete\n"
   ]
  },
  {
   "cell_type": "markdown",
   "metadata": {},
   "source": [
    "    Propose a methodology to incorporate such factors into future analyses.\n",
    "\n",
    "1. Data Collection: Gather data from reliable sources such as government reports, industry publications, and market research firms\n",
    "2. Integration: Use data integration tools to combine internal sales data with external datasets. Ensure data is cleaned and standardized for consistency1\n",
    "3. Modeling: Apply advanced analytics techniques like regression analysis or time series analysis to quantify the relationships between external factors and sales performance\n",
    "4. Validation: Validate models using historical data to ensure accuracy. Adjust models based on performance metrics\n",
    "5. Monitoring: Continuously monitor external factors and update models regularly to reflect changes in the external environment\n",
    "    .\n"
   ]
  },
  {
   "cell_type": "markdown",
   "metadata": {},
   "source": [
    "### Scalability\n",
    "     If the dataset were 10 times larger, what optimizations would you implement for data storage, processing, and analysis?"
   ]
  },
  {
   "cell_type": "markdown",
   "metadata": {},
   "source": [
    "Optimizations for Data Storage, Processing, and Analysis:\n",
    "\n",
    "Data Storage:\n",
    "\n",
    "1. Partitioning: Divide large datasets into smaller, manageable partitions to improve query performance and reduce latency\n",
    "\n",
    "2. Compression: Use data compression techniques to reduce storage requirements and improve I/O performance\n",
    "       \n",
    "Data Processing:\n",
    "\n",
    "1. Parallel Processing: Utilize parallel processing frameworks like Apache Spark to distribute processing tasks across multiple nodes\n",
    "\n",
    "2. In-Memory Computing: Leverage in-memory computing to reduce data access times and improve processing speed\n",
    "\n",
    "3. Load Balancing: Implement load balancing to evenly distribute processing workloads and prevent bottlenecks\n",
    "        \n",
    "Data Analysis:\n",
    "\n",
    "1. Scalable Algorithms: Use scalable machine learning algorithms that can handle large datasets efficiently\n",
    "2. Distributed Computing: Employ distributed computing frameworks to perform complex analyses on large datasets\n",
    "3. Real-Time Analytics: Implement real-time analytics to provide immediate insights and enable quick decision-making\n",
    "        .\n"
   ]
  }
 ],
 "metadata": {
  "kernelspec": {
   "display_name": "learn-env",
   "language": "python",
   "name": "python3"
  },
  "language_info": {
   "codemirror_mode": {
    "name": "ipython",
    "version": 3
   },
   "file_extension": ".py",
   "mimetype": "text/x-python",
   "name": "python",
   "nbconvert_exporter": "python",
   "pygments_lexer": "ipython3",
   "version": "3.8.5"
  }
 },
 "nbformat": 4,
 "nbformat_minor": 2
}
