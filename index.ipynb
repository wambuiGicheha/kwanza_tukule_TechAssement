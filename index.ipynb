{
 "cells": [
  {
   "cell_type": "markdown",
   "metadata": {},
   "source": [
    "# Kwanza Tukule Data Analyst Assessment\n",
    "Author : Keziah Gicheha \n",
    "\n",
    "Date : 31/01/2025\n",
    "\n",
    "Tools used: Python(Pandas, Numpy, Matplotlib, Seaborn)\n",
    "\n",
    "## Introduction \n",
    "\n",
    "This notebook presents an analysis of anonymized sales data provided by Kwanza Tukule. The goal of this assessment is to evaluate data cleaning, preparation, and analytical skills by addressing key tasks, including:\n",
    "\n",
    "* Identifying and resolving data quality issues (e.g., missing values, duplicates, inconsistent data types).\n",
    "* Performing feature engineering to create new useful columns.\n",
    "* Conducting exploratory data analysis (EDA) to uncover trends and insights.\n",
    "* Providing actionable recommendations based on data findings.\n",
    "\n",
    "\n"
   ]
  },
  {
   "cell_type": "markdown",
   "metadata": {},
   "source": [
    "### Section 1: Data Cleaning and Preparation\n",
    "\n",
    "This section focuses on assessing the quality of the dataset, identifying issues, and implementing appropriate cleaning techniques. Additionally, new features will be engineered to enhance data usability.\n"
   ]
  }
 ],
 "metadata": {
  "kernelspec": {
   "display_name": "learn-env",
   "language": "python",
   "name": "python3"
  },
  "language_info": {
   "name": "python",
   "version": "3.8.5"
  }
 },
 "nbformat": 4,
 "nbformat_minor": 2
}
