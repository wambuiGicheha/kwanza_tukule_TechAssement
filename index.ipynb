{
 "cells": [
  {
   "cell_type": "markdown",
   "metadata": {},
   "source": [
    "# Kwanza Tukule Data Analyst Assessment\n",
    "Author : Keziah Gicheha \n",
    "\n",
    "Date : 31/01/2025\n",
    "\n",
    "Tools used: Python(Pandas, Numpy, Matplotlib, Seaborn)\n",
    "\n",
    "## Introduction \n",
    "\n",
    "This notebook presents an analysis of anonymized sales data provided by Kwanza Tukule. The goal of this assessment is to evaluate data cleaning, preparation, and analytical skills by addressing key tasks, including:\n",
    "\n",
    "* Identifying and resolving data quality issues (e.g., missing values, duplicates, inconsistent data types).\n",
    "* Performing feature engineering to create new useful columns.\n",
    "* Conducting exploratory data analysis (EDA) to uncover trends and insights.\n",
    "* Providing actionable recommendations based on data findings.\n",
    "\n",
    "\n"
   ]
  },
  {
   "cell_type": "markdown",
   "metadata": {},
   "source": [
    "### Section 1: Data Cleaning and Preparation\n",
    "\n",
    "This section outlines the steps taken to clean and prepare the dataset for analysis. The dataset represents anonymized sales data from Kwanza Tukule.\n"
   ]
  },
  {
   "cell_type": "code",
   "execution_count": 100,
   "metadata": {},
   "outputs": [
    {
     "data": {
      "text/html": [
       "<div>\n",
       "<style scoped>\n",
       "    .dataframe tbody tr th:only-of-type {\n",
       "        vertical-align: middle;\n",
       "    }\n",
       "\n",
       "    .dataframe tbody tr th {\n",
       "        vertical-align: top;\n",
       "    }\n",
       "\n",
       "    .dataframe thead th {\n",
       "        text-align: right;\n",
       "    }\n",
       "</style>\n",
       "<table border=\"1\" class=\"dataframe\">\n",
       "  <thead>\n",
       "    <tr style=\"text-align: right;\">\n",
       "      <th></th>\n",
       "      <th>DATE</th>\n",
       "      <th>ANONYMIZED CATEGORY</th>\n",
       "      <th>ANONYMIZED PRODUCT</th>\n",
       "      <th>ANONYMIZED BUSINESS</th>\n",
       "      <th>ANONYMIZED LOCATION</th>\n",
       "      <th>QUANTITY</th>\n",
       "      <th>UNIT PRICE</th>\n",
       "    </tr>\n",
       "  </thead>\n",
       "  <tbody>\n",
       "    <tr>\n",
       "      <th>0</th>\n",
       "      <td>August 18, 2024, 9:32 PM</td>\n",
       "      <td>Category-106</td>\n",
       "      <td>Product-21f4</td>\n",
       "      <td>Business-de42</td>\n",
       "      <td>Location-1ba8</td>\n",
       "      <td>1</td>\n",
       "      <td>850</td>\n",
       "    </tr>\n",
       "    <tr>\n",
       "      <th>1</th>\n",
       "      <td>August 18, 2024, 9:32 PM</td>\n",
       "      <td>Category-120</td>\n",
       "      <td>Product-4156</td>\n",
       "      <td>Business-de42</td>\n",
       "      <td>Location-1ba8</td>\n",
       "      <td>2</td>\n",
       "      <td>1,910</td>\n",
       "    </tr>\n",
       "    <tr>\n",
       "      <th>2</th>\n",
       "      <td>August 18, 2024, 9:32 PM</td>\n",
       "      <td>Category-121</td>\n",
       "      <td>Product-49bd</td>\n",
       "      <td>Business-de42</td>\n",
       "      <td>Location-1ba8</td>\n",
       "      <td>1</td>\n",
       "      <td>3,670</td>\n",
       "    </tr>\n",
       "    <tr>\n",
       "      <th>3</th>\n",
       "      <td>August 18, 2024, 9:32 PM</td>\n",
       "      <td>Category-76</td>\n",
       "      <td>Product-61dd</td>\n",
       "      <td>Business-de42</td>\n",
       "      <td>Location-1ba8</td>\n",
       "      <td>1</td>\n",
       "      <td>2,605</td>\n",
       "    </tr>\n",
       "    <tr>\n",
       "      <th>4</th>\n",
       "      <td>August 18, 2024, 9:32 PM</td>\n",
       "      <td>Category-119</td>\n",
       "      <td>Product-66e0</td>\n",
       "      <td>Business-de42</td>\n",
       "      <td>Location-1ba8</td>\n",
       "      <td>5</td>\n",
       "      <td>1,480</td>\n",
       "    </tr>\n",
       "  </tbody>\n",
       "</table>\n",
       "</div>"
      ],
      "text/plain": [
       "                       DATE ANONYMIZED CATEGORY ANONYMIZED PRODUCT  \\\n",
       "0  August 18, 2024, 9:32 PM        Category-106       Product-21f4   \n",
       "1  August 18, 2024, 9:32 PM        Category-120       Product-4156   \n",
       "2  August 18, 2024, 9:32 PM        Category-121       Product-49bd   \n",
       "3  August 18, 2024, 9:32 PM         Category-76       Product-61dd   \n",
       "4  August 18, 2024, 9:32 PM        Category-119       Product-66e0   \n",
       "\n",
       "  ANONYMIZED BUSINESS ANONYMIZED LOCATION  QUANTITY UNIT PRICE  \n",
       "0       Business-de42       Location-1ba8         1        850  \n",
       "1       Business-de42       Location-1ba8         2      1,910  \n",
       "2       Business-de42       Location-1ba8         1      3,670  \n",
       "3       Business-de42       Location-1ba8         1      2,605  \n",
       "4       Business-de42       Location-1ba8         5      1,480  "
      ]
     },
     "execution_count": 100,
     "metadata": {},
     "output_type": "execute_result"
    }
   ],
   "source": [
    "#import necessary libraries fot the data cleaning, visualization and analysis\n",
    "import numpy as np\n",
    "import pandas as pd\n",
    "import matplotlib.pyplot as plt\n",
    "import seaborn as sns\n",
    "\n",
    "#load the dataset\n",
    "data = pd.read_csv('Data/kwanza_tukule.csv')\n",
    "\n",
    "#check the first 5 rows of the data\n",
    "data.head(5)"
   ]
  },
  {
   "cell_type": "markdown",
   "metadata": {},
   "source": [
    "### 1.1 Data Quality Assessment"
   ]
  },
  {
   "cell_type": "code",
   "execution_count": 101,
   "metadata": {},
   "outputs": [
    {
     "name": "stdout",
     "output_type": "stream",
     "text": [
      "<class 'pandas.core.frame.DataFrame'>\n",
      "RangeIndex: 333405 entries, 0 to 333404\n",
      "Data columns (total 7 columns):\n",
      " #   Column               Non-Null Count   Dtype \n",
      "---  ------               --------------   ----- \n",
      " 0   DATE                 333405 non-null  object\n",
      " 1   ANONYMIZED CATEGORY  333405 non-null  object\n",
      " 2   ANONYMIZED PRODUCT   333405 non-null  object\n",
      " 3   ANONYMIZED BUSINESS  333405 non-null  object\n",
      " 4   ANONYMIZED LOCATION  333405 non-null  object\n",
      " 5   QUANTITY             333405 non-null  int64 \n",
      " 6   UNIT PRICE           333397 non-null  object\n",
      "dtypes: int64(1), object(6)\n",
      "memory usage: 17.8+ MB\n",
      "None\n",
      "            QUANTITY\n",
      "count  333405.000000\n",
      "mean        2.321186\n",
      "std         3.790614\n",
      "min         0.000000\n",
      "25%         1.000000\n",
      "50%         1.000000\n",
      "75%         2.000000\n",
      "max       359.000000\n"
     ]
    }
   ],
   "source": [
    "#Inspect the dataset\n",
    "print(data.info())\n",
    "\n",
    "print(data.describe())\n",
    "\n"
   ]
  },
  {
   "cell_type": "markdown",
   "metadata": {},
   "source": [
    "#### Check for Missing Values"
   ]
  },
  {
   "cell_type": "code",
   "execution_count": 102,
   "metadata": {},
   "outputs": [
    {
     "name": "stdout",
     "output_type": "stream",
     "text": [
      "Missing values per column:\n",
      " DATE                   0\n",
      "ANONYMIZED CATEGORY    0\n",
      "ANONYMIZED PRODUCT     0\n",
      "ANONYMIZED BUSINESS    0\n",
      "ANONYMIZED LOCATION    0\n",
      "QUANTITY               0\n",
      "UNIT PRICE             8\n",
      "dtype: int64\n",
      "Missing values per column:\n",
      " DATE                   0.000000\n",
      "ANONYMIZED CATEGORY    0.000000\n",
      "ANONYMIZED PRODUCT     0.000000\n",
      "ANONYMIZED BUSINESS    0.000000\n",
      "ANONYMIZED LOCATION    0.000000\n",
      "QUANTITY               0.000000\n",
      "UNIT PRICE             0.002399\n",
      "dtype: float64\n"
     ]
    }
   ],
   "source": [
    "#Check for missing values\n",
    "print(\"Missing values per column:\\n\", data.isnull().sum())\n",
    "print(\"Missing values per column:\\n\", data.isnull().sum()* 100 / len(data))"
   ]
  },
  {
   "cell_type": "markdown",
   "metadata": {},
   "source": [
    "From the output above, the column named \"UNIT PRICE\" has missing values. \n",
    "Because it is a small percentage of 0.002% the best approach to handle this would be to drop those 8 rows as it will have no sifnificant impact to the analysis.\n",
    "\n",
    "This also ensures that I  will not introduce any artificial bias - important in ensuring ethics in Data Science."
   ]
  },
  {
   "cell_type": "markdown",
   "metadata": {},
   "source": [
    "##### Drop Missing Values"
   ]
  },
  {
   "cell_type": "code",
   "execution_count": 103,
   "metadata": {},
   "outputs": [],
   "source": [
    "# Drop the missing values\n",
    "data = data.dropna(subset=\"UNIT PRICE\")\n",
    "\n"
   ]
  },
  {
   "cell_type": "code",
   "execution_count": 104,
   "metadata": {},
   "outputs": [
    {
     "name": "stdout",
     "output_type": "stream",
     "text": [
      "Missing values per column:\n",
      " DATE                   0\n",
      "ANONYMIZED CATEGORY    0\n",
      "ANONYMIZED PRODUCT     0\n",
      "ANONYMIZED BUSINESS    0\n",
      "ANONYMIZED LOCATION    0\n",
      "QUANTITY               0\n",
      "UNIT PRICE             0\n",
      "dtype: int64\n"
     ]
    }
   ],
   "source": [
    "#Check for missing values\n",
    "print(\"Missing values per column:\\n\", data.isnull().sum())\n"
   ]
  },
  {
   "cell_type": "markdown",
   "metadata": {},
   "source": [
    "There are no missing values in the dataset. "
   ]
  },
  {
   "cell_type": "markdown",
   "metadata": {},
   "source": [
    "#### Check for Duplicates"
   ]
  },
  {
   "cell_type": "code",
   "execution_count": 105,
   "metadata": {},
   "outputs": [
    {
     "name": "stdout",
     "output_type": "stream",
     "text": [
      "Number of duplicates:  3524\n"
     ]
    }
   ],
   "source": [
    "#check for duplicates\n",
    "print(\"Number of duplicates: \", data.duplicated().sum())"
   ]
  },
  {
   "cell_type": "markdown",
   "metadata": {},
   "source": [
    "There are 3524 rows that are duplicated rows, to ensure accurate analysis they need to be removed"
   ]
  },
  {
   "cell_type": "markdown",
   "metadata": {},
   "source": [
    "##### Drop Duplicates"
   ]
  },
  {
   "cell_type": "code",
   "execution_count": 106,
   "metadata": {},
   "outputs": [
    {
     "name": "stdout",
     "output_type": "stream",
     "text": [
      "Number of duplicates:  0\n"
     ]
    }
   ],
   "source": [
    "#drop duplicates\n",
    "data = data.drop_duplicates()\n",
    "print(\"Number of duplicates: \", data.duplicated().sum())"
   ]
  },
  {
   "cell_type": "markdown",
   "metadata": {},
   "source": [
    "The duplicated values have been dropped/deleted from the dataset."
   ]
  },
  {
   "cell_type": "code",
   "execution_count": 107,
   "metadata": {},
   "outputs": [
    {
     "name": "stdout",
     "output_type": "stream",
     "text": [
      "Data types:\n",
      " DATE                   object\n",
      "ANONYMIZED CATEGORY    object\n",
      "ANONYMIZED PRODUCT     object\n",
      "ANONYMIZED BUSINESS    object\n",
      "ANONYMIZED LOCATION    object\n",
      "QUANTITY                int64\n",
      "UNIT PRICE             object\n",
      "dtype: object\n"
     ]
    }
   ],
   "source": [
    "#check data types\n",
    "print(\"Data types:\\n\", data.dtypes)"
   ]
  },
  {
   "cell_type": "markdown",
   "metadata": {},
   "source": [
    "#### Check for Unique Values"
   ]
  },
  {
   "cell_type": "code",
   "execution_count": 108,
   "metadata": {},
   "outputs": [
    {
     "name": "stdout",
     "output_type": "stream",
     "text": [
      "Unique values:\n",
      " DATE                   96702\n",
      "ANONYMIZED CATEGORY       46\n",
      "ANONYMIZED PRODUCT       817\n",
      "ANONYMIZED BUSINESS     4800\n",
      "ANONYMIZED LOCATION       53\n",
      "QUANTITY                  79\n",
      "UNIT PRICE              1050\n",
      "dtype: int64\n"
     ]
    }
   ],
   "source": [
    "#check for unique values\n",
    "print(\"Unique values:\\n\", data.nunique())\n"
   ]
  },
  {
   "cell_type": "markdown",
   "metadata": {},
   "source": [
    "From the output above, the dataset has unique values from each column. This will be explored more in the analysis section.\n"
   ]
  },
  {
   "cell_type": "markdown",
   "metadata": {},
   "source": [
    "#### Check the Datatypes"
   ]
  },
  {
   "cell_type": "code",
   "execution_count": 109,
   "metadata": {},
   "outputs": [
    {
     "name": "stdout",
     "output_type": "stream",
     "text": [
      "Data types:\n",
      " DATE                   object\n",
      "ANONYMIZED CATEGORY    object\n",
      "ANONYMIZED PRODUCT     object\n",
      "ANONYMIZED BUSINESS    object\n",
      "ANONYMIZED LOCATION    object\n",
      "QUANTITY                int64\n",
      "UNIT PRICE             object\n",
      "dtype: object\n"
     ]
    }
   ],
   "source": [
    "#check the datatypes\n",
    "print(\"Data types:\\n\", data.dtypes)"
   ]
  },
  {
   "cell_type": "markdown",
   "metadata": {},
   "source": [
    "from the datatype above, the column date needs to be changed from object to a datetype datatype while unit price needs to be converted to integer or float depending on how the prices are looking"
   ]
  },
  {
   "cell_type": "code",
   "execution_count": 110,
   "metadata": {},
   "outputs": [
    {
     "name": "stdout",
     "output_type": "stream",
     "text": [
      "                       DATE ANONYMIZED CATEGORY ANONYMIZED PRODUCT  \\\n",
      "0  August 18, 2024, 9:32 PM        Category-106       Product-21f4   \n",
      "1  August 18, 2024, 9:32 PM        Category-120       Product-4156   \n",
      "\n",
      "  ANONYMIZED BUSINESS ANONYMIZED LOCATION  QUANTITY  UNIT PRICE  \n",
      "0       Business-de42       Location-1ba8         1         850  \n",
      "1       Business-de42       Location-1ba8         2        1910  \n"
     ]
    }
   ],
   "source": [
    "#convert UNIT PRICE to integer\n",
    "#first remove commas \n",
    "data['UNIT PRICE'] = data['UNIT PRICE'].str.replace(',', '', )\n",
    "#convert to integer\n",
    "data['UNIT PRICE'] = data['UNIT PRICE'].astype('int64')\n",
    "# Display the updated dataframe\n",
    "print(data.head(2))\n",
    "\n"
   ]
  },
  {
   "cell_type": "markdown",
   "metadata": {},
   "source": [
    "#### 1.2 Feature Engineering"
   ]
  },
  {
   "cell_type": "markdown",
   "metadata": {},
   "source": [
    "#### Convert DATE Column to Datetime"
   ]
  },
  {
   "cell_type": "code",
   "execution_count": 111,
   "metadata": {},
   "outputs": [
    {
     "name": "stderr",
     "output_type": "stream",
     "text": [
      "<ipython-input-111-02c5d6767e47>:2: UserWarning: Could not infer format, so each element will be parsed individually, falling back to `dateutil`. To ensure parsing is consistent and as-expected, please specify a format.\n",
      "  data['DATE'] = pd.to_datetime(data['DATE'])\n"
     ]
    },
    {
     "name": "stdout",
     "output_type": "stream",
     "text": [
      "                 DATE ANONYMIZED CATEGORY ANONYMIZED PRODUCT  \\\n",
      "0 2024-08-18 21:32:00        Category-106       Product-21f4   \n",
      "1 2024-08-18 21:32:00        Category-120       Product-4156   \n",
      "\n",
      "  ANONYMIZED BUSINESS ANONYMIZED LOCATION  QUANTITY  UNIT PRICE  \n",
      "0       Business-de42       Location-1ba8         1         850  \n",
      "1       Business-de42       Location-1ba8         2        1910  \n"
     ]
    }
   ],
   "source": [
    "#convert the date value to a datetime formart\n",
    "data['DATE'] = pd.to_datetime(data['DATE'])\n",
    "# Display the updated dataframe\n",
    "print(data.head(2))\n"
   ]
  },
  {
   "cell_type": "markdown",
   "metadata": {},
   "source": [
    "#### Create Month-Year Column"
   ]
  },
  {
   "cell_type": "code",
   "execution_count": 112,
   "metadata": {},
   "outputs": [
    {
     "name": "stdout",
     "output_type": "stream",
     "text": [
      "                 DATE ANONYMIZED CATEGORY ANONYMIZED PRODUCT  \\\n",
      "0 2024-08-18 21:32:00        Category-106       Product-21f4   \n",
      "1 2024-08-18 21:32:00        Category-120       Product-4156   \n",
      "2 2024-08-18 21:32:00        Category-121       Product-49bd   \n",
      "\n",
      "  ANONYMIZED BUSINESS ANONYMIZED LOCATION  QUANTITY  UNIT PRICE   Month-Year  \n",
      "0       Business-de42       Location-1ba8         1         850  August 2024  \n",
      "1       Business-de42       Location-1ba8         2        1910  August 2024  \n",
      "2       Business-de42       Location-1ba8         1        3670  August 2024  \n"
     ]
    }
   ],
   "source": [
    "\n",
    "# Create \"Month-Year\" column\n",
    "data['Month-Year'] = data['DATE'].dt.strftime('%B %Y')\n",
    "\n",
    "# Display the updated dataframe\n",
    "print(data.head(3))"
   ]
  },
  {
   "cell_type": "markdown",
   "metadata": {},
   "source": [
    "#### Lowecase the Column Names and use underscore instead of spacing names"
   ]
  },
  {
   "cell_type": "code",
   "execution_count": 113,
   "metadata": {},
   "outputs": [
    {
     "name": "stdout",
     "output_type": "stream",
     "text": [
      "Index(['date', 'anonymized_category', 'anonymized_product',\n",
      "       'anonymized_business', 'anonymized_location', 'quantity', 'unit_price',\n",
      "       'month-year'],\n",
      "      dtype='object')\n"
     ]
    }
   ],
   "source": [
    "#lowecase the column names\n",
    "data.columns = data.columns.str.lower().str.replace(' ', '_')\n",
    "print(data.columns)"
   ]
  },
  {
   "cell_type": "markdown",
   "metadata": {},
   "source": [
    "For readablity and ease of use I have lowercased the column names and used underscores instead of spacing."
   ]
  },
  {
   "cell_type": "code",
   "execution_count": 114,
   "metadata": {},
   "outputs": [
    {
     "data": {
      "text/plain": [
       "date                   datetime64[ns]\n",
       "anonymized_category            object\n",
       "anonymized_product             object\n",
       "anonymized_business            object\n",
       "anonymized_location            object\n",
       "quantity                        int64\n",
       "unit_price                      int64\n",
       "month-year                     object\n",
       "dtype: object"
      ]
     },
     "execution_count": 114,
     "metadata": {},
     "output_type": "execute_result"
    }
   ],
   "source": [
    "data.dtypes"
   ]
  },
  {
   "cell_type": "code",
   "execution_count": 118,
   "metadata": {},
   "outputs": [
    {
     "data": {
      "text/html": [
       "<div>\n",
       "<style scoped>\n",
       "    .dataframe tbody tr th:only-of-type {\n",
       "        vertical-align: middle;\n",
       "    }\n",
       "\n",
       "    .dataframe tbody tr th {\n",
       "        vertical-align: top;\n",
       "    }\n",
       "\n",
       "    .dataframe thead th {\n",
       "        text-align: right;\n",
       "    }\n",
       "</style>\n",
       "<table border=\"1\" class=\"dataframe\">\n",
       "  <thead>\n",
       "    <tr style=\"text-align: right;\">\n",
       "      <th></th>\n",
       "      <th>date</th>\n",
       "      <th>quantity</th>\n",
       "      <th>unit_price</th>\n",
       "    </tr>\n",
       "  </thead>\n",
       "  <tbody>\n",
       "    <tr>\n",
       "      <th>count</th>\n",
       "      <td>329873</td>\n",
       "      <td>329873.000000</td>\n",
       "      <td>329873.000000</td>\n",
       "    </tr>\n",
       "    <tr>\n",
       "      <th>mean</th>\n",
       "      <td>2024-07-18 11:47:54.002236672</td>\n",
       "      <td>2.321469</td>\n",
       "      <td>2319.016579</td>\n",
       "    </tr>\n",
       "    <tr>\n",
       "      <th>min</th>\n",
       "      <td>2024-01-01 05:54:00</td>\n",
       "      <td>0.000000</td>\n",
       "      <td>0.000000</td>\n",
       "    </tr>\n",
       "    <tr>\n",
       "      <th>25%</th>\n",
       "      <td>2024-04-30 16:34:00</td>\n",
       "      <td>1.000000</td>\n",
       "      <td>1420.000000</td>\n",
       "    </tr>\n",
       "    <tr>\n",
       "      <th>50%</th>\n",
       "      <td>2024-07-29 18:40:00</td>\n",
       "      <td>1.000000</td>\n",
       "      <td>1840.000000</td>\n",
       "    </tr>\n",
       "    <tr>\n",
       "      <th>75%</th>\n",
       "      <td>2024-10-14 21:32:00</td>\n",
       "      <td>2.000000</td>\n",
       "      <td>2750.000000</td>\n",
       "    </tr>\n",
       "    <tr>\n",
       "      <th>max</th>\n",
       "      <td>2024-12-31 18:24:00</td>\n",
       "      <td>359.000000</td>\n",
       "      <td>16136.000000</td>\n",
       "    </tr>\n",
       "    <tr>\n",
       "      <th>std</th>\n",
       "      <td>NaN</td>\n",
       "      <td>3.767697</td>\n",
       "      <td>1582.578700</td>\n",
       "    </tr>\n",
       "  </tbody>\n",
       "</table>\n",
       "</div>"
      ],
      "text/plain": [
       "                                date       quantity     unit_price\n",
       "count                         329873  329873.000000  329873.000000\n",
       "mean   2024-07-18 11:47:54.002236672       2.321469    2319.016579\n",
       "min              2024-01-01 05:54:00       0.000000       0.000000\n",
       "25%              2024-04-30 16:34:00       1.000000    1420.000000\n",
       "50%              2024-07-29 18:40:00       1.000000    1840.000000\n",
       "75%              2024-10-14 21:32:00       2.000000    2750.000000\n",
       "max              2024-12-31 18:24:00     359.000000   16136.000000\n",
       "std                              NaN       3.767697    1582.578700"
      ]
     },
     "execution_count": 118,
     "metadata": {},
     "output_type": "execute_result"
    }
   ],
   "source": [
    "data.describe()"
   ]
  },
  {
   "cell_type": "markdown",
   "metadata": {},
   "source": [
    "#### Creating a Copy of the Cleaned DataFrame\n"
   ]
  },
  {
   "cell_type": "code",
   "execution_count": 116,
   "metadata": {},
   "outputs": [
    {
     "data": {
      "text/html": [
       "<div>\n",
       "<style scoped>\n",
       "    .dataframe tbody tr th:only-of-type {\n",
       "        vertical-align: middle;\n",
       "    }\n",
       "\n",
       "    .dataframe tbody tr th {\n",
       "        vertical-align: top;\n",
       "    }\n",
       "\n",
       "    .dataframe thead th {\n",
       "        text-align: right;\n",
       "    }\n",
       "</style>\n",
       "<table border=\"1\" class=\"dataframe\">\n",
       "  <thead>\n",
       "    <tr style=\"text-align: right;\">\n",
       "      <th></th>\n",
       "      <th>date</th>\n",
       "      <th>anonymized_category</th>\n",
       "      <th>anonymized_product</th>\n",
       "      <th>anonymized_business</th>\n",
       "      <th>anonymized_location</th>\n",
       "      <th>quantity</th>\n",
       "      <th>unit_price</th>\n",
       "      <th>month-year</th>\n",
       "    </tr>\n",
       "  </thead>\n",
       "  <tbody>\n",
       "    <tr>\n",
       "      <th>0</th>\n",
       "      <td>2024-08-18 21:32:00</td>\n",
       "      <td>Category-106</td>\n",
       "      <td>Product-21f4</td>\n",
       "      <td>Business-de42</td>\n",
       "      <td>Location-1ba8</td>\n",
       "      <td>1</td>\n",
       "      <td>850</td>\n",
       "      <td>August 2024</td>\n",
       "    </tr>\n",
       "    <tr>\n",
       "      <th>1</th>\n",
       "      <td>2024-08-18 21:32:00</td>\n",
       "      <td>Category-120</td>\n",
       "      <td>Product-4156</td>\n",
       "      <td>Business-de42</td>\n",
       "      <td>Location-1ba8</td>\n",
       "      <td>2</td>\n",
       "      <td>1910</td>\n",
       "      <td>August 2024</td>\n",
       "    </tr>\n",
       "  </tbody>\n",
       "</table>\n",
       "</div>"
      ],
      "text/plain": [
       "                 date anonymized_category anonymized_product  \\\n",
       "0 2024-08-18 21:32:00        Category-106       Product-21f4   \n",
       "1 2024-08-18 21:32:00        Category-120       Product-4156   \n",
       "\n",
       "  anonymized_business anonymized_location  quantity  unit_price   month-year  \n",
       "0       Business-de42       Location-1ba8         1         850  August 2024  \n",
       "1       Business-de42       Location-1ba8         2        1910  August 2024  "
      ]
     },
     "execution_count": 116,
     "metadata": {},
     "output_type": "execute_result"
    }
   ],
   "source": [
    "#create a copy of the cleaned dataframe for further analysis\n",
    "kt_clean_df = data.copy()\n",
    "kt_clean_df.head(2)"
   ]
  },
  {
   "cell_type": "markdown",
   "metadata": {},
   "source": [
    "## SECTION 2 : EXPLORATORY DATA ANALYSIS (EDA)"
   ]
  },
  {
   "cell_type": "markdown",
   "metadata": {},
   "source": [
    "2.1 Calculate Total Quantity and Value\n"
   ]
  },
  {
   "cell_type": "code",
   "execution_count": 130,
   "metadata": {},
   "outputs": [
    {
     "name": "stdout",
     "output_type": "stream",
     "text": [
      "   anonymized_category  quantity  unit_price     total_value\n",
      "25         Category-75    151330   181554632  27474662460560\n",
      "18        Category-120    169715   115506421  19603172240015\n",
      "26         Category-76     71719   198499343  14236174380617\n",
      "17        Category-119     68332    48102774   3286958752968\n",
      "0         Category-100     76824    30783426   2364905919024\n",
      "27         Category-77     28455    36277127   1032265648785\n",
      "38         Category-91     20853    35729823    745073999019\n",
      "34         Category-85     22997    20550056    472589637832\n",
      "1         Category-101     19564    12225757    239184709948\n",
      "40         Category-94     23668     7954876    188276005168\n",
      "19        Category-121     14669    12183700    178722695300\n",
      "28         Category-78      9766     6562538     64089746108\n",
      "33         Category-84     11933     5045168     60203989744\n",
      "39         Category-92      6953     7512585     52235003505\n",
      "9         Category-110     10529     4215429     44384251941\n",
      "5         Category-106      6521     4566978     29781263538\n",
      "7         Category-108      9756     3038145     29640142620\n",
      "41         Category-95      4116     5716816     23530414656\n",
      "10        Category-111      6715     3385923     22736472945\n",
      "31         Category-82      4759     2068732      9845095588\n",
      "6         Category-107      2729     3226218      8804348922\n",
      "32         Category-83      2436     3508646      8547061656\n",
      "43         Category-97      2711     2210569      5992852559\n",
      "44         Category-98      2152     1886465      4059672680\n",
      "4         Category-105      1579     2121947      3350554313\n",
      "42         Category-96      1427     1922663      2743640101\n",
      "45         Category-99      1964     1177415      2312443060\n",
      "29         Category-79      2215      931536      2063352240\n",
      "20        Category-122      1223     1630410      1993991430\n",
      "3         Category-104      1217     1278629      1556091493\n",
      "8         Category-109      1446      806716      1166511336\n",
      "11        Category-113       741      732152       542524632\n",
      "2         Category-102      1786      270769       483593434\n",
      "24         Category-74       941      316119       297467979\n",
      "14        Category-116       856      337330       288754480\n",
      "21        Category-123       286      452130       129309180\n",
      "13        Category-115       348      341490       118838520\n",
      "36         Category-89       238      101200        24085600\n",
      "23        Category-125       123      152310        18734130\n",
      "30         Category-81       142       52313         7428446\n",
      "37         Category-90        15       15750          236250\n",
      "16        Category-118        21        5040          105840\n",
      "22        Category-124         4       10060           40240\n",
      "12        Category-114         3        8600           25800\n",
      "35         Category-86         8        2990           23920\n",
      "15        Category-117         5        1240            6200\n"
     ]
    }
   ],
   "source": [
    "# Calculate total Quantity and Value grouped by Anonymized Category\n",
    "category_grouped = kt_clean_df.groupby('anonymized_category').agg({'quantity': 'sum', 'unit_price': 'sum'}).reset_index()\n",
    "category_grouped['total_value'] = category_grouped['quantity'] * category_grouped['unit_price']\n",
    "\n",
    "# Order by highest total_value\n",
    "category_grouped = category_grouped.sort_values(by='total_value', ascending=False)\n",
    "\n",
    "# Display the ordered grouped data\n",
    "print(category_grouped)"
   ]
  },
  {
   "cell_type": "markdown",
   "metadata": {},
   "source": [
    "Grouped by Anonymized Business"
   ]
  },
  {
   "cell_type": "code",
   "execution_count": 119,
   "metadata": {},
   "outputs": [
    {
     "name": "stdout",
     "output_type": "stream",
     "text": [
      "     anonymized_business  quantity  unit_price  total_value\n",
      "0          Business-0000         8       10445        83560\n",
      "1          Business-0005         1        2645         2645\n",
      "2          Business-0029        26       18385       478010\n",
      "3          Business-003d        98       73251      7178598\n",
      "4          Business-0072       127      194501     24701627\n",
      "...                  ...       ...         ...          ...\n",
      "4795       Business-ffa9         3        6740        20220\n",
      "4796       Business-ffae         6        9890        59340\n",
      "4797       Business-ffb1       266      259006     68895596\n",
      "4798       Business-ffd2        37       48217      1784029\n",
      "4799       Business-ffff       110      108835     11971850\n",
      "\n",
      "[4800 rows x 4 columns]\n"
     ]
    }
   ],
   "source": [
    "# Calculate total Quantity and Value grouped by Anonymized Business\n",
    "business_grouped = kt_clean_df.groupby('anonymized_business').agg({'quantity': 'sum', 'unit_price': 'sum'}).reset_index()\n",
    "business_grouped['total_value'] = business_grouped['quantity'] * business_grouped['unit_price']\n",
    "\n",
    "# Display the grouped data\n",
    "print(business_grouped)"
   ]
  },
  {
   "cell_type": "markdown",
   "metadata": {},
   "source": [
    " Visualizations of the Data"
   ]
  },
  {
   "cell_type": "code",
   "execution_count": 136,
   "metadata": {},
   "outputs": [
    {
     "data": {
      "image/png": "[encoded data removed]",
      "text/plain": [
       "<Figure size 1008x504 with 1 Axes>"
      ]
     },
     "metadata": {
      "needs_background": "light"
     },
     "output_type": "display_data"
    },
    {
     "data": {
      "image/png": "[encoded data removed]",
      "text/plain": [
       "<Figure size 1008x504 with 1 Axes>"
      ]
     },
     "metadata": {
      "needs_background": "light"
     },
     "output_type": "display_data"
    }
   ],
   "source": [
    "# Plot total Quantity and Value grouped by Anonymized Category\n",
    "plt.figure(figsize=(14, 7))\n",
    "\n",
    "# Total Quantity by Anonymized Category\n",
    "plt.subplot(1, 2, 1)\n",
    "plt.bar(category_grouped['anonymized_category'], category_grouped['quantity'], color='skyblue')\n",
    "plt.xlabel('Anonymized Category')\n",
    "plt.ylabel('Total Quantity')\n",
    "plt.title('Total Quantity by Anonymized Category')\n",
    "plt.xticks(rotation=90)\n",
    "plt.tight_layout()\n",
    "plt.show()\n",
    "\n",
    "\n",
    "\n",
    "# Total Value by Anonymized Category\n",
    "\n",
    "plt.figure(figsize=(14, 7))\n",
    "\n",
    "plt.subplot(1, 2, 2)\n",
    "plt.bar(category_grouped['anonymized_category'], category_grouped['total_value'], color='lightgreen')\n",
    "plt.xlabel('Anonymized Category')\n",
    "plt.ylabel('Total Value')\n",
    "plt.title('Total Value by Anonymized Category')\n",
    "plt.xticks(rotation=90)\n",
    "\n",
    "plt.tight_layout()\n",
    "plt.show()"
   ]
  },
  {
   "cell_type": "markdown",
   "metadata": {},
   "source": [
    "Visualizations for Anonymized Business\n"
   ]
  },
  {
   "cell_type": "code",
   "execution_count": 138,
   "metadata": {},
   "outputs": [
    {
     "data": {
      "image/png": "[encoded data removed]",
      "text/plain": [
       "<Figure size 1008x504 with 1 Axes>"
      ]
     },
     "metadata": {
      "needs_background": "light"
     },
     "output_type": "display_data"
    }
   ],
   "source": [
    "# Plot total Quantity and Value grouped by Anonymized Business\n",
    "plt.figure(figsize=(14, 7))\n",
    "\n",
    "# Total Quantity by Anonymized Business\n",
    "plt.subplot(1, 2, 1)\n",
    "plt.bar(business_grouped['anonymized_business'], business_grouped['quantity'], color='skyblue')\n",
    "plt.xlabel('Anonymized Business')\n",
    "plt.ylabel('Total Quantity')\n",
    "plt.title('Total Quantity by Anonymized Business')\n",
    "plt.xticks(rotation=90)\n",
    "plt.tight_layout()\n",
    "plt.show()\n"
   ]
  },
  {
   "cell_type": "code",
   "execution_count": 139,
   "metadata": {},
   "outputs": [
    {
     "data": {
      "image/png": "[encoded data removed]",
      "text/plain": [
       "<Figure size 1008x504 with 1 Axes>"
      ]
     },
     "metadata": {
      "needs_background": "light"
     },
     "output_type": "display_data"
    }
   ],
   "source": [
    "\n",
    "plt.figure(figsize=(14, 7)) \n",
    "# Total Value by Anonymized Business\n",
    "plt.subplot(1, 2, 2)\n",
    "plt.bar(business_grouped['anonymized_business'], business_grouped['total_value'], color='lightgreen')\n",
    "plt.xlabel('Anonymized Business')\n",
    "plt.ylabel('Total Value')\n",
    "plt.title('Total Value by Anonymized Business')\n",
    "plt.xticks(rotation=90)\n",
    "\n",
    "plt.tight_layout()\n",
    "plt.show()"
   ]
  },
  {
   "cell_type": "markdown",
   "metadata": {},
   "source": [
    "### 2.2 Trends Over Time: Analyze sales trends (Value and Quantity) by Month-Year."
   ]
  },
  {
   "cell_type": "markdown",
   "metadata": {},
   "source": [
    "Create a time series plot to show seasonal patterns or changes in sales performance."
   ]
  },
  {
   "cell_type": "markdown",
   "metadata": {},
   "source": []
  },
  {
   "cell_type": "markdown",
   "metadata": {},
   "source": [
    "### 2.3 Performance Analysis:\n",
    "\n",
    "Identify the top 5 most frequently purchased products (based on Quantity).\n",
    "\n"
   ]
  },
  {
   "cell_type": "markdown",
   "metadata": {},
   "source": [
    "Identify the top 5 most valuable products (based on Value)."
   ]
  },
  {
   "cell_type": "markdown",
   "metadata": {},
   "source": [
    "### 3. Advanced Analysis\n",
    "\n",
    "3.1 Customer Segmentation\n",
    "\n",
    "    Perform a segmentation analysis of businesses (Anonymized Business) based on their purchasing behavior:\n",
    "\n",
    "    Total Quantity purchased\n",
    "    Total Value contributed\n",
    "    Frequency of transactions\n",
    "\n",
    "Classify businesses into 3 groups (e.g., High Value, Medium Value, Low Value) and provide recommendations for engagement with each group."
   ]
  },
  {
   "cell_type": "markdown",
   "metadata": {},
   "source": [
    "3.2 Forecasting: Using the provided data, forecast the total sales (Value) for the next 3 months. Use an appropriate time-series forecasting method (e.g., ARIMA, moving average, or exponential smoothing)."
   ]
  },
  {
   "cell_type": "markdown",
   "metadata": {},
   "source": [
    "3.3 Anomaly Detection:Identify any unusual spikes or drops in sales performance (Quantity or Value) and explain possible reasons based on the data"
   ]
  },
  {
   "cell_type": "markdown",
   "metadata": {},
   "source": [
    "3.4 Correlation Analysis:Examine relationships between Quantity and Value. Provide insights into which factors drive sales performance."
   ]
  },
  {
   "cell_type": "markdown",
   "metadata": {},
   "source": [
    "### Section 4: Strategic Insights and Recommendations (20 points)\n",
    "\n",
    "    "
   ]
  },
  {
   "cell_type": "markdown",
   "metadata": {},
   "source": [
    "1. Product Strategy: Based on your analysis, recommend one product category to prioritize for marketing campaigns. Justify your choice using the data.\n"
   ]
  },
  {
   "cell_type": "markdown",
   "metadata": {},
   "source": [
    "2. Customer Retention: Identify businesses that have reduced their purchase frequency over time. Suggest strategies to re-engage these customers.\n"
   ]
  },
  {
   "cell_type": "markdown",
   "metadata": {},
   "source": [
    "\n",
    "   3. Operational Efficiency:Suggest improvements to inventory management or supply chain processes based on trends in product performance and seasonal demand."
   ]
  },
  {
   "cell_type": "markdown",
   "metadata": {},
   "source": [
    "### Section 5: Dashboard and Reporting (20 points)\n",
    "\n",
    "Create a dashboard summarizing key insights, including:\n",
    "\n",
    "    Total Quantity and Value by Anonymized Category.\n",
    "    Top-performing products and businesses.\n",
    "    A time-series chart of sales trends.\n",
    "    A segmentation summary of customer groups.\n",
    "\n",
    "Use tools such as Power BI, Tableau, or a Python library (e.g., Plotly, Dash) to make the dashboard interactive (if possible). Provide a screenshot or link to the dashboard."
   ]
  },
  {
   "cell_type": "markdown",
   "metadata": {},
   "source": [
    "    Predictive Analysis: Identify external factors that could influence sales (e.g., economic conditions, competitor actions). Propose a methodology to incorporate such factors into future analyses.\n",
    "    \n",
    "    Scalability: If the dataset were 10 times larger, what optimizations would you implement for data storage, processing, and analysis?"
   ]
  },
  {
   "cell_type": "code",
   "execution_count": null,
   "metadata": {},
   "outputs": [],
   "source": [
    "### "
   ]
  }
 ],
 "metadata": {
  "kernelspec": {
   "display_name": "learn-env",
   "language": "python",
   "name": "python3"
  },
  "language_info": {
   "codemirror_mode": {
    "name": "ipython",
    "version": 3
   },
   "file_extension": ".py",
   "mimetype": "text/x-python",
   "name": "python",
   "nbconvert_exporter": "python",
   "pygments_lexer": "ipython3",
   "version": "3.8.5"
  }
 },
 "nbformat": 4,
 "nbformat_minor": 2
}
